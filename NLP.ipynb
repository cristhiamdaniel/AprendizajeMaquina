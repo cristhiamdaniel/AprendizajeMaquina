{
  "nbformat": 4,
  "nbformat_minor": 0,
  "metadata": {
    "colab": {
      "name": "NLP.ipynb",
      "provenance": [],
      "authorship_tag": "ABX9TyOJxA9U0My0n9T79W6JwapQ",
      "include_colab_link": true
    },
    "kernelspec": {
      "name": "python3",
      "display_name": "Python 3"
    },
    "language_info": {
      "name": "python"
    }
  },
  "cells": [
    {
      "cell_type": "markdown",
      "metadata": {
        "id": "view-in-github",
        "colab_type": "text"
      },
      "source": [
        "<a href=\"https://colab.research.google.com/github/cristhiamdaniel/AprendizajeMaquina/blob/main/NLP.ipynb\" target=\"_parent\"><img src=\"https://colab.research.google.com/assets/colab-badge.svg\" alt=\"Open In Colab\"/></a>"
      ]
    },
    {
      "cell_type": "markdown",
      "metadata": {
        "id": "CBoHGrNQlaRa"
      },
      "source": [
        "#Bases del PLN"
      ]
    },
    {
      "cell_type": "code",
      "metadata": {
        "id": "rVWSGsKZl0G1",
        "colab": {
          "base_uri": "https://localhost:8080/"
        },
        "outputId": "027745fd-3561-4cff-abfe-ce6dad794bc1"
      },
      "source": [
        "pip install nltk"
      ],
      "execution_count": 1,
      "outputs": [
        {
          "output_type": "stream",
          "name": "stdout",
          "text": [
            "Requirement already satisfied: nltk in /usr/local/lib/python3.7/dist-packages (3.2.5)\n",
            "Requirement already satisfied: six in /usr/local/lib/python3.7/dist-packages (from nltk) (1.15.0)\n"
          ]
        }
      ]
    },
    {
      "cell_type": "code",
      "metadata": {
        "id": "eXeGPTCXl5fK",
        "colab": {
          "base_uri": "https://localhost:8080/"
        },
        "outputId": "f0f85bbf-e467-41c8-f080-b36a1c7994f8"
      },
      "source": [
        "pip install spacy"
      ],
      "execution_count": 2,
      "outputs": [
        {
          "output_type": "stream",
          "name": "stdout",
          "text": [
            "Requirement already satisfied: spacy in /usr/local/lib/python3.7/dist-packages (2.2.4)\n",
            "Requirement already satisfied: srsly<1.1.0,>=1.0.2 in /usr/local/lib/python3.7/dist-packages (from spacy) (1.0.5)\n",
            "Requirement already satisfied: catalogue<1.1.0,>=0.0.7 in /usr/local/lib/python3.7/dist-packages (from spacy) (1.0.0)\n",
            "Requirement already satisfied: numpy>=1.15.0 in /usr/local/lib/python3.7/dist-packages (from spacy) (1.19.5)\n",
            "Requirement already satisfied: wasabi<1.1.0,>=0.4.0 in /usr/local/lib/python3.7/dist-packages (from spacy) (0.8.2)\n",
            "Requirement already satisfied: murmurhash<1.1.0,>=0.28.0 in /usr/local/lib/python3.7/dist-packages (from spacy) (1.0.6)\n",
            "Requirement already satisfied: blis<0.5.0,>=0.4.0 in /usr/local/lib/python3.7/dist-packages (from spacy) (0.4.1)\n",
            "Requirement already satisfied: preshed<3.1.0,>=3.0.2 in /usr/local/lib/python3.7/dist-packages (from spacy) (3.0.6)\n",
            "Requirement already satisfied: setuptools in /usr/local/lib/python3.7/dist-packages (from spacy) (57.4.0)\n",
            "Requirement already satisfied: requests<3.0.0,>=2.13.0 in /usr/local/lib/python3.7/dist-packages (from spacy) (2.23.0)\n",
            "Requirement already satisfied: tqdm<5.0.0,>=4.38.0 in /usr/local/lib/python3.7/dist-packages (from spacy) (4.62.3)\n",
            "Requirement already satisfied: cymem<2.1.0,>=2.0.2 in /usr/local/lib/python3.7/dist-packages (from spacy) (2.0.6)\n",
            "Requirement already satisfied: thinc==7.4.0 in /usr/local/lib/python3.7/dist-packages (from spacy) (7.4.0)\n",
            "Requirement already satisfied: plac<1.2.0,>=0.9.6 in /usr/local/lib/python3.7/dist-packages (from spacy) (1.1.3)\n",
            "Requirement already satisfied: importlib-metadata>=0.20 in /usr/local/lib/python3.7/dist-packages (from catalogue<1.1.0,>=0.0.7->spacy) (4.8.2)\n",
            "Requirement already satisfied: zipp>=0.5 in /usr/local/lib/python3.7/dist-packages (from importlib-metadata>=0.20->catalogue<1.1.0,>=0.0.7->spacy) (3.6.0)\n",
            "Requirement already satisfied: typing-extensions>=3.6.4 in /usr/local/lib/python3.7/dist-packages (from importlib-metadata>=0.20->catalogue<1.1.0,>=0.0.7->spacy) (3.10.0.2)\n",
            "Requirement already satisfied: urllib3!=1.25.0,!=1.25.1,<1.26,>=1.21.1 in /usr/local/lib/python3.7/dist-packages (from requests<3.0.0,>=2.13.0->spacy) (1.24.3)\n",
            "Requirement already satisfied: chardet<4,>=3.0.2 in /usr/local/lib/python3.7/dist-packages (from requests<3.0.0,>=2.13.0->spacy) (3.0.4)\n",
            "Requirement already satisfied: certifi>=2017.4.17 in /usr/local/lib/python3.7/dist-packages (from requests<3.0.0,>=2.13.0->spacy) (2021.10.8)\n",
            "Requirement already satisfied: idna<3,>=2.5 in /usr/local/lib/python3.7/dist-packages (from requests<3.0.0,>=2.13.0->spacy) (2.10)\n"
          ]
        }
      ]
    },
    {
      "cell_type": "code",
      "metadata": {
        "id": "YaAm8cCxl_z1",
        "colab": {
          "base_uri": "https://localhost:8080/"
        },
        "outputId": "3a043274-9580-492f-b25c-654d400ae094"
      },
      "source": [
        "!python -m spacy download en_core_web_sm"
      ],
      "execution_count": 3,
      "outputs": [
        {
          "output_type": "stream",
          "name": "stdout",
          "text": [
            "Collecting en_core_web_sm==2.2.5\n",
            "  Downloading https://github.com/explosion/spacy-models/releases/download/en_core_web_sm-2.2.5/en_core_web_sm-2.2.5.tar.gz (12.0 MB)\n",
            "\u001b[K     |████████████████████████████████| 12.0 MB 1.0 MB/s \n",
            "\u001b[?25hRequirement already satisfied: spacy>=2.2.2 in /usr/local/lib/python3.7/dist-packages (from en_core_web_sm==2.2.5) (2.2.4)\n",
            "Requirement already satisfied: setuptools in /usr/local/lib/python3.7/dist-packages (from spacy>=2.2.2->en_core_web_sm==2.2.5) (57.4.0)\n",
            "Requirement already satisfied: numpy>=1.15.0 in /usr/local/lib/python3.7/dist-packages (from spacy>=2.2.2->en_core_web_sm==2.2.5) (1.19.5)\n",
            "Requirement already satisfied: wasabi<1.1.0,>=0.4.0 in /usr/local/lib/python3.7/dist-packages (from spacy>=2.2.2->en_core_web_sm==2.2.5) (0.8.2)\n",
            "Requirement already satisfied: blis<0.5.0,>=0.4.0 in /usr/local/lib/python3.7/dist-packages (from spacy>=2.2.2->en_core_web_sm==2.2.5) (0.4.1)\n",
            "Requirement already satisfied: srsly<1.1.0,>=1.0.2 in /usr/local/lib/python3.7/dist-packages (from spacy>=2.2.2->en_core_web_sm==2.2.5) (1.0.5)\n",
            "Requirement already satisfied: cymem<2.1.0,>=2.0.2 in /usr/local/lib/python3.7/dist-packages (from spacy>=2.2.2->en_core_web_sm==2.2.5) (2.0.6)\n",
            "Requirement already satisfied: preshed<3.1.0,>=3.0.2 in /usr/local/lib/python3.7/dist-packages (from spacy>=2.2.2->en_core_web_sm==2.2.5) (3.0.6)\n",
            "Requirement already satisfied: requests<3.0.0,>=2.13.0 in /usr/local/lib/python3.7/dist-packages (from spacy>=2.2.2->en_core_web_sm==2.2.5) (2.23.0)\n",
            "Requirement already satisfied: murmurhash<1.1.0,>=0.28.0 in /usr/local/lib/python3.7/dist-packages (from spacy>=2.2.2->en_core_web_sm==2.2.5) (1.0.6)\n",
            "Requirement already satisfied: catalogue<1.1.0,>=0.0.7 in /usr/local/lib/python3.7/dist-packages (from spacy>=2.2.2->en_core_web_sm==2.2.5) (1.0.0)\n",
            "Requirement already satisfied: thinc==7.4.0 in /usr/local/lib/python3.7/dist-packages (from spacy>=2.2.2->en_core_web_sm==2.2.5) (7.4.0)\n",
            "Requirement already satisfied: plac<1.2.0,>=0.9.6 in /usr/local/lib/python3.7/dist-packages (from spacy>=2.2.2->en_core_web_sm==2.2.5) (1.1.3)\n",
            "Requirement already satisfied: tqdm<5.0.0,>=4.38.0 in /usr/local/lib/python3.7/dist-packages (from spacy>=2.2.2->en_core_web_sm==2.2.5) (4.62.3)\n",
            "Requirement already satisfied: importlib-metadata>=0.20 in /usr/local/lib/python3.7/dist-packages (from catalogue<1.1.0,>=0.0.7->spacy>=2.2.2->en_core_web_sm==2.2.5) (4.8.2)\n",
            "Requirement already satisfied: zipp>=0.5 in /usr/local/lib/python3.7/dist-packages (from importlib-metadata>=0.20->catalogue<1.1.0,>=0.0.7->spacy>=2.2.2->en_core_web_sm==2.2.5) (3.6.0)\n",
            "Requirement already satisfied: typing-extensions>=3.6.4 in /usr/local/lib/python3.7/dist-packages (from importlib-metadata>=0.20->catalogue<1.1.0,>=0.0.7->spacy>=2.2.2->en_core_web_sm==2.2.5) (3.10.0.2)\n",
            "Requirement already satisfied: idna<3,>=2.5 in /usr/local/lib/python3.7/dist-packages (from requests<3.0.0,>=2.13.0->spacy>=2.2.2->en_core_web_sm==2.2.5) (2.10)\n",
            "Requirement already satisfied: urllib3!=1.25.0,!=1.25.1,<1.26,>=1.21.1 in /usr/local/lib/python3.7/dist-packages (from requests<3.0.0,>=2.13.0->spacy>=2.2.2->en_core_web_sm==2.2.5) (1.24.3)\n",
            "Requirement already satisfied: certifi>=2017.4.17 in /usr/local/lib/python3.7/dist-packages (from requests<3.0.0,>=2.13.0->spacy>=2.2.2->en_core_web_sm==2.2.5) (2021.10.8)\n",
            "Requirement already satisfied: chardet<4,>=3.0.2 in /usr/local/lib/python3.7/dist-packages (from requests<3.0.0,>=2.13.0->spacy>=2.2.2->en_core_web_sm==2.2.5) (3.0.4)\n",
            "\u001b[38;5;2m✔ Download and installation successful\u001b[0m\n",
            "You can now load the model via spacy.load('en_core_web_sm')\n"
          ]
        }
      ]
    },
    {
      "cell_type": "markdown",
      "metadata": {
        "id": "0tts8ge_lnsX"
      },
      "source": [
        "## Diviendo el texto en oraciones."
      ]
    },
    {
      "cell_type": "markdown",
      "metadata": {
        "id": "i2DsD-oamkhx"
      },
      "source": [
        "Cuando trabajamos con texto, podemos trabajar con unidades de texto en diferentes escalas: podemos trabajar a nivel del propio documento, como un artículo de periódico, el párrafo, la oración o la palabra. Las oraciones son la unidad principal de procesamiento en muchas tareas de la PNL"
      ]
    },
    {
      "cell_type": "code",
      "metadata": {
        "colab": {
          "base_uri": "https://localhost:8080/"
        },
        "id": "UDLCLC42nOHJ",
        "outputId": "01cf7721-7118-412e-a6d2-03a75279527b"
      },
      "source": [
        "import nltk\n",
        "nltk.download('punkt')"
      ],
      "execution_count": 4,
      "outputs": [
        {
          "output_type": "stream",
          "name": "stdout",
          "text": [
            "[nltk_data] Downloading package punkt to /root/nltk_data...\n",
            "[nltk_data]   Unzipping tokenizers/punkt.zip.\n"
          ]
        },
        {
          "output_type": "execute_result",
          "data": {
            "text/plain": [
              "True"
            ]
          },
          "metadata": {},
          "execution_count": 4
        }
      ]
    },
    {
      "cell_type": "code",
      "metadata": {
        "id": "7In4dQKsm98C"
      },
      "source": [
        "# Lectura del texto\n",
        "filename = \"coding.txt\"\n",
        "file = open(filename, \"r\", encoding=\"utf-8\")\n",
        "text = file.read()"
      ],
      "execution_count": 5,
      "outputs": []
    },
    {
      "cell_type": "code",
      "metadata": {
        "id": "EMUmnOk0oIBX"
      },
      "source": [
        "# Cambio de salto de línea por espacios:\n",
        "text = text.replace(\"\\n\", \" \")"
      ],
      "execution_count": 6,
      "outputs": []
    },
    {
      "cell_type": "code",
      "metadata": {
        "id": "TS0xbdc-nZrO"
      },
      "source": [
        "# Inicializamos el tokenizador:\n",
        "tokenizer = nltk.data.load(\"tokenizers/punkt/english.pickle\")"
      ],
      "execution_count": 7,
      "outputs": []
    },
    {
      "cell_type": "code",
      "metadata": {
        "colab": {
          "base_uri": "https://localhost:8080/"
        },
        "id": "18QxXGcwoX9r",
        "outputId": "ebb76fa6-f8a6-4eb1-f606-f7da7c370fa5"
      },
      "source": [
        "# División del texto en oraciones:\n",
        "sentences = tokenizer.tokenize(text)\n",
        "sentences"
      ],
      "execution_count": 8,
      "outputs": [
        {
          "output_type": "execute_result",
          "data": {
            "text/plain": [
              "['Put simply, Coding is the a method of communicating with  a computer.',\n",
              " 'It is using a language that a computer  understands to give a computer instructions in order  to perform specific functions.',\n",
              " 'Coding allows us to create  things such as computer software, websites, apps and video games.']"
            ]
          },
          "metadata": {},
          "execution_count": 8
        }
      ]
    },
    {
      "cell_type": "markdown",
      "metadata": {
        "id": "F1E3xQ3qpV57"
      },
      "source": [
        "**También podemos usar una estrategia diferente para analizar el texto en oraciones, empleando otro paquete de PNL muy popular, spaCy.**"
      ]
    },
    {
      "cell_type": "code",
      "metadata": {
        "colab": {
          "base_uri": "https://localhost:8080/"
        },
        "id": "mIAZqunhpgTI",
        "outputId": "06c758b4-01ef-4d97-f6d1-b8a0286afac6"
      },
      "source": [
        "# importamos el paquete\n",
        "import spacy\n",
        "# inicializamos el motor de spaCy:\n",
        "nlp = spacy.load(\"en_core_web_sm\")\n",
        "# dividimos el texto en oraciones:\n",
        "doc = nlp(text)\n",
        "sentences = [sentence.text for sentence in doc.sents]\n",
        "sentences"
      ],
      "execution_count": 9,
      "outputs": [
        {
          "output_type": "execute_result",
          "data": {
            "text/plain": [
              "['Put simply, Coding is the a method of communicating with  a computer.',\n",
              " 'It is using a language that a computer  understands to give a computer instructions in order  to perform specific functions.',\n",
              " 'Coding allows us to create  things such as computer software, websites, apps and video games.  ']"
            ]
          },
          "metadata": {},
          "execution_count": 9
        }
      ]
    },
    {
      "cell_type": "markdown",
      "metadata": {
        "id": "7Q6d4GBQp_Ey"
      },
      "source": [
        "**Ahora en español**"
      ]
    },
    {
      "cell_type": "code",
      "metadata": {
        "id": "tF9ctIowrcaJ"
      },
      "source": [
        "tokenizer = nltk.data.load(\"tokenizers/punkt/spanish.pickle\")"
      ],
      "execution_count": 10,
      "outputs": []
    },
    {
      "cell_type": "code",
      "metadata": {
        "id": "qeeHEDh0skFL"
      },
      "source": [
        "def read_text_file(filename):\n",
        "    file = open(filename, \"r\", encoding=\"utf-8\") \n",
        "    return file.read()\n",
        "\n",
        "def preprocess_text(text):\n",
        "    text = text.replace(\"\\n\", \" \")\n",
        "    return text\n",
        "\n",
        "def divide_into_sentences_nltk(text):\n",
        "    sentences = tokenizer.tokenize(text)\n",
        "    return sentences"
      ],
      "execution_count": 11,
      "outputs": []
    },
    {
      "cell_type": "code",
      "metadata": {
        "colab": {
          "base_uri": "https://localhost:8080/"
        },
        "id": "RW6x3nIas_j2",
        "outputId": "38d4da0e-ea14-4d88-ea1e-cd021495a594"
      },
      "source": [
        "code_text = read_text_file(\"codigo.txt\")\n",
        "code_text = preprocess_text(code_text)\n",
        "sentences = divide_into_sentences_nltk(code_text)\n",
        "sentences"
      ],
      "execution_count": 12,
      "outputs": [
        {
          "output_type": "execute_result",
          "data": {
            "text/plain": [
              "['Las ventajas de la programación van más allá del  entorno laboral.',\n",
              " 'La enseñanza de esta disciplina  fomenta el pensamiento computacional.',\n",
              " 'Este proceso  de razonamiento estructura la mente y ordena las ideas.',\n",
              " '“Te permite dividir un problema grande en problemas  más pequeños”, explica García.']"
            ]
          },
          "metadata": {},
          "execution_count": 12
        }
      ]
    },
    {
      "cell_type": "markdown",
      "metadata": {
        "id": "BSbHbAIZvpz9"
      },
      "source": [
        "## Dividiendo las oraciones en palabras - tokenización"
      ]
    },
    {
      "cell_type": "code",
      "metadata": {
        "colab": {
          "base_uri": "https://localhost:8080/"
        },
        "id": "0Uv7JREyvuaF",
        "outputId": "6e63489c-35e8-46bf-872b-204d23dba337"
      },
      "source": [
        "# dividir el texto en palabras.\n",
        "words = nltk.tokenize.word_tokenize(code_text)\n",
        "print(\"El texto tiene \", len(words), \"palabras\")\n",
        "print()\n",
        "print(\"Las palabras son: \")\n",
        "print(words)"
      ],
      "execution_count": 13,
      "outputs": [
        {
          "output_type": "stream",
          "name": "stdout",
          "text": [
            "El texto tiene  50 palabras\n",
            "\n",
            "Las palabras son: \n",
            "['Las', 'ventajas', 'de', 'la', 'programación', 'van', 'más', 'allá', 'del', 'entorno', 'laboral', '.', 'La', 'enseñanza', 'de', 'esta', 'disciplina', 'fomenta', 'el', 'pensamiento', 'computacional', '.', 'Este', 'proceso', 'de', 'razonamiento', 'estructura', 'la', 'mente', 'y', 'ordena', 'las', 'ideas', '.', '“', 'Te', 'permite', 'dividir', 'un', 'problema', 'grande', 'en', 'problemas', 'más', 'pequeños', '”', ',', 'explica', 'García', '.']\n"
          ]
        }
      ]
    },
    {
      "cell_type": "markdown",
      "metadata": {
        "id": "gFKM1X4CwmLd"
      },
      "source": [
        "**Tweet**"
      ]
    },
    {
      "cell_type": "code",
      "metadata": {
        "id": "Ce5u0dl9wpYo"
      },
      "source": [
        "tweet = \"@Docker Docker facilita mucho el trabajo como desarrollador siiiiii\""
      ],
      "execution_count": 14,
      "outputs": []
    },
    {
      "cell_type": "markdown",
      "metadata": {
        "id": "zl5DDX2JxCMK"
      },
      "source": [
        "Divida el texto en palabras. Establezca los parámetros para preservar el caso, reducir la longitud y quitar las @:"
      ]
    },
    {
      "cell_type": "code",
      "metadata": {
        "id": "b-roRIkTxBUo"
      },
      "source": [
        "words = nltk.tokenize.casual.casual_tokenize(tweet,\\\n",
        "                                             preserve_case=True,\\\n",
        "                                             reduce_len=True, \\\n",
        "                                             strip_handles=True)"
      ],
      "execution_count": 15,
      "outputs": []
    },
    {
      "cell_type": "code",
      "metadata": {
        "colab": {
          "base_uri": "https://localhost:8080/"
        },
        "id": "z5RSLkkixUdb",
        "outputId": "2534d210-830c-4872-8586-dfd52cdb7597"
      },
      "source": [
        "print(words)"
      ],
      "execution_count": 16,
      "outputs": [
        {
          "output_type": "stream",
          "name": "stdout",
          "text": [
            "['Docker', 'facilita', 'mucho', 'el', 'trabajo', 'como', 'desarrollador', 'siii']\n"
          ]
        }
      ]
    },
    {
      "cell_type": "markdown",
      "metadata": {
        "id": "xjT6fWKByKZU"
      },
      "source": [
        "**Importante a tener en cuenta**"
      ]
    },
    {
      "cell_type": "markdown",
      "metadata": {
        "id": "scdYVlrpyPZG"
      },
      "source": [
        "El paquete NLTK solo tiene tokenización de palabras para inglés.\n",
        "spaCy tiene modelos para varios otros idiomas:\n",
        "\n"
      ]
    },
    {
      "cell_type": "code",
      "metadata": {
        "colab": {
          "base_uri": "https://localhost:8080/"
        },
        "id": "hKkAVsNdiExB",
        "outputId": "a04493fa-f8b0-4a5f-a866-799737bd6a04"
      },
      "source": [
        "!!python -m spacy download es_core_news_sm"
      ],
      "execution_count": 18,
      "outputs": [
        {
          "output_type": "execute_result",
          "data": {
            "text/plain": [
              "['Collecting es_core_news_sm==2.2.5',\n",
              " '  Downloading https://github.com/explosion/spacy-models/releases/download/es_core_news_sm-2.2.5/es_core_news_sm-2.2.5.tar.gz (16.2 MB)',\n",
              " '\\x1b[?25l',\n",
              " '\\x1b[K     |                                | 10 kB 15.5 MB/s eta 0:00:02',\n",
              " '\\x1b[K     |                                | 20 kB 22.9 MB/s eta 0:00:01',\n",
              " '\\x1b[K     |                                | 30 kB 12.7 MB/s eta 0:00:02',\n",
              " '\\x1b[K     |                                | 40 kB 9.9 MB/s eta 0:00:02',\n",
              " '\\x1b[K     |                                | 51 kB 3.9 MB/s eta 0:00:05',\n",
              " '\\x1b[K     |▏                               | 61 kB 4.4 MB/s eta 0:00:04',\n",
              " '\\x1b[K     |▏                               | 71 kB 4.1 MB/s eta 0:00:04',\n",
              " '\\x1b[K     |▏                               | 81 kB 4.6 MB/s eta 0:00:04',\n",
              " '\\x1b[K     |▏                               | 92 kB 4.6 MB/s eta 0:00:04',\n",
              " '\\x1b[K     |▏                               | 102 kB 4.1 MB/s eta 0:00:04',\n",
              " '\\x1b[K     |▎                               | 112 kB 4.1 MB/s eta 0:00:04',\n",
              " '\\x1b[K     |▎                               | 122 kB 4.1 MB/s eta 0:00:04',\n",
              " '\\x1b[K     |▎                               | 133 kB 4.1 MB/s eta 0:00:04',\n",
              " '\\x1b[K     |▎                               | 143 kB 4.1 MB/s eta 0:00:04',\n",
              " '\\x1b[K     |▎                               | 153 kB 4.1 MB/s eta 0:00:04',\n",
              " '\\x1b[K     |▎                               | 163 kB 4.1 MB/s eta 0:00:04',\n",
              " '\\x1b[K     |▍                               | 174 kB 4.1 MB/s eta 0:00:04',\n",
              " '\\x1b[K     |▍                               | 184 kB 4.1 MB/s eta 0:00:04',\n",
              " '\\x1b[K     |▍                               | 194 kB 4.1 MB/s eta 0:00:04',\n",
              " '\\x1b[K     |▍                               | 204 kB 4.1 MB/s eta 0:00:04',\n",
              " '\\x1b[K     |▍                               | 215 kB 4.1 MB/s eta 0:00:04',\n",
              " '\\x1b[K     |▌                               | 225 kB 4.1 MB/s eta 0:00:04',\n",
              " '\\x1b[K     |▌                               | 235 kB 4.1 MB/s eta 0:00:04',\n",
              " '\\x1b[K     |▌                               | 245 kB 4.1 MB/s eta 0:00:04',\n",
              " '\\x1b[K     |▌                               | 256 kB 4.1 MB/s eta 0:00:04',\n",
              " '\\x1b[K     |▌                               | 266 kB 4.1 MB/s eta 0:00:04',\n",
              " '\\x1b[K     |▌                               | 276 kB 4.1 MB/s eta 0:00:04',\n",
              " '\\x1b[K     |▋                               | 286 kB 4.1 MB/s eta 0:00:04',\n",
              " '\\x1b[K     |▋                               | 296 kB 4.1 MB/s eta 0:00:04',\n",
              " '\\x1b[K     |▋                               | 307 kB 4.1 MB/s eta 0:00:04',\n",
              " '\\x1b[K     |▋                               | 317 kB 4.1 MB/s eta 0:00:04',\n",
              " '\\x1b[K     |▋                               | 327 kB 4.1 MB/s eta 0:00:04',\n",
              " '\\x1b[K     |▊                               | 337 kB 4.1 MB/s eta 0:00:04',\n",
              " '\\x1b[K     |▊                               | 348 kB 4.1 MB/s eta 0:00:04',\n",
              " '\\x1b[K     |▊                               | 358 kB 4.1 MB/s eta 0:00:04',\n",
              " '\\x1b[K     |▊                               | 368 kB 4.1 MB/s eta 0:00:04',\n",
              " '\\x1b[K     |▊                               | 378 kB 4.1 MB/s eta 0:00:04',\n",
              " '\\x1b[K     |▊                               | 389 kB 4.1 MB/s eta 0:00:04',\n",
              " '\\x1b[K     |▉                               | 399 kB 4.1 MB/s eta 0:00:04',\n",
              " '\\x1b[K     |▉                               | 409 kB 4.1 MB/s eta 0:00:04',\n",
              " '\\x1b[K     |▉                               | 419 kB 4.1 MB/s eta 0:00:04',\n",
              " '\\x1b[K     |▉                               | 430 kB 4.1 MB/s eta 0:00:04',\n",
              " '\\x1b[K     |▉                               | 440 kB 4.1 MB/s eta 0:00:04',\n",
              " '\\x1b[K     |█                               | 450 kB 4.1 MB/s eta 0:00:04',\n",
              " '\\x1b[K     |█                               | 460 kB 4.1 MB/s eta 0:00:04',\n",
              " '\\x1b[K     |█                               | 471 kB 4.1 MB/s eta 0:00:04',\n",
              " '\\x1b[K     |█                               | 481 kB 4.1 MB/s eta 0:00:04',\n",
              " '\\x1b[K     |█                               | 491 kB 4.1 MB/s eta 0:00:04',\n",
              " '\\x1b[K     |█                               | 501 kB 4.1 MB/s eta 0:00:04',\n",
              " '\\x1b[K     |█                               | 512 kB 4.1 MB/s eta 0:00:04',\n",
              " '\\x1b[K     |█                               | 522 kB 4.1 MB/s eta 0:00:04',\n",
              " '\\x1b[K     |█                               | 532 kB 4.1 MB/s eta 0:00:04',\n",
              " '\\x1b[K     |█                               | 542 kB 4.1 MB/s eta 0:00:04',\n",
              " '\\x1b[K     |█                               | 552 kB 4.1 MB/s eta 0:00:04',\n",
              " '\\x1b[K     |█▏                              | 563 kB 4.1 MB/s eta 0:00:04',\n",
              " '\\x1b[K     |█▏                              | 573 kB 4.1 MB/s eta 0:00:04',\n",
              " '\\x1b[K     |█▏                              | 583 kB 4.1 MB/s eta 0:00:04',\n",
              " '\\x1b[K     |█▏                              | 593 kB 4.1 MB/s eta 0:00:04',\n",
              " '\\x1b[K     |█▏                              | 604 kB 4.1 MB/s eta 0:00:04',\n",
              " '\\x1b[K     |█▏                              | 614 kB 4.1 MB/s eta 0:00:04',\n",
              " '\\x1b[K     |█▎                              | 624 kB 4.1 MB/s eta 0:00:04',\n",
              " '\\x1b[K     |█▎                              | 634 kB 4.1 MB/s eta 0:00:04',\n",
              " '\\x1b[K     |█▎                              | 645 kB 4.1 MB/s eta 0:00:04',\n",
              " '\\x1b[K     |█▎                              | 655 kB 4.1 MB/s eta 0:00:04',\n",
              " '\\x1b[K     |█▎                              | 665 kB 4.1 MB/s eta 0:00:04',\n",
              " '\\x1b[K     |█▍                              | 675 kB 4.1 MB/s eta 0:00:04',\n",
              " '\\x1b[K     |█▍                              | 686 kB 4.1 MB/s eta 0:00:04',\n",
              " '\\x1b[K     |█▍                              | 696 kB 4.1 MB/s eta 0:00:04',\n",
              " '\\x1b[K     |█▍                              | 706 kB 4.1 MB/s eta 0:00:04',\n",
              " '\\x1b[K     |█▍                              | 716 kB 4.1 MB/s eta 0:00:04',\n",
              " '\\x1b[K     |█▍                              | 727 kB 4.1 MB/s eta 0:00:04',\n",
              " '\\x1b[K     |█▌                              | 737 kB 4.1 MB/s eta 0:00:04',\n",
              " '\\x1b[K     |█▌                              | 747 kB 4.1 MB/s eta 0:00:04',\n",
              " '\\x1b[K     |█▌                              | 757 kB 4.1 MB/s eta 0:00:04',\n",
              " '\\x1b[K     |█▌                              | 768 kB 4.1 MB/s eta 0:00:04',\n",
              " '\\x1b[K     |█▌                              | 778 kB 4.1 MB/s eta 0:00:04',\n",
              " '\\x1b[K     |█▋                              | 788 kB 4.1 MB/s eta 0:00:04',\n",
              " '\\x1b[K     |█▋                              | 798 kB 4.1 MB/s eta 0:00:04',\n",
              " '\\x1b[K     |█▋                              | 808 kB 4.1 MB/s eta 0:00:04',\n",
              " '\\x1b[K     |█▋                              | 819 kB 4.1 MB/s eta 0:00:04',\n",
              " '\\x1b[K     |█▋                              | 829 kB 4.1 MB/s eta 0:00:04',\n",
              " '\\x1b[K     |█▋                              | 839 kB 4.1 MB/s eta 0:00:04',\n",
              " '\\x1b[K     |█▊                              | 849 kB 4.1 MB/s eta 0:00:04',\n",
              " '\\x1b[K     |█▊                              | 860 kB 4.1 MB/s eta 0:00:04',\n",
              " '\\x1b[K     |█▊                              | 870 kB 4.1 MB/s eta 0:00:04',\n",
              " '\\x1b[K     |█▊                              | 880 kB 4.1 MB/s eta 0:00:04',\n",
              " '\\x1b[K     |█▊                              | 890 kB 4.1 MB/s eta 0:00:04',\n",
              " '\\x1b[K     |█▉                              | 901 kB 4.1 MB/s eta 0:00:04',\n",
              " '\\x1b[K     |█▉                              | 911 kB 4.1 MB/s eta 0:00:04',\n",
              " '\\x1b[K     |█▉                              | 921 kB 4.1 MB/s eta 0:00:04',\n",
              " '\\x1b[K     |█▉                              | 931 kB 4.1 MB/s eta 0:00:04',\n",
              " '\\x1b[K     |█▉                              | 942 kB 4.1 MB/s eta 0:00:04',\n",
              " '\\x1b[K     |█▉                              | 952 kB 4.1 MB/s eta 0:00:04',\n",
              " '\\x1b[K     |██                              | 962 kB 4.1 MB/s eta 0:00:04',\n",
              " '\\x1b[K     |██                              | 972 kB 4.1 MB/s eta 0:00:04',\n",
              " '\\x1b[K     |██                              | 983 kB 4.1 MB/s eta 0:00:04',\n",
              " '\\x1b[K     |██                              | 993 kB 4.1 MB/s eta 0:00:04',\n",
              " '\\x1b[K     |██                              | 1.0 MB 4.1 MB/s eta 0:00:04',\n",
              " '\\x1b[K     |██                              | 1.0 MB 4.1 MB/s eta 0:00:04',\n",
              " '\\x1b[K     |██                              | 1.0 MB 4.1 MB/s eta 0:00:04',\n",
              " '\\x1b[K     |██                              | 1.0 MB 4.1 MB/s eta 0:00:04',\n",
              " '\\x1b[K     |██                              | 1.0 MB 4.1 MB/s eta 0:00:04',\n",
              " '\\x1b[K     |██                              | 1.1 MB 4.1 MB/s eta 0:00:04',\n",
              " '\\x1b[K     |██                              | 1.1 MB 4.1 MB/s eta 0:00:04',\n",
              " '\\x1b[K     |██▏                             | 1.1 MB 4.1 MB/s eta 0:00:04',\n",
              " '\\x1b[K     |██▏                             | 1.1 MB 4.1 MB/s eta 0:00:04',\n",
              " '\\x1b[K     |██▏                             | 1.1 MB 4.1 MB/s eta 0:00:04',\n",
              " '\\x1b[K     |██▏                             | 1.1 MB 4.1 MB/s eta 0:00:04',\n",
              " '\\x1b[K     |██▏                             | 1.1 MB 4.1 MB/s eta 0:00:04',\n",
              " '\\x1b[K     |██▎                             | 1.1 MB 4.1 MB/s eta 0:00:04',\n",
              " '\\x1b[K     |██▎                             | 1.1 MB 4.1 MB/s eta 0:00:04',\n",
              " '\\x1b[K     |██▎                             | 1.1 MB 4.1 MB/s eta 0:00:04',\n",
              " '\\x1b[K     |██▎                             | 1.2 MB 4.1 MB/s eta 0:00:04',\n",
              " '\\x1b[K     |██▎                             | 1.2 MB 4.1 MB/s eta 0:00:04',\n",
              " '\\x1b[K     |██▎                             | 1.2 MB 4.1 MB/s eta 0:00:04',\n",
              " '\\x1b[K     |██▍                             | 1.2 MB 4.1 MB/s eta 0:00:04',\n",
              " '\\x1b[K     |██▍                             | 1.2 MB 4.1 MB/s eta 0:00:04',\n",
              " '\\x1b[K     |██▍                             | 1.2 MB 4.1 MB/s eta 0:00:04',\n",
              " '\\x1b[K     |██▍                             | 1.2 MB 4.1 MB/s eta 0:00:04',\n",
              " '\\x1b[K     |██▍                             | 1.2 MB 4.1 MB/s eta 0:00:04',\n",
              " '\\x1b[K     |██▌                             | 1.2 MB 4.1 MB/s eta 0:00:04',\n",
              " '\\x1b[K     |██▌                             | 1.2 MB 4.1 MB/s eta 0:00:04',\n",
              " '\\x1b[K     |██▌                             | 1.3 MB 4.1 MB/s eta 0:00:04',\n",
              " '\\x1b[K     |██▌                             | 1.3 MB 4.1 MB/s eta 0:00:04',\n",
              " '\\x1b[K     |██▌                             | 1.3 MB 4.1 MB/s eta 0:00:04',\n",
              " '\\x1b[K     |██▌                             | 1.3 MB 4.1 MB/s eta 0:00:04',\n",
              " '\\x1b[K     |██▋                             | 1.3 MB 4.1 MB/s eta 0:00:04',\n",
              " '\\x1b[K     |██▋                             | 1.3 MB 4.1 MB/s eta 0:00:04',\n",
              " '\\x1b[K     |██▋                             | 1.3 MB 4.1 MB/s eta 0:00:04',\n",
              " '\\x1b[K     |██▋                             | 1.3 MB 4.1 MB/s eta 0:00:04',\n",
              " '\\x1b[K     |██▋                             | 1.3 MB 4.1 MB/s eta 0:00:04',\n",
              " '\\x1b[K     |██▊                             | 1.4 MB 4.1 MB/s eta 0:00:04',\n",
              " '\\x1b[K     |██▊                             | 1.4 MB 4.1 MB/s eta 0:00:04',\n",
              " '\\x1b[K     |██▊                             | 1.4 MB 4.1 MB/s eta 0:00:04',\n",
              " '\\x1b[K     |██▊                             | 1.4 MB 4.1 MB/s eta 0:00:04',\n",
              " '\\x1b[K     |██▊                             | 1.4 MB 4.1 MB/s eta 0:00:04',\n",
              " '\\x1b[K     |██▊                             | 1.4 MB 4.1 MB/s eta 0:00:04',\n",
              " '\\x1b[K     |██▉                             | 1.4 MB 4.1 MB/s eta 0:00:04',\n",
              " '\\x1b[K     |██▉                             | 1.4 MB 4.1 MB/s eta 0:00:04',\n",
              " '\\x1b[K     |██▉                             | 1.4 MB 4.1 MB/s eta 0:00:04',\n",
              " '\\x1b[K     |██▉                             | 1.4 MB 4.1 MB/s eta 0:00:04',\n",
              " '\\x1b[K     |██▉                             | 1.5 MB 4.1 MB/s eta 0:00:04',\n",
              " '\\x1b[K     |███                             | 1.5 MB 4.1 MB/s eta 0:00:04',\n",
              " '\\x1b[K     |███                             | 1.5 MB 4.1 MB/s eta 0:00:04',\n",
              " '\\x1b[K     |███                             | 1.5 MB 4.1 MB/s eta 0:00:04',\n",
              " '\\x1b[K     |███                             | 1.5 MB 4.1 MB/s eta 0:00:04',\n",
              " '\\x1b[K     |███                             | 1.5 MB 4.1 MB/s eta 0:00:04',\n",
              " '\\x1b[K     |███                             | 1.5 MB 4.1 MB/s eta 0:00:04',\n",
              " '\\x1b[K     |███                             | 1.5 MB 4.1 MB/s eta 0:00:04',\n",
              " '\\x1b[K     |███                             | 1.5 MB 4.1 MB/s eta 0:00:04',\n",
              " '\\x1b[K     |███                             | 1.5 MB 4.1 MB/s eta 0:00:04',\n",
              " '\\x1b[K     |███                             | 1.6 MB 4.1 MB/s eta 0:00:04',\n",
              " '\\x1b[K     |███                             | 1.6 MB 4.1 MB/s eta 0:00:04',\n",
              " '\\x1b[K     |███▏                            | 1.6 MB 4.1 MB/s eta 0:00:04',\n",
              " '\\x1b[K     |███▏                            | 1.6 MB 4.1 MB/s eta 0:00:04',\n",
              " '\\x1b[K     |███▏                            | 1.6 MB 4.1 MB/s eta 0:00:04',\n",
              " '\\x1b[K     |███▏                            | 1.6 MB 4.1 MB/s eta 0:00:04',\n",
              " '\\x1b[K     |███▏                            | 1.6 MB 4.1 MB/s eta 0:00:04',\n",
              " '\\x1b[K     |███▏                            | 1.6 MB 4.1 MB/s eta 0:00:04',\n",
              " '\\x1b[K     |███▎                            | 1.6 MB 4.1 MB/s eta 0:00:04',\n",
              " '\\x1b[K     |███▎                            | 1.6 MB 4.1 MB/s eta 0:00:04',\n",
              " '\\x1b[K     |███▎                            | 1.7 MB 4.1 MB/s eta 0:00:04',\n",
              " '\\x1b[K     |███▎                            | 1.7 MB 4.1 MB/s eta 0:00:04',\n",
              " '\\x1b[K     |███▎                            | 1.7 MB 4.1 MB/s eta 0:00:04',\n",
              " '\\x1b[K     |███▍                            | 1.7 MB 4.1 MB/s eta 0:00:04',\n",
              " '\\x1b[K     |███▍                            | 1.7 MB 4.1 MB/s eta 0:00:04',\n",
              " '\\x1b[K     |███▍                            | 1.7 MB 4.1 MB/s eta 0:00:04',\n",
              " '\\x1b[K     |███▍                            | 1.7 MB 4.1 MB/s eta 0:00:04',\n",
              " '\\x1b[K     |███▍                            | 1.7 MB 4.1 MB/s eta 0:00:04',\n",
              " '\\x1b[K     |███▌                            | 1.7 MB 4.1 MB/s eta 0:00:04',\n",
              " '\\x1b[K     |███▌                            | 1.8 MB 4.1 MB/s eta 0:00:04',\n",
              " '\\x1b[K     |███▌                            | 1.8 MB 4.1 MB/s eta 0:00:04',\n",
              " '\\x1b[K     |███▌                            | 1.8 MB 4.1 MB/s eta 0:00:04',\n",
              " '\\x1b[K     |███▌                            | 1.8 MB 4.1 MB/s eta 0:00:04',\n",
              " '\\x1b[K     |███▌                            | 1.8 MB 4.1 MB/s eta 0:00:04',\n",
              " '\\x1b[K     |███▋                            | 1.8 MB 4.1 MB/s eta 0:00:04',\n",
              " '\\x1b[K     |███▋                            | 1.8 MB 4.1 MB/s eta 0:00:04',\n",
              " '\\x1b[K     |███▋                            | 1.8 MB 4.1 MB/s eta 0:00:04',\n",
              " '\\x1b[K     |███▋                            | 1.8 MB 4.1 MB/s eta 0:00:04',\n",
              " '\\x1b[K     |███▋                            | 1.8 MB 4.1 MB/s eta 0:00:04',\n",
              " '\\x1b[K     |███▊                            | 1.9 MB 4.1 MB/s eta 0:00:04',\n",
              " '\\x1b[K     |███▊                            | 1.9 MB 4.1 MB/s eta 0:00:04',\n",
              " '\\x1b[K     |███▊                            | 1.9 MB 4.1 MB/s eta 0:00:04',\n",
              " '\\x1b[K     |███▊                            | 1.9 MB 4.1 MB/s eta 0:00:04',\n",
              " '\\x1b[K     |███▊                            | 1.9 MB 4.1 MB/s eta 0:00:04',\n",
              " '\\x1b[K     |███▊                            | 1.9 MB 4.1 MB/s eta 0:00:04',\n",
              " '\\x1b[K     |███▉                            | 1.9 MB 4.1 MB/s eta 0:00:04',\n",
              " '\\x1b[K     |███▉                            | 1.9 MB 4.1 MB/s eta 0:00:04',\n",
              " '\\x1b[K     |███▉                            | 1.9 MB 4.1 MB/s eta 0:00:04',\n",
              " '\\x1b[K     |███▉                            | 1.9 MB 4.1 MB/s eta 0:00:04',\n",
              " '\\x1b[K     |███▉                            | 2.0 MB 4.1 MB/s eta 0:00:04',\n",
              " '\\x1b[K     |████                            | 2.0 MB 4.1 MB/s eta 0:00:04',\n",
              " '\\x1b[K     |████                            | 2.0 MB 4.1 MB/s eta 0:00:04',\n",
              " '\\x1b[K     |████                            | 2.0 MB 4.1 MB/s eta 0:00:04',\n",
              " '\\x1b[K     |████                            | 2.0 MB 4.1 MB/s eta 0:00:04',\n",
              " '\\x1b[K     |████                            | 2.0 MB 4.1 MB/s eta 0:00:04',\n",
              " '\\x1b[K     |████                            | 2.0 MB 4.1 MB/s eta 0:00:04',\n",
              " '\\x1b[K     |████                            | 2.0 MB 4.1 MB/s eta 0:00:04',\n",
              " '\\x1b[K     |████                            | 2.0 MB 4.1 MB/s eta 0:00:04',\n",
              " '\\x1b[K     |████                            | 2.0 MB 4.1 MB/s eta 0:00:04',\n",
              " '\\x1b[K     |████                            | 2.1 MB 4.1 MB/s eta 0:00:04',\n",
              " '\\x1b[K     |████                            | 2.1 MB 4.1 MB/s eta 0:00:04',\n",
              " '\\x1b[K     |████▏                           | 2.1 MB 4.1 MB/s eta 0:00:04',\n",
              " '\\x1b[K     |████▏                           | 2.1 MB 4.1 MB/s eta 0:00:04',\n",
              " '\\x1b[K     |████▏                           | 2.1 MB 4.1 MB/s eta 0:00:04',\n",
              " '\\x1b[K     |████▏                           | 2.1 MB 4.1 MB/s eta 0:00:04',\n",
              " '\\x1b[K     |████▏                           | 2.1 MB 4.1 MB/s eta 0:00:04',\n",
              " '\\x1b[K     |████▏                           | 2.1 MB 4.1 MB/s eta 0:00:04',\n",
              " '\\x1b[K     |████▎                           | 2.1 MB 4.1 MB/s eta 0:00:04',\n",
              " '\\x1b[K     |████▎                           | 2.2 MB 4.1 MB/s eta 0:00:04',\n",
              " '\\x1b[K     |████▎                           | 2.2 MB 4.1 MB/s eta 0:00:04',\n",
              " '\\x1b[K     |████▎                           | 2.2 MB 4.1 MB/s eta 0:00:04',\n",
              " '\\x1b[K     |████▎                           | 2.2 MB 4.1 MB/s eta 0:00:04',\n",
              " '\\x1b[K     |████▍                           | 2.2 MB 4.1 MB/s eta 0:00:04',\n",
              " '\\x1b[K     |████▍                           | 2.2 MB 4.1 MB/s eta 0:00:04',\n",
              " '\\x1b[K     |████▍                           | 2.2 MB 4.1 MB/s eta 0:00:04',\n",
              " '\\x1b[K     |████▍                           | 2.2 MB 4.1 MB/s eta 0:00:04',\n",
              " '\\x1b[K     |████▍                           | 2.2 MB 4.1 MB/s eta 0:00:04',\n",
              " '\\x1b[K     |████▍                           | 2.2 MB 4.1 MB/s eta 0:00:04',\n",
              " '\\x1b[K     |████▌                           | 2.3 MB 4.1 MB/s eta 0:00:04',\n",
              " '\\x1b[K     |████▌                           | 2.3 MB 4.1 MB/s eta 0:00:04',\n",
              " '\\x1b[K     |████▌                           | 2.3 MB 4.1 MB/s eta 0:00:04',\n",
              " '\\x1b[K     |████▌                           | 2.3 MB 4.1 MB/s eta 0:00:04',\n",
              " '\\x1b[K     |████▌                           | 2.3 MB 4.1 MB/s eta 0:00:04',\n",
              " '\\x1b[K     |████▋                           | 2.3 MB 4.1 MB/s eta 0:00:04',\n",
              " '\\x1b[K     |████▋                           | 2.3 MB 4.1 MB/s eta 0:00:04',\n",
              " '\\x1b[K     |████▋                           | 2.3 MB 4.1 MB/s eta 0:00:04',\n",
              " '\\x1b[K     |████▋                           | 2.3 MB 4.1 MB/s eta 0:00:04',\n",
              " '\\x1b[K     |████▋                           | 2.3 MB 4.1 MB/s eta 0:00:04',\n",
              " '\\x1b[K     |████▋                           | 2.4 MB 4.1 MB/s eta 0:00:04',\n",
              " '\\x1b[K     |████▊                           | 2.4 MB 4.1 MB/s eta 0:00:04',\n",
              " '\\x1b[K     |████▊                           | 2.4 MB 4.1 MB/s eta 0:00:04',\n",
              " '\\x1b[K     |████▊                           | 2.4 MB 4.1 MB/s eta 0:00:04',\n",
              " '\\x1b[K     |████▊                           | 2.4 MB 4.1 MB/s eta 0:00:04',\n",
              " '\\x1b[K     |████▊                           | 2.4 MB 4.1 MB/s eta 0:00:04',\n",
              " '\\x1b[K     |████▉                           | 2.4 MB 4.1 MB/s eta 0:00:04',\n",
              " '\\x1b[K     |████▉                           | 2.4 MB 4.1 MB/s eta 0:00:04',\n",
              " '\\x1b[K     |████▉                           | 2.4 MB 4.1 MB/s eta 0:00:04',\n",
              " '\\x1b[K     |████▉                           | 2.4 MB 4.1 MB/s eta 0:00:04',\n",
              " '\\x1b[K     |████▉                           | 2.5 MB 4.1 MB/s eta 0:00:04',\n",
              " '\\x1b[K     |████▉                           | 2.5 MB 4.1 MB/s eta 0:00:04',\n",
              " '\\x1b[K     |█████                           | 2.5 MB 4.1 MB/s eta 0:00:04',\n",
              " '\\x1b[K     |█████                           | 2.5 MB 4.1 MB/s eta 0:00:04',\n",
              " '\\x1b[K     |█████                           | 2.5 MB 4.1 MB/s eta 0:00:04',\n",
              " '\\x1b[K     |█████                           | 2.5 MB 4.1 MB/s eta 0:00:04',\n",
              " '\\x1b[K     |█████                           | 2.5 MB 4.1 MB/s eta 0:00:04',\n",
              " '\\x1b[K     |█████                           | 2.5 MB 4.1 MB/s eta 0:00:04',\n",
              " '\\x1b[K     |█████                           | 2.5 MB 4.1 MB/s eta 0:00:04',\n",
              " '\\x1b[K     |█████                           | 2.5 MB 4.1 MB/s eta 0:00:04',\n",
              " '\\x1b[K     |█████                           | 2.6 MB 4.1 MB/s eta 0:00:04',\n",
              " '\\x1b[K     |█████                           | 2.6 MB 4.1 MB/s eta 0:00:04',\n",
              " '\\x1b[K     |█████                           | 2.6 MB 4.1 MB/s eta 0:00:04',\n",
              " '\\x1b[K     |█████▏                          | 2.6 MB 4.1 MB/s eta 0:00:04',\n",
              " '\\x1b[K     |█████▏                          | 2.6 MB 4.1 MB/s eta 0:00:04',\n",
              " '\\x1b[K     |█████▏                          | 2.6 MB 4.1 MB/s eta 0:00:04',\n",
              " '\\x1b[K     |█████▏                          | 2.6 MB 4.1 MB/s eta 0:00:04',\n",
              " '\\x1b[K     |█████▏                          | 2.6 MB 4.1 MB/s eta 0:00:04',\n",
              " '\\x1b[K     |█████▎                          | 2.6 MB 4.1 MB/s eta 0:00:04',\n",
              " '\\x1b[K     |█████▎                          | 2.7 MB 4.1 MB/s eta 0:00:04',\n",
              " '\\x1b[K     |█████▎                          | 2.7 MB 4.1 MB/s eta 0:00:04',\n",
              " '\\x1b[K     |█████▎                          | 2.7 MB 4.1 MB/s eta 0:00:04',\n",
              " '\\x1b[K     |█████▎                          | 2.7 MB 4.1 MB/s eta 0:00:04',\n",
              " '\\x1b[K     |█████▎                          | 2.7 MB 4.1 MB/s eta 0:00:04',\n",
              " '\\x1b[K     |█████▍                          | 2.7 MB 4.1 MB/s eta 0:00:04',\n",
              " '\\x1b[K     |█████▍                          | 2.7 MB 4.1 MB/s eta 0:00:04',\n",
              " '\\x1b[K     |█████▍                          | 2.7 MB 4.1 MB/s eta 0:00:04',\n",
              " '\\x1b[K     |█████▍                          | 2.7 MB 4.1 MB/s eta 0:00:04',\n",
              " '\\x1b[K     |█████▍                          | 2.7 MB 4.1 MB/s eta 0:00:04',\n",
              " '\\x1b[K     |█████▌                          | 2.8 MB 4.1 MB/s eta 0:00:04',\n",
              " '\\x1b[K     |█████▌                          | 2.8 MB 4.1 MB/s eta 0:00:04',\n",
              " '\\x1b[K     |█████▌                          | 2.8 MB 4.1 MB/s eta 0:00:04',\n",
              " '\\x1b[K     |█████▌                          | 2.8 MB 4.1 MB/s eta 0:00:04',\n",
              " '\\x1b[K     |█████▌                          | 2.8 MB 4.1 MB/s eta 0:00:04',\n",
              " '\\x1b[K     |█████▌                          | 2.8 MB 4.1 MB/s eta 0:00:04',\n",
              " '\\x1b[K     |█████▋                          | 2.8 MB 4.1 MB/s eta 0:00:04',\n",
              " '\\x1b[K     |█████▋                          | 2.8 MB 4.1 MB/s eta 0:00:04',\n",
              " '\\x1b[K     |█████▋                          | 2.8 MB 4.1 MB/s eta 0:00:04',\n",
              " '\\x1b[K     |█████▋                          | 2.8 MB 4.1 MB/s eta 0:00:04',\n",
              " '\\x1b[K     |█████▋                          | 2.9 MB 4.1 MB/s eta 0:00:04',\n",
              " '\\x1b[K     |█████▊                          | 2.9 MB 4.1 MB/s eta 0:00:04',\n",
              " '\\x1b[K     |█████▊                          | 2.9 MB 4.1 MB/s eta 0:00:04',\n",
              " '\\x1b[K     |█████▊                          | 2.9 MB 4.1 MB/s eta 0:00:04',\n",
              " '\\x1b[K     |█████▊                          | 2.9 MB 4.1 MB/s eta 0:00:04',\n",
              " '\\x1b[K     |█████▊                          | 2.9 MB 4.1 MB/s eta 0:00:04',\n",
              " '\\x1b[K     |█████▊                          | 2.9 MB 4.1 MB/s eta 0:00:04',\n",
              " '\\x1b[K     |█████▉                          | 2.9 MB 4.1 MB/s eta 0:00:04',\n",
              " '\\x1b[K     |█████▉                          | 2.9 MB 4.1 MB/s eta 0:00:04',\n",
              " '\\x1b[K     |█████▉                          | 2.9 MB 4.1 MB/s eta 0:00:04',\n",
              " '\\x1b[K     |█████▉                          | 3.0 MB 4.1 MB/s eta 0:00:04',\n",
              " '\\x1b[K     |█████▉                          | 3.0 MB 4.1 MB/s eta 0:00:04',\n",
              " '\\x1b[K     |██████                          | 3.0 MB 4.1 MB/s eta 0:00:04',\n",
              " '\\x1b[K     |██████                          | 3.0 MB 4.1 MB/s eta 0:00:04',\n",
              " '\\x1b[K     |██████                          | 3.0 MB 4.1 MB/s eta 0:00:04',\n",
              " '\\x1b[K     |██████                          | 3.0 MB 4.1 MB/s eta 0:00:04',\n",
              " '\\x1b[K     |██████                          | 3.0 MB 4.1 MB/s eta 0:00:04',\n",
              " '\\x1b[K     |██████                          | 3.0 MB 4.1 MB/s eta 0:00:04',\n",
              " '\\x1b[K     |██████                          | 3.0 MB 4.1 MB/s eta 0:00:04',\n",
              " '\\x1b[K     |██████                          | 3.1 MB 4.1 MB/s eta 0:00:04',\n",
              " '\\x1b[K     |██████                          | 3.1 MB 4.1 MB/s eta 0:00:04',\n",
              " '\\x1b[K     |██████                          | 3.1 MB 4.1 MB/s eta 0:00:04',\n",
              " '\\x1b[K     |██████                          | 3.1 MB 4.1 MB/s eta 0:00:04',\n",
              " '\\x1b[K     |██████▏                         | 3.1 MB 4.1 MB/s eta 0:00:04',\n",
              " '\\x1b[K     |██████▏                         | 3.1 MB 4.1 MB/s eta 0:00:04',\n",
              " '\\x1b[K     |██████▏                         | 3.1 MB 4.1 MB/s eta 0:00:04',\n",
              " '\\x1b[K     |██████▏                         | 3.1 MB 4.1 MB/s eta 0:00:04',\n",
              " '\\x1b[K     |██████▏                         | 3.1 MB 4.1 MB/s eta 0:00:04',\n",
              " '\\x1b[K     |██████▏                         | 3.1 MB 4.1 MB/s eta 0:00:04',\n",
              " '\\x1b[K     |██████▎                         | 3.2 MB 4.1 MB/s eta 0:00:04',\n",
              " '\\x1b[K     |██████▎                         | 3.2 MB 4.1 MB/s eta 0:00:04',\n",
              " '\\x1b[K     |██████▎                         | 3.2 MB 4.1 MB/s eta 0:00:04',\n",
              " '\\x1b[K     |██████▎                         | 3.2 MB 4.1 MB/s eta 0:00:04',\n",
              " '\\x1b[K     |██████▎                         | 3.2 MB 4.1 MB/s eta 0:00:04',\n",
              " '\\x1b[K     |██████▍                         | 3.2 MB 4.1 MB/s eta 0:00:04',\n",
              " '\\x1b[K     |██████▍                         | 3.2 MB 4.1 MB/s eta 0:00:04',\n",
              " '\\x1b[K     |██████▍                         | 3.2 MB 4.1 MB/s eta 0:00:04',\n",
              " '\\x1b[K     |██████▍                         | 3.2 MB 4.1 MB/s eta 0:00:04',\n",
              " '\\x1b[K     |██████▍                         | 3.2 MB 4.1 MB/s eta 0:00:04',\n",
              " '\\x1b[K     |██████▍                         | 3.3 MB 4.1 MB/s eta 0:00:04',\n",
              " '\\x1b[K     |██████▌                         | 3.3 MB 4.1 MB/s eta 0:00:04',\n",
              " '\\x1b[K     |██████▌                         | 3.3 MB 4.1 MB/s eta 0:00:04',\n",
              " '\\x1b[K     |██████▌                         | 3.3 MB 4.1 MB/s eta 0:00:04',\n",
              " '\\x1b[K     |██████▌                         | 3.3 MB 4.1 MB/s eta 0:00:04',\n",
              " '\\x1b[K     |██████▌                         | 3.3 MB 4.1 MB/s eta 0:00:04',\n",
              " '\\x1b[K     |██████▋                         | 3.3 MB 4.1 MB/s eta 0:00:04',\n",
              " '\\x1b[K     |██████▋                         | 3.3 MB 4.1 MB/s eta 0:00:04',\n",
              " '\\x1b[K     |██████▋                         | 3.3 MB 4.1 MB/s eta 0:00:04',\n",
              " '\\x1b[K     |██████▋                         | 3.3 MB 4.1 MB/s eta 0:00:04',\n",
              " '\\x1b[K     |██████▋                         | 3.4 MB 4.1 MB/s eta 0:00:04',\n",
              " '\\x1b[K     |██████▋                         | 3.4 MB 4.1 MB/s eta 0:00:04',\n",
              " '\\x1b[K     |██████▊                         | 3.4 MB 4.1 MB/s eta 0:00:04',\n",
              " '\\x1b[K     |██████▊                         | 3.4 MB 4.1 MB/s eta 0:00:04',\n",
              " '\\x1b[K     |██████▊                         | 3.4 MB 4.1 MB/s eta 0:00:04',\n",
              " '\\x1b[K     |██████▊                         | 3.4 MB 4.1 MB/s eta 0:00:04',\n",
              " '\\x1b[K     |██████▊                         | 3.4 MB 4.1 MB/s eta 0:00:04',\n",
              " '\\x1b[K     |██████▉                         | 3.4 MB 4.1 MB/s eta 0:00:04',\n",
              " '\\x1b[K     |██████▉                         | 3.4 MB 4.1 MB/s eta 0:00:04',\n",
              " '\\x1b[K     |██████▉                         | 3.5 MB 4.1 MB/s eta 0:00:04',\n",
              " '\\x1b[K     |██████▉                         | 3.5 MB 4.1 MB/s eta 0:00:04',\n",
              " '\\x1b[K     |██████▉                         | 3.5 MB 4.1 MB/s eta 0:00:04',\n",
              " '\\x1b[K     |███████                         | 3.5 MB 4.1 MB/s eta 0:00:04',\n",
              " '\\x1b[K     |███████                         | 3.5 MB 4.1 MB/s eta 0:00:04',\n",
              " '\\x1b[K     |███████                         | 3.5 MB 4.1 MB/s eta 0:00:04',\n",
              " '\\x1b[K     |███████                         | 3.5 MB 4.1 MB/s eta 0:00:04',\n",
              " '\\x1b[K     |███████                         | 3.5 MB 4.1 MB/s eta 0:00:04',\n",
              " '\\x1b[K     |███████                         | 3.5 MB 4.1 MB/s eta 0:00:04',\n",
              " '\\x1b[K     |███████                         | 3.5 MB 4.1 MB/s eta 0:00:04',\n",
              " '\\x1b[K     |███████                         | 3.6 MB 4.1 MB/s eta 0:00:04',\n",
              " '\\x1b[K     |███████                         | 3.6 MB 4.1 MB/s eta 0:00:04',\n",
              " '\\x1b[K     |███████                         | 3.6 MB 4.1 MB/s eta 0:00:04',\n",
              " '\\x1b[K     |███████                         | 3.6 MB 4.1 MB/s eta 0:00:04',\n",
              " '\\x1b[K     |███████▏                        | 3.6 MB 4.1 MB/s eta 0:00:04',\n",
              " '\\x1b[K     |███████▏                        | 3.6 MB 4.1 MB/s eta 0:00:04',\n",
              " '\\x1b[K     |███████▏                        | 3.6 MB 4.1 MB/s eta 0:00:04',\n",
              " '\\x1b[K     |███████▏                        | 3.6 MB 4.1 MB/s eta 0:00:04',\n",
              " '\\x1b[K     |███████▏                        | 3.6 MB 4.1 MB/s eta 0:00:04',\n",
              " '\\x1b[K     |███████▏                        | 3.6 MB 4.1 MB/s eta 0:00:04',\n",
              " '\\x1b[K     |███████▎                        | 3.7 MB 4.1 MB/s eta 0:00:04',\n",
              " '\\x1b[K     |███████▎                        | 3.7 MB 4.1 MB/s eta 0:00:04',\n",
              " '\\x1b[K     |███████▎                        | 3.7 MB 4.1 MB/s eta 0:00:04',\n",
              " '\\x1b[K     |███████▎                        | 3.7 MB 4.1 MB/s eta 0:00:04',\n",
              " '\\x1b[K     |███████▎                        | 3.7 MB 4.1 MB/s eta 0:00:04',\n",
              " '\\x1b[K     |███████▍                        | 3.7 MB 4.1 MB/s eta 0:00:04',\n",
              " '\\x1b[K     |███████▍                        | 3.7 MB 4.1 MB/s eta 0:00:04',\n",
              " '\\x1b[K     |███████▍                        | 3.7 MB 4.1 MB/s eta 0:00:04',\n",
              " '\\x1b[K     |███████▍                        | 3.7 MB 4.1 MB/s eta 0:00:04',\n",
              " '\\x1b[K     |███████▍                        | 3.7 MB 4.1 MB/s eta 0:00:04',\n",
              " '\\x1b[K     |███████▍                        | 3.8 MB 4.1 MB/s eta 0:00:04',\n",
              " '\\x1b[K     |███████▌                        | 3.8 MB 4.1 MB/s eta 0:00:04',\n",
              " '\\x1b[K     |███████▌                        | 3.8 MB 4.1 MB/s eta 0:00:04',\n",
              " '\\x1b[K     |███████▌                        | 3.8 MB 4.1 MB/s eta 0:00:04',\n",
              " '\\x1b[K     |███████▌                        | 3.8 MB 4.1 MB/s eta 0:00:04',\n",
              " '\\x1b[K     |███████▌                        | 3.8 MB 4.1 MB/s eta 0:00:04',\n",
              " '\\x1b[K     |███████▋                        | 3.8 MB 4.1 MB/s eta 0:00:04',\n",
              " '\\x1b[K     |███████▋                        | 3.8 MB 4.1 MB/s eta 0:00:04',\n",
              " '\\x1b[K     |███████▋                        | 3.8 MB 4.1 MB/s eta 0:00:04',\n",
              " '\\x1b[K     |███████▋                        | 3.9 MB 4.1 MB/s eta 0:00:04',\n",
              " '\\x1b[K     |███████▋                        | 3.9 MB 4.1 MB/s eta 0:00:04',\n",
              " '\\x1b[K     |███████▋                        | 3.9 MB 4.1 MB/s eta 0:00:04',\n",
              " '\\x1b[K     |███████▊                        | 3.9 MB 4.1 MB/s eta 0:00:04',\n",
              " '\\x1b[K     |███████▊                        | 3.9 MB 4.1 MB/s eta 0:00:04',\n",
              " '\\x1b[K     |███████▊                        | 3.9 MB 4.1 MB/s eta 0:00:04',\n",
              " '\\x1b[K     |███████▊                        | 3.9 MB 4.1 MB/s eta 0:00:04',\n",
              " '\\x1b[K     |███████▊                        | 3.9 MB 4.1 MB/s eta 0:00:04',\n",
              " '\\x1b[K     |███████▉                        | 3.9 MB 4.1 MB/s eta 0:00:04',\n",
              " '\\x1b[K     |███████▉                        | 3.9 MB 4.1 MB/s eta 0:00:04',\n",
              " '\\x1b[K     |███████▉                        | 4.0 MB 4.1 MB/s eta 0:00:04',\n",
              " '\\x1b[K     |███████▉                        | 4.0 MB 4.1 MB/s eta 0:00:04',\n",
              " '\\x1b[K     |███████▉                        | 4.0 MB 4.1 MB/s eta 0:00:04',\n",
              " '\\x1b[K     |███████▉                        | 4.0 MB 4.1 MB/s eta 0:00:04',\n",
              " '\\x1b[K     |████████                        | 4.0 MB 4.1 MB/s eta 0:00:03',\n",
              " '\\x1b[K     |████████                        | 4.0 MB 4.1 MB/s eta 0:00:03',\n",
              " '\\x1b[K     |████████                        | 4.0 MB 4.1 MB/s eta 0:00:03',\n",
              " '\\x1b[K     |████████                        | 4.0 MB 4.1 MB/s eta 0:00:03',\n",
              " '\\x1b[K     |████████                        | 4.0 MB 4.1 MB/s eta 0:00:03',\n",
              " '\\x1b[K     |████████                        | 4.0 MB 4.1 MB/s eta 0:00:03',\n",
              " '\\x1b[K     |████████                        | 4.1 MB 4.1 MB/s eta 0:00:03',\n",
              " '\\x1b[K     |████████                        | 4.1 MB 4.1 MB/s eta 0:00:03',\n",
              " '\\x1b[K     |████████                        | 4.1 MB 4.1 MB/s eta 0:00:03',\n",
              " '\\x1b[K     |████████                        | 4.1 MB 4.1 MB/s eta 0:00:03',\n",
              " '\\x1b[K     |████████                        | 4.1 MB 4.1 MB/s eta 0:00:03',\n",
              " '\\x1b[K     |████████▏                       | 4.1 MB 4.1 MB/s eta 0:00:03',\n",
              " '\\x1b[K     |████████▏                       | 4.1 MB 4.1 MB/s eta 0:00:03',\n",
              " '\\x1b[K     |████████▏                       | 4.1 MB 4.1 MB/s eta 0:00:03',\n",
              " '\\x1b[K     |████████▏                       | 4.1 MB 4.1 MB/s eta 0:00:03',\n",
              " '\\x1b[K     |████████▏                       | 4.1 MB 4.1 MB/s eta 0:00:03',\n",
              " '\\x1b[K     |████████▎                       | 4.2 MB 4.1 MB/s eta 0:00:03',\n",
              " '\\x1b[K     |████████▎                       | 4.2 MB 4.1 MB/s eta 0:00:03',\n",
              " '\\x1b[K     |████████▎                       | 4.2 MB 4.1 MB/s eta 0:00:03',\n",
              " '\\x1b[K     |████████▎                       | 4.2 MB 4.1 MB/s eta 0:00:03',\n",
              " '\\x1b[K     |████████▎                       | 4.2 MB 4.1 MB/s eta 0:00:03',\n",
              " '\\x1b[K     |████████▎                       | 4.2 MB 4.1 MB/s eta 0:00:03',\n",
              " '\\x1b[K     |████████▍                       | 4.2 MB 4.1 MB/s eta 0:00:03',\n",
              " '\\x1b[K     |████████▍                       | 4.2 MB 4.1 MB/s eta 0:00:03',\n",
              " '\\x1b[K     |████████▍                       | 4.2 MB 4.1 MB/s eta 0:00:03',\n",
              " '\\x1b[K     |████████▍                       | 4.2 MB 4.1 MB/s eta 0:00:03',\n",
              " '\\x1b[K     |████████▍                       | 4.3 MB 4.1 MB/s eta 0:00:03',\n",
              " '\\x1b[K     |████████▌                       | 4.3 MB 4.1 MB/s eta 0:00:03',\n",
              " '\\x1b[K     |████████▌                       | 4.3 MB 4.1 MB/s eta 0:00:03',\n",
              " '\\x1b[K     |████████▌                       | 4.3 MB 4.1 MB/s eta 0:00:03',\n",
              " '\\x1b[K     |████████▌                       | 4.3 MB 4.1 MB/s eta 0:00:03',\n",
              " '\\x1b[K     |████████▌                       | 4.3 MB 4.1 MB/s eta 0:00:03',\n",
              " '\\x1b[K     |████████▌                       | 4.3 MB 4.1 MB/s eta 0:00:03',\n",
              " '\\x1b[K     |████████▋                       | 4.3 MB 4.1 MB/s eta 0:00:03',\n",
              " '\\x1b[K     |████████▋                       | 4.3 MB 4.1 MB/s eta 0:00:03',\n",
              " '\\x1b[K     |████████▋                       | 4.4 MB 4.1 MB/s eta 0:00:03',\n",
              " '\\x1b[K     |████████▋                       | 4.4 MB 4.1 MB/s eta 0:00:03',\n",
              " '\\x1b[K     |████████▋                       | 4.4 MB 4.1 MB/s eta 0:00:03',\n",
              " '\\x1b[K     |████████▊                       | 4.4 MB 4.1 MB/s eta 0:00:03',\n",
              " '\\x1b[K     |████████▊                       | 4.4 MB 4.1 MB/s eta 0:00:03',\n",
              " '\\x1b[K     |████████▊                       | 4.4 MB 4.1 MB/s eta 0:00:03',\n",
              " '\\x1b[K     |████████▊                       | 4.4 MB 4.1 MB/s eta 0:00:03',\n",
              " '\\x1b[K     |████████▊                       | 4.4 MB 4.1 MB/s eta 0:00:03',\n",
              " '\\x1b[K     |████████▊                       | 4.4 MB 4.1 MB/s eta 0:00:03',\n",
              " '\\x1b[K     |████████▉                       | 4.4 MB 4.1 MB/s eta 0:00:03',\n",
              " '\\x1b[K     |████████▉                       | 4.5 MB 4.1 MB/s eta 0:00:03',\n",
              " '\\x1b[K     |████████▉                       | 4.5 MB 4.1 MB/s eta 0:00:03',\n",
              " '\\x1b[K     |████████▉                       | 4.5 MB 4.1 MB/s eta 0:00:03',\n",
              " '\\x1b[K     |████████▉                       | 4.5 MB 4.1 MB/s eta 0:00:03',\n",
              " '\\x1b[K     |█████████                       | 4.5 MB 4.1 MB/s eta 0:00:03',\n",
              " '\\x1b[K     |█████████                       | 4.5 MB 4.1 MB/s eta 0:00:03',\n",
              " '\\x1b[K     |█████████                       | 4.5 MB 4.1 MB/s eta 0:00:03',\n",
              " '\\x1b[K     |█████████                       | 4.5 MB 4.1 MB/s eta 0:00:03',\n",
              " '\\x1b[K     |█████████                       | 4.5 MB 4.1 MB/s eta 0:00:03',\n",
              " '\\x1b[K     |█████████                       | 4.5 MB 4.1 MB/s eta 0:00:03',\n",
              " '\\x1b[K     |█████████                       | 4.6 MB 4.1 MB/s eta 0:00:03',\n",
              " '\\x1b[K     |█████████                       | 4.6 MB 4.1 MB/s eta 0:00:03',\n",
              " '\\x1b[K     |█████████                       | 4.6 MB 4.1 MB/s eta 0:00:03',\n",
              " '\\x1b[K     |█████████                       | 4.6 MB 4.1 MB/s eta 0:00:03',\n",
              " '\\x1b[K     |█████████                       | 4.6 MB 4.1 MB/s eta 0:00:03',\n",
              " '\\x1b[K     |█████████▏                      | 4.6 MB 4.1 MB/s eta 0:00:03',\n",
              " '\\x1b[K     |█████████▏                      | 4.6 MB 4.1 MB/s eta 0:00:03',\n",
              " '\\x1b[K     |█████████▏                      | 4.6 MB 4.1 MB/s eta 0:00:03',\n",
              " '\\x1b[K     |█████████▏                      | 4.6 MB 4.1 MB/s eta 0:00:03',\n",
              " '\\x1b[K     |█████████▏                      | 4.6 MB 4.1 MB/s eta 0:00:03',\n",
              " '\\x1b[K     |█████████▏                      | 4.7 MB 4.1 MB/s eta 0:00:03',\n",
              " '\\x1b[K     |█████████▎                      | 4.7 MB 4.1 MB/s eta 0:00:03',\n",
              " '\\x1b[K     |█████████▎                      | 4.7 MB 4.1 MB/s eta 0:00:03',\n",
              " '\\x1b[K     |█████████▎                      | 4.7 MB 4.1 MB/s eta 0:00:03',\n",
              " '\\x1b[K     |█████████▎                      | 4.7 MB 4.1 MB/s eta 0:00:03',\n",
              " '\\x1b[K     |█████████▎                      | 4.7 MB 4.1 MB/s eta 0:00:03',\n",
              " '\\x1b[K     |█████████▍                      | 4.7 MB 4.1 MB/s eta 0:00:03',\n",
              " '\\x1b[K     |█████████▍                      | 4.7 MB 4.1 MB/s eta 0:00:03',\n",
              " '\\x1b[K     |█████████▍                      | 4.7 MB 4.1 MB/s eta 0:00:03',\n",
              " '\\x1b[K     |█████████▍                      | 4.8 MB 4.1 MB/s eta 0:00:03',\n",
              " '\\x1b[K     |█████████▍                      | 4.8 MB 4.1 MB/s eta 0:00:03',\n",
              " '\\x1b[K     |█████████▍                      | 4.8 MB 4.1 MB/s eta 0:00:03',\n",
              " '\\x1b[K     |█████████▌                      | 4.8 MB 4.1 MB/s eta 0:00:03',\n",
              " '\\x1b[K     |█████████▌                      | 4.8 MB 4.1 MB/s eta 0:00:03',\n",
              " '\\x1b[K     |█████████▌                      | 4.8 MB 4.1 MB/s eta 0:00:03',\n",
              " '\\x1b[K     |█████████▌                      | 4.8 MB 4.1 MB/s eta 0:00:03',\n",
              " '\\x1b[K     |█████████▌                      | 4.8 MB 4.1 MB/s eta 0:00:03',\n",
              " '\\x1b[K     |█████████▋                      | 4.8 MB 4.1 MB/s eta 0:00:03',\n",
              " '\\x1b[K     |█████████▋                      | 4.8 MB 4.1 MB/s eta 0:00:03',\n",
              " '\\x1b[K     |█████████▋                      | 4.9 MB 4.1 MB/s eta 0:00:03',\n",
              " '\\x1b[K     |█████████▋                      | 4.9 MB 4.1 MB/s eta 0:00:03',\n",
              " '\\x1b[K     |█████████▋                      | 4.9 MB 4.1 MB/s eta 0:00:03',\n",
              " '\\x1b[K     |█████████▋                      | 4.9 MB 4.1 MB/s eta 0:00:03',\n",
              " '\\x1b[K     |█████████▊                      | 4.9 MB 4.1 MB/s eta 0:00:03',\n",
              " '\\x1b[K     |█████████▊                      | 4.9 MB 4.1 MB/s eta 0:00:03',\n",
              " '\\x1b[K     |█████████▊                      | 4.9 MB 4.1 MB/s eta 0:00:03',\n",
              " '\\x1b[K     |█████████▊                      | 4.9 MB 4.1 MB/s eta 0:00:03',\n",
              " '\\x1b[K     |█████████▊                      | 4.9 MB 4.1 MB/s eta 0:00:03',\n",
              " '\\x1b[K     |█████████▉                      | 4.9 MB 4.1 MB/s eta 0:00:03',\n",
              " '\\x1b[K     |█████████▉                      | 5.0 MB 4.1 MB/s eta 0:00:03',\n",
              " '\\x1b[K     |█████████▉                      | 5.0 MB 4.1 MB/s eta 0:00:03',\n",
              " '\\x1b[K     |█████████▉                      | 5.0 MB 4.1 MB/s eta 0:00:03',\n",
              " '\\x1b[K     |█████████▉                      | 5.0 MB 4.1 MB/s eta 0:00:03',\n",
              " '\\x1b[K     |█████████▉                      | 5.0 MB 4.1 MB/s eta 0:00:03',\n",
              " '\\x1b[K     |██████████                      | 5.0 MB 4.1 MB/s eta 0:00:03',\n",
              " '\\x1b[K     |██████████                      | 5.0 MB 4.1 MB/s eta 0:00:03',\n",
              " '\\x1b[K     |██████████                      | 5.0 MB 4.1 MB/s eta 0:00:03',\n",
              " '\\x1b[K     |██████████                      | 5.0 MB 4.1 MB/s eta 0:00:03',\n",
              " '\\x1b[K     |██████████                      | 5.0 MB 4.1 MB/s eta 0:00:03',\n",
              " '\\x1b[K     |██████████                      | 5.1 MB 4.1 MB/s eta 0:00:03',\n",
              " '\\x1b[K     |██████████                      | 5.1 MB 4.1 MB/s eta 0:00:03',\n",
              " '\\x1b[K     |██████████                      | 5.1 MB 4.1 MB/s eta 0:00:03',\n",
              " '\\x1b[K     |██████████                      | 5.1 MB 4.1 MB/s eta 0:00:03',\n",
              " '\\x1b[K     |██████████                      | 5.1 MB 4.1 MB/s eta 0:00:03',\n",
              " '\\x1b[K     |██████████                      | 5.1 MB 4.1 MB/s eta 0:00:03',\n",
              " '\\x1b[K     |██████████▏                     | 5.1 MB 4.1 MB/s eta 0:00:03',\n",
              " '\\x1b[K     |██████████▏                     | 5.1 MB 4.1 MB/s eta 0:00:03',\n",
              " '\\x1b[K     |██████████▏                     | 5.1 MB 4.1 MB/s eta 0:00:03',\n",
              " '\\x1b[K     |██████████▏                     | 5.2 MB 4.1 MB/s eta 0:00:03',\n",
              " '\\x1b[K     |██████████▏                     | 5.2 MB 4.1 MB/s eta 0:00:03',\n",
              " '\\x1b[K     |██████████▎                     | 5.2 MB 4.1 MB/s eta 0:00:03',\n",
              " '\\x1b[K     |██████████▎                     | 5.2 MB 4.1 MB/s eta 0:00:03',\n",
              " '\\x1b[K     |██████████▎                     | 5.2 MB 4.1 MB/s eta 0:00:03',\n",
              " '\\x1b[K     |██████████▎                     | 5.2 MB 4.1 MB/s eta 0:00:03',\n",
              " '\\x1b[K     |██████████▎                     | 5.2 MB 4.1 MB/s eta 0:00:03',\n",
              " '\\x1b[K     |██████████▍                     | 5.2 MB 4.1 MB/s eta 0:00:03',\n",
              " '\\x1b[K     |██████████▍                     | 5.2 MB 4.1 MB/s eta 0:00:03',\n",
              " '\\x1b[K     |██████████▍                     | 5.2 MB 4.1 MB/s eta 0:00:03',\n",
              " '\\x1b[K     |██████████▍                     | 5.3 MB 4.1 MB/s eta 0:00:03',\n",
              " '\\x1b[K     |██████████▍                     | 5.3 MB 4.1 MB/s eta 0:00:03',\n",
              " '\\x1b[K     |██████████▍                     | 5.3 MB 4.1 MB/s eta 0:00:03',\n",
              " '\\x1b[K     |██████████▌                     | 5.3 MB 4.1 MB/s eta 0:00:03',\n",
              " '\\x1b[K     |██████████▌                     | 5.3 MB 4.1 MB/s eta 0:00:03',\n",
              " '\\x1b[K     |██████████▌                     | 5.3 MB 4.1 MB/s eta 0:00:03',\n",
              " '\\x1b[K     |██████████▌                     | 5.3 MB 4.1 MB/s eta 0:00:03',\n",
              " '\\x1b[K     |██████████▌                     | 5.3 MB 4.1 MB/s eta 0:00:03',\n",
              " '\\x1b[K     |██████████▋                     | 5.3 MB 4.1 MB/s eta 0:00:03',\n",
              " '\\x1b[K     |██████████▋                     | 5.3 MB 4.1 MB/s eta 0:00:03',\n",
              " '\\x1b[K     |██████████▋                     | 5.4 MB 4.1 MB/s eta 0:00:03',\n",
              " '\\x1b[K     |██████████▋                     | 5.4 MB 4.1 MB/s eta 0:00:03',\n",
              " '\\x1b[K     |██████████▋                     | 5.4 MB 4.1 MB/s eta 0:00:03',\n",
              " '\\x1b[K     |██████████▋                     | 5.4 MB 4.1 MB/s eta 0:00:03',\n",
              " '\\x1b[K     |██████████▊                     | 5.4 MB 4.1 MB/s eta 0:00:03',\n",
              " '\\x1b[K     |██████████▊                     | 5.4 MB 4.1 MB/s eta 0:00:03',\n",
              " '\\x1b[K     |██████████▊                     | 5.4 MB 4.1 MB/s eta 0:00:03',\n",
              " '\\x1b[K     |██████████▊                     | 5.4 MB 4.1 MB/s eta 0:00:03',\n",
              " '\\x1b[K     |██████████▊                     | 5.4 MB 4.1 MB/s eta 0:00:03',\n",
              " '\\x1b[K     |██████████▉                     | 5.4 MB 4.1 MB/s eta 0:00:03',\n",
              " '\\x1b[K     |██████████▉                     | 5.5 MB 4.1 MB/s eta 0:00:03',\n",
              " '\\x1b[K     |██████████▉                     | 5.5 MB 4.1 MB/s eta 0:00:03',\n",
              " '\\x1b[K     |██████████▉                     | 5.5 MB 4.1 MB/s eta 0:00:03',\n",
              " '\\x1b[K     |██████████▉                     | 5.5 MB 4.1 MB/s eta 0:00:03',\n",
              " '\\x1b[K     |██████████▉                     | 5.5 MB 4.1 MB/s eta 0:00:03',\n",
              " '\\x1b[K     |███████████                     | 5.5 MB 4.1 MB/s eta 0:00:03',\n",
              " '\\x1b[K     |███████████                     | 5.5 MB 4.1 MB/s eta 0:00:03',\n",
              " '\\x1b[K     |███████████                     | 5.5 MB 4.1 MB/s eta 0:00:03',\n",
              " '\\x1b[K     |███████████                     | 5.5 MB 4.1 MB/s eta 0:00:03',\n",
              " '\\x1b[K     |███████████                     | 5.6 MB 4.1 MB/s eta 0:00:03',\n",
              " '\\x1b[K     |███████████                     | 5.6 MB 4.1 MB/s eta 0:00:03',\n",
              " '\\x1b[K     |███████████                     | 5.6 MB 4.1 MB/s eta 0:00:03',\n",
              " '\\x1b[K     |███████████                     | 5.6 MB 4.1 MB/s eta 0:00:03',\n",
              " '\\x1b[K     |███████████                     | 5.6 MB 4.1 MB/s eta 0:00:03',\n",
              " '\\x1b[K     |███████████                     | 5.6 MB 4.1 MB/s eta 0:00:03',\n",
              " '\\x1b[K     |███████████                     | 5.6 MB 4.1 MB/s eta 0:00:03',\n",
              " '\\x1b[K     |███████████▏                    | 5.6 MB 4.1 MB/s eta 0:00:03',\n",
              " '\\x1b[K     |███████████▏                    | 5.6 MB 4.1 MB/s eta 0:00:03',\n",
              " '\\x1b[K     |███████████▏                    | 5.6 MB 4.1 MB/s eta 0:00:03',\n",
              " '\\x1b[K     |███████████▏                    | 5.7 MB 4.1 MB/s eta 0:00:03',\n",
              " '\\x1b[K     |███████████▏                    | 5.7 MB 4.1 MB/s eta 0:00:03',\n",
              " '\\x1b[K     |███████████▎                    | 5.7 MB 4.1 MB/s eta 0:00:03',\n",
              " '\\x1b[K     |███████████▎                    | 5.7 MB 4.1 MB/s eta 0:00:03',\n",
              " '\\x1b[K     |███████████▎                    | 5.7 MB 4.1 MB/s eta 0:00:03',\n",
              " '\\x1b[K     |███████████▎                    | 5.7 MB 4.1 MB/s eta 0:00:03',\n",
              " '\\x1b[K     |███████████▎                    | 5.7 MB 4.1 MB/s eta 0:00:03',\n",
              " '\\x1b[K     |███████████▎                    | 5.7 MB 4.1 MB/s eta 0:00:03',\n",
              " '\\x1b[K     |███████████▍                    | 5.7 MB 4.1 MB/s eta 0:00:03',\n",
              " '\\x1b[K     |███████████▍                    | 5.7 MB 4.1 MB/s eta 0:00:03',\n",
              " '\\x1b[K     |███████████▍                    | 5.8 MB 4.1 MB/s eta 0:00:03',\n",
              " '\\x1b[K     |███████████▍                    | 5.8 MB 4.1 MB/s eta 0:00:03',\n",
              " '\\x1b[K     |███████████▍                    | 5.8 MB 4.1 MB/s eta 0:00:03',\n",
              " '\\x1b[K     |███████████▌                    | 5.8 MB 4.1 MB/s eta 0:00:03',\n",
              " '\\x1b[K     |███████████▌                    | 5.8 MB 4.1 MB/s eta 0:00:03',\n",
              " '\\x1b[K     |███████████▌                    | 5.8 MB 4.1 MB/s eta 0:00:03',\n",
              " '\\x1b[K     |███████████▌                    | 5.8 MB 4.1 MB/s eta 0:00:03',\n",
              " '\\x1b[K     |███████████▌                    | 5.8 MB 4.1 MB/s eta 0:00:03',\n",
              " '\\x1b[K     |███████████▌                    | 5.8 MB 4.1 MB/s eta 0:00:03',\n",
              " '\\x1b[K     |███████████▋                    | 5.8 MB 4.1 MB/s eta 0:00:03',\n",
              " '\\x1b[K     |███████████▋                    | 5.9 MB 4.1 MB/s eta 0:00:03',\n",
              " '\\x1b[K     |███████████▋                    | 5.9 MB 4.1 MB/s eta 0:00:03',\n",
              " '\\x1b[K     |███████████▋                    | 5.9 MB 4.1 MB/s eta 0:00:03',\n",
              " '\\x1b[K     |███████████▋                    | 5.9 MB 4.1 MB/s eta 0:00:03',\n",
              " '\\x1b[K     |███████████▊                    | 5.9 MB 4.1 MB/s eta 0:00:03',\n",
              " '\\x1b[K     |███████████▊                    | 5.9 MB 4.1 MB/s eta 0:00:03',\n",
              " '\\x1b[K     |███████████▊                    | 5.9 MB 4.1 MB/s eta 0:00:03',\n",
              " '\\x1b[K     |███████████▊                    | 5.9 MB 4.1 MB/s eta 0:00:03',\n",
              " '\\x1b[K     |███████████▊                    | 5.9 MB 4.1 MB/s eta 0:00:03',\n",
              " '\\x1b[K     |███████████▊                    | 5.9 MB 4.1 MB/s eta 0:00:03',\n",
              " '\\x1b[K     |███████████▉                    | 6.0 MB 4.1 MB/s eta 0:00:03',\n",
              " '\\x1b[K     |███████████▉                    | 6.0 MB 4.1 MB/s eta 0:00:03',\n",
              " '\\x1b[K     |███████████▉                    | 6.0 MB 4.1 MB/s eta 0:00:03',\n",
              " '\\x1b[K     |███████████▉                    | 6.0 MB 4.1 MB/s eta 0:00:03',\n",
              " '\\x1b[K     |███████████▉                    | 6.0 MB 4.1 MB/s eta 0:00:03',\n",
              " '\\x1b[K     |████████████                    | 6.0 MB 4.1 MB/s eta 0:00:03',\n",
              " '\\x1b[K     |████████████                    | 6.0 MB 4.1 MB/s eta 0:00:03',\n",
              " '\\x1b[K     |████████████                    | 6.0 MB 4.1 MB/s eta 0:00:03',\n",
              " '\\x1b[K     |████████████                    | 6.0 MB 4.1 MB/s eta 0:00:03',\n",
              " '\\x1b[K     |████████████                    | 6.1 MB 4.1 MB/s eta 0:00:03',\n",
              " '\\x1b[K     |████████████                    | 6.1 MB 4.1 MB/s eta 0:00:03',\n",
              " '\\x1b[K     |████████████                    | 6.1 MB 4.1 MB/s eta 0:00:03',\n",
              " '\\x1b[K     |████████████                    | 6.1 MB 4.1 MB/s eta 0:00:03',\n",
              " '\\x1b[K     |████████████                    | 6.1 MB 4.1 MB/s eta 0:00:03',\n",
              " '\\x1b[K     |████████████                    | 6.1 MB 4.1 MB/s eta 0:00:03',\n",
              " '\\x1b[K     |████████████                    | 6.1 MB 4.1 MB/s eta 0:00:03',\n",
              " '\\x1b[K     |████████████▏                   | 6.1 MB 4.1 MB/s eta 0:00:03',\n",
              " '\\x1b[K     |████████████▏                   | 6.1 MB 4.1 MB/s eta 0:00:03',\n",
              " '\\x1b[K     |████████████▏                   | 6.1 MB 4.1 MB/s eta 0:00:03',\n",
              " '\\x1b[K     |████████████▏                   | 6.2 MB 4.1 MB/s eta 0:00:03',\n",
              " '\\x1b[K     |████████████▏                   | 6.2 MB 4.1 MB/s eta 0:00:03',\n",
              " '\\x1b[K     |████████████▏                   | 6.2 MB 4.1 MB/s eta 0:00:03',\n",
              " '\\x1b[K     |████████████▎                   | 6.2 MB 4.1 MB/s eta 0:00:03',\n",
              " '\\x1b[K     |████████████▎                   | 6.2 MB 4.1 MB/s eta 0:00:03',\n",
              " '\\x1b[K     |████████████▎                   | 6.2 MB 4.1 MB/s eta 0:00:03',\n",
              " '\\x1b[K     |████████████▎                   | 6.2 MB 4.1 MB/s eta 0:00:03',\n",
              " '\\x1b[K     |████████████▎                   | 6.2 MB 4.1 MB/s eta 0:00:03',\n",
              " '\\x1b[K     |████████████▍                   | 6.2 MB 4.1 MB/s eta 0:00:03',\n",
              " '\\x1b[K     |████████████▍                   | 6.2 MB 4.1 MB/s eta 0:00:03',\n",
              " '\\x1b[K     |████████████▍                   | 6.3 MB 4.1 MB/s eta 0:00:03',\n",
              " '\\x1b[K     |████████████▍                   | 6.3 MB 4.1 MB/s eta 0:00:03',\n",
              " '\\x1b[K     |████████████▍                   | 6.3 MB 4.1 MB/s eta 0:00:03',\n",
              " '\\x1b[K     |████████████▍                   | 6.3 MB 4.1 MB/s eta 0:00:03',\n",
              " '\\x1b[K     |████████████▌                   | 6.3 MB 4.1 MB/s eta 0:00:03',\n",
              " '\\x1b[K     |████████████▌                   | 6.3 MB 4.1 MB/s eta 0:00:03',\n",
              " '\\x1b[K     |████████████▌                   | 6.3 MB 4.1 MB/s eta 0:00:03',\n",
              " '\\x1b[K     |████████████▌                   | 6.3 MB 4.1 MB/s eta 0:00:03',\n",
              " '\\x1b[K     |████████████▌                   | 6.3 MB 4.1 MB/s eta 0:00:03',\n",
              " '\\x1b[K     |████████████▋                   | 6.3 MB 4.1 MB/s eta 0:00:03',\n",
              " '\\x1b[K     |████████████▋                   | 6.4 MB 4.1 MB/s eta 0:00:03',\n",
              " '\\x1b[K     |████████████▋                   | 6.4 MB 4.1 MB/s eta 0:00:03',\n",
              " '\\x1b[K     |████████████▋                   | 6.4 MB 4.1 MB/s eta 0:00:03',\n",
              " '\\x1b[K     |████████████▋                   | 6.4 MB 4.1 MB/s eta 0:00:03',\n",
              " '\\x1b[K     |████████████▋                   | 6.4 MB 4.1 MB/s eta 0:00:03',\n",
              " '\\x1b[K     |████████████▊                   | 6.4 MB 4.1 MB/s eta 0:00:03',\n",
              " '\\x1b[K     |████████████▊                   | 6.4 MB 4.1 MB/s eta 0:00:03',\n",
              " '\\x1b[K     |████████████▊                   | 6.4 MB 4.1 MB/s eta 0:00:03',\n",
              " '\\x1b[K     |████████████▊                   | 6.4 MB 4.1 MB/s eta 0:00:03',\n",
              " '\\x1b[K     |████████████▊                   | 6.5 MB 4.1 MB/s eta 0:00:03',\n",
              " '\\x1b[K     |████████████▉                   | 6.5 MB 4.1 MB/s eta 0:00:03',\n",
              " '\\x1b[K     |████████████▉                   | 6.5 MB 4.1 MB/s eta 0:00:03',\n",
              " '\\x1b[K     |████████████▉                   | 6.5 MB 4.1 MB/s eta 0:00:03',\n",
              " '\\x1b[K     |████████████▉                   | 6.5 MB 4.1 MB/s eta 0:00:03',\n",
              " '\\x1b[K     |████████████▉                   | 6.5 MB 4.1 MB/s eta 0:00:03',\n",
              " '\\x1b[K     |████████████▉                   | 6.5 MB 4.1 MB/s eta 0:00:03',\n",
              " '\\x1b[K     |█████████████                   | 6.5 MB 4.1 MB/s eta 0:00:03',\n",
              " '\\x1b[K     |█████████████                   | 6.5 MB 4.1 MB/s eta 0:00:03',\n",
              " '\\x1b[K     |█████████████                   | 6.5 MB 4.1 MB/s eta 0:00:03',\n",
              " '\\x1b[K     |█████████████                   | 6.6 MB 4.1 MB/s eta 0:00:03',\n",
              " '\\x1b[K     |█████████████                   | 6.6 MB 4.1 MB/s eta 0:00:03',\n",
              " '\\x1b[K     |█████████████                   | 6.6 MB 4.1 MB/s eta 0:00:03',\n",
              " '\\x1b[K     |█████████████                   | 6.6 MB 4.1 MB/s eta 0:00:03',\n",
              " '\\x1b[K     |█████████████                   | 6.6 MB 4.1 MB/s eta 0:00:03',\n",
              " '\\x1b[K     |█████████████                   | 6.6 MB 4.1 MB/s eta 0:00:03',\n",
              " '\\x1b[K     |█████████████                   | 6.6 MB 4.1 MB/s eta 0:00:03',\n",
              " '\\x1b[K     |█████████████                   | 6.6 MB 4.1 MB/s eta 0:00:03',\n",
              " '\\x1b[K     |█████████████▏                  | 6.6 MB 4.1 MB/s eta 0:00:03',\n",
              " '\\x1b[K     |█████████████▏                  | 6.6 MB 4.1 MB/s eta 0:00:03',\n",
              " '\\x1b[K     |█████████████▏                  | 6.7 MB 4.1 MB/s eta 0:00:03',\n",
              " '\\x1b[K     |█████████████▏                  | 6.7 MB 4.1 MB/s eta 0:00:03',\n",
              " '\\x1b[K     |█████████████▏                  | 6.7 MB 4.1 MB/s eta 0:00:03',\n",
              " '\\x1b[K     |█████████████▎                  | 6.7 MB 4.1 MB/s eta 0:00:03',\n",
              " '\\x1b[K     |█████████████▎                  | 6.7 MB 4.1 MB/s eta 0:00:03',\n",
              " '\\x1b[K     |█████████████▎                  | 6.7 MB 4.1 MB/s eta 0:00:03',\n",
              " '\\x1b[K     |█████████████▎                  | 6.7 MB 4.1 MB/s eta 0:00:03',\n",
              " '\\x1b[K     |█████████████▎                  | 6.7 MB 4.1 MB/s eta 0:00:03',\n",
              " '\\x1b[K     |█████████████▎                  | 6.7 MB 4.1 MB/s eta 0:00:03',\n",
              " '\\x1b[K     |█████████████▍                  | 6.7 MB 4.1 MB/s eta 0:00:03',\n",
              " '\\x1b[K     |█████████████▍                  | 6.8 MB 4.1 MB/s eta 0:00:03',\n",
              " '\\x1b[K     |█████████████▍                  | 6.8 MB 4.1 MB/s eta 0:00:03',\n",
              " '\\x1b[K     |█████████████▍                  | 6.8 MB 4.1 MB/s eta 0:00:03',\n",
              " '\\x1b[K     |█████████████▍                  | 6.8 MB 4.1 MB/s eta 0:00:03',\n",
              " '\\x1b[K     |█████████████▌                  | 6.8 MB 4.1 MB/s eta 0:00:03',\n",
              " '\\x1b[K     |█████████████▌                  | 6.8 MB 4.1 MB/s eta 0:00:03',\n",
              " '\\x1b[K     |█████████████▌                  | 6.8 MB 4.1 MB/s eta 0:00:03',\n",
              " '\\x1b[K     |█████████████▌                  | 6.8 MB 4.1 MB/s eta 0:00:03',\n",
              " '\\x1b[K     |█████████████▌                  | 6.8 MB 4.1 MB/s eta 0:00:03',\n",
              " '\\x1b[K     |█████████████▌                  | 6.9 MB 4.1 MB/s eta 0:00:03',\n",
              " '\\x1b[K     |█████████████▋                  | 6.9 MB 4.1 MB/s eta 0:00:03',\n",
              " '\\x1b[K     |█████████████▋                  | 6.9 MB 4.1 MB/s eta 0:00:03',\n",
              " '\\x1b[K     |█████████████▋                  | 6.9 MB 4.1 MB/s eta 0:00:03',\n",
              " '\\x1b[K     |█████████████▋                  | 6.9 MB 4.1 MB/s eta 0:00:03',\n",
              " '\\x1b[K     |█████████████▋                  | 6.9 MB 4.1 MB/s eta 0:00:03',\n",
              " '\\x1b[K     |█████████████▊                  | 6.9 MB 4.1 MB/s eta 0:00:03',\n",
              " '\\x1b[K     |█████████████▊                  | 6.9 MB 4.1 MB/s eta 0:00:03',\n",
              " '\\x1b[K     |█████████████▊                  | 6.9 MB 4.1 MB/s eta 0:00:03',\n",
              " '\\x1b[K     |█████████████▊                  | 6.9 MB 4.1 MB/s eta 0:00:03',\n",
              " '\\x1b[K     |█████████████▊                  | 7.0 MB 4.1 MB/s eta 0:00:03',\n",
              " '\\x1b[K     |█████████████▉                  | 7.0 MB 4.1 MB/s eta 0:00:03',\n",
              " '\\x1b[K     |█████████████▉                  | 7.0 MB 4.1 MB/s eta 0:00:03',\n",
              " '\\x1b[K     |█████████████▉                  | 7.0 MB 4.1 MB/s eta 0:00:03',\n",
              " '\\x1b[K     |█████████████▉                  | 7.0 MB 4.1 MB/s eta 0:00:03',\n",
              " '\\x1b[K     |█████████████▉                  | 7.0 MB 4.1 MB/s eta 0:00:03',\n",
              " '\\x1b[K     |█████████████▉                  | 7.0 MB 4.1 MB/s eta 0:00:03',\n",
              " '\\x1b[K     |██████████████                  | 7.0 MB 4.1 MB/s eta 0:00:03',\n",
              " '\\x1b[K     |██████████████                  | 7.0 MB 4.1 MB/s eta 0:00:03',\n",
              " '\\x1b[K     |██████████████                  | 7.0 MB 4.1 MB/s eta 0:00:03',\n",
              " '\\x1b[K     |██████████████                  | 7.1 MB 4.1 MB/s eta 0:00:03',\n",
              " '\\x1b[K     |██████████████                  | 7.1 MB 4.1 MB/s eta 0:00:03',\n",
              " '\\x1b[K     |██████████████                  | 7.1 MB 4.1 MB/s eta 0:00:03',\n",
              " '\\x1b[K     |██████████████                  | 7.1 MB 4.1 MB/s eta 0:00:03',\n",
              " '\\x1b[K     |██████████████                  | 7.1 MB 4.1 MB/s eta 0:00:03',\n",
              " '\\x1b[K     |██████████████                  | 7.1 MB 4.1 MB/s eta 0:00:03',\n",
              " '\\x1b[K     |██████████████                  | 7.1 MB 4.1 MB/s eta 0:00:03',\n",
              " '\\x1b[K     |██████████████                  | 7.1 MB 4.1 MB/s eta 0:00:03',\n",
              " '\\x1b[K     |██████████████▏                 | 7.1 MB 4.1 MB/s eta 0:00:03',\n",
              " '\\x1b[K     |██████████████▏                 | 7.1 MB 4.1 MB/s eta 0:00:03',\n",
              " '\\x1b[K     |██████████████▏                 | 7.2 MB 4.1 MB/s eta 0:00:03',\n",
              " '\\x1b[K     |██████████████▏                 | 7.2 MB 4.1 MB/s eta 0:00:03',\n",
              " '\\x1b[K     |██████████████▏                 | 7.2 MB 4.1 MB/s eta 0:00:03',\n",
              " '\\x1b[K     |██████████████▎                 | 7.2 MB 4.1 MB/s eta 0:00:03',\n",
              " '\\x1b[K     |██████████████▎                 | 7.2 MB 4.1 MB/s eta 0:00:03',\n",
              " '\\x1b[K     |██████████████▎                 | 7.2 MB 4.1 MB/s eta 0:00:03',\n",
              " '\\x1b[K     |██████████████▎                 | 7.2 MB 4.1 MB/s eta 0:00:03',\n",
              " '\\x1b[K     |██████████████▎                 | 7.2 MB 4.1 MB/s eta 0:00:03',\n",
              " '\\x1b[K     |██████████████▎                 | 7.2 MB 4.1 MB/s eta 0:00:03',\n",
              " '\\x1b[K     |██████████████▍                 | 7.2 MB 4.1 MB/s eta 0:00:03',\n",
              " '\\x1b[K     |██████████████▍                 | 7.3 MB 4.1 MB/s eta 0:00:03',\n",
              " '\\x1b[K     |██████████████▍                 | 7.3 MB 4.1 MB/s eta 0:00:03',\n",
              " '\\x1b[K     |██████████████▍                 | 7.3 MB 4.1 MB/s eta 0:00:03',\n",
              " '\\x1b[K     |██████████████▍                 | 7.3 MB 4.1 MB/s eta 0:00:03',\n",
              " '\\x1b[K     |██████████████▌                 | 7.3 MB 4.1 MB/s eta 0:00:03',\n",
              " '\\x1b[K     |██████████████▌                 | 7.3 MB 4.1 MB/s eta 0:00:03',\n",
              " '\\x1b[K     |██████████████▌                 | 7.3 MB 4.1 MB/s eta 0:00:03',\n",
              " '\\x1b[K     |██████████████▌                 | 7.3 MB 4.1 MB/s eta 0:00:03',\n",
              " '\\x1b[K     |██████████████▌                 | 7.3 MB 4.1 MB/s eta 0:00:03',\n",
              " '\\x1b[K     |██████████████▌                 | 7.4 MB 4.1 MB/s eta 0:00:03',\n",
              " '\\x1b[K     |██████████████▋                 | 7.4 MB 4.1 MB/s eta 0:00:03',\n",
              " '\\x1b[K     |██████████████▋                 | 7.4 MB 4.1 MB/s eta 0:00:03',\n",
              " '\\x1b[K     |██████████████▋                 | 7.4 MB 4.1 MB/s eta 0:00:03',\n",
              " '\\x1b[K     |██████████████▋                 | 7.4 MB 4.1 MB/s eta 0:00:03',\n",
              " '\\x1b[K     |██████████████▋                 | 7.4 MB 4.1 MB/s eta 0:00:03',\n",
              " '\\x1b[K     |██████████████▊                 | 7.4 MB 4.1 MB/s eta 0:00:03',\n",
              " '\\x1b[K     |██████████████▊                 | 7.4 MB 4.1 MB/s eta 0:00:03',\n",
              " '\\x1b[K     |██████████████▊                 | 7.4 MB 4.1 MB/s eta 0:00:03',\n",
              " '\\x1b[K     |██████████████▊                 | 7.4 MB 4.1 MB/s eta 0:00:03',\n",
              " '\\x1b[K     |██████████████▊                 | 7.5 MB 4.1 MB/s eta 0:00:03',\n",
              " '\\x1b[K     |██████████████▊                 | 7.5 MB 4.1 MB/s eta 0:00:03',\n",
              " '\\x1b[K     |██████████████▉                 | 7.5 MB 4.1 MB/s eta 0:00:03',\n",
              " '\\x1b[K     |██████████████▉                 | 7.5 MB 4.1 MB/s eta 0:00:03',\n",
              " '\\x1b[K     |██████████████▉                 | 7.5 MB 4.1 MB/s eta 0:00:03',\n",
              " '\\x1b[K     |██████████████▉                 | 7.5 MB 4.1 MB/s eta 0:00:03',\n",
              " '\\x1b[K     |██████████████▉                 | 7.5 MB 4.1 MB/s eta 0:00:03',\n",
              " '\\x1b[K     |███████████████                 | 7.5 MB 4.1 MB/s eta 0:00:03',\n",
              " '\\x1b[K     |███████████████                 | 7.5 MB 4.1 MB/s eta 0:00:03',\n",
              " '\\x1b[K     |███████████████                 | 7.5 MB 4.1 MB/s eta 0:00:03',\n",
              " '\\x1b[K     |███████████████                 | 7.6 MB 4.1 MB/s eta 0:00:03',\n",
              " '\\x1b[K     |███████████████                 | 7.6 MB 4.1 MB/s eta 0:00:03',\n",
              " '\\x1b[K     |███████████████                 | 7.6 MB 4.1 MB/s eta 0:00:03',\n",
              " '\\x1b[K     |███████████████                 | 7.6 MB 4.1 MB/s eta 0:00:03',\n",
              " '\\x1b[K     |███████████████                 | 7.6 MB 4.1 MB/s eta 0:00:03',\n",
              " '\\x1b[K     |███████████████                 | 7.6 MB 4.1 MB/s eta 0:00:03',\n",
              " '\\x1b[K     |███████████████                 | 7.6 MB 4.1 MB/s eta 0:00:03',\n",
              " '\\x1b[K     |███████████████                 | 7.6 MB 4.1 MB/s eta 0:00:03',\n",
              " '\\x1b[K     |███████████████▏                | 7.6 MB 4.1 MB/s eta 0:00:03',\n",
              " '\\x1b[K     |███████████████▏                | 7.6 MB 4.1 MB/s eta 0:00:03',\n",
              " '\\x1b[K     |███████████████▏                | 7.7 MB 4.1 MB/s eta 0:00:03',\n",
              " '\\x1b[K     |███████████████▏                | 7.7 MB 4.1 MB/s eta 0:00:03',\n",
              " '\\x1b[K     |███████████████▏                | 7.7 MB 4.1 MB/s eta 0:00:03',\n",
              " '\\x1b[K     |███████████████▏                | 7.7 MB 4.1 MB/s eta 0:00:03',\n",
              " '\\x1b[K     |███████████████▎                | 7.7 MB 4.1 MB/s eta 0:00:03',\n",
              " '\\x1b[K     |███████████████▎                | 7.7 MB 4.1 MB/s eta 0:00:03',\n",
              " '\\x1b[K     |███████████████▎                | 7.7 MB 4.1 MB/s eta 0:00:03',\n",
              " '\\x1b[K     |███████████████▎                | 7.7 MB 4.1 MB/s eta 0:00:03',\n",
              " '\\x1b[K     |███████████████▎                | 7.7 MB 4.1 MB/s eta 0:00:03',\n",
              " '\\x1b[K     |███████████████▍                | 7.8 MB 4.1 MB/s eta 0:00:03',\n",
              " '\\x1b[K     |███████████████▍                | 7.8 MB 4.1 MB/s eta 0:00:03',\n",
              " '\\x1b[K     |███████████████▍                | 7.8 MB 4.1 MB/s eta 0:00:03',\n",
              " '\\x1b[K     |███████████████▍                | 7.8 MB 4.1 MB/s eta 0:00:03',\n",
              " '\\x1b[K     |███████████████▍                | 7.8 MB 4.1 MB/s eta 0:00:03',\n",
              " '\\x1b[K     |███████████████▍                | 7.8 MB 4.1 MB/s eta 0:00:03',\n",
              " '\\x1b[K     |███████████████▌                | 7.8 MB 4.1 MB/s eta 0:00:03',\n",
              " '\\x1b[K     |███████████████▌                | 7.8 MB 4.1 MB/s eta 0:00:03',\n",
              " '\\x1b[K     |███████████████▌                | 7.8 MB 4.1 MB/s eta 0:00:03',\n",
              " '\\x1b[K     |███████████████▌                | 7.8 MB 4.1 MB/s eta 0:00:03',\n",
              " '\\x1b[K     |███████████████▌                | 7.9 MB 4.1 MB/s eta 0:00:03',\n",
              " '\\x1b[K     |███████████████▋                | 7.9 MB 4.1 MB/s eta 0:00:03',\n",
              " '\\x1b[K     |███████████████▋                | 7.9 MB 4.1 MB/s eta 0:00:03',\n",
              " '\\x1b[K     |███████████████▋                | 7.9 MB 4.1 MB/s eta 0:00:03',\n",
              " '\\x1b[K     |███████████████▋                | 7.9 MB 4.1 MB/s eta 0:00:03',\n",
              " '\\x1b[K     |███████████████▋                | 7.9 MB 4.1 MB/s eta 0:00:03',\n",
              " '\\x1b[K     |███████████████▋                | 7.9 MB 4.1 MB/s eta 0:00:03',\n",
              " '\\x1b[K     |███████████████▊                | 7.9 MB 4.1 MB/s eta 0:00:03',\n",
              " '\\x1b[K     |███████████████▊                | 7.9 MB 4.1 MB/s eta 0:00:03',\n",
              " '\\x1b[K     |███████████████▊                | 7.9 MB 4.1 MB/s eta 0:00:03',\n",
              " '\\x1b[K     |███████████████▊                | 8.0 MB 4.1 MB/s eta 0:00:03',\n",
              " '\\x1b[K     |███████████████▊                | 8.0 MB 4.1 MB/s eta 0:00:03',\n",
              " '\\x1b[K     |███████████████▉                | 8.0 MB 4.1 MB/s eta 0:00:03',\n",
              " '\\x1b[K     |███████████████▉                | 8.0 MB 4.1 MB/s eta 0:00:03',\n",
              " '\\x1b[K     |███████████████▉                | 8.0 MB 4.1 MB/s eta 0:00:03',\n",
              " '\\x1b[K     |███████████████▉                | 8.0 MB 4.1 MB/s eta 0:00:03',\n",
              " '\\x1b[K     |███████████████▉                | 8.0 MB 4.1 MB/s eta 0:00:03',\n",
              " '\\x1b[K     |███████████████▉                | 8.0 MB 4.1 MB/s eta 0:00:03',\n",
              " '\\x1b[K     |████████████████                | 8.0 MB 4.1 MB/s eta 0:00:03',\n",
              " '\\x1b[K     |████████████████                | 8.0 MB 4.1 MB/s eta 0:00:03',\n",
              " '\\x1b[K     |████████████████                | 8.1 MB 4.1 MB/s eta 0:00:02',\n",
              " '\\x1b[K     |████████████████                | 8.1 MB 4.1 MB/s eta 0:00:02',\n",
              " '\\x1b[K     |████████████████                | 8.1 MB 4.1 MB/s eta 0:00:02',\n",
              " '\\x1b[K     |████████████████                | 8.1 MB 4.1 MB/s eta 0:00:02',\n",
              " '\\x1b[K     |████████████████                | 8.1 MB 4.1 MB/s eta 0:00:02',\n",
              " '\\x1b[K     |████████████████                | 8.1 MB 4.1 MB/s eta 0:00:02',\n",
              " '\\x1b[K     |████████████████                | 8.1 MB 4.1 MB/s eta 0:00:02',\n",
              " '\\x1b[K     |████████████████                | 8.1 MB 4.1 MB/s eta 0:00:02',\n",
              " '\\x1b[K     |████████████████                | 8.1 MB 4.1 MB/s eta 0:00:02',\n",
              " '\\x1b[K     |████████████████▏               | 8.2 MB 4.1 MB/s eta 0:00:02',\n",
              " '\\x1b[K     |████████████████▏               | 8.2 MB 4.1 MB/s eta 0:00:02',\n",
              " '\\x1b[K     |████████████████▏               | 8.2 MB 4.1 MB/s eta 0:00:02',\n",
              " '\\x1b[K     |████████████████▏               | 8.2 MB 4.1 MB/s eta 0:00:02',\n",
              " '\\x1b[K     |████████████████▏               | 8.2 MB 4.1 MB/s eta 0:00:02',\n",
              " '\\x1b[K     |████████████████▎               | 8.2 MB 4.1 MB/s eta 0:00:02',\n",
              " '\\x1b[K     |████████████████▎               | 8.2 MB 4.1 MB/s eta 0:00:02',\n",
              " '\\x1b[K     |████████████████▎               | 8.2 MB 4.1 MB/s eta 0:00:02',\n",
              " '\\x1b[K     |████████████████▎               | 8.2 MB 4.1 MB/s eta 0:00:02',\n",
              " '\\x1b[K     |████████████████▎               | 8.2 MB 4.1 MB/s eta 0:00:02',\n",
              " '\\x1b[K     |████████████████▎               | 8.3 MB 4.1 MB/s eta 0:00:02',\n",
              " '\\x1b[K     |████████████████▍               | 8.3 MB 4.1 MB/s eta 0:00:02',\n",
              " '\\x1b[K     |████████████████▍               | 8.3 MB 4.1 MB/s eta 0:00:02',\n",
              " '\\x1b[K     |████████████████▍               | 8.3 MB 4.1 MB/s eta 0:00:02',\n",
              " '\\x1b[K     |████████████████▍               | 8.3 MB 4.1 MB/s eta 0:00:02',\n",
              " '\\x1b[K     |████████████████▍               | 8.3 MB 4.1 MB/s eta 0:00:02',\n",
              " '\\x1b[K     |████████████████▌               | 8.3 MB 4.1 MB/s eta 0:00:02',\n",
              " '\\x1b[K     |████████████████▌               | 8.3 MB 4.1 MB/s eta 0:00:02',\n",
              " '\\x1b[K     |████████████████▌               | 8.3 MB 4.1 MB/s eta 0:00:02',\n",
              " '\\x1b[K     |████████████████▌               | 8.3 MB 4.1 MB/s eta 0:00:02',\n",
              " '\\x1b[K     |████████████████▌               | 8.4 MB 4.1 MB/s eta 0:00:02',\n",
              " '\\x1b[K     |████████████████▌               | 8.4 MB 4.1 MB/s eta 0:00:02',\n",
              " '\\x1b[K     |████████████████▋               | 8.4 MB 4.1 MB/s eta 0:00:02',\n",
              " '\\x1b[K     |████████████████▋               | 8.4 MB 4.1 MB/s eta 0:00:02',\n",
              " '\\x1b[K     |████████████████▋               | 8.4 MB 4.1 MB/s eta 0:00:02',\n",
              " '\\x1b[K     |████████████████▋               | 8.4 MB 4.1 MB/s eta 0:00:02',\n",
              " '\\x1b[K     |████████████████▋               | 8.4 MB 4.1 MB/s eta 0:00:02',\n",
              " '\\x1b[K     |████████████████▊               | 8.4 MB 4.1 MB/s eta 0:00:02',\n",
              " '\\x1b[K     |████████████████▊               | 8.4 MB 4.1 MB/s eta 0:00:02',\n",
              " '\\x1b[K     |████████████████▊               | 8.4 MB 4.1 MB/s eta 0:00:02',\n",
              " '\\x1b[K     |████████████████▊               | 8.5 MB 4.1 MB/s eta 0:00:02',\n",
              " '\\x1b[K     |████████████████▊               | 8.5 MB 4.1 MB/s eta 0:00:02',\n",
              " '\\x1b[K     |████████████████▊               | 8.5 MB 4.1 MB/s eta 0:00:02',\n",
              " '\\x1b[K     |████████████████▉               | 8.5 MB 4.1 MB/s eta 0:00:02',\n",
              " '\\x1b[K     |████████████████▉               | 8.5 MB 4.1 MB/s eta 0:00:02',\n",
              " '\\x1b[K     |████████████████▉               | 8.5 MB 4.1 MB/s eta 0:00:02',\n",
              " '\\x1b[K     |████████████████▉               | 8.5 MB 4.1 MB/s eta 0:00:02',\n",
              " '\\x1b[K     |████████████████▉               | 8.5 MB 4.1 MB/s eta 0:00:02',\n",
              " '\\x1b[K     |█████████████████               | 8.5 MB 4.1 MB/s eta 0:00:02',\n",
              " '\\x1b[K     |█████████████████               | 8.6 MB 4.1 MB/s eta 0:00:02',\n",
              " '\\x1b[K     |█████████████████               | 8.6 MB 4.1 MB/s eta 0:00:02',\n",
              " '\\x1b[K     |█████████████████               | 8.6 MB 4.1 MB/s eta 0:00:02',\n",
              " '\\x1b[K     |█████████████████               | 8.6 MB 4.1 MB/s eta 0:00:02',\n",
              " '\\x1b[K     |█████████████████               | 8.6 MB 4.1 MB/s eta 0:00:02',\n",
              " '\\x1b[K     |█████████████████               | 8.6 MB 4.1 MB/s eta 0:00:02',\n",
              " '\\x1b[K     |█████████████████               | 8.6 MB 4.1 MB/s eta 0:00:02',\n",
              " '\\x1b[K     |█████████████████               | 8.6 MB 4.1 MB/s eta 0:00:02',\n",
              " '\\x1b[K     |█████████████████               | 8.6 MB 4.1 MB/s eta 0:00:02',\n",
              " '\\x1b[K     |█████████████████               | 8.6 MB 4.1 MB/s eta 0:00:02',\n",
              " '\\x1b[K     |█████████████████▏              | 8.7 MB 4.1 MB/s eta 0:00:02',\n",
              " '\\x1b[K     |█████████████████▏              | 8.7 MB 4.1 MB/s eta 0:00:02',\n",
              " '\\x1b[K     |█████████████████▏              | 8.7 MB 4.1 MB/s eta 0:00:02',\n",
              " '\\x1b[K     |█████████████████▏              | 8.7 MB 4.1 MB/s eta 0:00:02',\n",
              " '\\x1b[K     |█████████████████▏              | 8.7 MB 4.1 MB/s eta 0:00:02',\n",
              " '\\x1b[K     |█████████████████▎              | 8.7 MB 4.1 MB/s eta 0:00:02',\n",
              " '\\x1b[K     |█████████████████▎              | 8.7 MB 4.1 MB/s eta 0:00:02',\n",
              " '\\x1b[K     |█████████████████▎              | 8.7 MB 4.1 MB/s eta 0:00:02',\n",
              " '\\x1b[K     |█████████████████▎              | 8.7 MB 4.1 MB/s eta 0:00:02',\n",
              " '\\x1b[K     |█████████████████▎              | 8.7 MB 4.1 MB/s eta 0:00:02',\n",
              " '\\x1b[K     |█████████████████▎              | 8.8 MB 4.1 MB/s eta 0:00:02',\n",
              " '\\x1b[K     |█████████████████▍              | 8.8 MB 4.1 MB/s eta 0:00:02',\n",
              " '\\x1b[K     |█████████████████▍              | 8.8 MB 4.1 MB/s eta 0:00:02',\n",
              " '\\x1b[K     |█████████████████▍              | 8.8 MB 4.1 MB/s eta 0:00:02',\n",
              " '\\x1b[K     |█████████████████▍              | 8.8 MB 4.1 MB/s eta 0:00:02',\n",
              " '\\x1b[K     |█████████████████▍              | 8.8 MB 4.1 MB/s eta 0:00:02',\n",
              " '\\x1b[K     |█████████████████▌              | 8.8 MB 4.1 MB/s eta 0:00:02',\n",
              " '\\x1b[K     |█████████████████▌              | 8.8 MB 4.1 MB/s eta 0:00:02',\n",
              " '\\x1b[K     |█████████████████▌              | 8.8 MB 4.1 MB/s eta 0:00:02',\n",
              " '\\x1b[K     |█████████████████▌              | 8.8 MB 4.1 MB/s eta 0:00:02',\n",
              " '\\x1b[K     |█████████████████▌              | 8.9 MB 4.1 MB/s eta 0:00:02',\n",
              " '\\x1b[K     |█████████████████▌              | 8.9 MB 4.1 MB/s eta 0:00:02',\n",
              " '\\x1b[K     |█████████████████▋              | 8.9 MB 4.1 MB/s eta 0:00:02',\n",
              " '\\x1b[K     |█████████████████▋              | 8.9 MB 4.1 MB/s eta 0:00:02',\n",
              " '\\x1b[K     |█████████████████▋              | 8.9 MB 4.1 MB/s eta 0:00:02',\n",
              " '\\x1b[K     |█████████████████▋              | 8.9 MB 4.1 MB/s eta 0:00:02',\n",
              " '\\x1b[K     |█████████████████▋              | 8.9 MB 4.1 MB/s eta 0:00:02',\n",
              " '\\x1b[K     |█████████████████▊              | 8.9 MB 4.1 MB/s eta 0:00:02',\n",
              " '\\x1b[K     |█████████████████▊              | 8.9 MB 4.1 MB/s eta 0:00:02',\n",
              " '\\x1b[K     |█████████████████▊              | 8.9 MB 4.1 MB/s eta 0:00:02',\n",
              " '\\x1b[K     |█████████████████▊              | 9.0 MB 4.1 MB/s eta 0:00:02',\n",
              " '\\x1b[K     |█████████████████▊              | 9.0 MB 4.1 MB/s eta 0:00:02',\n",
              " '\\x1b[K     |█████████████████▊              | 9.0 MB 4.1 MB/s eta 0:00:02',\n",
              " '\\x1b[K     |█████████████████▉              | 9.0 MB 4.1 MB/s eta 0:00:02',\n",
              " '\\x1b[K     |█████████████████▉              | 9.0 MB 4.1 MB/s eta 0:00:02',\n",
              " '\\x1b[K     |█████████████████▉              | 9.0 MB 4.1 MB/s eta 0:00:02',\n",
              " '\\x1b[K     |█████████████████▉              | 9.0 MB 4.1 MB/s eta 0:00:02',\n",
              " '\\x1b[K     |█████████████████▉              | 9.0 MB 4.1 MB/s eta 0:00:02',\n",
              " '\\x1b[K     |██████████████████              | 9.0 MB 4.1 MB/s eta 0:00:02',\n",
              " '\\x1b[K     |██████████████████              | 9.1 MB 4.1 MB/s eta 0:00:02',\n",
              " '\\x1b[K     |██████████████████              | 9.1 MB 4.1 MB/s eta 0:00:02',\n",
              " '\\x1b[K     |██████████████████              | 9.1 MB 4.1 MB/s eta 0:00:02',\n",
              " '\\x1b[K     |██████████████████              | 9.1 MB 4.1 MB/s eta 0:00:02',\n",
              " '\\x1b[K     |██████████████████              | 9.1 MB 4.1 MB/s eta 0:00:02',\n",
              " '\\x1b[K     |██████████████████              | 9.1 MB 4.1 MB/s eta 0:00:02',\n",
              " '\\x1b[K     |██████████████████              | 9.1 MB 4.1 MB/s eta 0:00:02',\n",
              " '\\x1b[K     |██████████████████              | 9.1 MB 4.1 MB/s eta 0:00:02',\n",
              " '\\x1b[K     |██████████████████              | 9.1 MB 4.1 MB/s eta 0:00:02',\n",
              " '\\x1b[K     |██████████████████              | 9.1 MB 4.1 MB/s eta 0:00:02',\n",
              " '\\x1b[K     |██████████████████▏             | 9.2 MB 4.1 MB/s eta 0:00:02',\n",
              " '\\x1b[K     |██████████████████▏             | 9.2 MB 4.1 MB/s eta 0:00:02',\n",
              " '\\x1b[K     |██████████████████▏             | 9.2 MB 4.1 MB/s eta 0:00:02',\n",
              " '\\x1b[K     |██████████████████▏             | 9.2 MB 4.1 MB/s eta 0:00:02',\n",
              " '\\x1b[K     |██████████████████▏             | 9.2 MB 4.1 MB/s eta 0:00:02',\n",
              " '\\x1b[K     |██████████████████▏             | 9.2 MB 4.1 MB/s eta 0:00:02',\n",
              " '\\x1b[K     |██████████████████▎             | 9.2 MB 4.1 MB/s eta 0:00:02',\n",
              " '\\x1b[K     |██████████████████▎             | 9.2 MB 4.1 MB/s eta 0:00:02',\n",
              " '\\x1b[K     |██████████████████▎             | 9.2 MB 4.1 MB/s eta 0:00:02',\n",
              " '\\x1b[K     |██████████████████▎             | 9.2 MB 4.1 MB/s eta 0:00:02',\n",
              " '\\x1b[K     |██████████████████▎             | 9.3 MB 4.1 MB/s eta 0:00:02',\n",
              " '\\x1b[K     |██████████████████▍             | 9.3 MB 4.1 MB/s eta 0:00:02',\n",
              " '\\x1b[K     |██████████████████▍             | 9.3 MB 4.1 MB/s eta 0:00:02',\n",
              " '\\x1b[K     |██████████████████▍             | 9.3 MB 4.1 MB/s eta 0:00:02',\n",
              " '\\x1b[K     |██████████████████▍             | 9.3 MB 4.1 MB/s eta 0:00:02',\n",
              " '\\x1b[K     |██████████████████▍             | 9.3 MB 4.1 MB/s eta 0:00:02',\n",
              " '\\x1b[K     |██████████████████▍             | 9.3 MB 4.1 MB/s eta 0:00:02',\n",
              " '\\x1b[K     |██████████████████▌             | 9.3 MB 4.1 MB/s eta 0:00:02',\n",
              " '\\x1b[K     |██████████████████▌             | 9.3 MB 4.1 MB/s eta 0:00:02',\n",
              " '\\x1b[K     |██████████████████▌             | 9.3 MB 4.1 MB/s eta 0:00:02',\n",
              " '\\x1b[K     |██████████████████▌             | 9.4 MB 4.1 MB/s eta 0:00:02',\n",
              " '\\x1b[K     |██████████████████▌             | 9.4 MB 4.1 MB/s eta 0:00:02',\n",
              " '\\x1b[K     |██████████████████▋             | 9.4 MB 4.1 MB/s eta 0:00:02',\n",
              " '\\x1b[K     |██████████████████▋             | 9.4 MB 4.1 MB/s eta 0:00:02',\n",
              " '\\x1b[K     |██████████████████▋             | 9.4 MB 4.1 MB/s eta 0:00:02',\n",
              " '\\x1b[K     |██████████████████▋             | 9.4 MB 4.1 MB/s eta 0:00:02',\n",
              " '\\x1b[K     |██████████████████▋             | 9.4 MB 4.1 MB/s eta 0:00:02',\n",
              " '\\x1b[K     |██████████████████▋             | 9.4 MB 4.1 MB/s eta 0:00:02',\n",
              " '\\x1b[K     |██████████████████▊             | 9.4 MB 4.1 MB/s eta 0:00:02',\n",
              " '\\x1b[K     |██████████████████▊             | 9.5 MB 4.1 MB/s eta 0:00:02',\n",
              " '\\x1b[K     |██████████████████▊             | 9.5 MB 4.1 MB/s eta 0:00:02',\n",
              " '\\x1b[K     |██████████████████▊             | 9.5 MB 4.1 MB/s eta 0:00:02',\n",
              " '\\x1b[K     |██████████████████▊             | 9.5 MB 4.1 MB/s eta 0:00:02',\n",
              " '\\x1b[K     |██████████████████▉             | 9.5 MB 4.1 MB/s eta 0:00:02',\n",
              " '\\x1b[K     |██████████████████▉             | 9.5 MB 4.1 MB/s eta 0:00:02',\n",
              " '\\x1b[K     |██████████████████▉             | 9.5 MB 4.1 MB/s eta 0:00:02',\n",
              " '\\x1b[K     |██████████████████▉             | 9.5 MB 4.1 MB/s eta 0:00:02',\n",
              " '\\x1b[K     |██████████████████▉             | 9.5 MB 4.1 MB/s eta 0:00:02',\n",
              " '\\x1b[K     |██████████████████▉             | 9.5 MB 4.1 MB/s eta 0:00:02',\n",
              " '\\x1b[K     |███████████████████             | 9.6 MB 4.1 MB/s eta 0:00:02',\n",
              " '\\x1b[K     |███████████████████             | 9.6 MB 4.1 MB/s eta 0:00:02',\n",
              " '\\x1b[K     |███████████████████             | 9.6 MB 4.1 MB/s eta 0:00:02',\n",
              " '\\x1b[K     |███████████████████             | 9.6 MB 4.1 MB/s eta 0:00:02',\n",
              " '\\x1b[K     |███████████████████             | 9.6 MB 4.1 MB/s eta 0:00:02',\n",
              " '\\x1b[K     |███████████████████             | 9.6 MB 4.1 MB/s eta 0:00:02',\n",
              " '\\x1b[K     |███████████████████             | 9.6 MB 4.1 MB/s eta 0:00:02',\n",
              " '\\x1b[K     |███████████████████             | 9.6 MB 4.1 MB/s eta 0:00:02',\n",
              " '\\x1b[K     |███████████████████             | 9.6 MB 4.1 MB/s eta 0:00:02',\n",
              " '\\x1b[K     |███████████████████             | 9.6 MB 4.1 MB/s eta 0:00:02',\n",
              " '\\x1b[K     |███████████████████             | 9.7 MB 4.1 MB/s eta 0:00:02',\n",
              " '\\x1b[K     |███████████████████▏            | 9.7 MB 4.1 MB/s eta 0:00:02',\n",
              " '\\x1b[K     |███████████████████▏            | 9.7 MB 4.1 MB/s eta 0:00:02',\n",
              " '\\x1b[K     |███████████████████▏            | 9.7 MB 4.1 MB/s eta 0:00:02',\n",
              " '\\x1b[K     |███████████████████▏            | 9.7 MB 4.1 MB/s eta 0:00:02',\n",
              " '\\x1b[K     |███████████████████▏            | 9.7 MB 4.1 MB/s eta 0:00:02',\n",
              " '\\x1b[K     |███████████████████▎            | 9.7 MB 4.1 MB/s eta 0:00:02',\n",
              " '\\x1b[K     |███████████████████▎            | 9.7 MB 4.1 MB/s eta 0:00:02',\n",
              " '\\x1b[K     |███████████████████▎            | 9.7 MB 4.1 MB/s eta 0:00:02',\n",
              " '\\x1b[K     |███████████████████▎            | 9.7 MB 4.1 MB/s eta 0:00:02',\n",
              " '\\x1b[K     |███████████████████▎            | 9.8 MB 4.1 MB/s eta 0:00:02',\n",
              " '\\x1b[K     |███████████████████▎            | 9.8 MB 4.1 MB/s eta 0:00:02',\n",
              " '\\x1b[K     |███████████████████▍            | 9.8 MB 4.1 MB/s eta 0:00:02',\n",
              " '\\x1b[K     |███████████████████▍            | 9.8 MB 4.1 MB/s eta 0:00:02',\n",
              " '\\x1b[K     |███████████████████▍            | 9.8 MB 4.1 MB/s eta 0:00:02',\n",
              " '\\x1b[K     |███████████████████▍            | 9.8 MB 4.1 MB/s eta 0:00:02',\n",
              " '\\x1b[K     |███████████████████▍            | 9.8 MB 4.1 MB/s eta 0:00:02',\n",
              " '\\x1b[K     |███████████████████▌            | 9.8 MB 4.1 MB/s eta 0:00:02',\n",
              " '\\x1b[K     |███████████████████▌            | 9.8 MB 4.1 MB/s eta 0:00:02',\n",
              " '\\x1b[K     |███████████████████▌            | 9.9 MB 4.1 MB/s eta 0:00:02',\n",
              " '\\x1b[K     |███████████████████▌            | 9.9 MB 4.1 MB/s eta 0:00:02',\n",
              " '\\x1b[K     |███████████████████▌            | 9.9 MB 4.1 MB/s eta 0:00:02',\n",
              " '\\x1b[K     |███████████████████▌            | 9.9 MB 4.1 MB/s eta 0:00:02',\n",
              " '\\x1b[K     |███████████████████▋            | 9.9 MB 4.1 MB/s eta 0:00:02',\n",
              " '\\x1b[K     |███████████████████▋            | 9.9 MB 4.1 MB/s eta 0:00:02',\n",
              " '\\x1b[K     |███████████████████▋            | 9.9 MB 4.1 MB/s eta 0:00:02',\n",
              " '\\x1b[K     |███████████████████▋            | 9.9 MB 4.1 MB/s eta 0:00:02',\n",
              " '\\x1b[K     |███████████████████▋            | 9.9 MB 4.1 MB/s eta 0:00:02',\n",
              " '\\x1b[K     |███████████████████▊            | 9.9 MB 4.1 MB/s eta 0:00:02',\n",
              " '\\x1b[K     |███████████████████▊            | 10.0 MB 4.1 MB/s eta 0:00:02',\n",
              " '\\x1b[K     |███████████████████▊            | 10.0 MB 4.1 MB/s eta 0:00:02',\n",
              " '\\x1b[K     |███████████████████▊            | 10.0 MB 4.1 MB/s eta 0:00:02',\n",
              " '\\x1b[K     |███████████████████▊            | 10.0 MB 4.1 MB/s eta 0:00:02',\n",
              " '\\x1b[K     |███████████████████▊            | 10.0 MB 4.1 MB/s eta 0:00:02',\n",
              " '\\x1b[K     |███████████████████▉            | 10.0 MB 4.1 MB/s eta 0:00:02',\n",
              " '\\x1b[K     |███████████████████▉            | 10.0 MB 4.1 MB/s eta 0:00:02',\n",
              " '\\x1b[K     |███████████████████▉            | 10.0 MB 4.1 MB/s eta 0:00:02',\n",
              " '\\x1b[K     |███████████████████▉            | 10.0 MB 4.1 MB/s eta 0:00:02',\n",
              " '\\x1b[K     |███████████████████▉            | 10.0 MB 4.1 MB/s eta 0:00:02',\n",
              " '\\x1b[K     |████████████████████            | 10.1 MB 4.1 MB/s eta 0:00:02',\n",
              " '\\x1b[K     |████████████████████            | 10.1 MB 4.1 MB/s eta 0:00:02',\n",
              " '\\x1b[K     |████████████████████            | 10.1 MB 4.1 MB/s eta 0:00:02',\n",
              " '\\x1b[K     |████████████████████            | 10.1 MB 4.1 MB/s eta 0:00:02',\n",
              " '\\x1b[K     |████████████████████            | 10.1 MB 4.1 MB/s eta 0:00:02',\n",
              " '\\x1b[K     |████████████████████            | 10.1 MB 4.1 MB/s eta 0:00:02',\n",
              " '\\x1b[K     |████████████████████            | 10.1 MB 4.1 MB/s eta 0:00:02',\n",
              " '\\x1b[K     |████████████████████            | 10.1 MB 4.1 MB/s eta 0:00:02',\n",
              " '\\x1b[K     |████████████████████            | 10.1 MB 4.1 MB/s eta 0:00:02',\n",
              " '\\x1b[K     |████████████████████            | 10.1 MB 4.1 MB/s eta 0:00:02',\n",
              " '\\x1b[K     |████████████████████            | 10.2 MB 4.1 MB/s eta 0:00:02',\n",
              " '\\x1b[K     |████████████████████▏           | 10.2 MB 4.1 MB/s eta 0:00:02',\n",
              " '\\x1b[K     |████████████████████▏           | 10.2 MB 4.1 MB/s eta 0:00:02',\n",
              " '\\x1b[K     |████████████████████▏           | 10.2 MB 4.1 MB/s eta 0:00:02',\n",
              " '\\x1b[K     |████████████████████▏           | 10.2 MB 4.1 MB/s eta 0:00:02',\n",
              " '\\x1b[K     |████████████████████▏           | 10.2 MB 4.1 MB/s eta 0:00:02',\n",
              " ...]"
            ]
          },
          "metadata": {},
          "execution_count": 18
        }
      ]
    },
    {
      "cell_type": "code",
      "metadata": {
        "colab": {
          "base_uri": "https://localhost:8080/"
        },
        "id": "RRAlVmjjyQQz",
        "outputId": "0e9e37a6-7ac6-48d7-a86c-33d22d346e67"
      },
      "source": [
        "import es_core_news_sm\n",
        "nlp = es_core_news_sm.load()\n",
        "doc = nlp(\"Yo amo Python.\")\n",
        "words = [token.text for token in doc]\n",
        "words"
      ],
      "execution_count": 19,
      "outputs": [
        {
          "output_type": "execute_result",
          "data": {
            "text/plain": [
              "['Yo', 'amo', 'Python', '.']"
            ]
          },
          "metadata": {},
          "execution_count": 19
        }
      ]
    },
    {
      "cell_type": "markdown",
      "metadata": {
        "id": "JcAKiAJ92Ol_"
      },
      "source": [
        "## Partes de etiquetado del discurso"
      ]
    },
    {
      "cell_type": "markdown",
      "metadata": {
        "id": "NculID9O2eHA"
      },
      "source": [
        "En muchos casos, el procesamiento de PNL depende de determinar las partes del habla de las palabras en el texto. Por ejemplo, en la clasificación de oraciones, a veces usamos las partes del habla de las palabras como una característica que se introduce en el clasificador. "
      ]
    },
    {
      "cell_type": "code",
      "metadata": {
        "colab": {
          "base_uri": "https://localhost:8080/"
        },
        "id": "HBTL2FTE2Uf4",
        "outputId": "654f0b75-1656-47b9-dff6-fc5e0b1d0e10"
      },
      "source": [
        "# Importamos el paquete\n",
        "import spacy\n",
        "import es_core_news_sm\n",
        "# Cargamos el texto\n",
        "filename = \"codigo.txt\"\n",
        "file = open(filename, \"r\", encoding=\"utf-8\")\n",
        "text = file.read()\n",
        "# Preprocesamiento del texto\n",
        "text = text.replace(\"\\n\", \" \")\n",
        "# Iniciamos el motor Spacy\n",
        "nlp = es_core_news_sm.load()\n",
        "# Procesamos el texto\n",
        "doc = nlp(text)\n",
        "# Lista de tuplas con palabras y partes del etiquetado de voz\n",
        "words = [token.text for token in doc]\n",
        "pos = [token.pos_ for token in doc]\n",
        "word_pos_tuples = list(zip(words, pos))\n",
        "word_pos_tuples\n"
      ],
      "execution_count": 20,
      "outputs": [
        {
          "output_type": "execute_result",
          "data": {
            "text/plain": [
              "[('Las', 'DET'),\n",
              " ('ventajas', 'NOUN'),\n",
              " ('de', 'ADP'),\n",
              " ('la', 'DET'),\n",
              " ('programación', 'NOUN'),\n",
              " ('van', 'VERB'),\n",
              " ('más', 'ADV'),\n",
              " ('allá', 'ADV'),\n",
              " ('del', 'ADP'),\n",
              " (' ', 'SPACE'),\n",
              " ('entorno', 'NOUN'),\n",
              " ('laboral', 'ADJ'),\n",
              " ('.', 'PUNCT'),\n",
              " ('La', 'DET'),\n",
              " ('enseñanza', 'NOUN'),\n",
              " ('de', 'ADP'),\n",
              " ('esta', 'DET'),\n",
              " ('disciplina', 'NOUN'),\n",
              " (' ', 'SPACE'),\n",
              " ('fomenta', 'VERB'),\n",
              " ('el', 'DET'),\n",
              " ('pensamiento', 'NOUN'),\n",
              " ('computacional', 'ADJ'),\n",
              " ('.', 'PUNCT'),\n",
              " ('Este', 'DET'),\n",
              " ('proceso', 'NOUN'),\n",
              " (' ', 'SPACE'),\n",
              " ('de', 'ADP'),\n",
              " ('razonamiento', 'NOUN'),\n",
              " ('estructura', 'VERB'),\n",
              " ('la', 'DET'),\n",
              " ('mente', 'NOUN'),\n",
              " ('y', 'CONJ'),\n",
              " ('ordena', 'VERB'),\n",
              " ('las', 'DET'),\n",
              " ('ideas', 'NOUN'),\n",
              " ('.', 'PUNCT'),\n",
              " (' ', 'SPACE'),\n",
              " ('“', 'PROPN'),\n",
              " ('Te', 'PRON'),\n",
              " ('permite', 'VERB'),\n",
              " ('dividir', 'VERB'),\n",
              " ('un', 'DET'),\n",
              " ('problema', 'NOUN'),\n",
              " ('grande', 'ADJ'),\n",
              " ('en', 'ADP'),\n",
              " ('problemas', 'NOUN'),\n",
              " (' ', 'SPACE'),\n",
              " ('más', 'ADV'),\n",
              " ('pequeños', 'ADJ'),\n",
              " ('”', 'PROPN'),\n",
              " (',', 'PUNCT'),\n",
              " ('explica', 'VERB'),\n",
              " ('García', 'PROPN'),\n",
              " ('.', 'PUNCT')]"
            ]
          },
          "metadata": {},
          "execution_count": 20
        }
      ]
    },
    {
      "cell_type": "markdown",
      "metadata": {
        "id": "zvQNzvK8kShM"
      },
      "source": [
        "## Stemming de palabras"
      ]
    },
    {
      "cell_type": "code",
      "metadata": {
        "id": "6_rrGk59kO6J"
      },
      "source": [
        "# Importamos Snowball Stemmer\n",
        "from nltk.stem.snowball import SnowballStemmer"
      ],
      "execution_count": 21,
      "outputs": []
    },
    {
      "cell_type": "code",
      "metadata": {
        "id": "87MucaZ1kp3p"
      },
      "source": [
        "# Inicializamos el \"stemmer\" con inglés.\n",
        "stemmer = SnowballStemmer('english')"
      ],
      "execution_count": 22,
      "outputs": []
    },
    {
      "cell_type": "code",
      "metadata": {
        "id": "rHw8UEVokxah"
      },
      "source": [
        "# Creamos una lista con palabras para stem:\n",
        "words = ['leaf', 'leaves', 'booking', 'writing',\n",
        " 'completed', 'stemming', 'skies']"
      ],
      "execution_count": 23,
      "outputs": []
    },
    {
      "cell_type": "code",
      "metadata": {
        "colab": {
          "base_uri": "https://localhost:8080/"
        },
        "id": "e1wJpnJBkxjB",
        "outputId": "3f1ec531-65b6-4683-8a9c-e5a797916548"
      },
      "source": [
        "# Stem las palabas\n",
        "stemmed_words = [stemmer.stem(word) for word in words]\n",
        "stemmed_words"
      ],
      "execution_count": 24,
      "outputs": [
        {
          "output_type": "execute_result",
          "data": {
            "text/plain": [
              "['leaf', 'leav', 'book', 'write', 'complet', 'stem', 'sky']"
            ]
          },
          "metadata": {},
          "execution_count": 24
        }
      ]
    },
    {
      "cell_type": "markdown",
      "metadata": {
        "id": "KkFvpB9llF-7"
      },
      "source": [
        "Probamos con español"
      ]
    },
    {
      "cell_type": "code",
      "metadata": {
        "colab": {
          "base_uri": "https://localhost:8080/"
        },
        "id": "cF3YS7D1lEjc",
        "outputId": "f5460b8b-03ed-42dd-839b-19b6209f05f5"
      },
      "source": [
        "stemmer = SnowballStemmer('spanish')\n",
        "spanish_words = ['caminando', 'amigo', 'bueno']\n",
        "stemmed_words = [stemmer.stem(word) for word in spanish_words]\n",
        "stemmed_words"
      ],
      "execution_count": 25,
      "outputs": [
        {
          "output_type": "execute_result",
          "data": {
            "text/plain": [
              "['camin', 'amig', 'buen']"
            ]
          },
          "metadata": {},
          "execution_count": 25
        }
      ]
    }
  ]
}