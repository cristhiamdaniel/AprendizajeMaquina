{
  "nbformat": 4,
  "nbformat_minor": 0,
  "metadata": {
    "colab": {
      "name": "NLP.ipynb",
      "provenance": [],
      "collapsed_sections": [],
      "authorship_tag": "ABX9TyNaT4sy8YZDODdUj+rMVXS+",
      "include_colab_link": true
    },
    "kernelspec": {
      "name": "python3",
      "display_name": "Python 3"
    },
    "language_info": {
      "name": "python"
    }
  },
  "cells": [
    {
      "cell_type": "markdown",
      "metadata": {
        "id": "view-in-github",
        "colab_type": "text"
      },
      "source": [
        "<a href=\"https://colab.research.google.com/github/cristhiamdaniel/AprendizajeMaquina/blob/main/NLP.ipynb\" target=\"_parent\"><img src=\"https://colab.research.google.com/assets/colab-badge.svg\" alt=\"Open In Colab\"/></a>"
      ]
    },
    {
      "cell_type": "markdown",
      "metadata": {
        "id": "CBoHGrNQlaRa"
      },
      "source": [
        "#Bases del PLN"
      ]
    },
    {
      "cell_type": "code",
      "metadata": {
        "id": "rVWSGsKZl0G1",
        "colab": {
          "base_uri": "https://localhost:8080/"
        },
        "outputId": "93e18868-aa9b-4ff4-f0c5-a9f66683c002"
      },
      "source": [
        "pip install nltk"
      ],
      "execution_count": 1,
      "outputs": [
        {
          "output_type": "stream",
          "name": "stdout",
          "text": [
            "Requirement already satisfied: nltk in /usr/local/lib/python3.7/dist-packages (3.2.5)\n",
            "Requirement already satisfied: six in /usr/local/lib/python3.7/dist-packages (from nltk) (1.15.0)\n"
          ]
        }
      ]
    },
    {
      "cell_type": "code",
      "metadata": {
        "id": "eXeGPTCXl5fK",
        "colab": {
          "base_uri": "https://localhost:8080/"
        },
        "outputId": "f9d77258-dbb8-4482-89fd-3a654726a7e0"
      },
      "source": [
        "pip install spacy"
      ],
      "execution_count": 2,
      "outputs": [
        {
          "output_type": "stream",
          "name": "stdout",
          "text": [
            "Requirement already satisfied: spacy in /usr/local/lib/python3.7/dist-packages (2.2.4)\n",
            "Requirement already satisfied: preshed<3.1.0,>=3.0.2 in /usr/local/lib/python3.7/dist-packages (from spacy) (3.0.6)\n",
            "Requirement already satisfied: catalogue<1.1.0,>=0.0.7 in /usr/local/lib/python3.7/dist-packages (from spacy) (1.0.0)\n",
            "Requirement already satisfied: cymem<2.1.0,>=2.0.2 in /usr/local/lib/python3.7/dist-packages (from spacy) (2.0.6)\n",
            "Requirement already satisfied: numpy>=1.15.0 in /usr/local/lib/python3.7/dist-packages (from spacy) (1.19.5)\n",
            "Requirement already satisfied: plac<1.2.0,>=0.9.6 in /usr/local/lib/python3.7/dist-packages (from spacy) (1.1.3)\n",
            "Requirement already satisfied: murmurhash<1.1.0,>=0.28.0 in /usr/local/lib/python3.7/dist-packages (from spacy) (1.0.6)\n",
            "Requirement already satisfied: thinc==7.4.0 in /usr/local/lib/python3.7/dist-packages (from spacy) (7.4.0)\n",
            "Requirement already satisfied: wasabi<1.1.0,>=0.4.0 in /usr/local/lib/python3.7/dist-packages (from spacy) (0.8.2)\n",
            "Requirement already satisfied: setuptools in /usr/local/lib/python3.7/dist-packages (from spacy) (57.4.0)\n",
            "Requirement already satisfied: tqdm<5.0.0,>=4.38.0 in /usr/local/lib/python3.7/dist-packages (from spacy) (4.62.3)\n",
            "Requirement already satisfied: requests<3.0.0,>=2.13.0 in /usr/local/lib/python3.7/dist-packages (from spacy) (2.23.0)\n",
            "Requirement already satisfied: srsly<1.1.0,>=1.0.2 in /usr/local/lib/python3.7/dist-packages (from spacy) (1.0.5)\n",
            "Requirement already satisfied: blis<0.5.0,>=0.4.0 in /usr/local/lib/python3.7/dist-packages (from spacy) (0.4.1)\n",
            "Requirement already satisfied: importlib-metadata>=0.20 in /usr/local/lib/python3.7/dist-packages (from catalogue<1.1.0,>=0.0.7->spacy) (4.8.2)\n",
            "Requirement already satisfied: zipp>=0.5 in /usr/local/lib/python3.7/dist-packages (from importlib-metadata>=0.20->catalogue<1.1.0,>=0.0.7->spacy) (3.6.0)\n",
            "Requirement already satisfied: typing-extensions>=3.6.4 in /usr/local/lib/python3.7/dist-packages (from importlib-metadata>=0.20->catalogue<1.1.0,>=0.0.7->spacy) (3.10.0.2)\n",
            "Requirement already satisfied: chardet<4,>=3.0.2 in /usr/local/lib/python3.7/dist-packages (from requests<3.0.0,>=2.13.0->spacy) (3.0.4)\n",
            "Requirement already satisfied: certifi>=2017.4.17 in /usr/local/lib/python3.7/dist-packages (from requests<3.0.0,>=2.13.0->spacy) (2021.10.8)\n",
            "Requirement already satisfied: urllib3!=1.25.0,!=1.25.1,<1.26,>=1.21.1 in /usr/local/lib/python3.7/dist-packages (from requests<3.0.0,>=2.13.0->spacy) (1.24.3)\n",
            "Requirement already satisfied: idna<3,>=2.5 in /usr/local/lib/python3.7/dist-packages (from requests<3.0.0,>=2.13.0->spacy) (2.10)\n"
          ]
        }
      ]
    },
    {
      "cell_type": "code",
      "metadata": {
        "id": "YaAm8cCxl_z1",
        "colab": {
          "base_uri": "https://localhost:8080/"
        },
        "outputId": "169a3a29-b56a-465b-9e58-7106821a1c54"
      },
      "source": [
        "!python -m spacy download en_core_web_sm"
      ],
      "execution_count": 3,
      "outputs": [
        {
          "output_type": "stream",
          "name": "stdout",
          "text": [
            "Collecting en_core_web_sm==2.2.5\n",
            "  Downloading https://github.com/explosion/spacy-models/releases/download/en_core_web_sm-2.2.5/en_core_web_sm-2.2.5.tar.gz (12.0 MB)\n",
            "\u001b[K     |████████████████████████████████| 12.0 MB 28.7 MB/s \n",
            "\u001b[?25hRequirement already satisfied: spacy>=2.2.2 in /usr/local/lib/python3.7/dist-packages (from en_core_web_sm==2.2.5) (2.2.4)\n",
            "Requirement already satisfied: srsly<1.1.0,>=1.0.2 in /usr/local/lib/python3.7/dist-packages (from spacy>=2.2.2->en_core_web_sm==2.2.5) (1.0.5)\n",
            "Requirement already satisfied: catalogue<1.1.0,>=0.0.7 in /usr/local/lib/python3.7/dist-packages (from spacy>=2.2.2->en_core_web_sm==2.2.5) (1.0.0)\n",
            "Requirement already satisfied: blis<0.5.0,>=0.4.0 in /usr/local/lib/python3.7/dist-packages (from spacy>=2.2.2->en_core_web_sm==2.2.5) (0.4.1)\n",
            "Requirement already satisfied: setuptools in /usr/local/lib/python3.7/dist-packages (from spacy>=2.2.2->en_core_web_sm==2.2.5) (57.4.0)\n",
            "Requirement already satisfied: requests<3.0.0,>=2.13.0 in /usr/local/lib/python3.7/dist-packages (from spacy>=2.2.2->en_core_web_sm==2.2.5) (2.23.0)\n",
            "Requirement already satisfied: numpy>=1.15.0 in /usr/local/lib/python3.7/dist-packages (from spacy>=2.2.2->en_core_web_sm==2.2.5) (1.19.5)\n",
            "Requirement already satisfied: thinc==7.4.0 in /usr/local/lib/python3.7/dist-packages (from spacy>=2.2.2->en_core_web_sm==2.2.5) (7.4.0)\n",
            "Requirement already satisfied: preshed<3.1.0,>=3.0.2 in /usr/local/lib/python3.7/dist-packages (from spacy>=2.2.2->en_core_web_sm==2.2.5) (3.0.6)\n",
            "Requirement already satisfied: cymem<2.1.0,>=2.0.2 in /usr/local/lib/python3.7/dist-packages (from spacy>=2.2.2->en_core_web_sm==2.2.5) (2.0.6)\n",
            "Requirement already satisfied: plac<1.2.0,>=0.9.6 in /usr/local/lib/python3.7/dist-packages (from spacy>=2.2.2->en_core_web_sm==2.2.5) (1.1.3)\n",
            "Requirement already satisfied: wasabi<1.1.0,>=0.4.0 in /usr/local/lib/python3.7/dist-packages (from spacy>=2.2.2->en_core_web_sm==2.2.5) (0.8.2)\n",
            "Requirement already satisfied: murmurhash<1.1.0,>=0.28.0 in /usr/local/lib/python3.7/dist-packages (from spacy>=2.2.2->en_core_web_sm==2.2.5) (1.0.6)\n",
            "Requirement already satisfied: tqdm<5.0.0,>=4.38.0 in /usr/local/lib/python3.7/dist-packages (from spacy>=2.2.2->en_core_web_sm==2.2.5) (4.62.3)\n",
            "Requirement already satisfied: importlib-metadata>=0.20 in /usr/local/lib/python3.7/dist-packages (from catalogue<1.1.0,>=0.0.7->spacy>=2.2.2->en_core_web_sm==2.2.5) (4.8.2)\n",
            "Requirement already satisfied: zipp>=0.5 in /usr/local/lib/python3.7/dist-packages (from importlib-metadata>=0.20->catalogue<1.1.0,>=0.0.7->spacy>=2.2.2->en_core_web_sm==2.2.5) (3.6.0)\n",
            "Requirement already satisfied: typing-extensions>=3.6.4 in /usr/local/lib/python3.7/dist-packages (from importlib-metadata>=0.20->catalogue<1.1.0,>=0.0.7->spacy>=2.2.2->en_core_web_sm==2.2.5) (3.10.0.2)\n",
            "Requirement already satisfied: certifi>=2017.4.17 in /usr/local/lib/python3.7/dist-packages (from requests<3.0.0,>=2.13.0->spacy>=2.2.2->en_core_web_sm==2.2.5) (2021.10.8)\n",
            "Requirement already satisfied: chardet<4,>=3.0.2 in /usr/local/lib/python3.7/dist-packages (from requests<3.0.0,>=2.13.0->spacy>=2.2.2->en_core_web_sm==2.2.5) (3.0.4)\n",
            "Requirement already satisfied: urllib3!=1.25.0,!=1.25.1,<1.26,>=1.21.1 in /usr/local/lib/python3.7/dist-packages (from requests<3.0.0,>=2.13.0->spacy>=2.2.2->en_core_web_sm==2.2.5) (1.24.3)\n",
            "Requirement already satisfied: idna<3,>=2.5 in /usr/local/lib/python3.7/dist-packages (from requests<3.0.0,>=2.13.0->spacy>=2.2.2->en_core_web_sm==2.2.5) (2.10)\n",
            "\u001b[38;5;2m✔ Download and installation successful\u001b[0m\n",
            "You can now load the model via spacy.load('en_core_web_sm')\n"
          ]
        }
      ]
    },
    {
      "cell_type": "markdown",
      "metadata": {
        "id": "0tts8ge_lnsX"
      },
      "source": [
        "## Diviendo el texto en oraciones."
      ]
    },
    {
      "cell_type": "markdown",
      "metadata": {
        "id": "i2DsD-oamkhx"
      },
      "source": [
        "Cuando trabajamos con texto, podemos trabajar con unidades de texto en diferentes escalas: podemos trabajar a nivel del propio documento, como un artículo de periódico, el párrafo, la oración o la palabra. Las oraciones son la unidad principal de procesamiento en muchas tareas de la PNL"
      ]
    },
    {
      "cell_type": "code",
      "metadata": {
        "colab": {
          "base_uri": "https://localhost:8080/"
        },
        "id": "UDLCLC42nOHJ",
        "outputId": "5f0a57e1-ae30-49e9-8a6e-0f459811c0d6"
      },
      "source": [
        "import nltk\n",
        "nltk.download('punkt')"
      ],
      "execution_count": 4,
      "outputs": [
        {
          "output_type": "stream",
          "name": "stdout",
          "text": [
            "[nltk_data] Downloading package punkt to /root/nltk_data...\n",
            "[nltk_data]   Unzipping tokenizers/punkt.zip.\n"
          ]
        },
        {
          "output_type": "execute_result",
          "data": {
            "text/plain": [
              "True"
            ]
          },
          "metadata": {},
          "execution_count": 4
        }
      ]
    },
    {
      "cell_type": "code",
      "metadata": {
        "id": "7In4dQKsm98C"
      },
      "source": [
        "# Lectura del texto\n",
        "filename = \"coding.txt\"\n",
        "file = open(filename, \"r\", encoding=\"utf-8\")\n",
        "text = file.read()"
      ],
      "execution_count": 5,
      "outputs": []
    },
    {
      "cell_type": "code",
      "metadata": {
        "id": "EMUmnOk0oIBX"
      },
      "source": [
        "# Cambio de salto de línea por espacios:\n",
        "text = text.replace(\"\\n\", \" \")"
      ],
      "execution_count": 6,
      "outputs": []
    },
    {
      "cell_type": "code",
      "metadata": {
        "id": "TS0xbdc-nZrO"
      },
      "source": [
        "# Inicializamos el tokenizador:\n",
        "tokenizer = nltk.data.load(\"tokenizers/punkt/english.pickle\")"
      ],
      "execution_count": 7,
      "outputs": []
    },
    {
      "cell_type": "code",
      "metadata": {
        "colab": {
          "base_uri": "https://localhost:8080/"
        },
        "id": "18QxXGcwoX9r",
        "outputId": "3c953b1e-158d-4392-abdd-30ddacf8056b"
      },
      "source": [
        "# División del texto en oraciones:\n",
        "sentences = tokenizer.tokenize(text)\n",
        "sentences"
      ],
      "execution_count": 8,
      "outputs": [
        {
          "output_type": "execute_result",
          "data": {
            "text/plain": [
              "['Put simply, Coding is the a method of communicating with  a computer.',\n",
              " 'It is using a language that a computer  understands to give a computer instructions in order  to perform specific functions.',\n",
              " 'Coding allows us to create  things such as computer software, websites, apps and video games.']"
            ]
          },
          "metadata": {},
          "execution_count": 8
        }
      ]
    },
    {
      "cell_type": "markdown",
      "metadata": {
        "id": "F1E3xQ3qpV57"
      },
      "source": [
        "**También podemos usar una estrategia diferente para analizar el texto en oraciones, empleando otro paquete de PNL muy popular, spaCy.**"
      ]
    },
    {
      "cell_type": "code",
      "metadata": {
        "colab": {
          "base_uri": "https://localhost:8080/"
        },
        "id": "mIAZqunhpgTI",
        "outputId": "e4829719-1b69-4989-b12f-be9e73989440"
      },
      "source": [
        "# importamos el paquete\n",
        "import spacy\n",
        "# inicializamos el motor de spaCy:\n",
        "nlp = spacy.load(\"en_core_web_sm\")\n",
        "# dividimos el texto en oraciones:\n",
        "doc = nlp(text)\n",
        "sentences = [sentence.text for sentence in doc.sents]\n",
        "sentences"
      ],
      "execution_count": 9,
      "outputs": [
        {
          "output_type": "execute_result",
          "data": {
            "text/plain": [
              "['Put simply, Coding is the a method of communicating with  a computer.',\n",
              " 'It is using a language that a computer  understands to give a computer instructions in order  to perform specific functions.',\n",
              " 'Coding allows us to create  things such as computer software, websites, apps and video games.  ']"
            ]
          },
          "metadata": {},
          "execution_count": 9
        }
      ]
    },
    {
      "cell_type": "markdown",
      "metadata": {
        "id": "7Q6d4GBQp_Ey"
      },
      "source": [
        "**Ahora en español**"
      ]
    },
    {
      "cell_type": "code",
      "metadata": {
        "id": "tF9ctIowrcaJ"
      },
      "source": [
        "tokenizer = nltk.data.load(\"tokenizers/punkt/spanish.pickle\")"
      ],
      "execution_count": 10,
      "outputs": []
    },
    {
      "cell_type": "code",
      "metadata": {
        "id": "qeeHEDh0skFL"
      },
      "source": [
        "def read_text_file(filename):\n",
        "    file = open(filename, \"r\", encoding=\"utf-8\") \n",
        "    return file.read()\n",
        "\n",
        "def preprocess_text(text):\n",
        "    text = text.replace(\"\\n\", \" \")\n",
        "    return text\n",
        "\n",
        "def divide_into_sentences_nltk(text):\n",
        "    sentences = tokenizer.tokenize(text)\n",
        "    return sentences"
      ],
      "execution_count": 11,
      "outputs": []
    },
    {
      "cell_type": "code",
      "metadata": {
        "colab": {
          "base_uri": "https://localhost:8080/"
        },
        "id": "RW6x3nIas_j2",
        "outputId": "07fa2659-3ff0-4052-ffad-ec1f9eb5857a"
      },
      "source": [
        "code_text = read_text_file(\"codigo.txt\")\n",
        "code_text = preprocess_text(code_text)\n",
        "sentences = divide_into_sentences_nltk(code_text)\n",
        "sentences"
      ],
      "execution_count": 12,
      "outputs": [
        {
          "output_type": "execute_result",
          "data": {
            "text/plain": [
              "['Las ventajas de la programación van más allá del  entorno laboral.',\n",
              " 'La enseñanza de esta disciplina  fomenta el pensamiento computacional.',\n",
              " 'Este proceso  de razonamiento estructura la mente y ordena las ideas.',\n",
              " '“Te permite dividir un problema grande en problemas  más pequeños”, explica García.']"
            ]
          },
          "metadata": {},
          "execution_count": 12
        }
      ]
    },
    {
      "cell_type": "markdown",
      "metadata": {
        "id": "BSbHbAIZvpz9"
      },
      "source": [
        "## Dividiendo las oraciones en palabras - tokenización"
      ]
    },
    {
      "cell_type": "code",
      "metadata": {
        "colab": {
          "base_uri": "https://localhost:8080/"
        },
        "id": "0Uv7JREyvuaF",
        "outputId": "ad1125af-73d7-4d32-d0e5-b71af5f4ad39"
      },
      "source": [
        "# dividir el texto en palabras.\n",
        "words = nltk.tokenize.word_tokenize(code_text)\n",
        "print(\"El texto tiene \", len(words), \"palabras\")\n",
        "print()\n",
        "print(\"Las palabras son: \")\n",
        "print(words)"
      ],
      "execution_count": 13,
      "outputs": [
        {
          "output_type": "stream",
          "name": "stdout",
          "text": [
            "El texto tiene  50 palabras\n",
            "\n",
            "Las palabras son: \n",
            "['Las', 'ventajas', 'de', 'la', 'programación', 'van', 'más', 'allá', 'del', 'entorno', 'laboral', '.', 'La', 'enseñanza', 'de', 'esta', 'disciplina', 'fomenta', 'el', 'pensamiento', 'computacional', '.', 'Este', 'proceso', 'de', 'razonamiento', 'estructura', 'la', 'mente', 'y', 'ordena', 'las', 'ideas', '.', '“', 'Te', 'permite', 'dividir', 'un', 'problema', 'grande', 'en', 'problemas', 'más', 'pequeños', '”', ',', 'explica', 'García', '.']\n"
          ]
        }
      ]
    },
    {
      "cell_type": "markdown",
      "metadata": {
        "id": "gFKM1X4CwmLd"
      },
      "source": [
        "**Tweet**"
      ]
    },
    {
      "cell_type": "code",
      "metadata": {
        "id": "Ce5u0dl9wpYo"
      },
      "source": [
        "tweet = \"@Docker Docker facilita mucho el trabajo como desarrollador siiiiii\""
      ],
      "execution_count": 14,
      "outputs": []
    },
    {
      "cell_type": "markdown",
      "metadata": {
        "id": "zl5DDX2JxCMK"
      },
      "source": [
        "Divida el texto en palabras. Establezca los parámetros para preservar el caso, reducir la longitud y quitar las @:"
      ]
    },
    {
      "cell_type": "code",
      "metadata": {
        "id": "b-roRIkTxBUo"
      },
      "source": [
        "words = nltk.tokenize.casual.casual_tokenize(tweet,\\\n",
        "                                             preserve_case=True,\\\n",
        "                                             reduce_len=True, \\\n",
        "                                             strip_handles=True)"
      ],
      "execution_count": 15,
      "outputs": []
    },
    {
      "cell_type": "code",
      "metadata": {
        "colab": {
          "base_uri": "https://localhost:8080/"
        },
        "id": "z5RSLkkixUdb",
        "outputId": "4a46fcba-6a6c-4b15-d981-25ea3e1692d4"
      },
      "source": [
        "print(words)"
      ],
      "execution_count": 16,
      "outputs": [
        {
          "output_type": "stream",
          "name": "stdout",
          "text": [
            "['Docker', 'facilita', 'mucho', 'el', 'trabajo', 'como', 'desarrollador', 'siii']\n"
          ]
        }
      ]
    },
    {
      "cell_type": "markdown",
      "metadata": {
        "id": "xjT6fWKByKZU"
      },
      "source": [
        "**Importante a tener en cuenta**"
      ]
    },
    {
      "cell_type": "markdown",
      "metadata": {
        "id": "scdYVlrpyPZG"
      },
      "source": [
        "El paquete NLTK solo tiene tokenización de palabras para inglés.\n",
        "spaCy tiene modelos para varios otros idiomas:\n",
        "\n"
      ]
    },
    {
      "cell_type": "code",
      "metadata": {
        "colab": {
          "base_uri": "https://localhost:8080/"
        },
        "id": "hKkAVsNdiExB",
        "outputId": "bc271a9d-2653-47d9-80a8-ab3f9febedac"
      },
      "source": [
        "!!python -m spacy download es_core_news_sm"
      ],
      "execution_count": 17,
      "outputs": [
        {
          "output_type": "execute_result",
          "data": {
            "text/plain": [
              "['Collecting es_core_news_sm==2.2.5',\n",
              " '  Downloading https://github.com/explosion/spacy-models/releases/download/es_core_news_sm-2.2.5/es_core_news_sm-2.2.5.tar.gz (16.2 MB)',\n",
              " '\\x1b[?25l',\n",
              " '\\x1b[K     |                                | 10 kB 18.0 MB/s eta 0:00:01',\n",
              " '\\x1b[K     |                                | 20 kB 25.2 MB/s eta 0:00:01',\n",
              " '\\x1b[K     |                                | 30 kB 20.6 MB/s eta 0:00:01',\n",
              " '\\x1b[K     |                                | 40 kB 15.3 MB/s eta 0:00:02',\n",
              " '\\x1b[K     |                                | 51 kB 16.3 MB/s eta 0:00:01',\n",
              " '\\x1b[K     |▏                               | 61 kB 17.8 MB/s eta 0:00:01',\n",
              " '\\x1b[K     |▏                               | 71 kB 18.7 MB/s eta 0:00:01',\n",
              " '\\x1b[K     |▏                               | 81 kB 20.0 MB/s eta 0:00:01',\n",
              " '\\x1b[K     |▏                               | 92 kB 21.7 MB/s eta 0:00:01',\n",
              " '\\x1b[K     |▏                               | 102 kB 23.6 MB/s eta 0:00:01',\n",
              " '\\x1b[K     |▎                               | 112 kB 23.6 MB/s eta 0:00:01',\n",
              " '\\x1b[K     |▎                               | 122 kB 23.6 MB/s eta 0:00:01',\n",
              " '\\x1b[K     |▎                               | 133 kB 23.6 MB/s eta 0:00:01',\n",
              " '\\x1b[K     |▎                               | 143 kB 23.6 MB/s eta 0:00:01',\n",
              " '\\x1b[K     |▎                               | 153 kB 23.6 MB/s eta 0:00:01',\n",
              " '\\x1b[K     |▎                               | 163 kB 23.6 MB/s eta 0:00:01',\n",
              " '\\x1b[K     |▍                               | 174 kB 23.6 MB/s eta 0:00:01',\n",
              " '\\x1b[K     |▍                               | 184 kB 23.6 MB/s eta 0:00:01',\n",
              " '\\x1b[K     |▍                               | 194 kB 23.6 MB/s eta 0:00:01',\n",
              " '\\x1b[K     |▍                               | 204 kB 23.6 MB/s eta 0:00:01',\n",
              " '\\x1b[K     |▍                               | 215 kB 23.6 MB/s eta 0:00:01',\n",
              " '\\x1b[K     |▌                               | 225 kB 23.6 MB/s eta 0:00:01',\n",
              " '\\x1b[K     |▌                               | 235 kB 23.6 MB/s eta 0:00:01',\n",
              " '\\x1b[K     |▌                               | 245 kB 23.6 MB/s eta 0:00:01',\n",
              " '\\x1b[K     |▌                               | 256 kB 23.6 MB/s eta 0:00:01',\n",
              " '\\x1b[K     |▌                               | 266 kB 23.6 MB/s eta 0:00:01',\n",
              " '\\x1b[K     |▌                               | 276 kB 23.6 MB/s eta 0:00:01',\n",
              " '\\x1b[K     |▋                               | 286 kB 23.6 MB/s eta 0:00:01',\n",
              " '\\x1b[K     |▋                               | 296 kB 23.6 MB/s eta 0:00:01',\n",
              " '\\x1b[K     |▋                               | 307 kB 23.6 MB/s eta 0:00:01',\n",
              " '\\x1b[K     |▋                               | 317 kB 23.6 MB/s eta 0:00:01',\n",
              " '\\x1b[K     |▋                               | 327 kB 23.6 MB/s eta 0:00:01',\n",
              " '\\x1b[K     |▊                               | 337 kB 23.6 MB/s eta 0:00:01',\n",
              " '\\x1b[K     |▊                               | 348 kB 23.6 MB/s eta 0:00:01',\n",
              " '\\x1b[K     |▊                               | 358 kB 23.6 MB/s eta 0:00:01',\n",
              " '\\x1b[K     |▊                               | 368 kB 23.6 MB/s eta 0:00:01',\n",
              " '\\x1b[K     |▊                               | 378 kB 23.6 MB/s eta 0:00:01',\n",
              " '\\x1b[K     |▊                               | 389 kB 23.6 MB/s eta 0:00:01',\n",
              " '\\x1b[K     |▉                               | 399 kB 23.6 MB/s eta 0:00:01',\n",
              " '\\x1b[K     |▉                               | 409 kB 23.6 MB/s eta 0:00:01',\n",
              " '\\x1b[K     |▉                               | 419 kB 23.6 MB/s eta 0:00:01',\n",
              " '\\x1b[K     |▉                               | 430 kB 23.6 MB/s eta 0:00:01',\n",
              " '\\x1b[K     |▉                               | 440 kB 23.6 MB/s eta 0:00:01',\n",
              " '\\x1b[K     |█                               | 450 kB 23.6 MB/s eta 0:00:01',\n",
              " '\\x1b[K     |█                               | 460 kB 23.6 MB/s eta 0:00:01',\n",
              " '\\x1b[K     |█                               | 471 kB 23.6 MB/s eta 0:00:01',\n",
              " '\\x1b[K     |█                               | 481 kB 23.6 MB/s eta 0:00:01',\n",
              " '\\x1b[K     |█                               | 491 kB 23.6 MB/s eta 0:00:01',\n",
              " '\\x1b[K     |█                               | 501 kB 23.6 MB/s eta 0:00:01',\n",
              " '\\x1b[K     |█                               | 512 kB 23.6 MB/s eta 0:00:01',\n",
              " '\\x1b[K     |█                               | 522 kB 23.6 MB/s eta 0:00:01',\n",
              " '\\x1b[K     |█                               | 532 kB 23.6 MB/s eta 0:00:01',\n",
              " '\\x1b[K     |█                               | 542 kB 23.6 MB/s eta 0:00:01',\n",
              " '\\x1b[K     |█                               | 552 kB 23.6 MB/s eta 0:00:01',\n",
              " '\\x1b[K     |█▏                              | 563 kB 23.6 MB/s eta 0:00:01',\n",
              " '\\x1b[K     |█▏                              | 573 kB 23.6 MB/s eta 0:00:01',\n",
              " '\\x1b[K     |█▏                              | 583 kB 23.6 MB/s eta 0:00:01',\n",
              " '\\x1b[K     |█▏                              | 593 kB 23.6 MB/s eta 0:00:01',\n",
              " '\\x1b[K     |█▏                              | 604 kB 23.6 MB/s eta 0:00:01',\n",
              " '\\x1b[K     |█▏                              | 614 kB 23.6 MB/s eta 0:00:01',\n",
              " '\\x1b[K     |█▎                              | 624 kB 23.6 MB/s eta 0:00:01',\n",
              " '\\x1b[K     |█▎                              | 634 kB 23.6 MB/s eta 0:00:01',\n",
              " '\\x1b[K     |█▎                              | 645 kB 23.6 MB/s eta 0:00:01',\n",
              " '\\x1b[K     |█▎                              | 655 kB 23.6 MB/s eta 0:00:01',\n",
              " '\\x1b[K     |█▎                              | 665 kB 23.6 MB/s eta 0:00:01',\n",
              " '\\x1b[K     |█▍                              | 675 kB 23.6 MB/s eta 0:00:01',\n",
              " '\\x1b[K     |█▍                              | 686 kB 23.6 MB/s eta 0:00:01',\n",
              " '\\x1b[K     |█▍                              | 696 kB 23.6 MB/s eta 0:00:01',\n",
              " '\\x1b[K     |█▍                              | 706 kB 23.6 MB/s eta 0:00:01',\n",
              " '\\x1b[K     |█▍                              | 716 kB 23.6 MB/s eta 0:00:01',\n",
              " '\\x1b[K     |█▍                              | 727 kB 23.6 MB/s eta 0:00:01',\n",
              " '\\x1b[K     |█▌                              | 737 kB 23.6 MB/s eta 0:00:01',\n",
              " '\\x1b[K     |█▌                              | 747 kB 23.6 MB/s eta 0:00:01',\n",
              " '\\x1b[K     |█▌                              | 757 kB 23.6 MB/s eta 0:00:01',\n",
              " '\\x1b[K     |█▌                              | 768 kB 23.6 MB/s eta 0:00:01',\n",
              " '\\x1b[K     |█▌                              | 778 kB 23.6 MB/s eta 0:00:01',\n",
              " '\\x1b[K     |█▋                              | 788 kB 23.6 MB/s eta 0:00:01',\n",
              " '\\x1b[K     |█▋                              | 798 kB 23.6 MB/s eta 0:00:01',\n",
              " '\\x1b[K     |█▋                              | 808 kB 23.6 MB/s eta 0:00:01',\n",
              " '\\x1b[K     |█▋                              | 819 kB 23.6 MB/s eta 0:00:01',\n",
              " '\\x1b[K     |█▋                              | 829 kB 23.6 MB/s eta 0:00:01',\n",
              " '\\x1b[K     |█▋                              | 839 kB 23.6 MB/s eta 0:00:01',\n",
              " '\\x1b[K     |█▊                              | 849 kB 23.6 MB/s eta 0:00:01',\n",
              " '\\x1b[K     |█▊                              | 860 kB 23.6 MB/s eta 0:00:01',\n",
              " '\\x1b[K     |█▊                              | 870 kB 23.6 MB/s eta 0:00:01',\n",
              " '\\x1b[K     |█▊                              | 880 kB 23.6 MB/s eta 0:00:01',\n",
              " '\\x1b[K     |█▊                              | 890 kB 23.6 MB/s eta 0:00:01',\n",
              " '\\x1b[K     |█▉                              | 901 kB 23.6 MB/s eta 0:00:01',\n",
              " '\\x1b[K     |█▉                              | 911 kB 23.6 MB/s eta 0:00:01',\n",
              " '\\x1b[K     |█▉                              | 921 kB 23.6 MB/s eta 0:00:01',\n",
              " '\\x1b[K     |█▉                              | 931 kB 23.6 MB/s eta 0:00:01',\n",
              " '\\x1b[K     |█▉                              | 942 kB 23.6 MB/s eta 0:00:01',\n",
              " '\\x1b[K     |█▉                              | 952 kB 23.6 MB/s eta 0:00:01',\n",
              " '\\x1b[K     |██                              | 962 kB 23.6 MB/s eta 0:00:01',\n",
              " '\\x1b[K     |██                              | 972 kB 23.6 MB/s eta 0:00:01',\n",
              " '\\x1b[K     |██                              | 983 kB 23.6 MB/s eta 0:00:01',\n",
              " '\\x1b[K     |██                              | 993 kB 23.6 MB/s eta 0:00:01',\n",
              " '\\x1b[K     |██                              | 1.0 MB 23.6 MB/s eta 0:00:01',\n",
              " '\\x1b[K     |██                              | 1.0 MB 23.6 MB/s eta 0:00:01',\n",
              " '\\x1b[K     |██                              | 1.0 MB 23.6 MB/s eta 0:00:01',\n",
              " '\\x1b[K     |██                              | 1.0 MB 23.6 MB/s eta 0:00:01',\n",
              " '\\x1b[K     |██                              | 1.0 MB 23.6 MB/s eta 0:00:01',\n",
              " '\\x1b[K     |██                              | 1.1 MB 23.6 MB/s eta 0:00:01',\n",
              " '\\x1b[K     |██                              | 1.1 MB 23.6 MB/s eta 0:00:01',\n",
              " '\\x1b[K     |██▏                             | 1.1 MB 23.6 MB/s eta 0:00:01',\n",
              " '\\x1b[K     |██▏                             | 1.1 MB 23.6 MB/s eta 0:00:01',\n",
              " '\\x1b[K     |██▏                             | 1.1 MB 23.6 MB/s eta 0:00:01',\n",
              " '\\x1b[K     |██▏                             | 1.1 MB 23.6 MB/s eta 0:00:01',\n",
              " '\\x1b[K     |██▏                             | 1.1 MB 23.6 MB/s eta 0:00:01',\n",
              " '\\x1b[K     |██▎                             | 1.1 MB 23.6 MB/s eta 0:00:01',\n",
              " '\\x1b[K     |██▎                             | 1.1 MB 23.6 MB/s eta 0:00:01',\n",
              " '\\x1b[K     |██▎                             | 1.1 MB 23.6 MB/s eta 0:00:01',\n",
              " '\\x1b[K     |██▎                             | 1.2 MB 23.6 MB/s eta 0:00:01',\n",
              " '\\x1b[K     |██▎                             | 1.2 MB 23.6 MB/s eta 0:00:01',\n",
              " '\\x1b[K     |██▎                             | 1.2 MB 23.6 MB/s eta 0:00:01',\n",
              " '\\x1b[K     |██▍                             | 1.2 MB 23.6 MB/s eta 0:00:01',\n",
              " '\\x1b[K     |██▍                             | 1.2 MB 23.6 MB/s eta 0:00:01',\n",
              " '\\x1b[K     |██▍                             | 1.2 MB 23.6 MB/s eta 0:00:01',\n",
              " '\\x1b[K     |██▍                             | 1.2 MB 23.6 MB/s eta 0:00:01',\n",
              " '\\x1b[K     |██▍                             | 1.2 MB 23.6 MB/s eta 0:00:01',\n",
              " '\\x1b[K     |██▌                             | 1.2 MB 23.6 MB/s eta 0:00:01',\n",
              " '\\x1b[K     |██▌                             | 1.2 MB 23.6 MB/s eta 0:00:01',\n",
              " '\\x1b[K     |██▌                             | 1.3 MB 23.6 MB/s eta 0:00:01',\n",
              " '\\x1b[K     |██▌                             | 1.3 MB 23.6 MB/s eta 0:00:01',\n",
              " '\\x1b[K     |██▌                             | 1.3 MB 23.6 MB/s eta 0:00:01',\n",
              " '\\x1b[K     |██▌                             | 1.3 MB 23.6 MB/s eta 0:00:01',\n",
              " '\\x1b[K     |██▋                             | 1.3 MB 23.6 MB/s eta 0:00:01',\n",
              " '\\x1b[K     |██▋                             | 1.3 MB 23.6 MB/s eta 0:00:01',\n",
              " '\\x1b[K     |██▋                             | 1.3 MB 23.6 MB/s eta 0:00:01',\n",
              " '\\x1b[K     |██▋                             | 1.3 MB 23.6 MB/s eta 0:00:01',\n",
              " '\\x1b[K     |██▋                             | 1.3 MB 23.6 MB/s eta 0:00:01',\n",
              " '\\x1b[K     |██▊                             | 1.4 MB 23.6 MB/s eta 0:00:01',\n",
              " '\\x1b[K     |██▊                             | 1.4 MB 23.6 MB/s eta 0:00:01',\n",
              " '\\x1b[K     |██▊                             | 1.4 MB 23.6 MB/s eta 0:00:01',\n",
              " '\\x1b[K     |██▊                             | 1.4 MB 23.6 MB/s eta 0:00:01',\n",
              " '\\x1b[K     |██▊                             | 1.4 MB 23.6 MB/s eta 0:00:01',\n",
              " '\\x1b[K     |██▊                             | 1.4 MB 23.6 MB/s eta 0:00:01',\n",
              " '\\x1b[K     |██▉                             | 1.4 MB 23.6 MB/s eta 0:00:01',\n",
              " '\\x1b[K     |██▉                             | 1.4 MB 23.6 MB/s eta 0:00:01',\n",
              " '\\x1b[K     |██▉                             | 1.4 MB 23.6 MB/s eta 0:00:01',\n",
              " '\\x1b[K     |██▉                             | 1.4 MB 23.6 MB/s eta 0:00:01',\n",
              " '\\x1b[K     |██▉                             | 1.5 MB 23.6 MB/s eta 0:00:01',\n",
              " '\\x1b[K     |███                             | 1.5 MB 23.6 MB/s eta 0:00:01',\n",
              " '\\x1b[K     |███                             | 1.5 MB 23.6 MB/s eta 0:00:01',\n",
              " '\\x1b[K     |███                             | 1.5 MB 23.6 MB/s eta 0:00:01',\n",
              " '\\x1b[K     |███                             | 1.5 MB 23.6 MB/s eta 0:00:01',\n",
              " '\\x1b[K     |███                             | 1.5 MB 23.6 MB/s eta 0:00:01',\n",
              " '\\x1b[K     |███                             | 1.5 MB 23.6 MB/s eta 0:00:01',\n",
              " '\\x1b[K     |███                             | 1.5 MB 23.6 MB/s eta 0:00:01',\n",
              " '\\x1b[K     |███                             | 1.5 MB 23.6 MB/s eta 0:00:01',\n",
              " '\\x1b[K     |███                             | 1.5 MB 23.6 MB/s eta 0:00:01',\n",
              " '\\x1b[K     |███                             | 1.6 MB 23.6 MB/s eta 0:00:01',\n",
              " '\\x1b[K     |███                             | 1.6 MB 23.6 MB/s eta 0:00:01',\n",
              " '\\x1b[K     |███▏                            | 1.6 MB 23.6 MB/s eta 0:00:01',\n",
              " '\\x1b[K     |███▏                            | 1.6 MB 23.6 MB/s eta 0:00:01',\n",
              " '\\x1b[K     |███▏                            | 1.6 MB 23.6 MB/s eta 0:00:01',\n",
              " '\\x1b[K     |███▏                            | 1.6 MB 23.6 MB/s eta 0:00:01',\n",
              " '\\x1b[K     |███▏                            | 1.6 MB 23.6 MB/s eta 0:00:01',\n",
              " '\\x1b[K     |███▏                            | 1.6 MB 23.6 MB/s eta 0:00:01',\n",
              " '\\x1b[K     |███▎                            | 1.6 MB 23.6 MB/s eta 0:00:01',\n",
              " '\\x1b[K     |███▎                            | 1.6 MB 23.6 MB/s eta 0:00:01',\n",
              " '\\x1b[K     |███▎                            | 1.7 MB 23.6 MB/s eta 0:00:01',\n",
              " '\\x1b[K     |███▎                            | 1.7 MB 23.6 MB/s eta 0:00:01',\n",
              " '\\x1b[K     |███▎                            | 1.7 MB 23.6 MB/s eta 0:00:01',\n",
              " '\\x1b[K     |███▍                            | 1.7 MB 23.6 MB/s eta 0:00:01',\n",
              " '\\x1b[K     |███▍                            | 1.7 MB 23.6 MB/s eta 0:00:01',\n",
              " '\\x1b[K     |███▍                            | 1.7 MB 23.6 MB/s eta 0:00:01',\n",
              " '\\x1b[K     |███▍                            | 1.7 MB 23.6 MB/s eta 0:00:01',\n",
              " '\\x1b[K     |███▍                            | 1.7 MB 23.6 MB/s eta 0:00:01',\n",
              " '\\x1b[K     |███▌                            | 1.7 MB 23.6 MB/s eta 0:00:01',\n",
              " '\\x1b[K     |███▌                            | 1.8 MB 23.6 MB/s eta 0:00:01',\n",
              " '\\x1b[K     |███▌                            | 1.8 MB 23.6 MB/s eta 0:00:01',\n",
              " '\\x1b[K     |███▌                            | 1.8 MB 23.6 MB/s eta 0:00:01',\n",
              " '\\x1b[K     |███▌                            | 1.8 MB 23.6 MB/s eta 0:00:01',\n",
              " '\\x1b[K     |███▌                            | 1.8 MB 23.6 MB/s eta 0:00:01',\n",
              " '\\x1b[K     |███▋                            | 1.8 MB 23.6 MB/s eta 0:00:01',\n",
              " '\\x1b[K     |███▋                            | 1.8 MB 23.6 MB/s eta 0:00:01',\n",
              " '\\x1b[K     |███▋                            | 1.8 MB 23.6 MB/s eta 0:00:01',\n",
              " '\\x1b[K     |███▋                            | 1.8 MB 23.6 MB/s eta 0:00:01',\n",
              " '\\x1b[K     |███▋                            | 1.8 MB 23.6 MB/s eta 0:00:01',\n",
              " '\\x1b[K     |███▊                            | 1.9 MB 23.6 MB/s eta 0:00:01',\n",
              " '\\x1b[K     |███▊                            | 1.9 MB 23.6 MB/s eta 0:00:01',\n",
              " '\\x1b[K     |███▊                            | 1.9 MB 23.6 MB/s eta 0:00:01',\n",
              " '\\x1b[K     |███▊                            | 1.9 MB 23.6 MB/s eta 0:00:01',\n",
              " '\\x1b[K     |███▊                            | 1.9 MB 23.6 MB/s eta 0:00:01',\n",
              " '\\x1b[K     |███▊                            | 1.9 MB 23.6 MB/s eta 0:00:01',\n",
              " '\\x1b[K     |███▉                            | 1.9 MB 23.6 MB/s eta 0:00:01',\n",
              " '\\x1b[K     |███▉                            | 1.9 MB 23.6 MB/s eta 0:00:01',\n",
              " '\\x1b[K     |███▉                            | 1.9 MB 23.6 MB/s eta 0:00:01',\n",
              " '\\x1b[K     |███▉                            | 1.9 MB 23.6 MB/s eta 0:00:01',\n",
              " '\\x1b[K     |███▉                            | 2.0 MB 23.6 MB/s eta 0:00:01',\n",
              " '\\x1b[K     |████                            | 2.0 MB 23.6 MB/s eta 0:00:01',\n",
              " '\\x1b[K     |████                            | 2.0 MB 23.6 MB/s eta 0:00:01',\n",
              " '\\x1b[K     |████                            | 2.0 MB 23.6 MB/s eta 0:00:01',\n",
              " '\\x1b[K     |████                            | 2.0 MB 23.6 MB/s eta 0:00:01',\n",
              " '\\x1b[K     |████                            | 2.0 MB 23.6 MB/s eta 0:00:01',\n",
              " '\\x1b[K     |████                            | 2.0 MB 23.6 MB/s eta 0:00:01',\n",
              " '\\x1b[K     |████                            | 2.0 MB 23.6 MB/s eta 0:00:01',\n",
              " '\\x1b[K     |████                            | 2.0 MB 23.6 MB/s eta 0:00:01',\n",
              " '\\x1b[K     |████                            | 2.0 MB 23.6 MB/s eta 0:00:01',\n",
              " '\\x1b[K     |████                            | 2.1 MB 23.6 MB/s eta 0:00:01',\n",
              " '\\x1b[K     |████                            | 2.1 MB 23.6 MB/s eta 0:00:01',\n",
              " '\\x1b[K     |████▏                           | 2.1 MB 23.6 MB/s eta 0:00:01',\n",
              " '\\x1b[K     |████▏                           | 2.1 MB 23.6 MB/s eta 0:00:01',\n",
              " '\\x1b[K     |████▏                           | 2.1 MB 23.6 MB/s eta 0:00:01',\n",
              " '\\x1b[K     |████▏                           | 2.1 MB 23.6 MB/s eta 0:00:01',\n",
              " '\\x1b[K     |████▏                           | 2.1 MB 23.6 MB/s eta 0:00:01',\n",
              " '\\x1b[K     |████▏                           | 2.1 MB 23.6 MB/s eta 0:00:01',\n",
              " '\\x1b[K     |████▎                           | 2.1 MB 23.6 MB/s eta 0:00:01',\n",
              " '\\x1b[K     |████▎                           | 2.2 MB 23.6 MB/s eta 0:00:01',\n",
              " '\\x1b[K     |████▎                           | 2.2 MB 23.6 MB/s eta 0:00:01',\n",
              " '\\x1b[K     |████▎                           | 2.2 MB 23.6 MB/s eta 0:00:01',\n",
              " '\\x1b[K     |████▎                           | 2.2 MB 23.6 MB/s eta 0:00:01',\n",
              " '\\x1b[K     |████▍                           | 2.2 MB 23.6 MB/s eta 0:00:01',\n",
              " '\\x1b[K     |████▍                           | 2.2 MB 23.6 MB/s eta 0:00:01',\n",
              " '\\x1b[K     |████▍                           | 2.2 MB 23.6 MB/s eta 0:00:01',\n",
              " '\\x1b[K     |████▍                           | 2.2 MB 23.6 MB/s eta 0:00:01',\n",
              " '\\x1b[K     |████▍                           | 2.2 MB 23.6 MB/s eta 0:00:01',\n",
              " '\\x1b[K     |████▍                           | 2.2 MB 23.6 MB/s eta 0:00:01',\n",
              " '\\x1b[K     |████▌                           | 2.3 MB 23.6 MB/s eta 0:00:01',\n",
              " '\\x1b[K     |████▌                           | 2.3 MB 23.6 MB/s eta 0:00:01',\n",
              " '\\x1b[K     |████▌                           | 2.3 MB 23.6 MB/s eta 0:00:01',\n",
              " '\\x1b[K     |████▌                           | 2.3 MB 23.6 MB/s eta 0:00:01',\n",
              " '\\x1b[K     |████▌                           | 2.3 MB 23.6 MB/s eta 0:00:01',\n",
              " '\\x1b[K     |████▋                           | 2.3 MB 23.6 MB/s eta 0:00:01',\n",
              " '\\x1b[K     |████▋                           | 2.3 MB 23.6 MB/s eta 0:00:01',\n",
              " '\\x1b[K     |████▋                           | 2.3 MB 23.6 MB/s eta 0:00:01',\n",
              " '\\x1b[K     |████▋                           | 2.3 MB 23.6 MB/s eta 0:00:01',\n",
              " '\\x1b[K     |████▋                           | 2.3 MB 23.6 MB/s eta 0:00:01',\n",
              " '\\x1b[K     |████▋                           | 2.4 MB 23.6 MB/s eta 0:00:01',\n",
              " '\\x1b[K     |████▊                           | 2.4 MB 23.6 MB/s eta 0:00:01',\n",
              " '\\x1b[K     |████▊                           | 2.4 MB 23.6 MB/s eta 0:00:01',\n",
              " '\\x1b[K     |████▊                           | 2.4 MB 23.6 MB/s eta 0:00:01',\n",
              " '\\x1b[K     |████▊                           | 2.4 MB 23.6 MB/s eta 0:00:01',\n",
              " '\\x1b[K     |████▊                           | 2.4 MB 23.6 MB/s eta 0:00:01',\n",
              " '\\x1b[K     |████▉                           | 2.4 MB 23.6 MB/s eta 0:00:01',\n",
              " '\\x1b[K     |████▉                           | 2.4 MB 23.6 MB/s eta 0:00:01',\n",
              " '\\x1b[K     |████▉                           | 2.4 MB 23.6 MB/s eta 0:00:01',\n",
              " '\\x1b[K     |████▉                           | 2.4 MB 23.6 MB/s eta 0:00:01',\n",
              " '\\x1b[K     |████▉                           | 2.5 MB 23.6 MB/s eta 0:00:01',\n",
              " '\\x1b[K     |████▉                           | 2.5 MB 23.6 MB/s eta 0:00:01',\n",
              " '\\x1b[K     |█████                           | 2.5 MB 23.6 MB/s eta 0:00:01',\n",
              " '\\x1b[K     |█████                           | 2.5 MB 23.6 MB/s eta 0:00:01',\n",
              " '\\x1b[K     |█████                           | 2.5 MB 23.6 MB/s eta 0:00:01',\n",
              " '\\x1b[K     |█████                           | 2.5 MB 23.6 MB/s eta 0:00:01',\n",
              " '\\x1b[K     |█████                           | 2.5 MB 23.6 MB/s eta 0:00:01',\n",
              " '\\x1b[K     |█████                           | 2.5 MB 23.6 MB/s eta 0:00:01',\n",
              " '\\x1b[K     |█████                           | 2.5 MB 23.6 MB/s eta 0:00:01',\n",
              " '\\x1b[K     |█████                           | 2.5 MB 23.6 MB/s eta 0:00:01',\n",
              " '\\x1b[K     |█████                           | 2.6 MB 23.6 MB/s eta 0:00:01',\n",
              " '\\x1b[K     |█████                           | 2.6 MB 23.6 MB/s eta 0:00:01',\n",
              " '\\x1b[K     |█████                           | 2.6 MB 23.6 MB/s eta 0:00:01',\n",
              " '\\x1b[K     |█████▏                          | 2.6 MB 23.6 MB/s eta 0:00:01',\n",
              " '\\x1b[K     |█████▏                          | 2.6 MB 23.6 MB/s eta 0:00:01',\n",
              " '\\x1b[K     |█████▏                          | 2.6 MB 23.6 MB/s eta 0:00:01',\n",
              " '\\x1b[K     |█████▏                          | 2.6 MB 23.6 MB/s eta 0:00:01',\n",
              " '\\x1b[K     |█████▏                          | 2.6 MB 23.6 MB/s eta 0:00:01',\n",
              " '\\x1b[K     |█████▎                          | 2.6 MB 23.6 MB/s eta 0:00:01',\n",
              " '\\x1b[K     |█████▎                          | 2.7 MB 23.6 MB/s eta 0:00:01',\n",
              " '\\x1b[K     |█████▎                          | 2.7 MB 23.6 MB/s eta 0:00:01',\n",
              " '\\x1b[K     |█████▎                          | 2.7 MB 23.6 MB/s eta 0:00:01',\n",
              " '\\x1b[K     |█████▎                          | 2.7 MB 23.6 MB/s eta 0:00:01',\n",
              " '\\x1b[K     |█████▎                          | 2.7 MB 23.6 MB/s eta 0:00:01',\n",
              " '\\x1b[K     |█████▍                          | 2.7 MB 23.6 MB/s eta 0:00:01',\n",
              " '\\x1b[K     |█████▍                          | 2.7 MB 23.6 MB/s eta 0:00:01',\n",
              " '\\x1b[K     |█████▍                          | 2.7 MB 23.6 MB/s eta 0:00:01',\n",
              " '\\x1b[K     |█████▍                          | 2.7 MB 23.6 MB/s eta 0:00:01',\n",
              " '\\x1b[K     |█████▍                          | 2.7 MB 23.6 MB/s eta 0:00:01',\n",
              " '\\x1b[K     |█████▌                          | 2.8 MB 23.6 MB/s eta 0:00:01',\n",
              " '\\x1b[K     |█████▌                          | 2.8 MB 23.6 MB/s eta 0:00:01',\n",
              " '\\x1b[K     |█████▌                          | 2.8 MB 23.6 MB/s eta 0:00:01',\n",
              " '\\x1b[K     |█████▌                          | 2.8 MB 23.6 MB/s eta 0:00:01',\n",
              " '\\x1b[K     |█████▌                          | 2.8 MB 23.6 MB/s eta 0:00:01',\n",
              " '\\x1b[K     |█████▌                          | 2.8 MB 23.6 MB/s eta 0:00:01',\n",
              " '\\x1b[K     |█████▋                          | 2.8 MB 23.6 MB/s eta 0:00:01',\n",
              " '\\x1b[K     |█████▋                          | 2.8 MB 23.6 MB/s eta 0:00:01',\n",
              " '\\x1b[K     |█████▋                          | 2.8 MB 23.6 MB/s eta 0:00:01',\n",
              " '\\x1b[K     |█████▋                          | 2.8 MB 23.6 MB/s eta 0:00:01',\n",
              " '\\x1b[K     |█████▋                          | 2.9 MB 23.6 MB/s eta 0:00:01',\n",
              " '\\x1b[K     |█████▊                          | 2.9 MB 23.6 MB/s eta 0:00:01',\n",
              " '\\x1b[K     |█████▊                          | 2.9 MB 23.6 MB/s eta 0:00:01',\n",
              " '\\x1b[K     |█████▊                          | 2.9 MB 23.6 MB/s eta 0:00:01',\n",
              " '\\x1b[K     |█████▊                          | 2.9 MB 23.6 MB/s eta 0:00:01',\n",
              " '\\x1b[K     |█████▊                          | 2.9 MB 23.6 MB/s eta 0:00:01',\n",
              " '\\x1b[K     |█████▊                          | 2.9 MB 23.6 MB/s eta 0:00:01',\n",
              " '\\x1b[K     |█████▉                          | 2.9 MB 23.6 MB/s eta 0:00:01',\n",
              " '\\x1b[K     |█████▉                          | 2.9 MB 23.6 MB/s eta 0:00:01',\n",
              " '\\x1b[K     |█████▉                          | 2.9 MB 23.6 MB/s eta 0:00:01',\n",
              " '\\x1b[K     |█████▉                          | 3.0 MB 23.6 MB/s eta 0:00:01',\n",
              " '\\x1b[K     |█████▉                          | 3.0 MB 23.6 MB/s eta 0:00:01',\n",
              " '\\x1b[K     |██████                          | 3.0 MB 23.6 MB/s eta 0:00:01',\n",
              " '\\x1b[K     |██████                          | 3.0 MB 23.6 MB/s eta 0:00:01',\n",
              " '\\x1b[K     |██████                          | 3.0 MB 23.6 MB/s eta 0:00:01',\n",
              " '\\x1b[K     |██████                          | 3.0 MB 23.6 MB/s eta 0:00:01',\n",
              " '\\x1b[K     |██████                          | 3.0 MB 23.6 MB/s eta 0:00:01',\n",
              " '\\x1b[K     |██████                          | 3.0 MB 23.6 MB/s eta 0:00:01',\n",
              " '\\x1b[K     |██████                          | 3.0 MB 23.6 MB/s eta 0:00:01',\n",
              " '\\x1b[K     |██████                          | 3.1 MB 23.6 MB/s eta 0:00:01',\n",
              " '\\x1b[K     |██████                          | 3.1 MB 23.6 MB/s eta 0:00:01',\n",
              " '\\x1b[K     |██████                          | 3.1 MB 23.6 MB/s eta 0:00:01',\n",
              " '\\x1b[K     |██████                          | 3.1 MB 23.6 MB/s eta 0:00:01',\n",
              " '\\x1b[K     |██████▏                         | 3.1 MB 23.6 MB/s eta 0:00:01',\n",
              " '\\x1b[K     |██████▏                         | 3.1 MB 23.6 MB/s eta 0:00:01',\n",
              " '\\x1b[K     |██████▏                         | 3.1 MB 23.6 MB/s eta 0:00:01',\n",
              " '\\x1b[K     |██████▏                         | 3.1 MB 23.6 MB/s eta 0:00:01',\n",
              " '\\x1b[K     |██████▏                         | 3.1 MB 23.6 MB/s eta 0:00:01',\n",
              " '\\x1b[K     |██████▏                         | 3.1 MB 23.6 MB/s eta 0:00:01',\n",
              " '\\x1b[K     |██████▎                         | 3.2 MB 23.6 MB/s eta 0:00:01',\n",
              " '\\x1b[K     |██████▎                         | 3.2 MB 23.6 MB/s eta 0:00:01',\n",
              " '\\x1b[K     |██████▎                         | 3.2 MB 23.6 MB/s eta 0:00:01',\n",
              " '\\x1b[K     |██████▎                         | 3.2 MB 23.6 MB/s eta 0:00:01',\n",
              " '\\x1b[K     |██████▎                         | 3.2 MB 23.6 MB/s eta 0:00:01',\n",
              " '\\x1b[K     |██████▍                         | 3.2 MB 23.6 MB/s eta 0:00:01',\n",
              " '\\x1b[K     |██████▍                         | 3.2 MB 23.6 MB/s eta 0:00:01',\n",
              " '\\x1b[K     |██████▍                         | 3.2 MB 23.6 MB/s eta 0:00:01',\n",
              " '\\x1b[K     |██████▍                         | 3.2 MB 23.6 MB/s eta 0:00:01',\n",
              " '\\x1b[K     |██████▍                         | 3.2 MB 23.6 MB/s eta 0:00:01',\n",
              " '\\x1b[K     |██████▍                         | 3.3 MB 23.6 MB/s eta 0:00:01',\n",
              " '\\x1b[K     |██████▌                         | 3.3 MB 23.6 MB/s eta 0:00:01',\n",
              " '\\x1b[K     |██████▌                         | 3.3 MB 23.6 MB/s eta 0:00:01',\n",
              " '\\x1b[K     |██████▌                         | 3.3 MB 23.6 MB/s eta 0:00:01',\n",
              " '\\x1b[K     |██████▌                         | 3.3 MB 23.6 MB/s eta 0:00:01',\n",
              " '\\x1b[K     |██████▌                         | 3.3 MB 23.6 MB/s eta 0:00:01',\n",
              " '\\x1b[K     |██████▋                         | 3.3 MB 23.6 MB/s eta 0:00:01',\n",
              " '\\x1b[K     |██████▋                         | 3.3 MB 23.6 MB/s eta 0:00:01',\n",
              " '\\x1b[K     |██████▋                         | 3.3 MB 23.6 MB/s eta 0:00:01',\n",
              " '\\x1b[K     |██████▋                         | 3.3 MB 23.6 MB/s eta 0:00:01',\n",
              " '\\x1b[K     |██████▋                         | 3.4 MB 23.6 MB/s eta 0:00:01',\n",
              " '\\x1b[K     |██████▋                         | 3.4 MB 23.6 MB/s eta 0:00:01',\n",
              " '\\x1b[K     |██████▊                         | 3.4 MB 23.6 MB/s eta 0:00:01',\n",
              " '\\x1b[K     |██████▊                         | 3.4 MB 23.6 MB/s eta 0:00:01',\n",
              " '\\x1b[K     |██████▊                         | 3.4 MB 23.6 MB/s eta 0:00:01',\n",
              " '\\x1b[K     |██████▊                         | 3.4 MB 23.6 MB/s eta 0:00:01',\n",
              " '\\x1b[K     |██████▊                         | 3.4 MB 23.6 MB/s eta 0:00:01',\n",
              " '\\x1b[K     |██████▉                         | 3.4 MB 23.6 MB/s eta 0:00:01',\n",
              " '\\x1b[K     |██████▉                         | 3.4 MB 23.6 MB/s eta 0:00:01',\n",
              " '\\x1b[K     |██████▉                         | 3.5 MB 23.6 MB/s eta 0:00:01',\n",
              " '\\x1b[K     |██████▉                         | 3.5 MB 23.6 MB/s eta 0:00:01',\n",
              " '\\x1b[K     |██████▉                         | 3.5 MB 23.6 MB/s eta 0:00:01',\n",
              " '\\x1b[K     |███████                         | 3.5 MB 23.6 MB/s eta 0:00:01',\n",
              " '\\x1b[K     |███████                         | 3.5 MB 23.6 MB/s eta 0:00:01',\n",
              " '\\x1b[K     |███████                         | 3.5 MB 23.6 MB/s eta 0:00:01',\n",
              " '\\x1b[K     |███████                         | 3.5 MB 23.6 MB/s eta 0:00:01',\n",
              " '\\x1b[K     |███████                         | 3.5 MB 23.6 MB/s eta 0:00:01',\n",
              " '\\x1b[K     |███████                         | 3.5 MB 23.6 MB/s eta 0:00:01',\n",
              " '\\x1b[K     |███████                         | 3.5 MB 23.6 MB/s eta 0:00:01',\n",
              " '\\x1b[K     |███████                         | 3.6 MB 23.6 MB/s eta 0:00:01',\n",
              " '\\x1b[K     |███████                         | 3.6 MB 23.6 MB/s eta 0:00:01',\n",
              " '\\x1b[K     |███████                         | 3.6 MB 23.6 MB/s eta 0:00:01',\n",
              " '\\x1b[K     |███████                         | 3.6 MB 23.6 MB/s eta 0:00:01',\n",
              " '\\x1b[K     |███████▏                        | 3.6 MB 23.6 MB/s eta 0:00:01',\n",
              " '\\x1b[K     |███████▏                        | 3.6 MB 23.6 MB/s eta 0:00:01',\n",
              " '\\x1b[K     |███████▏                        | 3.6 MB 23.6 MB/s eta 0:00:01',\n",
              " '\\x1b[K     |███████▏                        | 3.6 MB 23.6 MB/s eta 0:00:01',\n",
              " '\\x1b[K     |███████▏                        | 3.6 MB 23.6 MB/s eta 0:00:01',\n",
              " '\\x1b[K     |███████▏                        | 3.6 MB 23.6 MB/s eta 0:00:01',\n",
              " '\\x1b[K     |███████▎                        | 3.7 MB 23.6 MB/s eta 0:00:01',\n",
              " '\\x1b[K     |███████▎                        | 3.7 MB 23.6 MB/s eta 0:00:01',\n",
              " '\\x1b[K     |███████▎                        | 3.7 MB 23.6 MB/s eta 0:00:01',\n",
              " '\\x1b[K     |███████▎                        | 3.7 MB 23.6 MB/s eta 0:00:01',\n",
              " '\\x1b[K     |███████▎                        | 3.7 MB 23.6 MB/s eta 0:00:01',\n",
              " '\\x1b[K     |███████▍                        | 3.7 MB 23.6 MB/s eta 0:00:01',\n",
              " '\\x1b[K     |███████▍                        | 3.7 MB 23.6 MB/s eta 0:00:01',\n",
              " '\\x1b[K     |███████▍                        | 3.7 MB 23.6 MB/s eta 0:00:01',\n",
              " '\\x1b[K     |███████▍                        | 3.7 MB 23.6 MB/s eta 0:00:01',\n",
              " '\\x1b[K     |███████▍                        | 3.7 MB 23.6 MB/s eta 0:00:01',\n",
              " '\\x1b[K     |███████▍                        | 3.8 MB 23.6 MB/s eta 0:00:01',\n",
              " '\\x1b[K     |███████▌                        | 3.8 MB 23.6 MB/s eta 0:00:01',\n",
              " '\\x1b[K     |███████▌                        | 3.8 MB 23.6 MB/s eta 0:00:01',\n",
              " '\\x1b[K     |███████▌                        | 3.8 MB 23.6 MB/s eta 0:00:01',\n",
              " '\\x1b[K     |███████▌                        | 3.8 MB 23.6 MB/s eta 0:00:01',\n",
              " '\\x1b[K     |███████▌                        | 3.8 MB 23.6 MB/s eta 0:00:01',\n",
              " '\\x1b[K     |███████▋                        | 3.8 MB 23.6 MB/s eta 0:00:01',\n",
              " '\\x1b[K     |███████▋                        | 3.8 MB 23.6 MB/s eta 0:00:01',\n",
              " '\\x1b[K     |███████▋                        | 3.8 MB 23.6 MB/s eta 0:00:01',\n",
              " '\\x1b[K     |███████▋                        | 3.9 MB 23.6 MB/s eta 0:00:01',\n",
              " '\\x1b[K     |███████▋                        | 3.9 MB 23.6 MB/s eta 0:00:01',\n",
              " '\\x1b[K     |███████▋                        | 3.9 MB 23.6 MB/s eta 0:00:01',\n",
              " '\\x1b[K     |███████▊                        | 3.9 MB 23.6 MB/s eta 0:00:01',\n",
              " '\\x1b[K     |███████▊                        | 3.9 MB 23.6 MB/s eta 0:00:01',\n",
              " '\\x1b[K     |███████▊                        | 3.9 MB 23.6 MB/s eta 0:00:01',\n",
              " '\\x1b[K     |███████▊                        | 3.9 MB 23.6 MB/s eta 0:00:01',\n",
              " '\\x1b[K     |███████▊                        | 3.9 MB 23.6 MB/s eta 0:00:01',\n",
              " '\\x1b[K     |███████▉                        | 3.9 MB 23.6 MB/s eta 0:00:01',\n",
              " '\\x1b[K     |███████▉                        | 3.9 MB 23.6 MB/s eta 0:00:01',\n",
              " '\\x1b[K     |███████▉                        | 4.0 MB 23.6 MB/s eta 0:00:01',\n",
              " '\\x1b[K     |███████▉                        | 4.0 MB 23.6 MB/s eta 0:00:01',\n",
              " '\\x1b[K     |███████▉                        | 4.0 MB 23.6 MB/s eta 0:00:01',\n",
              " '\\x1b[K     |███████▉                        | 4.0 MB 23.6 MB/s eta 0:00:01',\n",
              " '\\x1b[K     |████████                        | 4.0 MB 23.6 MB/s eta 0:00:01',\n",
              " '\\x1b[K     |████████                        | 4.0 MB 23.6 MB/s eta 0:00:01',\n",
              " '\\x1b[K     |████████                        | 4.0 MB 23.6 MB/s eta 0:00:01',\n",
              " '\\x1b[K     |████████                        | 4.0 MB 23.6 MB/s eta 0:00:01',\n",
              " '\\x1b[K     |████████                        | 4.0 MB 23.6 MB/s eta 0:00:01',\n",
              " '\\x1b[K     |████████                        | 4.0 MB 23.6 MB/s eta 0:00:01',\n",
              " '\\x1b[K     |████████                        | 4.1 MB 23.6 MB/s eta 0:00:01',\n",
              " '\\x1b[K     |████████                        | 4.1 MB 23.6 MB/s eta 0:00:01',\n",
              " '\\x1b[K     |████████                        | 4.1 MB 23.6 MB/s eta 0:00:01',\n",
              " '\\x1b[K     |████████                        | 4.1 MB 23.6 MB/s eta 0:00:01',\n",
              " '\\x1b[K     |████████                        | 4.1 MB 23.6 MB/s eta 0:00:01',\n",
              " '\\x1b[K     |████████▏                       | 4.1 MB 23.6 MB/s eta 0:00:01',\n",
              " '\\x1b[K     |████████▏                       | 4.1 MB 23.6 MB/s eta 0:00:01',\n",
              " '\\x1b[K     |████████▏                       | 4.1 MB 23.6 MB/s eta 0:00:01',\n",
              " '\\x1b[K     |████████▏                       | 4.1 MB 23.6 MB/s eta 0:00:01',\n",
              " '\\x1b[K     |████████▏                       | 4.1 MB 23.6 MB/s eta 0:00:01',\n",
              " '\\x1b[K     |████████▎                       | 4.2 MB 23.6 MB/s eta 0:00:01',\n",
              " '\\x1b[K     |████████▎                       | 4.2 MB 23.6 MB/s eta 0:00:01',\n",
              " '\\x1b[K     |████████▎                       | 4.2 MB 23.6 MB/s eta 0:00:01',\n",
              " '\\x1b[K     |████████▎                       | 4.2 MB 23.6 MB/s eta 0:00:01',\n",
              " '\\x1b[K     |████████▎                       | 4.2 MB 23.6 MB/s eta 0:00:01',\n",
              " '\\x1b[K     |████████▎                       | 4.2 MB 23.6 MB/s eta 0:00:01',\n",
              " '\\x1b[K     |████████▍                       | 4.2 MB 23.6 MB/s eta 0:00:01',\n",
              " '\\x1b[K     |████████▍                       | 4.2 MB 23.6 MB/s eta 0:00:01',\n",
              " '\\x1b[K     |████████▍                       | 4.2 MB 23.6 MB/s eta 0:00:01',\n",
              " '\\x1b[K     |████████▍                       | 4.2 MB 23.6 MB/s eta 0:00:01',\n",
              " '\\x1b[K     |████████▍                       | 4.3 MB 23.6 MB/s eta 0:00:01',\n",
              " '\\x1b[K     |████████▌                       | 4.3 MB 23.6 MB/s eta 0:00:01',\n",
              " '\\x1b[K     |████████▌                       | 4.3 MB 23.6 MB/s eta 0:00:01',\n",
              " '\\x1b[K     |████████▌                       | 4.3 MB 23.6 MB/s eta 0:00:01',\n",
              " '\\x1b[K     |████████▌                       | 4.3 MB 23.6 MB/s eta 0:00:01',\n",
              " '\\x1b[K     |████████▌                       | 4.3 MB 23.6 MB/s eta 0:00:01',\n",
              " '\\x1b[K     |████████▌                       | 4.3 MB 23.6 MB/s eta 0:00:01',\n",
              " '\\x1b[K     |████████▋                       | 4.3 MB 23.6 MB/s eta 0:00:01',\n",
              " '\\x1b[K     |████████▋                       | 4.3 MB 23.6 MB/s eta 0:00:01',\n",
              " '\\x1b[K     |████████▋                       | 4.4 MB 23.6 MB/s eta 0:00:01',\n",
              " '\\x1b[K     |████████▋                       | 4.4 MB 23.6 MB/s eta 0:00:01',\n",
              " '\\x1b[K     |████████▋                       | 4.4 MB 23.6 MB/s eta 0:00:01',\n",
              " '\\x1b[K     |████████▊                       | 4.4 MB 23.6 MB/s eta 0:00:01',\n",
              " '\\x1b[K     |████████▊                       | 4.4 MB 23.6 MB/s eta 0:00:01',\n",
              " '\\x1b[K     |████████▊                       | 4.4 MB 23.6 MB/s eta 0:00:01',\n",
              " '\\x1b[K     |████████▊                       | 4.4 MB 23.6 MB/s eta 0:00:01',\n",
              " '\\x1b[K     |████████▊                       | 4.4 MB 23.6 MB/s eta 0:00:01',\n",
              " '\\x1b[K     |████████▊                       | 4.4 MB 23.6 MB/s eta 0:00:01',\n",
              " '\\x1b[K     |████████▉                       | 4.4 MB 23.6 MB/s eta 0:00:01',\n",
              " '\\x1b[K     |████████▉                       | 4.5 MB 23.6 MB/s eta 0:00:01',\n",
              " '\\x1b[K     |████████▉                       | 4.5 MB 23.6 MB/s eta 0:00:01',\n",
              " '\\x1b[K     |████████▉                       | 4.5 MB 23.6 MB/s eta 0:00:01',\n",
              " '\\x1b[K     |████████▉                       | 4.5 MB 23.6 MB/s eta 0:00:01',\n",
              " '\\x1b[K     |█████████                       | 4.5 MB 23.6 MB/s eta 0:00:01',\n",
              " '\\x1b[K     |█████████                       | 4.5 MB 23.6 MB/s eta 0:00:01',\n",
              " '\\x1b[K     |█████████                       | 4.5 MB 23.6 MB/s eta 0:00:01',\n",
              " '\\x1b[K     |█████████                       | 4.5 MB 23.6 MB/s eta 0:00:01',\n",
              " '\\x1b[K     |█████████                       | 4.5 MB 23.6 MB/s eta 0:00:01',\n",
              " '\\x1b[K     |█████████                       | 4.5 MB 23.6 MB/s eta 0:00:01',\n",
              " '\\x1b[K     |█████████                       | 4.6 MB 23.6 MB/s eta 0:00:01',\n",
              " '\\x1b[K     |█████████                       | 4.6 MB 23.6 MB/s eta 0:00:01',\n",
              " '\\x1b[K     |█████████                       | 4.6 MB 23.6 MB/s eta 0:00:01',\n",
              " '\\x1b[K     |█████████                       | 4.6 MB 23.6 MB/s eta 0:00:01',\n",
              " '\\x1b[K     |█████████                       | 4.6 MB 23.6 MB/s eta 0:00:01',\n",
              " '\\x1b[K     |█████████▏                      | 4.6 MB 23.6 MB/s eta 0:00:01',\n",
              " '\\x1b[K     |█████████▏                      | 4.6 MB 23.6 MB/s eta 0:00:01',\n",
              " '\\x1b[K     |█████████▏                      | 4.6 MB 23.6 MB/s eta 0:00:01',\n",
              " '\\x1b[K     |█████████▏                      | 4.6 MB 23.6 MB/s eta 0:00:01',\n",
              " '\\x1b[K     |█████████▏                      | 4.6 MB 23.6 MB/s eta 0:00:01',\n",
              " '\\x1b[K     |█████████▏                      | 4.7 MB 23.6 MB/s eta 0:00:01',\n",
              " '\\x1b[K     |█████████▎                      | 4.7 MB 23.6 MB/s eta 0:00:01',\n",
              " '\\x1b[K     |█████████▎                      | 4.7 MB 23.6 MB/s eta 0:00:01',\n",
              " '\\x1b[K     |█████████▎                      | 4.7 MB 23.6 MB/s eta 0:00:01',\n",
              " '\\x1b[K     |█████████▎                      | 4.7 MB 23.6 MB/s eta 0:00:01',\n",
              " '\\x1b[K     |█████████▎                      | 4.7 MB 23.6 MB/s eta 0:00:01',\n",
              " '\\x1b[K     |█████████▍                      | 4.7 MB 23.6 MB/s eta 0:00:01',\n",
              " '\\x1b[K     |█████████▍                      | 4.7 MB 23.6 MB/s eta 0:00:01',\n",
              " '\\x1b[K     |█████████▍                      | 4.7 MB 23.6 MB/s eta 0:00:01',\n",
              " '\\x1b[K     |█████████▍                      | 4.8 MB 23.6 MB/s eta 0:00:01',\n",
              " '\\x1b[K     |█████████▍                      | 4.8 MB 23.6 MB/s eta 0:00:01',\n",
              " '\\x1b[K     |█████████▍                      | 4.8 MB 23.6 MB/s eta 0:00:01',\n",
              " '\\x1b[K     |█████████▌                      | 4.8 MB 23.6 MB/s eta 0:00:01',\n",
              " '\\x1b[K     |█████████▌                      | 4.8 MB 23.6 MB/s eta 0:00:01',\n",
              " '\\x1b[K     |█████████▌                      | 4.8 MB 23.6 MB/s eta 0:00:01',\n",
              " '\\x1b[K     |█████████▌                      | 4.8 MB 23.6 MB/s eta 0:00:01',\n",
              " '\\x1b[K     |█████████▌                      | 4.8 MB 23.6 MB/s eta 0:00:01',\n",
              " '\\x1b[K     |█████████▋                      | 4.8 MB 23.6 MB/s eta 0:00:01',\n",
              " '\\x1b[K     |█████████▋                      | 4.8 MB 23.6 MB/s eta 0:00:01',\n",
              " '\\x1b[K     |█████████▋                      | 4.9 MB 23.6 MB/s eta 0:00:01',\n",
              " '\\x1b[K     |█████████▋                      | 4.9 MB 23.6 MB/s eta 0:00:01',\n",
              " '\\x1b[K     |█████████▋                      | 4.9 MB 23.6 MB/s eta 0:00:01',\n",
              " '\\x1b[K     |█████████▋                      | 4.9 MB 23.6 MB/s eta 0:00:01',\n",
              " '\\x1b[K     |█████████▊                      | 4.9 MB 23.6 MB/s eta 0:00:01',\n",
              " '\\x1b[K     |█████████▊                      | 4.9 MB 23.6 MB/s eta 0:00:01',\n",
              " '\\x1b[K     |█████████▊                      | 4.9 MB 23.6 MB/s eta 0:00:01',\n",
              " '\\x1b[K     |█████████▊                      | 4.9 MB 23.6 MB/s eta 0:00:01',\n",
              " '\\x1b[K     |█████████▊                      | 4.9 MB 23.6 MB/s eta 0:00:01',\n",
              " '\\x1b[K     |█████████▉                      | 4.9 MB 23.6 MB/s eta 0:00:01',\n",
              " '\\x1b[K     |█████████▉                      | 5.0 MB 23.6 MB/s eta 0:00:01',\n",
              " '\\x1b[K     |█████████▉                      | 5.0 MB 23.6 MB/s eta 0:00:01',\n",
              " '\\x1b[K     |█████████▉                      | 5.0 MB 23.6 MB/s eta 0:00:01',\n",
              " '\\x1b[K     |█████████▉                      | 5.0 MB 23.6 MB/s eta 0:00:01',\n",
              " '\\x1b[K     |█████████▉                      | 5.0 MB 23.6 MB/s eta 0:00:01',\n",
              " '\\x1b[K     |██████████                      | 5.0 MB 23.6 MB/s eta 0:00:01',\n",
              " '\\x1b[K     |██████████                      | 5.0 MB 23.6 MB/s eta 0:00:01',\n",
              " '\\x1b[K     |██████████                      | 5.0 MB 23.6 MB/s eta 0:00:01',\n",
              " '\\x1b[K     |██████████                      | 5.0 MB 23.6 MB/s eta 0:00:01',\n",
              " '\\x1b[K     |██████████                      | 5.0 MB 23.6 MB/s eta 0:00:01',\n",
              " '\\x1b[K     |██████████                      | 5.1 MB 23.6 MB/s eta 0:00:01',\n",
              " '\\x1b[K     |██████████                      | 5.1 MB 23.6 MB/s eta 0:00:01',\n",
              " '\\x1b[K     |██████████                      | 5.1 MB 23.6 MB/s eta 0:00:01',\n",
              " '\\x1b[K     |██████████                      | 5.1 MB 23.6 MB/s eta 0:00:01',\n",
              " '\\x1b[K     |██████████                      | 5.1 MB 23.6 MB/s eta 0:00:01',\n",
              " '\\x1b[K     |██████████                      | 5.1 MB 23.6 MB/s eta 0:00:01',\n",
              " '\\x1b[K     |██████████▏                     | 5.1 MB 23.6 MB/s eta 0:00:01',\n",
              " '\\x1b[K     |██████████▏                     | 5.1 MB 23.6 MB/s eta 0:00:01',\n",
              " '\\x1b[K     |██████████▏                     | 5.1 MB 23.6 MB/s eta 0:00:01',\n",
              " '\\x1b[K     |██████████▏                     | 5.2 MB 23.6 MB/s eta 0:00:01',\n",
              " '\\x1b[K     |██████████▏                     | 5.2 MB 23.6 MB/s eta 0:00:01',\n",
              " '\\x1b[K     |██████████▎                     | 5.2 MB 23.6 MB/s eta 0:00:01',\n",
              " '\\x1b[K     |██████████▎                     | 5.2 MB 23.6 MB/s eta 0:00:01',\n",
              " '\\x1b[K     |██████████▎                     | 5.2 MB 23.6 MB/s eta 0:00:01',\n",
              " '\\x1b[K     |██████████▎                     | 5.2 MB 23.6 MB/s eta 0:00:01',\n",
              " '\\x1b[K     |██████████▎                     | 5.2 MB 23.6 MB/s eta 0:00:01',\n",
              " '\\x1b[K     |██████████▍                     | 5.2 MB 23.6 MB/s eta 0:00:01',\n",
              " '\\x1b[K     |██████████▍                     | 5.2 MB 23.6 MB/s eta 0:00:01',\n",
              " '\\x1b[K     |██████████▍                     | 5.2 MB 23.6 MB/s eta 0:00:01',\n",
              " '\\x1b[K     |██████████▍                     | 5.3 MB 23.6 MB/s eta 0:00:01',\n",
              " '\\x1b[K     |██████████▍                     | 5.3 MB 23.6 MB/s eta 0:00:01',\n",
              " '\\x1b[K     |██████████▍                     | 5.3 MB 23.6 MB/s eta 0:00:01',\n",
              " '\\x1b[K     |██████████▌                     | 5.3 MB 23.6 MB/s eta 0:00:01',\n",
              " '\\x1b[K     |██████████▌                     | 5.3 MB 23.6 MB/s eta 0:00:01',\n",
              " '\\x1b[K     |██████████▌                     | 5.3 MB 23.6 MB/s eta 0:00:01',\n",
              " '\\x1b[K     |██████████▌                     | 5.3 MB 23.6 MB/s eta 0:00:01',\n",
              " '\\x1b[K     |██████████▌                     | 5.3 MB 23.6 MB/s eta 0:00:01',\n",
              " '\\x1b[K     |██████████▋                     | 5.3 MB 23.6 MB/s eta 0:00:01',\n",
              " '\\x1b[K     |██████████▋                     | 5.3 MB 23.6 MB/s eta 0:00:01',\n",
              " '\\x1b[K     |██████████▋                     | 5.4 MB 23.6 MB/s eta 0:00:01',\n",
              " '\\x1b[K     |██████████▋                     | 5.4 MB 23.6 MB/s eta 0:00:01',\n",
              " '\\x1b[K     |██████████▋                     | 5.4 MB 23.6 MB/s eta 0:00:01',\n",
              " '\\x1b[K     |██████████▋                     | 5.4 MB 23.6 MB/s eta 0:00:01',\n",
              " '\\x1b[K     |██████████▊                     | 5.4 MB 23.6 MB/s eta 0:00:01',\n",
              " '\\x1b[K     |██████████▊                     | 5.4 MB 23.6 MB/s eta 0:00:01',\n",
              " '\\x1b[K     |██████████▊                     | 5.4 MB 23.6 MB/s eta 0:00:01',\n",
              " '\\x1b[K     |██████████▊                     | 5.4 MB 23.6 MB/s eta 0:00:01',\n",
              " '\\x1b[K     |██████████▊                     | 5.4 MB 23.6 MB/s eta 0:00:01',\n",
              " '\\x1b[K     |██████████▉                     | 5.4 MB 23.6 MB/s eta 0:00:01',\n",
              " '\\x1b[K     |██████████▉                     | 5.5 MB 23.6 MB/s eta 0:00:01',\n",
              " '\\x1b[K     |██████████▉                     | 5.5 MB 23.6 MB/s eta 0:00:01',\n",
              " '\\x1b[K     |██████████▉                     | 5.5 MB 23.6 MB/s eta 0:00:01',\n",
              " '\\x1b[K     |██████████▉                     | 5.5 MB 23.6 MB/s eta 0:00:01',\n",
              " '\\x1b[K     |██████████▉                     | 5.5 MB 23.6 MB/s eta 0:00:01',\n",
              " '\\x1b[K     |███████████                     | 5.5 MB 23.6 MB/s eta 0:00:01',\n",
              " '\\x1b[K     |███████████                     | 5.5 MB 23.6 MB/s eta 0:00:01',\n",
              " '\\x1b[K     |███████████                     | 5.5 MB 23.6 MB/s eta 0:00:01',\n",
              " '\\x1b[K     |███████████                     | 5.5 MB 23.6 MB/s eta 0:00:01',\n",
              " '\\x1b[K     |███████████                     | 5.6 MB 23.6 MB/s eta 0:00:01',\n",
              " '\\x1b[K     |███████████                     | 5.6 MB 23.6 MB/s eta 0:00:01',\n",
              " '\\x1b[K     |███████████                     | 5.6 MB 23.6 MB/s eta 0:00:01',\n",
              " '\\x1b[K     |███████████                     | 5.6 MB 23.6 MB/s eta 0:00:01',\n",
              " '\\x1b[K     |███████████                     | 5.6 MB 23.6 MB/s eta 0:00:01',\n",
              " '\\x1b[K     |███████████                     | 5.6 MB 23.6 MB/s eta 0:00:01',\n",
              " '\\x1b[K     |███████████                     | 5.6 MB 23.6 MB/s eta 0:00:01',\n",
              " '\\x1b[K     |███████████▏                    | 5.6 MB 23.6 MB/s eta 0:00:01',\n",
              " '\\x1b[K     |███████████▏                    | 5.6 MB 23.6 MB/s eta 0:00:01',\n",
              " '\\x1b[K     |███████████▏                    | 5.6 MB 23.6 MB/s eta 0:00:01',\n",
              " '\\x1b[K     |███████████▏                    | 5.7 MB 23.6 MB/s eta 0:00:01',\n",
              " '\\x1b[K     |███████████▏                    | 5.7 MB 23.6 MB/s eta 0:00:01',\n",
              " '\\x1b[K     |███████████▎                    | 5.7 MB 23.6 MB/s eta 0:00:01',\n",
              " '\\x1b[K     |███████████▎                    | 5.7 MB 23.6 MB/s eta 0:00:01',\n",
              " '\\x1b[K     |███████████▎                    | 5.7 MB 23.6 MB/s eta 0:00:01',\n",
              " '\\x1b[K     |███████████▎                    | 5.7 MB 23.6 MB/s eta 0:00:01',\n",
              " '\\x1b[K     |███████████▎                    | 5.7 MB 23.6 MB/s eta 0:00:01',\n",
              " '\\x1b[K     |███████████▎                    | 5.7 MB 23.6 MB/s eta 0:00:01',\n",
              " '\\x1b[K     |███████████▍                    | 5.7 MB 23.6 MB/s eta 0:00:01',\n",
              " '\\x1b[K     |███████████▍                    | 5.7 MB 23.6 MB/s eta 0:00:01',\n",
              " '\\x1b[K     |███████████▍                    | 5.8 MB 23.6 MB/s eta 0:00:01',\n",
              " '\\x1b[K     |███████████▍                    | 5.8 MB 23.6 MB/s eta 0:00:01',\n",
              " '\\x1b[K     |███████████▍                    | 5.8 MB 23.6 MB/s eta 0:00:01',\n",
              " '\\x1b[K     |███████████▌                    | 5.8 MB 23.6 MB/s eta 0:00:01',\n",
              " '\\x1b[K     |███████████▌                    | 5.8 MB 23.6 MB/s eta 0:00:01',\n",
              " '\\x1b[K     |███████████▌                    | 5.8 MB 23.6 MB/s eta 0:00:01',\n",
              " '\\x1b[K     |███████████▌                    | 5.8 MB 23.6 MB/s eta 0:00:01',\n",
              " '\\x1b[K     |███████████▌                    | 5.8 MB 23.6 MB/s eta 0:00:01',\n",
              " '\\x1b[K     |███████████▌                    | 5.8 MB 23.6 MB/s eta 0:00:01',\n",
              " '\\x1b[K     |███████████▋                    | 5.8 MB 23.6 MB/s eta 0:00:01',\n",
              " '\\x1b[K     |███████████▋                    | 5.9 MB 23.6 MB/s eta 0:00:01',\n",
              " '\\x1b[K     |███████████▋                    | 5.9 MB 23.6 MB/s eta 0:00:01',\n",
              " '\\x1b[K     |███████████▋                    | 5.9 MB 23.6 MB/s eta 0:00:01',\n",
              " '\\x1b[K     |███████████▋                    | 5.9 MB 23.6 MB/s eta 0:00:01',\n",
              " '\\x1b[K     |███████████▊                    | 5.9 MB 23.6 MB/s eta 0:00:01',\n",
              " '\\x1b[K     |███████████▊                    | 5.9 MB 23.6 MB/s eta 0:00:01',\n",
              " '\\x1b[K     |███████████▊                    | 5.9 MB 23.6 MB/s eta 0:00:01',\n",
              " '\\x1b[K     |███████████▊                    | 5.9 MB 23.6 MB/s eta 0:00:01',\n",
              " '\\x1b[K     |███████████▊                    | 5.9 MB 23.6 MB/s eta 0:00:01',\n",
              " '\\x1b[K     |███████████▊                    | 5.9 MB 23.6 MB/s eta 0:00:01',\n",
              " '\\x1b[K     |███████████▉                    | 6.0 MB 23.6 MB/s eta 0:00:01',\n",
              " '\\x1b[K     |███████████▉                    | 6.0 MB 23.6 MB/s eta 0:00:01',\n",
              " '\\x1b[K     |███████████▉                    | 6.0 MB 23.6 MB/s eta 0:00:01',\n",
              " '\\x1b[K     |███████████▉                    | 6.0 MB 23.6 MB/s eta 0:00:01',\n",
              " '\\x1b[K     |███████████▉                    | 6.0 MB 23.6 MB/s eta 0:00:01',\n",
              " '\\x1b[K     |████████████                    | 6.0 MB 23.6 MB/s eta 0:00:01',\n",
              " '\\x1b[K     |████████████                    | 6.0 MB 23.6 MB/s eta 0:00:01',\n",
              " '\\x1b[K     |████████████                    | 6.0 MB 23.6 MB/s eta 0:00:01',\n",
              " '\\x1b[K     |████████████                    | 6.0 MB 23.6 MB/s eta 0:00:01',\n",
              " '\\x1b[K     |████████████                    | 6.1 MB 23.6 MB/s eta 0:00:01',\n",
              " '\\x1b[K     |████████████                    | 6.1 MB 23.6 MB/s eta 0:00:01',\n",
              " '\\x1b[K     |████████████                    | 6.1 MB 23.6 MB/s eta 0:00:01',\n",
              " '\\x1b[K     |████████████                    | 6.1 MB 23.6 MB/s eta 0:00:01',\n",
              " '\\x1b[K     |████████████                    | 6.1 MB 23.6 MB/s eta 0:00:01',\n",
              " '\\x1b[K     |████████████                    | 6.1 MB 23.6 MB/s eta 0:00:01',\n",
              " '\\x1b[K     |████████████                    | 6.1 MB 23.6 MB/s eta 0:00:01',\n",
              " '\\x1b[K     |████████████▏                   | 6.1 MB 23.6 MB/s eta 0:00:01',\n",
              " '\\x1b[K     |████████████▏                   | 6.1 MB 23.6 MB/s eta 0:00:01',\n",
              " '\\x1b[K     |████████████▏                   | 6.1 MB 23.6 MB/s eta 0:00:01',\n",
              " '\\x1b[K     |████████████▏                   | 6.2 MB 23.6 MB/s eta 0:00:01',\n",
              " '\\x1b[K     |████████████▏                   | 6.2 MB 23.6 MB/s eta 0:00:01',\n",
              " '\\x1b[K     |████████████▏                   | 6.2 MB 23.6 MB/s eta 0:00:01',\n",
              " '\\x1b[K     |████████████▎                   | 6.2 MB 23.6 MB/s eta 0:00:01',\n",
              " '\\x1b[K     |████████████▎                   | 6.2 MB 23.6 MB/s eta 0:00:01',\n",
              " '\\x1b[K     |████████████▎                   | 6.2 MB 23.6 MB/s eta 0:00:01',\n",
              " '\\x1b[K     |████████████▎                   | 6.2 MB 23.6 MB/s eta 0:00:01',\n",
              " '\\x1b[K     |████████████▎                   | 6.2 MB 23.6 MB/s eta 0:00:01',\n",
              " '\\x1b[K     |████████████▍                   | 6.2 MB 23.6 MB/s eta 0:00:01',\n",
              " '\\x1b[K     |████████████▍                   | 6.2 MB 23.6 MB/s eta 0:00:01',\n",
              " '\\x1b[K     |████████████▍                   | 6.3 MB 23.6 MB/s eta 0:00:01',\n",
              " '\\x1b[K     |████████████▍                   | 6.3 MB 23.6 MB/s eta 0:00:01',\n",
              " '\\x1b[K     |████████████▍                   | 6.3 MB 23.6 MB/s eta 0:00:01',\n",
              " '\\x1b[K     |████████████▍                   | 6.3 MB 23.6 MB/s eta 0:00:01',\n",
              " '\\x1b[K     |████████████▌                   | 6.3 MB 23.6 MB/s eta 0:00:01',\n",
              " '\\x1b[K     |████████████▌                   | 6.3 MB 23.6 MB/s eta 0:00:01',\n",
              " '\\x1b[K     |████████████▌                   | 6.3 MB 23.6 MB/s eta 0:00:01',\n",
              " '\\x1b[K     |████████████▌                   | 6.3 MB 23.6 MB/s eta 0:00:01',\n",
              " '\\x1b[K     |████████████▌                   | 6.3 MB 23.6 MB/s eta 0:00:01',\n",
              " '\\x1b[K     |████████████▋                   | 6.3 MB 23.6 MB/s eta 0:00:01',\n",
              " '\\x1b[K     |████████████▋                   | 6.4 MB 23.6 MB/s eta 0:00:01',\n",
              " '\\x1b[K     |████████████▋                   | 6.4 MB 23.6 MB/s eta 0:00:01',\n",
              " '\\x1b[K     |████████████▋                   | 6.4 MB 23.6 MB/s eta 0:00:01',\n",
              " '\\x1b[K     |████████████▋                   | 6.4 MB 23.6 MB/s eta 0:00:01',\n",
              " '\\x1b[K     |████████████▋                   | 6.4 MB 23.6 MB/s eta 0:00:01',\n",
              " '\\x1b[K     |████████████▊                   | 6.4 MB 23.6 MB/s eta 0:00:01',\n",
              " '\\x1b[K     |████████████▊                   | 6.4 MB 23.6 MB/s eta 0:00:01',\n",
              " '\\x1b[K     |████████████▊                   | 6.4 MB 23.6 MB/s eta 0:00:01',\n",
              " '\\x1b[K     |████████████▊                   | 6.4 MB 23.6 MB/s eta 0:00:01',\n",
              " '\\x1b[K     |████████████▊                   | 6.5 MB 23.6 MB/s eta 0:00:01',\n",
              " '\\x1b[K     |████████████▉                   | 6.5 MB 23.6 MB/s eta 0:00:01',\n",
              " '\\x1b[K     |████████████▉                   | 6.5 MB 23.6 MB/s eta 0:00:01',\n",
              " '\\x1b[K     |████████████▉                   | 6.5 MB 23.6 MB/s eta 0:00:01',\n",
              " '\\x1b[K     |████████████▉                   | 6.5 MB 23.6 MB/s eta 0:00:01',\n",
              " '\\x1b[K     |████████████▉                   | 6.5 MB 23.6 MB/s eta 0:00:01',\n",
              " '\\x1b[K     |████████████▉                   | 6.5 MB 23.6 MB/s eta 0:00:01',\n",
              " '\\x1b[K     |█████████████                   | 6.5 MB 23.6 MB/s eta 0:00:01',\n",
              " '\\x1b[K     |█████████████                   | 6.5 MB 23.6 MB/s eta 0:00:01',\n",
              " '\\x1b[K     |█████████████                   | 6.5 MB 23.6 MB/s eta 0:00:01',\n",
              " '\\x1b[K     |█████████████                   | 6.6 MB 23.6 MB/s eta 0:00:01',\n",
              " '\\x1b[K     |█████████████                   | 6.6 MB 23.6 MB/s eta 0:00:01',\n",
              " '\\x1b[K     |█████████████                   | 6.6 MB 23.6 MB/s eta 0:00:01',\n",
              " '\\x1b[K     |█████████████                   | 6.6 MB 23.6 MB/s eta 0:00:01',\n",
              " '\\x1b[K     |█████████████                   | 6.6 MB 23.6 MB/s eta 0:00:01',\n",
              " '\\x1b[K     |█████████████                   | 6.6 MB 23.6 MB/s eta 0:00:01',\n",
              " '\\x1b[K     |█████████████                   | 6.6 MB 23.6 MB/s eta 0:00:01',\n",
              " '\\x1b[K     |█████████████                   | 6.6 MB 23.6 MB/s eta 0:00:01',\n",
              " '\\x1b[K     |█████████████▏                  | 6.6 MB 23.6 MB/s eta 0:00:01',\n",
              " '\\x1b[K     |█████████████▏                  | 6.6 MB 23.6 MB/s eta 0:00:01',\n",
              " '\\x1b[K     |█████████████▏                  | 6.7 MB 23.6 MB/s eta 0:00:01',\n",
              " '\\x1b[K     |█████████████▏                  | 6.7 MB 23.6 MB/s eta 0:00:01',\n",
              " '\\x1b[K     |█████████████▏                  | 6.7 MB 23.6 MB/s eta 0:00:01',\n",
              " '\\x1b[K     |█████████████▎                  | 6.7 MB 23.6 MB/s eta 0:00:01',\n",
              " '\\x1b[K     |█████████████▎                  | 6.7 MB 23.6 MB/s eta 0:00:01',\n",
              " '\\x1b[K     |█████████████▎                  | 6.7 MB 23.6 MB/s eta 0:00:01',\n",
              " '\\x1b[K     |█████████████▎                  | 6.7 MB 23.6 MB/s eta 0:00:01',\n",
              " '\\x1b[K     |█████████████▎                  | 6.7 MB 23.6 MB/s eta 0:00:01',\n",
              " '\\x1b[K     |█████████████▎                  | 6.7 MB 23.6 MB/s eta 0:00:01',\n",
              " '\\x1b[K     |█████████████▍                  | 6.7 MB 23.6 MB/s eta 0:00:01',\n",
              " '\\x1b[K     |█████████████▍                  | 6.8 MB 23.6 MB/s eta 0:00:01',\n",
              " '\\x1b[K     |█████████████▍                  | 6.8 MB 23.6 MB/s eta 0:00:01',\n",
              " '\\x1b[K     |█████████████▍                  | 6.8 MB 23.6 MB/s eta 0:00:01',\n",
              " '\\x1b[K     |█████████████▍                  | 6.8 MB 23.6 MB/s eta 0:00:01',\n",
              " '\\x1b[K     |█████████████▌                  | 6.8 MB 23.6 MB/s eta 0:00:01',\n",
              " '\\x1b[K     |█████████████▌                  | 6.8 MB 23.6 MB/s eta 0:00:01',\n",
              " '\\x1b[K     |█████████████▌                  | 6.8 MB 23.6 MB/s eta 0:00:01',\n",
              " '\\x1b[K     |█████████████▌                  | 6.8 MB 23.6 MB/s eta 0:00:01',\n",
              " '\\x1b[K     |█████████████▌                  | 6.8 MB 23.6 MB/s eta 0:00:01',\n",
              " '\\x1b[K     |█████████████▌                  | 6.9 MB 23.6 MB/s eta 0:00:01',\n",
              " '\\x1b[K     |█████████████▋                  | 6.9 MB 23.6 MB/s eta 0:00:01',\n",
              " '\\x1b[K     |█████████████▋                  | 6.9 MB 23.6 MB/s eta 0:00:01',\n",
              " '\\x1b[K     |█████████████▋                  | 6.9 MB 23.6 MB/s eta 0:00:01',\n",
              " '\\x1b[K     |█████████████▋                  | 6.9 MB 23.6 MB/s eta 0:00:01',\n",
              " '\\x1b[K     |█████████████▋                  | 6.9 MB 23.6 MB/s eta 0:00:01',\n",
              " '\\x1b[K     |█████████████▊                  | 6.9 MB 23.6 MB/s eta 0:00:01',\n",
              " '\\x1b[K     |█████████████▊                  | 6.9 MB 23.6 MB/s eta 0:00:01',\n",
              " '\\x1b[K     |█████████████▊                  | 6.9 MB 23.6 MB/s eta 0:00:01',\n",
              " '\\x1b[K     |█████████████▊                  | 6.9 MB 23.6 MB/s eta 0:00:01',\n",
              " '\\x1b[K     |█████████████▊                  | 7.0 MB 23.6 MB/s eta 0:00:01',\n",
              " '\\x1b[K     |█████████████▉                  | 7.0 MB 23.6 MB/s eta 0:00:01',\n",
              " '\\x1b[K     |█████████████▉                  | 7.0 MB 23.6 MB/s eta 0:00:01',\n",
              " '\\x1b[K     |█████████████▉                  | 7.0 MB 23.6 MB/s eta 0:00:01',\n",
              " '\\x1b[K     |█████████████▉                  | 7.0 MB 23.6 MB/s eta 0:00:01',\n",
              " '\\x1b[K     |█████████████▉                  | 7.0 MB 23.6 MB/s eta 0:00:01',\n",
              " '\\x1b[K     |█████████████▉                  | 7.0 MB 23.6 MB/s eta 0:00:01',\n",
              " '\\x1b[K     |██████████████                  | 7.0 MB 23.6 MB/s eta 0:00:01',\n",
              " '\\x1b[K     |██████████████                  | 7.0 MB 23.6 MB/s eta 0:00:01',\n",
              " '\\x1b[K     |██████████████                  | 7.0 MB 23.6 MB/s eta 0:00:01',\n",
              " '\\x1b[K     |██████████████                  | 7.1 MB 23.6 MB/s eta 0:00:01',\n",
              " '\\x1b[K     |██████████████                  | 7.1 MB 23.6 MB/s eta 0:00:01',\n",
              " '\\x1b[K     |██████████████                  | 7.1 MB 23.6 MB/s eta 0:00:01',\n",
              " '\\x1b[K     |██████████████                  | 7.1 MB 23.6 MB/s eta 0:00:01',\n",
              " '\\x1b[K     |██████████████                  | 7.1 MB 23.6 MB/s eta 0:00:01',\n",
              " '\\x1b[K     |██████████████                  | 7.1 MB 23.6 MB/s eta 0:00:01',\n",
              " '\\x1b[K     |██████████████                  | 7.1 MB 23.6 MB/s eta 0:00:01',\n",
              " '\\x1b[K     |██████████████                  | 7.1 MB 23.6 MB/s eta 0:00:01',\n",
              " '\\x1b[K     |██████████████▏                 | 7.1 MB 23.6 MB/s eta 0:00:01',\n",
              " '\\x1b[K     |██████████████▏                 | 7.1 MB 23.6 MB/s eta 0:00:01',\n",
              " '\\x1b[K     |██████████████▏                 | 7.2 MB 23.6 MB/s eta 0:00:01',\n",
              " '\\x1b[K     |██████████████▏                 | 7.2 MB 23.6 MB/s eta 0:00:01',\n",
              " '\\x1b[K     |██████████████▏                 | 7.2 MB 23.6 MB/s eta 0:00:01',\n",
              " '\\x1b[K     |██████████████▎                 | 7.2 MB 23.6 MB/s eta 0:00:01',\n",
              " '\\x1b[K     |██████████████▎                 | 7.2 MB 23.6 MB/s eta 0:00:01',\n",
              " '\\x1b[K     |██████████████▎                 | 7.2 MB 23.6 MB/s eta 0:00:01',\n",
              " '\\x1b[K     |██████████████▎                 | 7.2 MB 23.6 MB/s eta 0:00:01',\n",
              " '\\x1b[K     |██████████████▎                 | 7.2 MB 23.6 MB/s eta 0:00:01',\n",
              " '\\x1b[K     |██████████████▎                 | 7.2 MB 23.6 MB/s eta 0:00:01',\n",
              " '\\x1b[K     |██████████████▍                 | 7.2 MB 23.6 MB/s eta 0:00:01',\n",
              " '\\x1b[K     |██████████████▍                 | 7.3 MB 23.6 MB/s eta 0:00:01',\n",
              " '\\x1b[K     |██████████████▍                 | 7.3 MB 23.6 MB/s eta 0:00:01',\n",
              " '\\x1b[K     |██████████████▍                 | 7.3 MB 23.6 MB/s eta 0:00:01',\n",
              " '\\x1b[K     |██████████████▍                 | 7.3 MB 23.6 MB/s eta 0:00:01',\n",
              " '\\x1b[K     |██████████████▌                 | 7.3 MB 23.6 MB/s eta 0:00:01',\n",
              " '\\x1b[K     |██████████████▌                 | 7.3 MB 23.6 MB/s eta 0:00:01',\n",
              " '\\x1b[K     |██████████████▌                 | 7.3 MB 23.6 MB/s eta 0:00:01',\n",
              " '\\x1b[K     |██████████████▌                 | 7.3 MB 23.6 MB/s eta 0:00:01',\n",
              " '\\x1b[K     |██████████████▌                 | 7.3 MB 23.6 MB/s eta 0:00:01',\n",
              " '\\x1b[K     |██████████████▌                 | 7.4 MB 23.6 MB/s eta 0:00:01',\n",
              " '\\x1b[K     |██████████████▋                 | 7.4 MB 23.6 MB/s eta 0:00:01',\n",
              " '\\x1b[K     |██████████████▋                 | 7.4 MB 23.6 MB/s eta 0:00:01',\n",
              " '\\x1b[K     |██████████████▋                 | 7.4 MB 23.6 MB/s eta 0:00:01',\n",
              " '\\x1b[K     |██████████████▋                 | 7.4 MB 23.6 MB/s eta 0:00:01',\n",
              " '\\x1b[K     |██████████████▋                 | 7.4 MB 23.6 MB/s eta 0:00:01',\n",
              " '\\x1b[K     |██████████████▊                 | 7.4 MB 23.6 MB/s eta 0:00:01',\n",
              " '\\x1b[K     |██████████████▊                 | 7.4 MB 23.6 MB/s eta 0:00:01',\n",
              " '\\x1b[K     |██████████████▊                 | 7.4 MB 23.6 MB/s eta 0:00:01',\n",
              " '\\x1b[K     |██████████████▊                 | 7.4 MB 23.6 MB/s eta 0:00:01',\n",
              " '\\x1b[K     |██████████████▊                 | 7.5 MB 23.6 MB/s eta 0:00:01',\n",
              " '\\x1b[K     |██████████████▊                 | 7.5 MB 23.6 MB/s eta 0:00:01',\n",
              " '\\x1b[K     |██████████████▉                 | 7.5 MB 23.6 MB/s eta 0:00:01',\n",
              " '\\x1b[K     |██████████████▉                 | 7.5 MB 23.6 MB/s eta 0:00:01',\n",
              " '\\x1b[K     |██████████████▉                 | 7.5 MB 23.6 MB/s eta 0:00:01',\n",
              " '\\x1b[K     |██████████████▉                 | 7.5 MB 23.6 MB/s eta 0:00:01',\n",
              " '\\x1b[K     |██████████████▉                 | 7.5 MB 23.6 MB/s eta 0:00:01',\n",
              " '\\x1b[K     |███████████████                 | 7.5 MB 23.6 MB/s eta 0:00:01',\n",
              " '\\x1b[K     |███████████████                 | 7.5 MB 23.6 MB/s eta 0:00:01',\n",
              " '\\x1b[K     |███████████████                 | 7.5 MB 23.6 MB/s eta 0:00:01',\n",
              " '\\x1b[K     |███████████████                 | 7.6 MB 23.6 MB/s eta 0:00:01',\n",
              " '\\x1b[K     |███████████████                 | 7.6 MB 23.6 MB/s eta 0:00:01',\n",
              " '\\x1b[K     |███████████████                 | 7.6 MB 23.6 MB/s eta 0:00:01',\n",
              " '\\x1b[K     |███████████████                 | 7.6 MB 23.6 MB/s eta 0:00:01',\n",
              " '\\x1b[K     |███████████████                 | 7.6 MB 23.6 MB/s eta 0:00:01',\n",
              " '\\x1b[K     |███████████████                 | 7.6 MB 23.6 MB/s eta 0:00:01',\n",
              " '\\x1b[K     |███████████████                 | 7.6 MB 23.6 MB/s eta 0:00:01',\n",
              " '\\x1b[K     |███████████████                 | 7.6 MB 23.6 MB/s eta 0:00:01',\n",
              " '\\x1b[K     |███████████████▏                | 7.6 MB 23.6 MB/s eta 0:00:01',\n",
              " '\\x1b[K     |███████████████▏                | 7.6 MB 23.6 MB/s eta 0:00:01',\n",
              " '\\x1b[K     |███████████████▏                | 7.7 MB 23.6 MB/s eta 0:00:01',\n",
              " '\\x1b[K     |███████████████▏                | 7.7 MB 23.6 MB/s eta 0:00:01',\n",
              " '\\x1b[K     |███████████████▏                | 7.7 MB 23.6 MB/s eta 0:00:01',\n",
              " '\\x1b[K     |███████████████▏                | 7.7 MB 23.6 MB/s eta 0:00:01',\n",
              " '\\x1b[K     |███████████████▎                | 7.7 MB 23.6 MB/s eta 0:00:01',\n",
              " '\\x1b[K     |███████████████▎                | 7.7 MB 23.6 MB/s eta 0:00:01',\n",
              " '\\x1b[K     |███████████████▎                | 7.7 MB 23.6 MB/s eta 0:00:01',\n",
              " '\\x1b[K     |███████████████▎                | 7.7 MB 23.6 MB/s eta 0:00:01',\n",
              " '\\x1b[K     |███████████████▎                | 7.7 MB 23.6 MB/s eta 0:00:01',\n",
              " '\\x1b[K     |███████████████▍                | 7.8 MB 23.6 MB/s eta 0:00:01',\n",
              " '\\x1b[K     |███████████████▍                | 7.8 MB 23.6 MB/s eta 0:00:01',\n",
              " '\\x1b[K     |███████████████▍                | 7.8 MB 23.6 MB/s eta 0:00:01',\n",
              " '\\x1b[K     |███████████████▍                | 7.8 MB 23.6 MB/s eta 0:00:01',\n",
              " '\\x1b[K     |███████████████▍                | 7.8 MB 23.6 MB/s eta 0:00:01',\n",
              " '\\x1b[K     |███████████████▍                | 7.8 MB 23.6 MB/s eta 0:00:01',\n",
              " '\\x1b[K     |███████████████▌                | 7.8 MB 23.6 MB/s eta 0:00:01',\n",
              " '\\x1b[K     |███████████████▌                | 7.8 MB 23.6 MB/s eta 0:00:01',\n",
              " '\\x1b[K     |███████████████▌                | 7.8 MB 23.6 MB/s eta 0:00:01',\n",
              " '\\x1b[K     |███████████████▌                | 7.8 MB 23.6 MB/s eta 0:00:01',\n",
              " '\\x1b[K     |███████████████▌                | 7.9 MB 23.6 MB/s eta 0:00:01',\n",
              " '\\x1b[K     |███████████████▋                | 7.9 MB 23.6 MB/s eta 0:00:01',\n",
              " '\\x1b[K     |███████████████▋                | 7.9 MB 23.6 MB/s eta 0:00:01',\n",
              " '\\x1b[K     |███████████████▋                | 7.9 MB 23.6 MB/s eta 0:00:01',\n",
              " '\\x1b[K     |███████████████▋                | 7.9 MB 23.6 MB/s eta 0:00:01',\n",
              " '\\x1b[K     |███████████████▋                | 7.9 MB 23.6 MB/s eta 0:00:01',\n",
              " '\\x1b[K     |███████████████▋                | 7.9 MB 23.6 MB/s eta 0:00:01',\n",
              " '\\x1b[K     |███████████████▊                | 7.9 MB 23.6 MB/s eta 0:00:01',\n",
              " '\\x1b[K     |███████████████▊                | 7.9 MB 23.6 MB/s eta 0:00:01',\n",
              " '\\x1b[K     |███████████████▊                | 7.9 MB 23.6 MB/s eta 0:00:01',\n",
              " '\\x1b[K     |███████████████▊                | 8.0 MB 23.6 MB/s eta 0:00:01',\n",
              " '\\x1b[K     |███████████████▊                | 8.0 MB 23.6 MB/s eta 0:00:01',\n",
              " '\\x1b[K     |███████████████▉                | 8.0 MB 23.6 MB/s eta 0:00:01',\n",
              " '\\x1b[K     |███████████████▉                | 8.0 MB 23.6 MB/s eta 0:00:01',\n",
              " '\\x1b[K     |███████████████▉                | 8.0 MB 23.6 MB/s eta 0:00:01',\n",
              " '\\x1b[K     |███████████████▉                | 8.0 MB 23.6 MB/s eta 0:00:01',\n",
              " '\\x1b[K     |███████████████▉                | 8.0 MB 23.6 MB/s eta 0:00:01',\n",
              " '\\x1b[K     |███████████████▉                | 8.0 MB 23.6 MB/s eta 0:00:01',\n",
              " '\\x1b[K     |████████████████                | 8.0 MB 23.6 MB/s eta 0:00:01',\n",
              " '\\x1b[K     |████████████████                | 8.0 MB 23.6 MB/s eta 0:00:01',\n",
              " '\\x1b[K     |████████████████                | 8.1 MB 23.6 MB/s eta 0:00:01',\n",
              " '\\x1b[K     |████████████████                | 8.1 MB 23.6 MB/s eta 0:00:01',\n",
              " '\\x1b[K     |████████████████                | 8.1 MB 23.6 MB/s eta 0:00:01',\n",
              " '\\x1b[K     |████████████████                | 8.1 MB 23.6 MB/s eta 0:00:01',\n",
              " '\\x1b[K     |████████████████                | 8.1 MB 23.6 MB/s eta 0:00:01',\n",
              " '\\x1b[K     |████████████████                | 8.1 MB 23.6 MB/s eta 0:00:01',\n",
              " '\\x1b[K     |████████████████                | 8.1 MB 23.6 MB/s eta 0:00:01',\n",
              " '\\x1b[K     |████████████████                | 8.1 MB 23.6 MB/s eta 0:00:01',\n",
              " '\\x1b[K     |████████████████                | 8.1 MB 23.6 MB/s eta 0:00:01',\n",
              " '\\x1b[K     |████████████████▏               | 8.2 MB 23.6 MB/s eta 0:00:01',\n",
              " '\\x1b[K     |████████████████▏               | 8.2 MB 23.6 MB/s eta 0:00:01',\n",
              " '\\x1b[K     |████████████████▏               | 8.2 MB 23.6 MB/s eta 0:00:01',\n",
              " '\\x1b[K     |████████████████▏               | 8.2 MB 23.6 MB/s eta 0:00:01',\n",
              " '\\x1b[K     |████████████████▏               | 8.2 MB 23.6 MB/s eta 0:00:01',\n",
              " '\\x1b[K     |████████████████▎               | 8.2 MB 23.6 MB/s eta 0:00:01',\n",
              " '\\x1b[K     |████████████████▎               | 8.2 MB 23.6 MB/s eta 0:00:01',\n",
              " '\\x1b[K     |████████████████▎               | 8.2 MB 23.6 MB/s eta 0:00:01',\n",
              " '\\x1b[K     |████████████████▎               | 8.2 MB 23.6 MB/s eta 0:00:01',\n",
              " '\\x1b[K     |████████████████▎               | 8.2 MB 23.6 MB/s eta 0:00:01',\n",
              " '\\x1b[K     |████████████████▎               | 8.3 MB 23.6 MB/s eta 0:00:01',\n",
              " '\\x1b[K     |████████████████▍               | 8.3 MB 23.6 MB/s eta 0:00:01',\n",
              " '\\x1b[K     |████████████████▍               | 8.3 MB 23.6 MB/s eta 0:00:01',\n",
              " '\\x1b[K     |████████████████▍               | 8.3 MB 23.6 MB/s eta 0:00:01',\n",
              " '\\x1b[K     |████████████████▍               | 8.3 MB 23.6 MB/s eta 0:00:01',\n",
              " '\\x1b[K     |████████████████▍               | 8.3 MB 23.6 MB/s eta 0:00:01',\n",
              " '\\x1b[K     |████████████████▌               | 8.3 MB 23.6 MB/s eta 0:00:01',\n",
              " '\\x1b[K     |████████████████▌               | 8.3 MB 23.6 MB/s eta 0:00:01',\n",
              " '\\x1b[K     |████████████████▌               | 8.3 MB 23.6 MB/s eta 0:00:01',\n",
              " '\\x1b[K     |████████████████▌               | 8.3 MB 23.6 MB/s eta 0:00:01',\n",
              " '\\x1b[K     |████████████████▌               | 8.4 MB 23.6 MB/s eta 0:00:01',\n",
              " '\\x1b[K     |████████████████▌               | 8.4 MB 23.6 MB/s eta 0:00:01',\n",
              " '\\x1b[K     |████████████████▋               | 8.4 MB 23.6 MB/s eta 0:00:01',\n",
              " '\\x1b[K     |████████████████▋               | 8.4 MB 23.6 MB/s eta 0:00:01',\n",
              " '\\x1b[K     |████████████████▋               | 8.4 MB 23.6 MB/s eta 0:00:01',\n",
              " '\\x1b[K     |████████████████▋               | 8.4 MB 23.6 MB/s eta 0:00:01',\n",
              " '\\x1b[K     |████████████████▋               | 8.4 MB 23.6 MB/s eta 0:00:01',\n",
              " '\\x1b[K     |████████████████▊               | 8.4 MB 23.6 MB/s eta 0:00:01',\n",
              " '\\x1b[K     |████████████████▊               | 8.4 MB 23.6 MB/s eta 0:00:01',\n",
              " '\\x1b[K     |████████████████▊               | 8.4 MB 23.6 MB/s eta 0:00:01',\n",
              " '\\x1b[K     |████████████████▊               | 8.5 MB 23.6 MB/s eta 0:00:01',\n",
              " '\\x1b[K     |████████████████▊               | 8.5 MB 23.6 MB/s eta 0:00:01',\n",
              " '\\x1b[K     |████████████████▊               | 8.5 MB 23.6 MB/s eta 0:00:01',\n",
              " '\\x1b[K     |████████████████▉               | 8.5 MB 23.6 MB/s eta 0:00:01',\n",
              " '\\x1b[K     |████████████████▉               | 8.5 MB 23.6 MB/s eta 0:00:01',\n",
              " '\\x1b[K     |████████████████▉               | 8.5 MB 23.6 MB/s eta 0:00:01',\n",
              " '\\x1b[K     |████████████████▉               | 8.5 MB 23.6 MB/s eta 0:00:01',\n",
              " '\\x1b[K     |████████████████▉               | 8.5 MB 23.6 MB/s eta 0:00:01',\n",
              " '\\x1b[K     |█████████████████               | 8.5 MB 23.6 MB/s eta 0:00:01',\n",
              " '\\x1b[K     |█████████████████               | 8.6 MB 23.6 MB/s eta 0:00:01',\n",
              " '\\x1b[K     |█████████████████               | 8.6 MB 23.6 MB/s eta 0:00:01',\n",
              " '\\x1b[K     |█████████████████               | 8.6 MB 23.6 MB/s eta 0:00:01',\n",
              " '\\x1b[K     |█████████████████               | 8.6 MB 23.6 MB/s eta 0:00:01',\n",
              " '\\x1b[K     |█████████████████               | 8.6 MB 23.6 MB/s eta 0:00:01',\n",
              " '\\x1b[K     |█████████████████               | 8.6 MB 23.6 MB/s eta 0:00:01',\n",
              " '\\x1b[K     |█████████████████               | 8.6 MB 23.6 MB/s eta 0:00:01',\n",
              " '\\x1b[K     |█████████████████               | 8.6 MB 23.6 MB/s eta 0:00:01',\n",
              " '\\x1b[K     |█████████████████               | 8.6 MB 23.6 MB/s eta 0:00:01',\n",
              " '\\x1b[K     |█████████████████               | 8.6 MB 23.6 MB/s eta 0:00:01',\n",
              " '\\x1b[K     |█████████████████▏              | 8.7 MB 23.6 MB/s eta 0:00:01',\n",
              " '\\x1b[K     |█████████████████▏              | 8.7 MB 23.6 MB/s eta 0:00:01',\n",
              " '\\x1b[K     |█████████████████▏              | 8.7 MB 23.6 MB/s eta 0:00:01',\n",
              " '\\x1b[K     |█████████████████▏              | 8.7 MB 23.6 MB/s eta 0:00:01',\n",
              " '\\x1b[K     |█████████████████▏              | 8.7 MB 23.6 MB/s eta 0:00:01',\n",
              " '\\x1b[K     |█████████████████▎              | 8.7 MB 23.6 MB/s eta 0:00:01',\n",
              " '\\x1b[K     |█████████████████▎              | 8.7 MB 23.6 MB/s eta 0:00:01',\n",
              " '\\x1b[K     |█████████████████▎              | 8.7 MB 23.6 MB/s eta 0:00:01',\n",
              " '\\x1b[K     |█████████████████▎              | 8.7 MB 23.6 MB/s eta 0:00:01',\n",
              " '\\x1b[K     |█████████████████▎              | 8.7 MB 23.6 MB/s eta 0:00:01',\n",
              " '\\x1b[K     |█████████████████▎              | 8.8 MB 23.6 MB/s eta 0:00:01',\n",
              " '\\x1b[K     |█████████████████▍              | 8.8 MB 23.6 MB/s eta 0:00:01',\n",
              " '\\x1b[K     |█████████████████▍              | 8.8 MB 23.6 MB/s eta 0:00:01',\n",
              " '\\x1b[K     |█████████████████▍              | 8.8 MB 23.6 MB/s eta 0:00:01',\n",
              " '\\x1b[K     |█████████████████▍              | 8.8 MB 23.6 MB/s eta 0:00:01',\n",
              " '\\x1b[K     |█████████████████▍              | 8.8 MB 23.6 MB/s eta 0:00:01',\n",
              " '\\x1b[K     |█████████████████▌              | 8.8 MB 23.6 MB/s eta 0:00:01',\n",
              " '\\x1b[K     |█████████████████▌              | 8.8 MB 23.6 MB/s eta 0:00:01',\n",
              " '\\x1b[K     |█████████████████▌              | 8.8 MB 23.6 MB/s eta 0:00:01',\n",
              " '\\x1b[K     |█████████████████▌              | 8.8 MB 23.6 MB/s eta 0:00:01',\n",
              " '\\x1b[K     |█████████████████▌              | 8.9 MB 23.6 MB/s eta 0:00:01',\n",
              " '\\x1b[K     |█████████████████▌              | 8.9 MB 23.6 MB/s eta 0:00:01',\n",
              " '\\x1b[K     |█████████████████▋              | 8.9 MB 23.6 MB/s eta 0:00:01',\n",
              " '\\x1b[K     |█████████████████▋              | 8.9 MB 23.6 MB/s eta 0:00:01',\n",
              " '\\x1b[K     |█████████████████▋              | 8.9 MB 23.6 MB/s eta 0:00:01',\n",
              " '\\x1b[K     |█████████████████▋              | 8.9 MB 23.6 MB/s eta 0:00:01',\n",
              " '\\x1b[K     |█████████████████▋              | 8.9 MB 23.6 MB/s eta 0:00:01',\n",
              " '\\x1b[K     |█████████████████▊              | 8.9 MB 23.6 MB/s eta 0:00:01',\n",
              " '\\x1b[K     |█████████████████▊              | 8.9 MB 23.6 MB/s eta 0:00:01',\n",
              " '\\x1b[K     |█████████████████▊              | 8.9 MB 23.6 MB/s eta 0:00:01',\n",
              " '\\x1b[K     |█████████████████▊              | 9.0 MB 23.6 MB/s eta 0:00:01',\n",
              " '\\x1b[K     |█████████████████▊              | 9.0 MB 23.6 MB/s eta 0:00:01',\n",
              " '\\x1b[K     |█████████████████▊              | 9.0 MB 23.6 MB/s eta 0:00:01',\n",
              " '\\x1b[K     |█████████████████▉              | 9.0 MB 23.6 MB/s eta 0:00:01',\n",
              " '\\x1b[K     |█████████████████▉              | 9.0 MB 23.6 MB/s eta 0:00:01',\n",
              " '\\x1b[K     |█████████████████▉              | 9.0 MB 23.6 MB/s eta 0:00:01',\n",
              " '\\x1b[K     |█████████████████▉              | 9.0 MB 23.6 MB/s eta 0:00:01',\n",
              " '\\x1b[K     |█████████████████▉              | 9.0 MB 23.6 MB/s eta 0:00:01',\n",
              " '\\x1b[K     |██████████████████              | 9.0 MB 23.6 MB/s eta 0:00:01',\n",
              " '\\x1b[K     |██████████████████              | 9.1 MB 23.6 MB/s eta 0:00:01',\n",
              " '\\x1b[K     |██████████████████              | 9.1 MB 23.6 MB/s eta 0:00:01',\n",
              " '\\x1b[K     |██████████████████              | 9.1 MB 23.6 MB/s eta 0:00:01',\n",
              " '\\x1b[K     |██████████████████              | 9.1 MB 23.6 MB/s eta 0:00:01',\n",
              " '\\x1b[K     |██████████████████              | 9.1 MB 23.6 MB/s eta 0:00:01',\n",
              " '\\x1b[K     |██████████████████              | 9.1 MB 23.6 MB/s eta 0:00:01',\n",
              " '\\x1b[K     |██████████████████              | 9.1 MB 23.6 MB/s eta 0:00:01',\n",
              " '\\x1b[K     |██████████████████              | 9.1 MB 23.6 MB/s eta 0:00:01',\n",
              " '\\x1b[K     |██████████████████              | 9.1 MB 23.6 MB/s eta 0:00:01',\n",
              " '\\x1b[K     |██████████████████              | 9.1 MB 23.6 MB/s eta 0:00:01',\n",
              " '\\x1b[K     |██████████████████▏             | 9.2 MB 23.6 MB/s eta 0:00:01',\n",
              " '\\x1b[K     |██████████████████▏             | 9.2 MB 23.6 MB/s eta 0:00:01',\n",
              " '\\x1b[K     |██████████████████▏             | 9.2 MB 23.6 MB/s eta 0:00:01',\n",
              " '\\x1b[K     |██████████████████▏             | 9.2 MB 23.6 MB/s eta 0:00:01',\n",
              " '\\x1b[K     |██████████████████▏             | 9.2 MB 23.6 MB/s eta 0:00:01',\n",
              " '\\x1b[K     |██████████████████▏             | 9.2 MB 23.6 MB/s eta 0:00:01',\n",
              " '\\x1b[K     |██████████████████▎             | 9.2 MB 23.6 MB/s eta 0:00:01',\n",
              " '\\x1b[K     |██████████████████▎             | 9.2 MB 23.6 MB/s eta 0:00:01',\n",
              " '\\x1b[K     |██████████████████▎             | 9.2 MB 23.6 MB/s eta 0:00:01',\n",
              " '\\x1b[K     |██████████████████▎             | 9.2 MB 23.6 MB/s eta 0:00:01',\n",
              " '\\x1b[K     |██████████████████▎             | 9.3 MB 23.6 MB/s eta 0:00:01',\n",
              " '\\x1b[K     |██████████████████▍             | 9.3 MB 23.6 MB/s eta 0:00:01',\n",
              " '\\x1b[K     |██████████████████▍             | 9.3 MB 23.6 MB/s eta 0:00:01',\n",
              " '\\x1b[K     |██████████████████▍             | 9.3 MB 23.6 MB/s eta 0:00:01',\n",
              " '\\x1b[K     |██████████████████▍             | 9.3 MB 23.6 MB/s eta 0:00:01',\n",
              " '\\x1b[K     |██████████████████▍             | 9.3 MB 23.6 MB/s eta 0:00:01',\n",
              " '\\x1b[K     |██████████████████▍             | 9.3 MB 23.6 MB/s eta 0:00:01',\n",
              " '\\x1b[K     |██████████████████▌             | 9.3 MB 23.6 MB/s eta 0:00:01',\n",
              " '\\x1b[K     |██████████████████▌             | 9.3 MB 23.6 MB/s eta 0:00:01',\n",
              " '\\x1b[K     |██████████████████▌             | 9.3 MB 23.6 MB/s eta 0:00:01',\n",
              " '\\x1b[K     |██████████████████▌             | 9.4 MB 23.6 MB/s eta 0:00:01',\n",
              " '\\x1b[K     |██████████████████▌             | 9.4 MB 23.6 MB/s eta 0:00:01',\n",
              " '\\x1b[K     |██████████████████▋             | 9.4 MB 23.6 MB/s eta 0:00:01',\n",
              " '\\x1b[K     |██████████████████▋             | 9.4 MB 23.6 MB/s eta 0:00:01',\n",
              " '\\x1b[K     |██████████████████▋             | 9.4 MB 23.6 MB/s eta 0:00:01',\n",
              " '\\x1b[K     |██████████████████▋             | 9.4 MB 23.6 MB/s eta 0:00:01',\n",
              " '\\x1b[K     |██████████████████▋             | 9.4 MB 23.6 MB/s eta 0:00:01',\n",
              " '\\x1b[K     |██████████████████▋             | 9.4 MB 23.6 MB/s eta 0:00:01',\n",
              " '\\x1b[K     |██████████████████▊             | 9.4 MB 23.6 MB/s eta 0:00:01',\n",
              " '\\x1b[K     |██████████████████▊             | 9.5 MB 23.6 MB/s eta 0:00:01',\n",
              " '\\x1b[K     |██████████████████▊             | 9.5 MB 23.6 MB/s eta 0:00:01',\n",
              " '\\x1b[K     |██████████████████▊             | 9.5 MB 23.6 MB/s eta 0:00:01',\n",
              " '\\x1b[K     |██████████████████▊             | 9.5 MB 23.6 MB/s eta 0:00:01',\n",
              " '\\x1b[K     |██████████████████▉             | 9.5 MB 23.6 MB/s eta 0:00:01',\n",
              " '\\x1b[K     |██████████████████▉             | 9.5 MB 23.6 MB/s eta 0:00:01',\n",
              " '\\x1b[K     |██████████████████▉             | 9.5 MB 23.6 MB/s eta 0:00:01',\n",
              " '\\x1b[K     |██████████████████▉             | 9.5 MB 23.6 MB/s eta 0:00:01',\n",
              " '\\x1b[K     |██████████████████▉             | 9.5 MB 23.6 MB/s eta 0:00:01',\n",
              " '\\x1b[K     |██████████████████▉             | 9.5 MB 23.6 MB/s eta 0:00:01',\n",
              " '\\x1b[K     |███████████████████             | 9.6 MB 23.6 MB/s eta 0:00:01',\n",
              " '\\x1b[K     |███████████████████             | 9.6 MB 23.6 MB/s eta 0:00:01',\n",
              " '\\x1b[K     |███████████████████             | 9.6 MB 23.6 MB/s eta 0:00:01',\n",
              " '\\x1b[K     |███████████████████             | 9.6 MB 23.6 MB/s eta 0:00:01',\n",
              " '\\x1b[K     |███████████████████             | 9.6 MB 23.6 MB/s eta 0:00:01',\n",
              " '\\x1b[K     |███████████████████             | 9.6 MB 23.6 MB/s eta 0:00:01',\n",
              " '\\x1b[K     |███████████████████             | 9.6 MB 23.6 MB/s eta 0:00:01',\n",
              " '\\x1b[K     |███████████████████             | 9.6 MB 23.6 MB/s eta 0:00:01',\n",
              " '\\x1b[K     |███████████████████             | 9.6 MB 23.6 MB/s eta 0:00:01',\n",
              " '\\x1b[K     |███████████████████             | 9.6 MB 23.6 MB/s eta 0:00:01',\n",
              " '\\x1b[K     |███████████████████             | 9.7 MB 23.6 MB/s eta 0:00:01',\n",
              " '\\x1b[K     |███████████████████▏            | 9.7 MB 23.6 MB/s eta 0:00:01',\n",
              " '\\x1b[K     |███████████████████▏            | 9.7 MB 23.6 MB/s eta 0:00:01',\n",
              " '\\x1b[K     |███████████████████▏            | 9.7 MB 23.6 MB/s eta 0:00:01',\n",
              " '\\x1b[K     |███████████████████▏            | 9.7 MB 23.6 MB/s eta 0:00:01',\n",
              " '\\x1b[K     |███████████████████▏            | 9.7 MB 23.6 MB/s eta 0:00:01',\n",
              " '\\x1b[K     |███████████████████▎            | 9.7 MB 23.6 MB/s eta 0:00:01',\n",
              " '\\x1b[K     |███████████████████▎            | 9.7 MB 23.6 MB/s eta 0:00:01',\n",
              " '\\x1b[K     |███████████████████▎            | 9.7 MB 23.6 MB/s eta 0:00:01',\n",
              " '\\x1b[K     |███████████████████▎            | 9.7 MB 23.6 MB/s eta 0:00:01',\n",
              " '\\x1b[K     |███████████████████▎            | 9.8 MB 23.6 MB/s eta 0:00:01',\n",
              " '\\x1b[K     |███████████████████▎            | 9.8 MB 23.6 MB/s eta 0:00:01',\n",
              " '\\x1b[K     |███████████████████▍            | 9.8 MB 23.6 MB/s eta 0:00:01',\n",
              " '\\x1b[K     |███████████████████▍            | 9.8 MB 23.6 MB/s eta 0:00:01',\n",
              " '\\x1b[K     |███████████████████▍            | 9.8 MB 23.6 MB/s eta 0:00:01',\n",
              " '\\x1b[K     |███████████████████▍            | 9.8 MB 23.6 MB/s eta 0:00:01',\n",
              " '\\x1b[K     |███████████████████▍            | 9.8 MB 23.6 MB/s eta 0:00:01',\n",
              " '\\x1b[K     |███████████████████▌            | 9.8 MB 23.6 MB/s eta 0:00:01',\n",
              " '\\x1b[K     |███████████████████▌            | 9.8 MB 23.6 MB/s eta 0:00:01',\n",
              " '\\x1b[K     |███████████████████▌            | 9.9 MB 23.6 MB/s eta 0:00:01',\n",
              " '\\x1b[K     |███████████████████▌            | 9.9 MB 23.6 MB/s eta 0:00:01',\n",
              " '\\x1b[K     |███████████████████▌            | 9.9 MB 23.6 MB/s eta 0:00:01',\n",
              " '\\x1b[K     |███████████████████▌            | 9.9 MB 23.6 MB/s eta 0:00:01',\n",
              " '\\x1b[K     |███████████████████▋            | 9.9 MB 23.6 MB/s eta 0:00:01',\n",
              " '\\x1b[K     |███████████████████▋            | 9.9 MB 23.6 MB/s eta 0:00:01',\n",
              " '\\x1b[K     |███████████████████▋            | 9.9 MB 23.6 MB/s eta 0:00:01',\n",
              " '\\x1b[K     |███████████████████▋            | 9.9 MB 23.6 MB/s eta 0:00:01',\n",
              " '\\x1b[K     |███████████████████▋            | 9.9 MB 23.6 MB/s eta 0:00:01',\n",
              " '\\x1b[K     |███████████████████▊            | 9.9 MB 23.6 MB/s eta 0:00:01',\n",
              " '\\x1b[K     |███████████████████▊            | 10.0 MB 23.6 MB/s eta 0:00:01',\n",
              " '\\x1b[K     |███████████████████▊            | 10.0 MB 23.6 MB/s eta 0:00:01',\n",
              " '\\x1b[K     |███████████████████▊            | 10.0 MB 23.6 MB/s eta 0:00:01',\n",
              " '\\x1b[K     |███████████████████▊            | 10.0 MB 23.6 MB/s eta 0:00:01',\n",
              " '\\x1b[K     |███████████████████▊            | 10.0 MB 23.6 MB/s eta 0:00:01',\n",
              " '\\x1b[K     |███████████████████▉            | 10.0 MB 23.6 MB/s eta 0:00:01',\n",
              " '\\x1b[K     |███████████████████▉            | 10.0 MB 23.6 MB/s eta 0:00:01',\n",
              " '\\x1b[K     |███████████████████▉            | 10.0 MB 23.6 MB/s eta 0:00:01',\n",
              " '\\x1b[K     |███████████████████▉            | 10.0 MB 23.6 MB/s eta 0:00:01',\n",
              " '\\x1b[K     |███████████████████▉            | 10.0 MB 23.6 MB/s eta 0:00:01',\n",
              " '\\x1b[K     |████████████████████            | 10.1 MB 23.6 MB/s eta 0:00:01',\n",
              " '\\x1b[K     |████████████████████            | 10.1 MB 23.6 MB/s eta 0:00:01',\n",
              " '\\x1b[K     |████████████████████            | 10.1 MB 23.6 MB/s eta 0:00:01',\n",
              " '\\x1b[K     |████████████████████            | 10.1 MB 23.6 MB/s eta 0:00:01',\n",
              " '\\x1b[K     |████████████████████            | 10.1 MB 23.6 MB/s eta 0:00:01',\n",
              " '\\x1b[K     |████████████████████            | 10.1 MB 23.6 MB/s eta 0:00:01',\n",
              " '\\x1b[K     |████████████████████            | 10.1 MB 23.6 MB/s eta 0:00:01',\n",
              " '\\x1b[K     |████████████████████            | 10.1 MB 23.6 MB/s eta 0:00:01',\n",
              " '\\x1b[K     |████████████████████            | 10.1 MB 23.6 MB/s eta 0:00:01',\n",
              " '\\x1b[K     |████████████████████            | 10.1 MB 23.6 MB/s eta 0:00:01',\n",
              " '\\x1b[K     |████████████████████            | 10.2 MB 23.6 MB/s eta 0:00:01',\n",
              " '\\x1b[K     |████████████████████▏           | 10.2 MB 23.6 MB/s eta 0:00:01',\n",
              " '\\x1b[K     |████████████████████▏           | 10.2 MB 23.6 MB/s eta 0:00:01',\n",
              " '\\x1b[K     |████████████████████▏           | 10.2 MB 23.6 MB/s eta 0:00:01',\n",
              " '\\x1b[K     |████████████████████▏           | 10.2 MB 23.6 MB/s eta 0:00:01',\n",
              " '\\x1b[K     |████████████████████▏           | 10.2 MB 23.6 MB/s eta 0:00:01',\n",
              " ...]"
            ]
          },
          "metadata": {},
          "execution_count": 17
        }
      ]
    },
    {
      "cell_type": "code",
      "metadata": {
        "colab": {
          "base_uri": "https://localhost:8080/"
        },
        "id": "RRAlVmjjyQQz",
        "outputId": "54199f39-3604-4ca3-e044-c1fb9b25ee8b"
      },
      "source": [
        "import es_core_news_sm\n",
        "nlp = es_core_news_sm.load()\n",
        "doc = nlp(\"Yo amo Python.\")\n",
        "words = [token.text for token in doc]\n",
        "words"
      ],
      "execution_count": 18,
      "outputs": [
        {
          "output_type": "execute_result",
          "data": {
            "text/plain": [
              "['Yo', 'amo', 'Python', '.']"
            ]
          },
          "metadata": {},
          "execution_count": 18
        }
      ]
    },
    {
      "cell_type": "markdown",
      "metadata": {
        "id": "JcAKiAJ92Ol_"
      },
      "source": [
        "## Partes de etiquetado del discurso"
      ]
    },
    {
      "cell_type": "markdown",
      "metadata": {
        "id": "NculID9O2eHA"
      },
      "source": [
        "En muchos casos, el procesamiento de PNL depende de determinar las partes del habla de las palabras en el texto. Por ejemplo, en la clasificación de oraciones, a veces usamos las partes del habla de las palabras como una característica que se introduce en el clasificador. "
      ]
    },
    {
      "cell_type": "code",
      "metadata": {
        "colab": {
          "base_uri": "https://localhost:8080/"
        },
        "id": "HBTL2FTE2Uf4",
        "outputId": "0e9c86fe-ad7a-4dfc-f380-42927d1f05d8"
      },
      "source": [
        "# Importamos el paquete\n",
        "import spacy\n",
        "import es_core_news_sm\n",
        "# Cargamos el texto\n",
        "filename = \"codigo.txt\"\n",
        "file = open(filename, \"r\", encoding=\"utf-8\")\n",
        "text = file.read()\n",
        "# Preprocesamiento del texto\n",
        "text = text.replace(\"\\n\", \" \")\n",
        "# Iniciamos el motor Spacy\n",
        "nlp = es_core_news_sm.load()\n",
        "# Procesamos el texto\n",
        "doc = nlp(text)\n",
        "# Lista de tuplas con palabras y partes del etiquetado de voz\n",
        "words = [token.text for token in doc]\n",
        "pos = [token.pos_ for token in doc]\n",
        "word_pos_tuples = list(zip(words, pos))\n",
        "word_pos_tuples\n"
      ],
      "execution_count": 19,
      "outputs": [
        {
          "output_type": "execute_result",
          "data": {
            "text/plain": [
              "[('Las', 'DET'),\n",
              " ('ventajas', 'NOUN'),\n",
              " ('de', 'ADP'),\n",
              " ('la', 'DET'),\n",
              " ('programación', 'NOUN'),\n",
              " ('van', 'VERB'),\n",
              " ('más', 'ADV'),\n",
              " ('allá', 'ADV'),\n",
              " ('del', 'ADP'),\n",
              " (' ', 'SPACE'),\n",
              " ('entorno', 'NOUN'),\n",
              " ('laboral', 'ADJ'),\n",
              " ('.', 'PUNCT'),\n",
              " ('La', 'DET'),\n",
              " ('enseñanza', 'NOUN'),\n",
              " ('de', 'ADP'),\n",
              " ('esta', 'DET'),\n",
              " ('disciplina', 'NOUN'),\n",
              " (' ', 'SPACE'),\n",
              " ('fomenta', 'VERB'),\n",
              " ('el', 'DET'),\n",
              " ('pensamiento', 'NOUN'),\n",
              " ('computacional', 'ADJ'),\n",
              " ('.', 'PUNCT'),\n",
              " ('Este', 'DET'),\n",
              " ('proceso', 'NOUN'),\n",
              " (' ', 'SPACE'),\n",
              " ('de', 'ADP'),\n",
              " ('razonamiento', 'NOUN'),\n",
              " ('estructura', 'VERB'),\n",
              " ('la', 'DET'),\n",
              " ('mente', 'NOUN'),\n",
              " ('y', 'CONJ'),\n",
              " ('ordena', 'VERB'),\n",
              " ('las', 'DET'),\n",
              " ('ideas', 'NOUN'),\n",
              " ('.', 'PUNCT'),\n",
              " (' ', 'SPACE'),\n",
              " ('“', 'PROPN'),\n",
              " ('Te', 'PRON'),\n",
              " ('permite', 'VERB'),\n",
              " ('dividir', 'VERB'),\n",
              " ('un', 'DET'),\n",
              " ('problema', 'NOUN'),\n",
              " ('grande', 'ADJ'),\n",
              " ('en', 'ADP'),\n",
              " ('problemas', 'NOUN'),\n",
              " (' ', 'SPACE'),\n",
              " ('más', 'ADV'),\n",
              " ('pequeños', 'ADJ'),\n",
              " ('”', 'PROPN'),\n",
              " (',', 'PUNCT'),\n",
              " ('explica', 'VERB'),\n",
              " ('García', 'PROPN'),\n",
              " ('.', 'PUNCT')]"
            ]
          },
          "metadata": {},
          "execution_count": 19
        }
      ]
    },
    {
      "cell_type": "markdown",
      "metadata": {
        "id": "zvQNzvK8kShM"
      },
      "source": [
        "## Stemming de palabras"
      ]
    },
    {
      "cell_type": "code",
      "metadata": {
        "id": "6_rrGk59kO6J"
      },
      "source": [
        "# Importamos Snowball Stemmer\n",
        "from nltk.stem.snowball import SnowballStemmer"
      ],
      "execution_count": 20,
      "outputs": []
    },
    {
      "cell_type": "code",
      "metadata": {
        "id": "87MucaZ1kp3p"
      },
      "source": [
        "# Inicializamos el \"stemmer\" con inglés.\n",
        "stemmer = SnowballStemmer('english')"
      ],
      "execution_count": 21,
      "outputs": []
    },
    {
      "cell_type": "code",
      "metadata": {
        "id": "rHw8UEVokxah"
      },
      "source": [
        "# Creamos una lista con palabras para stem:\n",
        "words = ['leaf', 'leaves', 'booking', 'writing',\n",
        " 'completed', 'stemming', 'skies']"
      ],
      "execution_count": 22,
      "outputs": []
    },
    {
      "cell_type": "code",
      "metadata": {
        "colab": {
          "base_uri": "https://localhost:8080/"
        },
        "id": "e1wJpnJBkxjB",
        "outputId": "4184633f-1f49-4678-819a-a29a499e9511"
      },
      "source": [
        "# Stem las palabas\n",
        "stemmed_words = [stemmer.stem(word) for word in words]\n",
        "stemmed_words"
      ],
      "execution_count": 23,
      "outputs": [
        {
          "output_type": "execute_result",
          "data": {
            "text/plain": [
              "['leaf', 'leav', 'book', 'write', 'complet', 'stem', 'sky']"
            ]
          },
          "metadata": {},
          "execution_count": 23
        }
      ]
    },
    {
      "cell_type": "markdown",
      "metadata": {
        "id": "KkFvpB9llF-7"
      },
      "source": [
        "Probamos con español"
      ]
    },
    {
      "cell_type": "code",
      "metadata": {
        "colab": {
          "base_uri": "https://localhost:8080/"
        },
        "id": "cF3YS7D1lEjc",
        "outputId": "663317a9-398b-432b-e224-9f2ffaf53a00"
      },
      "source": [
        "stemmer = SnowballStemmer('spanish')\n",
        "spanish_words = ['caminando', 'amigo', 'bueno']\n",
        "stemmed_words = [stemmer.stem(word) for word in spanish_words]\n",
        "stemmed_words"
      ],
      "execution_count": 24,
      "outputs": [
        {
          "output_type": "execute_result",
          "data": {
            "text/plain": [
              "['camin', 'amig', 'buen']"
            ]
          },
          "metadata": {},
          "execution_count": 24
        }
      ]
    },
    {
      "cell_type": "markdown",
      "metadata": {
        "id": "-zj3OANMm10-"
      },
      "source": [
        "## Combinación de palabras similares - lemmatización"
      ]
    },
    {
      "cell_type": "code",
      "metadata": {
        "colab": {
          "base_uri": "https://localhost:8080/"
        },
        "id": "QGQk44GlnkBO",
        "outputId": "1ff04c2f-49c0-4828-aa8f-551ec9831922"
      },
      "source": [
        " nltk.download('wordnet')"
      ],
      "execution_count": 25,
      "outputs": [
        {
          "output_type": "stream",
          "name": "stdout",
          "text": [
            "[nltk_data] Downloading package wordnet to /root/nltk_data...\n",
            "[nltk_data]   Unzipping corpora/wordnet.zip.\n"
          ]
        },
        {
          "output_type": "execute_result",
          "data": {
            "text/plain": [
              "True"
            ]
          },
          "metadata": {},
          "execution_count": 25
        }
      ]
    },
    {
      "cell_type": "code",
      "metadata": {
        "id": "YG5TKwD-m9t5"
      },
      "source": [
        "# Importamos NLTK WordNet lemmatizer:\n",
        "from nltk.stem import WordNetLemmatizer"
      ],
      "execution_count": 26,
      "outputs": []
    },
    {
      "cell_type": "code",
      "metadata": {
        "id": "VFZ7Lgr-nOvr"
      },
      "source": [
        "# Iniciamos el lemmatizer:\n",
        "lemmatizer = WordNetLemmatizer()"
      ],
      "execution_count": 27,
      "outputs": []
    },
    {
      "cell_type": "code",
      "metadata": {
        "id": "cp1T_R9bnUTv"
      },
      "source": [
        "# Creamos una lista de palabras para lemmatizar\n",
        "words = ['duck', 'geese', 'cats', 'books']"
      ],
      "execution_count": 28,
      "outputs": []
    },
    {
      "cell_type": "code",
      "metadata": {
        "colab": {
          "base_uri": "https://localhost:8080/"
        },
        "id": "1uZXAurwnaGB",
        "outputId": "3cac78b0-4e39-4a22-c813-02333a049069"
      },
      "source": [
        "# Lemmatizamos las palabras\n",
        "lemmatized_words = [lemmatizer.lemmatize(word) for word in words]\n",
        "lemmatized_words"
      ],
      "execution_count": 29,
      "outputs": [
        {
          "output_type": "execute_result",
          "data": {
            "text/plain": [
              "['duck', 'goose', 'cat', 'book']"
            ]
          },
          "metadata": {},
          "execution_count": 29
        }
      ]
    },
    {
      "cell_type": "markdown",
      "metadata": {
        "id": "OPhRAQYDn8yp"
      },
      "source": [
        "La función lemmatize tiene un parámetro, pos (para partes del habla), que se establece como sustantivo por defecto. Si desea lemmatizar un verbo o un adjetivo, debe especificarlo explícitamente:"
      ]
    },
    {
      "cell_type": "code",
      "metadata": {
        "colab": {
          "base_uri": "https://localhost:8080/",
          "height": 35
        },
        "id": "OPhlpbgSoESz",
        "outputId": "e48d074a-3dc7-40dc-c3e8-872de7648c88"
      },
      "source": [
        "lemmatizer.lemmatize('loved', 'v')"
      ],
      "execution_count": 30,
      "outputs": [
        {
          "output_type": "execute_result",
          "data": {
            "application/vnd.google.colaboratory.intrinsic+json": {
              "type": "string"
            },
            "text/plain": [
              "'love'"
            ]
          },
          "metadata": {},
          "execution_count": 30
        }
      ]
    },
    {
      "cell_type": "code",
      "metadata": {
        "id": "NODDIFfUoMvD",
        "colab": {
          "base_uri": "https://localhost:8080/",
          "height": 35
        },
        "outputId": "1f5b8fd7-7634-47e3-98b3-3dda8cf41239"
      },
      "source": [
        " lemmatizer.lemmatize('worse', 'a')"
      ],
      "execution_count": 31,
      "outputs": [
        {
          "output_type": "execute_result",
          "data": {
            "application/vnd.google.colaboratory.intrinsic+json": {
              "type": "string"
            },
            "text/plain": [
              "'bad'"
            ]
          },
          "metadata": {},
          "execution_count": 31
        }
      ]
    },
    {
      "cell_type": "markdown",
      "metadata": {
        "id": "XNP12wsDJuec"
      },
      "source": [
        "## Eliminar stopwords"
      ]
    },
    {
      "cell_type": "code",
      "metadata": {
        "id": "Do_Kcb7kJ24q"
      },
      "source": [
        "# Importamos paquetes\n",
        "import csv\n",
        "import nltk"
      ],
      "execution_count": 32,
      "outputs": []
    },
    {
      "cell_type": "code",
      "metadata": {
        "colab": {
          "base_uri": "https://localhost:8080/"
        },
        "id": "Az_sCBcFL-tr",
        "outputId": "58868dec-2a95-4ab2-8fc5-3347d257c4be"
      },
      "source": [
        "nltk.download('stopwords')"
      ],
      "execution_count": 33,
      "outputs": [
        {
          "output_type": "stream",
          "name": "stdout",
          "text": [
            "[nltk_data] Downloading package stopwords to /root/nltk_data...\n",
            "[nltk_data]   Unzipping corpora/stopwords.zip.\n"
          ]
        },
        {
          "output_type": "execute_result",
          "data": {
            "text/plain": [
              "True"
            ]
          },
          "metadata": {},
          "execution_count": 33
        }
      ]
    },
    {
      "cell_type": "code",
      "metadata": {
        "id": "Z2P5XMCgKGFS"
      },
      "source": [
        "# Lista predeterminada de NLTK:\n",
        "stopwords = nltk.corpus.stopwords.words('english')"
      ],
      "execution_count": 34,
      "outputs": []
    },
    {
      "cell_type": "code",
      "metadata": {
        "colab": {
          "base_uri": "https://localhost:8080/"
        },
        "id": "tU4I25BZMD7d",
        "outputId": "1dac513f-a5a6-4ad4-d76f-4054fe43775e"
      },
      "source": [
        "# Lectura del texto\n",
        "filename = \"coding.txt\"\n",
        "file = open(filename, \"r\", encoding=\"utf-8\")\n",
        "text = file.read()\n",
        "text = text.replace(\"\\n\", \" \")\n",
        "# Tokenizar el texto\n",
        "words = nltk.tokenize.word_tokenize(text)\n",
        "# Eliminamos los stopwords\n",
        "words_2 = [word for word in words if word.lower() not in stopwords]\n",
        "print(\"Texto completo: \")\n",
        "print(words)\n",
        "print()\n",
        "print(\"Texto sin stopwords: \")\n",
        "print(words_2)"
      ],
      "execution_count": 35,
      "outputs": [
        {
          "output_type": "stream",
          "name": "stdout",
          "text": [
            "Texto completo: \n",
            "['Put', 'simply', ',', 'Coding', 'is', 'the', 'a', 'method', 'of', 'communicating', 'with', 'a', 'computer', '.', 'It', 'is', 'using', 'a', 'language', 'that', 'a', 'computer', 'understands', 'to', 'give', 'a', 'computer', 'instructions', 'in', 'order', 'to', 'perform', 'specific', 'functions', '.', 'Coding', 'allows', 'us', 'to', 'create', 'things', 'such', 'as', 'computer', 'software', ',', 'websites', ',', 'apps', 'and', 'video', 'games', '.']\n",
            "\n",
            "Texto sin stopwords: \n",
            "['Put', 'simply', ',', 'Coding', 'method', 'communicating', 'computer', '.', 'using', 'language', 'computer', 'understands', 'give', 'computer', 'instructions', 'order', 'perform', 'specific', 'functions', '.', 'Coding', 'allows', 'us', 'create', 'things', 'computer', 'software', ',', 'websites', ',', 'apps', 'video', 'games', '.']\n"
          ]
        }
      ]
    },
    {
      "cell_type": "markdown",
      "metadata": {
        "id": "f4FtC0BlNWfR"
      },
      "source": [
        "**Y en español**"
      ]
    },
    {
      "cell_type": "code",
      "metadata": {
        "colab": {
          "base_uri": "https://localhost:8080/"
        },
        "id": "_79gjxTcNbom",
        "outputId": "ee3775bd-6064-4e6c-df70-6413047913ba"
      },
      "source": [
        "# Lista predeterminada de NLTK:\n",
        "stopwords = nltk.corpus.stopwords.words('spanish')\n",
        "# Lectura del texto\n",
        "filename = \"codigo.txt\"\n",
        "file = open(filename, \"r\", encoding=\"utf-8\")\n",
        "text = file.read()\n",
        "text = text.replace(\"\\n\", \" \")\n",
        "# Tokenizar el texto\n",
        "words = nltk.tokenize.word_tokenize(text)\n",
        "# Eliminamos los stopwords\n",
        "words_2 = [word for word in words if word.lower() not in stopwords]\n",
        "print(\"Texto completo: \")\n",
        "print(words)\n",
        "print()\n",
        "print(\"Texto sin stopwords: \")\n",
        "print(words_2)\n"
      ],
      "execution_count": 36,
      "outputs": [
        {
          "output_type": "stream",
          "name": "stdout",
          "text": [
            "Texto completo: \n",
            "['Las', 'ventajas', 'de', 'la', 'programación', 'van', 'más', 'allá', 'del', 'entorno', 'laboral', '.', 'La', 'enseñanza', 'de', 'esta', 'disciplina', 'fomenta', 'el', 'pensamiento', 'computacional', '.', 'Este', 'proceso', 'de', 'razonamiento', 'estructura', 'la', 'mente', 'y', 'ordena', 'las', 'ideas', '.', '“', 'Te', 'permite', 'dividir', 'un', 'problema', 'grande', 'en', 'problemas', 'más', 'pequeños', '”', ',', 'explica', 'García', '.']\n",
            "\n",
            "Texto sin stopwords: \n",
            "['ventajas', 'programación', 'van', 'allá', 'entorno', 'laboral', '.', 'enseñanza', 'disciplina', 'fomenta', 'pensamiento', 'computacional', '.', 'proceso', 'razonamiento', 'estructura', 'mente', 'ordena', 'ideas', '.', '“', 'permite', 'dividir', 'problema', 'grande', 'problemas', 'pequeños', '”', ',', 'explica', 'García', '.']\n"
          ]
        }
      ]
    },
    {
      "cell_type": "markdown",
      "metadata": {
        "id": "0aHLp4_aPTPX"
      },
      "source": [
        "**Bonus**\n",
        "\n",
        "También podemos compilar una lista de palabras clave usando el texto con el que estamos trabajando y calculando las frecuencias de las palabras en él."
      ]
    },
    {
      "cell_type": "code",
      "metadata": {
        "id": "vofT9yjKPV4c"
      },
      "source": [
        "# Importamos el módulo ntlk y la clase FreqDist\n",
        "import nltk\n",
        "from nltk.probability import FreqDist"
      ],
      "execution_count": 37,
      "outputs": []
    },
    {
      "cell_type": "markdown",
      "metadata": {
        "id": "7l4qmMvgUBnX"
      },
      "source": [
        "Cree el objeto de distribución de frecuencia y utilícelo para crear una lista de tuplas donde el primer elemento es la palabra y el segundo es el conteo de frecuencia:"
      ]
    },
    {
      "cell_type": "code",
      "metadata": {
        "id": "f1BcbooaUBDm"
      },
      "source": [
        "freq_dist = FreqDist(word.lower() for word in words)\n",
        "words_with_frequencies = [(word, freq_dist[word]) for word in freq_dist.keys()]"
      ],
      "execution_count": 38,
      "outputs": []
    },
    {
      "cell_type": "code",
      "metadata": {
        "colab": {
          "base_uri": "https://localhost:8080/"
        },
        "id": "4Ol8vKclUH94",
        "outputId": "97b1d07b-b619-464b-8dd9-a1631daf69aa"
      },
      "source": [
        "# organizar la lista de tuplas por frecuencia\n",
        "sorted_words = sorted(words_with_frequencies, key=lambda tup: tup[1])\n",
        "sorted_words"
      ],
      "execution_count": 39,
      "outputs": [
        {
          "output_type": "execute_result",
          "data": {
            "text/plain": [
              "[('ventajas', 1),\n",
              " ('programación', 1),\n",
              " ('van', 1),\n",
              " ('allá', 1),\n",
              " ('del', 1),\n",
              " ('entorno', 1),\n",
              " ('laboral', 1),\n",
              " ('enseñanza', 1),\n",
              " ('esta', 1),\n",
              " ('disciplina', 1),\n",
              " ('fomenta', 1),\n",
              " ('el', 1),\n",
              " ('pensamiento', 1),\n",
              " ('computacional', 1),\n",
              " ('este', 1),\n",
              " ('proceso', 1),\n",
              " ('razonamiento', 1),\n",
              " ('estructura', 1),\n",
              " ('mente', 1),\n",
              " ('y', 1),\n",
              " ('ordena', 1),\n",
              " ('ideas', 1),\n",
              " ('“', 1),\n",
              " ('te', 1),\n",
              " ('permite', 1),\n",
              " ('dividir', 1),\n",
              " ('un', 1),\n",
              " ('problema', 1),\n",
              " ('grande', 1),\n",
              " ('en', 1),\n",
              " ('problemas', 1),\n",
              " ('pequeños', 1),\n",
              " ('”', 1),\n",
              " (',', 1),\n",
              " ('explica', 1),\n",
              " ('garcía', 1),\n",
              " ('las', 2),\n",
              " ('más', 2),\n",
              " ('de', 3),\n",
              " ('la', 3),\n",
              " ('.', 4)]"
            ]
          },
          "metadata": {},
          "execution_count": 39
        }
      ]
    },
    {
      "cell_type": "code",
      "metadata": {
        "colab": {
          "base_uri": "https://localhost:8080/"
        },
        "id": "osoeCqq4UWls",
        "outputId": "a874e03d-47bb-4c58-8465-42c9e3cee797"
      },
      "source": [
        "# Utilizamos un corte de frecuencia para las stopwords.\n",
        "# usamos 1 como frecuencia de corte:\n",
        "stopwords = [tuple[0] for tuple in sorted_words if tuple[1] > 1]\n",
        "stopwords"
      ],
      "execution_count": 40,
      "outputs": [
        {
          "output_type": "execute_result",
          "data": {
            "text/plain": [
              "['las', 'más', 'de', 'la', '.']"
            ]
          },
          "metadata": {},
          "execution_count": 40
        }
      ]
    },
    {
      "cell_type": "code",
      "metadata": {
        "colab": {
          "base_uri": "https://localhost:8080/"
        },
        "id": "Xn06AtNOVAXM",
        "outputId": "ba2baf3f-38fd-4ee9-a496-dc6f08aeb0ab"
      },
      "source": [
        "# Otra opción: usar n% de palabras más frecuentes\n",
        "length_cutoff = int(0.1*len(sorted_words))\n",
        "stopwords = [tuple[0] for tuple in sorted_words[-length_cutoff:]]\n",
        "stopwords"
      ],
      "execution_count": 41,
      "outputs": [
        {
          "output_type": "execute_result",
          "data": {
            "text/plain": [
              "['más', 'de', 'la', '.']"
            ]
          },
          "metadata": {},
          "execution_count": 41
        }
      ]
    },
    {
      "cell_type": "markdown",
      "metadata": {
        "id": "lSP6f20jVYPE"
      },
      "source": [
        "# Jugando con la gramática"
      ]
    },
    {
      "cell_type": "markdown",
      "metadata": {
        "id": "GSLs1YzNWxDq"
      },
      "source": [
        "Vamos a usar diferentes paquetes para revelar la estructura gramatical de las palabras y oraciones, así como extraer ciertas partes de las oraciones."
      ]
    },
    {
      "cell_type": "code",
      "metadata": {
        "colab": {
          "base_uri": "https://localhost:8080/",
          "height": 1000
        },
        "id": "z1qrAAOQVbRv",
        "outputId": "e08ac88d-7c0f-4c02-d63f-79b9f07860d6"
      },
      "source": [
        "# Requerimientos\n",
        "!pip install inflect\n",
        "!python -m spacy download en_core_web_md\n",
        "!pip install textacy"
      ],
      "execution_count": 42,
      "outputs": [
        {
          "output_type": "stream",
          "name": "stdout",
          "text": [
            "Requirement already satisfied: inflect in /usr/local/lib/python3.7/dist-packages (2.1.0)\n",
            "Collecting en_core_web_md==2.2.5\n",
            "  Downloading https://github.com/explosion/spacy-models/releases/download/en_core_web_md-2.2.5/en_core_web_md-2.2.5.tar.gz (96.4 MB)\n",
            "\u001b[K     |████████████████████████████████| 96.4 MB 1.3 MB/s \n",
            "\u001b[?25hRequirement already satisfied: spacy>=2.2.2 in /usr/local/lib/python3.7/dist-packages (from en_core_web_md==2.2.5) (2.2.4)\n",
            "Requirement already satisfied: requests<3.0.0,>=2.13.0 in /usr/local/lib/python3.7/dist-packages (from spacy>=2.2.2->en_core_web_md==2.2.5) (2.23.0)\n",
            "Requirement already satisfied: cymem<2.1.0,>=2.0.2 in /usr/local/lib/python3.7/dist-packages (from spacy>=2.2.2->en_core_web_md==2.2.5) (2.0.6)\n",
            "Requirement already satisfied: tqdm<5.0.0,>=4.38.0 in /usr/local/lib/python3.7/dist-packages (from spacy>=2.2.2->en_core_web_md==2.2.5) (4.62.3)\n",
            "Requirement already satisfied: plac<1.2.0,>=0.9.6 in /usr/local/lib/python3.7/dist-packages (from spacy>=2.2.2->en_core_web_md==2.2.5) (1.1.3)\n",
            "Requirement already satisfied: srsly<1.1.0,>=1.0.2 in /usr/local/lib/python3.7/dist-packages (from spacy>=2.2.2->en_core_web_md==2.2.5) (1.0.5)\n",
            "Requirement already satisfied: numpy>=1.15.0 in /usr/local/lib/python3.7/dist-packages (from spacy>=2.2.2->en_core_web_md==2.2.5) (1.19.5)\n",
            "Requirement already satisfied: wasabi<1.1.0,>=0.4.0 in /usr/local/lib/python3.7/dist-packages (from spacy>=2.2.2->en_core_web_md==2.2.5) (0.8.2)\n",
            "Requirement already satisfied: setuptools in /usr/local/lib/python3.7/dist-packages (from spacy>=2.2.2->en_core_web_md==2.2.5) (57.4.0)\n",
            "Requirement already satisfied: preshed<3.1.0,>=3.0.2 in /usr/local/lib/python3.7/dist-packages (from spacy>=2.2.2->en_core_web_md==2.2.5) (3.0.6)\n",
            "Requirement already satisfied: blis<0.5.0,>=0.4.0 in /usr/local/lib/python3.7/dist-packages (from spacy>=2.2.2->en_core_web_md==2.2.5) (0.4.1)\n",
            "Requirement already satisfied: catalogue<1.1.0,>=0.0.7 in /usr/local/lib/python3.7/dist-packages (from spacy>=2.2.2->en_core_web_md==2.2.5) (1.0.0)\n",
            "Requirement already satisfied: murmurhash<1.1.0,>=0.28.0 in /usr/local/lib/python3.7/dist-packages (from spacy>=2.2.2->en_core_web_md==2.2.5) (1.0.6)\n",
            "Requirement already satisfied: thinc==7.4.0 in /usr/local/lib/python3.7/dist-packages (from spacy>=2.2.2->en_core_web_md==2.2.5) (7.4.0)\n",
            "Requirement already satisfied: importlib-metadata>=0.20 in /usr/local/lib/python3.7/dist-packages (from catalogue<1.1.0,>=0.0.7->spacy>=2.2.2->en_core_web_md==2.2.5) (4.8.2)\n",
            "Requirement already satisfied: typing-extensions>=3.6.4 in /usr/local/lib/python3.7/dist-packages (from importlib-metadata>=0.20->catalogue<1.1.0,>=0.0.7->spacy>=2.2.2->en_core_web_md==2.2.5) (3.10.0.2)\n",
            "Requirement already satisfied: zipp>=0.5 in /usr/local/lib/python3.7/dist-packages (from importlib-metadata>=0.20->catalogue<1.1.0,>=0.0.7->spacy>=2.2.2->en_core_web_md==2.2.5) (3.6.0)\n",
            "Requirement already satisfied: certifi>=2017.4.17 in /usr/local/lib/python3.7/dist-packages (from requests<3.0.0,>=2.13.0->spacy>=2.2.2->en_core_web_md==2.2.5) (2021.10.8)\n",
            "Requirement already satisfied: urllib3!=1.25.0,!=1.25.1,<1.26,>=1.21.1 in /usr/local/lib/python3.7/dist-packages (from requests<3.0.0,>=2.13.0->spacy>=2.2.2->en_core_web_md==2.2.5) (1.24.3)\n",
            "Requirement already satisfied: chardet<4,>=3.0.2 in /usr/local/lib/python3.7/dist-packages (from requests<3.0.0,>=2.13.0->spacy>=2.2.2->en_core_web_md==2.2.5) (3.0.4)\n",
            "Requirement already satisfied: idna<3,>=2.5 in /usr/local/lib/python3.7/dist-packages (from requests<3.0.0,>=2.13.0->spacy>=2.2.2->en_core_web_md==2.2.5) (2.10)\n",
            "Building wheels for collected packages: en-core-web-md\n",
            "  Building wheel for en-core-web-md (setup.py) ... \u001b[?25l\u001b[?25hdone\n",
            "  Created wheel for en-core-web-md: filename=en_core_web_md-2.2.5-py3-none-any.whl size=98051302 sha256=31c780c93f41d6fa843964c6abb52749188ad72f066f22824ba0e21d4f14f7b3\n",
            "  Stored in directory: /tmp/pip-ephem-wheel-cache-xgqurw5l/wheels/69/c5/b8/4f1c029d89238734311b3269762ab2ee325a42da2ce8edb997\n",
            "Successfully built en-core-web-md\n",
            "Installing collected packages: en-core-web-md\n",
            "Successfully installed en-core-web-md-2.2.5\n",
            "\u001b[38;5;2m✔ Download and installation successful\u001b[0m\n",
            "You can now load the model via spacy.load('en_core_web_md')\n",
            "Collecting textacy\n",
            "  Downloading textacy-0.11.0-py3-none-any.whl (200 kB)\n",
            "\u001b[K     |████████████████████████████████| 200 kB 27.1 MB/s \n",
            "\u001b[?25hRequirement already satisfied: scikit-learn>=0.19.0 in /usr/local/lib/python3.7/dist-packages (from textacy) (1.0.1)\n",
            "Collecting pyphen>=0.10.0\n",
            "  Downloading pyphen-0.11.0-py3-none-any.whl (2.0 MB)\n",
            "\u001b[K     |████████████████████████████████| 2.0 MB 34.5 MB/s \n",
            "\u001b[?25hRequirement already satisfied: requests>=2.10.0 in /usr/local/lib/python3.7/dist-packages (from textacy) (2.23.0)\n",
            "Requirement already satisfied: tqdm>=4.19.6 in /usr/local/lib/python3.7/dist-packages (from textacy) (4.62.3)\n",
            "Requirement already satisfied: scipy>=0.17.0 in /usr/local/lib/python3.7/dist-packages (from textacy) (1.4.1)\n",
            "Requirement already satisfied: joblib>=0.13.0 in /usr/local/lib/python3.7/dist-packages (from textacy) (1.1.0)\n",
            "Requirement already satisfied: cachetools>=4.0.0 in /usr/local/lib/python3.7/dist-packages (from textacy) (4.2.4)\n",
            "Collecting spacy>=3.0.0\n",
            "  Downloading spacy-3.2.1-cp37-cp37m-manylinux_2_17_x86_64.manylinux2014_x86_64.whl (6.0 MB)\n",
            "\u001b[K     |████████████████████████████████| 6.0 MB 29.5 MB/s \n",
            "\u001b[?25hCollecting cytoolz>=0.10.1\n",
            "  Downloading cytoolz-0.11.2.tar.gz (481 kB)\n",
            "\u001b[K     |████████████████████████████████| 481 kB 54.8 MB/s \n",
            "\u001b[?25hRequirement already satisfied: networkx>=2.0 in /usr/local/lib/python3.7/dist-packages (from textacy) (2.6.3)\n",
            "Requirement already satisfied: numpy>=1.17.0 in /usr/local/lib/python3.7/dist-packages (from textacy) (1.19.5)\n",
            "Collecting jellyfish>=0.8.0\n",
            "  Downloading jellyfish-0.8.9.tar.gz (137 kB)\n",
            "\u001b[K     |████████████████████████████████| 137 kB 55.3 MB/s \n",
            "\u001b[?25hRequirement already satisfied: toolz>=0.8.0 in /usr/local/lib/python3.7/dist-packages (from cytoolz>=0.10.1->textacy) (0.11.2)\n",
            "Requirement already satisfied: urllib3!=1.25.0,!=1.25.1,<1.26,>=1.21.1 in /usr/local/lib/python3.7/dist-packages (from requests>=2.10.0->textacy) (1.24.3)\n",
            "Requirement already satisfied: certifi>=2017.4.17 in /usr/local/lib/python3.7/dist-packages (from requests>=2.10.0->textacy) (2021.10.8)\n",
            "Requirement already satisfied: idna<3,>=2.5 in /usr/local/lib/python3.7/dist-packages (from requests>=2.10.0->textacy) (2.10)\n",
            "Requirement already satisfied: chardet<4,>=3.0.2 in /usr/local/lib/python3.7/dist-packages (from requests>=2.10.0->textacy) (3.0.4)\n",
            "Requirement already satisfied: threadpoolctl>=2.0.0 in /usr/local/lib/python3.7/dist-packages (from scikit-learn>=0.19.0->textacy) (3.0.0)\n",
            "Requirement already satisfied: blis<0.8.0,>=0.4.0 in /usr/local/lib/python3.7/dist-packages (from spacy>=3.0.0->textacy) (0.4.1)\n",
            "Requirement already satisfied: typing-extensions<4.0.0.0,>=3.7.4 in /usr/local/lib/python3.7/dist-packages (from spacy>=3.0.0->textacy) (3.10.0.2)\n",
            "Collecting langcodes<4.0.0,>=3.2.0\n",
            "  Downloading langcodes-3.3.0-py3-none-any.whl (181 kB)\n",
            "\u001b[K     |████████████████████████████████| 181 kB 29.1 MB/s \n",
            "\u001b[?25hCollecting pydantic!=1.8,!=1.8.1,<1.9.0,>=1.7.4\n",
            "  Downloading pydantic-1.8.2-cp37-cp37m-manylinux2014_x86_64.whl (10.1 MB)\n",
            "\u001b[K     |████████████████████████████████| 10.1 MB 43.8 MB/s \n",
            "\u001b[?25hCollecting typer<0.5.0,>=0.3.0\n",
            "  Downloading typer-0.4.0-py3-none-any.whl (27 kB)\n",
            "Requirement already satisfied: jinja2 in /usr/local/lib/python3.7/dist-packages (from spacy>=3.0.0->textacy) (2.11.3)\n",
            "Collecting spacy-loggers<2.0.0,>=1.0.0\n",
            "  Downloading spacy_loggers-1.0.1-py3-none-any.whl (7.0 kB)\n",
            "Collecting catalogue<2.1.0,>=2.0.6\n",
            "  Downloading catalogue-2.0.6-py3-none-any.whl (17 kB)\n",
            "Requirement already satisfied: murmurhash<1.1.0,>=0.28.0 in /usr/local/lib/python3.7/dist-packages (from spacy>=3.0.0->textacy) (1.0.6)\n",
            "Requirement already satisfied: wasabi<1.1.0,>=0.8.1 in /usr/local/lib/python3.7/dist-packages (from spacy>=3.0.0->textacy) (0.8.2)\n",
            "Requirement already satisfied: setuptools in /usr/local/lib/python3.7/dist-packages (from spacy>=3.0.0->textacy) (57.4.0)\n",
            "Requirement already satisfied: packaging>=20.0 in /usr/local/lib/python3.7/dist-packages (from spacy>=3.0.0->textacy) (21.3)\n",
            "Collecting srsly<3.0.0,>=2.4.1\n",
            "  Downloading srsly-2.4.2-cp37-cp37m-manylinux_2_17_x86_64.manylinux2014_x86_64.whl (451 kB)\n",
            "\u001b[K     |████████████████████████████████| 451 kB 44.7 MB/s \n",
            "\u001b[?25hCollecting thinc<8.1.0,>=8.0.12\n",
            "  Downloading thinc-8.0.13-cp37-cp37m-manylinux_2_17_x86_64.manylinux2014_x86_64.whl (628 kB)\n",
            "\u001b[K     |████████████████████████████████| 628 kB 44.6 MB/s \n",
            "\u001b[?25hRequirement already satisfied: cymem<2.1.0,>=2.0.2 in /usr/local/lib/python3.7/dist-packages (from spacy>=3.0.0->textacy) (2.0.6)\n",
            "Requirement already satisfied: preshed<3.1.0,>=3.0.2 in /usr/local/lib/python3.7/dist-packages (from spacy>=3.0.0->textacy) (3.0.6)\n",
            "Collecting spacy-legacy<3.1.0,>=3.0.8\n",
            "  Downloading spacy_legacy-3.0.8-py2.py3-none-any.whl (14 kB)\n",
            "Collecting pathy>=0.3.5\n",
            "  Downloading pathy-0.6.1-py3-none-any.whl (42 kB)\n",
            "\u001b[K     |████████████████████████████████| 42 kB 1.4 MB/s \n",
            "\u001b[?25hRequirement already satisfied: zipp>=0.5 in /usr/local/lib/python3.7/dist-packages (from catalogue<2.1.0,>=2.0.6->spacy>=3.0.0->textacy) (3.6.0)\n",
            "Requirement already satisfied: pyparsing!=3.0.5,>=2.0.2 in /usr/local/lib/python3.7/dist-packages (from packaging>=20.0->spacy>=3.0.0->textacy) (3.0.6)\n",
            "Requirement already satisfied: smart-open<6.0.0,>=5.0.0 in /usr/local/lib/python3.7/dist-packages (from pathy>=0.3.5->spacy>=3.0.0->textacy) (5.2.1)\n",
            "Requirement already satisfied: click<9.0.0,>=7.1.1 in /usr/local/lib/python3.7/dist-packages (from typer<0.5.0,>=0.3.0->spacy>=3.0.0->textacy) (7.1.2)\n",
            "Requirement already satisfied: MarkupSafe>=0.23 in /usr/local/lib/python3.7/dist-packages (from jinja2->spacy>=3.0.0->textacy) (2.0.1)\n",
            "Building wheels for collected packages: cytoolz, jellyfish\n",
            "  Building wheel for cytoolz (setup.py) ... \u001b[?25l\u001b[?25hdone\n",
            "  Created wheel for cytoolz: filename=cytoolz-0.11.2-cp37-cp37m-linux_x86_64.whl size=1231128 sha256=f55e93792766dcf1d10b816a8b1a06bce5994678c6cb69f220a08f7a6eedcc7c\n",
            "  Stored in directory: /root/.cache/pip/wheels/38/70/71/ca13ea3d36ccd0b3d0ec7d7a4ca67522048d695b556bba4f59\n",
            "  Building wheel for jellyfish (setup.py) ... \u001b[?25l\u001b[?25hdone\n",
            "  Created wheel for jellyfish: filename=jellyfish-0.8.9-cp37-cp37m-linux_x86_64.whl size=73231 sha256=5a21c129574b81daf9ed1cda90498e20cbfa8fd76db4bdbb129436c823548db6\n",
            "  Stored in directory: /root/.cache/pip/wheels/32/a9/ef/5d8742e72deaf0d1de327a180d008c2c0299367581800ea73f\n",
            "Successfully built cytoolz jellyfish\n",
            "Installing collected packages: catalogue, typer, srsly, pydantic, thinc, spacy-loggers, spacy-legacy, pathy, langcodes, spacy, pyphen, jellyfish, cytoolz, textacy\n",
            "  Attempting uninstall: catalogue\n",
            "    Found existing installation: catalogue 1.0.0\n",
            "    Uninstalling catalogue-1.0.0:\n",
            "      Successfully uninstalled catalogue-1.0.0\n",
            "  Attempting uninstall: srsly\n",
            "    Found existing installation: srsly 1.0.5\n",
            "    Uninstalling srsly-1.0.5:\n",
            "      Successfully uninstalled srsly-1.0.5\n",
            "  Attempting uninstall: thinc\n",
            "    Found existing installation: thinc 7.4.0\n",
            "    Uninstalling thinc-7.4.0:\n",
            "      Successfully uninstalled thinc-7.4.0\n",
            "  Attempting uninstall: spacy\n",
            "    Found existing installation: spacy 2.2.4\n",
            "    Uninstalling spacy-2.2.4:\n",
            "      Successfully uninstalled spacy-2.2.4\n",
            "Successfully installed catalogue-2.0.6 cytoolz-0.11.2 jellyfish-0.8.9 langcodes-3.3.0 pathy-0.6.1 pydantic-1.8.2 pyphen-0.11.0 spacy-3.2.1 spacy-legacy-3.0.8 spacy-loggers-1.0.1 srsly-2.4.2 textacy-0.11.0 thinc-8.0.13 typer-0.4.0\n"
          ]
        },
        {
          "output_type": "display_data",
          "data": {
            "application/vnd.colab-display-data+json": {
              "pip_warning": {
                "packages": [
                  "catalogue",
                  "spacy",
                  "srsly",
                  "thinc"
                ]
              }
            }
          },
          "metadata": {}
        }
      ]
    },
    {
      "cell_type": "code",
      "metadata": {
        "colab": {
          "base_uri": "https://localhost:8080/",
          "height": 1000
        },
        "id": "tfFigwfBYPgu",
        "outputId": "69901f2b-0c5f-4feb-d4fd-8d938be9a1c2"
      },
      "source": [
        "# Para referencias de búsqueda\n",
        "!pip install neuralcoref"
      ],
      "execution_count": 43,
      "outputs": [
        {
          "output_type": "stream",
          "name": "stdout",
          "text": [
            "Collecting neuralcoref\n",
            "  Downloading neuralcoref-4.0-cp37-cp37m-manylinux1_x86_64.whl (286 kB)\n",
            "\u001b[?25l\r\u001b[K     |█▏                              | 10 kB 22.0 MB/s eta 0:00:01\r\u001b[K     |██▎                             | 20 kB 28.1 MB/s eta 0:00:01\r\u001b[K     |███▍                            | 30 kB 30.6 MB/s eta 0:00:01\r\u001b[K     |████▋                           | 40 kB 32.0 MB/s eta 0:00:01\r\u001b[K     |█████▊                          | 51 kB 32.5 MB/s eta 0:00:01\r\u001b[K     |██████▉                         | 61 kB 35.1 MB/s eta 0:00:01\r\u001b[K     |████████                        | 71 kB 25.2 MB/s eta 0:00:01\r\u001b[K     |█████████▏                      | 81 kB 24.3 MB/s eta 0:00:01\r\u001b[K     |██████████▎                     | 92 kB 25.8 MB/s eta 0:00:01\r\u001b[K     |███████████▌                    | 102 kB 27.5 MB/s eta 0:00:01\r\u001b[K     |████████████▋                   | 112 kB 27.5 MB/s eta 0:00:01\r\u001b[K     |█████████████▊                  | 122 kB 27.5 MB/s eta 0:00:01\r\u001b[K     |██████████████▉                 | 133 kB 27.5 MB/s eta 0:00:01\r\u001b[K     |████████████████                | 143 kB 27.5 MB/s eta 0:00:01\r\u001b[K     |█████████████████▏              | 153 kB 27.5 MB/s eta 0:00:01\r\u001b[K     |██████████████████▎             | 163 kB 27.5 MB/s eta 0:00:01\r\u001b[K     |███████████████████▌            | 174 kB 27.5 MB/s eta 0:00:01\r\u001b[K     |████████████████████▋           | 184 kB 27.5 MB/s eta 0:00:01\r\u001b[K     |█████████████████████▊          | 194 kB 27.5 MB/s eta 0:00:01\r\u001b[K     |███████████████████████         | 204 kB 27.5 MB/s eta 0:00:01\r\u001b[K     |████████████████████████        | 215 kB 27.5 MB/s eta 0:00:01\r\u001b[K     |█████████████████████████▏      | 225 kB 27.5 MB/s eta 0:00:01\r\u001b[K     |██████████████████████████▎     | 235 kB 27.5 MB/s eta 0:00:01\r\u001b[K     |███████████████████████████▌    | 245 kB 27.5 MB/s eta 0:00:01\r\u001b[K     |████████████████████████████▋   | 256 kB 27.5 MB/s eta 0:00:01\r\u001b[K     |█████████████████████████████▊  | 266 kB 27.5 MB/s eta 0:00:01\r\u001b[K     |███████████████████████████████ | 276 kB 27.5 MB/s eta 0:00:01\r\u001b[K     |████████████████████████████████| 286 kB 27.5 MB/s \n",
            "\u001b[?25hRequirement already satisfied: numpy>=1.15.0 in /usr/local/lib/python3.7/dist-packages (from neuralcoref) (1.19.5)\n",
            "Requirement already satisfied: spacy>=2.1.0 in /usr/local/lib/python3.7/dist-packages (from neuralcoref) (3.2.1)\n",
            "Requirement already satisfied: requests<3.0.0,>=2.13.0 in /usr/local/lib/python3.7/dist-packages (from neuralcoref) (2.23.0)\n",
            "Collecting boto3\n",
            "  Downloading boto3-1.20.22-py3-none-any.whl (131 kB)\n",
            "\u001b[K     |████████████████████████████████| 131 kB 52.5 MB/s \n",
            "\u001b[?25hRequirement already satisfied: urllib3!=1.25.0,!=1.25.1,<1.26,>=1.21.1 in /usr/local/lib/python3.7/dist-packages (from requests<3.0.0,>=2.13.0->neuralcoref) (1.24.3)\n",
            "Requirement already satisfied: idna<3,>=2.5 in /usr/local/lib/python3.7/dist-packages (from requests<3.0.0,>=2.13.0->neuralcoref) (2.10)\n",
            "Requirement already satisfied: certifi>=2017.4.17 in /usr/local/lib/python3.7/dist-packages (from requests<3.0.0,>=2.13.0->neuralcoref) (2021.10.8)\n",
            "Requirement already satisfied: chardet<4,>=3.0.2 in /usr/local/lib/python3.7/dist-packages (from requests<3.0.0,>=2.13.0->neuralcoref) (3.0.4)\n",
            "Requirement already satisfied: typing-extensions<4.0.0.0,>=3.7.4 in /usr/local/lib/python3.7/dist-packages (from spacy>=2.1.0->neuralcoref) (3.10.0.2)\n",
            "Requirement already satisfied: pydantic!=1.8,!=1.8.1,<1.9.0,>=1.7.4 in /usr/local/lib/python3.7/dist-packages (from spacy>=2.1.0->neuralcoref) (1.8.2)\n",
            "Requirement already satisfied: srsly<3.0.0,>=2.4.1 in /usr/local/lib/python3.7/dist-packages (from spacy>=2.1.0->neuralcoref) (2.4.2)\n",
            "Requirement already satisfied: spacy-loggers<2.0.0,>=1.0.0 in /usr/local/lib/python3.7/dist-packages (from spacy>=2.1.0->neuralcoref) (1.0.1)\n",
            "Requirement already satisfied: thinc<8.1.0,>=8.0.12 in /usr/local/lib/python3.7/dist-packages (from spacy>=2.1.0->neuralcoref) (8.0.13)\n",
            "Requirement already satisfied: jinja2 in /usr/local/lib/python3.7/dist-packages (from spacy>=2.1.0->neuralcoref) (2.11.3)\n",
            "Requirement already satisfied: langcodes<4.0.0,>=3.2.0 in /usr/local/lib/python3.7/dist-packages (from spacy>=2.1.0->neuralcoref) (3.3.0)\n",
            "Requirement already satisfied: typer<0.5.0,>=0.3.0 in /usr/local/lib/python3.7/dist-packages (from spacy>=2.1.0->neuralcoref) (0.4.0)\n",
            "Requirement already satisfied: packaging>=20.0 in /usr/local/lib/python3.7/dist-packages (from spacy>=2.1.0->neuralcoref) (21.3)\n",
            "Requirement already satisfied: setuptools in /usr/local/lib/python3.7/dist-packages (from spacy>=2.1.0->neuralcoref) (57.4.0)\n",
            "Requirement already satisfied: murmurhash<1.1.0,>=0.28.0 in /usr/local/lib/python3.7/dist-packages (from spacy>=2.1.0->neuralcoref) (1.0.6)\n",
            "Requirement already satisfied: cymem<2.1.0,>=2.0.2 in /usr/local/lib/python3.7/dist-packages (from spacy>=2.1.0->neuralcoref) (2.0.6)\n",
            "Requirement already satisfied: blis<0.8.0,>=0.4.0 in /usr/local/lib/python3.7/dist-packages (from spacy>=2.1.0->neuralcoref) (0.4.1)\n",
            "Requirement already satisfied: wasabi<1.1.0,>=0.8.1 in /usr/local/lib/python3.7/dist-packages (from spacy>=2.1.0->neuralcoref) (0.8.2)\n",
            "Requirement already satisfied: catalogue<2.1.0,>=2.0.6 in /usr/local/lib/python3.7/dist-packages (from spacy>=2.1.0->neuralcoref) (2.0.6)\n",
            "Requirement already satisfied: spacy-legacy<3.1.0,>=3.0.8 in /usr/local/lib/python3.7/dist-packages (from spacy>=2.1.0->neuralcoref) (3.0.8)\n",
            "Requirement already satisfied: preshed<3.1.0,>=3.0.2 in /usr/local/lib/python3.7/dist-packages (from spacy>=2.1.0->neuralcoref) (3.0.6)\n",
            "Requirement already satisfied: tqdm<5.0.0,>=4.38.0 in /usr/local/lib/python3.7/dist-packages (from spacy>=2.1.0->neuralcoref) (4.62.3)\n",
            "Requirement already satisfied: pathy>=0.3.5 in /usr/local/lib/python3.7/dist-packages (from spacy>=2.1.0->neuralcoref) (0.6.1)\n",
            "Requirement already satisfied: zipp>=0.5 in /usr/local/lib/python3.7/dist-packages (from catalogue<2.1.0,>=2.0.6->spacy>=2.1.0->neuralcoref) (3.6.0)\n",
            "Requirement already satisfied: pyparsing!=3.0.5,>=2.0.2 in /usr/local/lib/python3.7/dist-packages (from packaging>=20.0->spacy>=2.1.0->neuralcoref) (3.0.6)\n",
            "Requirement already satisfied: smart-open<6.0.0,>=5.0.0 in /usr/local/lib/python3.7/dist-packages (from pathy>=0.3.5->spacy>=2.1.0->neuralcoref) (5.2.1)\n",
            "Requirement already satisfied: click<9.0.0,>=7.1.1 in /usr/local/lib/python3.7/dist-packages (from typer<0.5.0,>=0.3.0->spacy>=2.1.0->neuralcoref) (7.1.2)\n",
            "Collecting botocore<1.24.0,>=1.23.22\n",
            "  Downloading botocore-1.23.22-py3-none-any.whl (8.4 MB)\n",
            "\u001b[K     |████████████████████████████████| 8.4 MB 48.2 MB/s \n",
            "\u001b[?25hCollecting s3transfer<0.6.0,>=0.5.0\n",
            "  Downloading s3transfer-0.5.0-py3-none-any.whl (79 kB)\n",
            "\u001b[K     |████████████████████████████████| 79 kB 7.5 MB/s \n",
            "\u001b[?25hCollecting jmespath<1.0.0,>=0.7.1\n",
            "  Downloading jmespath-0.10.0-py2.py3-none-any.whl (24 kB)\n",
            "Requirement already satisfied: python-dateutil<3.0.0,>=2.1 in /usr/local/lib/python3.7/dist-packages (from botocore<1.24.0,>=1.23.22->boto3->neuralcoref) (2.8.2)\n",
            "Collecting urllib3!=1.25.0,!=1.25.1,<1.26,>=1.21.1\n",
            "  Downloading urllib3-1.25.11-py2.py3-none-any.whl (127 kB)\n",
            "\u001b[K     |████████████████████████████████| 127 kB 60.5 MB/s \n",
            "\u001b[?25hRequirement already satisfied: six>=1.5 in /usr/local/lib/python3.7/dist-packages (from python-dateutil<3.0.0,>=2.1->botocore<1.24.0,>=1.23.22->boto3->neuralcoref) (1.15.0)\n",
            "Requirement already satisfied: MarkupSafe>=0.23 in /usr/local/lib/python3.7/dist-packages (from jinja2->spacy>=2.1.0->neuralcoref) (2.0.1)\n",
            "Installing collected packages: urllib3, jmespath, botocore, s3transfer, boto3, neuralcoref\n",
            "  Attempting uninstall: urllib3\n",
            "    Found existing installation: urllib3 1.24.3\n",
            "    Uninstalling urllib3-1.24.3:\n",
            "      Successfully uninstalled urllib3-1.24.3\n",
            "\u001b[31mERROR: pip's dependency resolver does not currently take into account all the packages that are installed. This behaviour is the source of the following dependency conflicts.\n",
            "datascience 0.10.6 requires folium==0.2.1, but you have folium 0.8.3 which is incompatible.\u001b[0m\n",
            "Successfully installed boto3-1.20.22 botocore-1.23.22 jmespath-0.10.0 neuralcoref-4.0 s3transfer-0.5.0 urllib3-1.25.11\n"
          ]
        },
        {
          "output_type": "display_data",
          "data": {
            "application/vnd.colab-display-data+json": {
              "pip_warning": {
                "packages": [
                  "urllib3"
                ]
              }
            }
          },
          "metadata": {}
        }
      ]
    },
    {
      "cell_type": "markdown",
      "metadata": {
        "id": "3-Fv9gfgY5DZ"
      },
      "source": [
        "## Contando sustantivos (plurales y singulares)"
      ]
    },
    {
      "cell_type": "code",
      "metadata": {
        "id": "y5JkXHdRY0jz"
      },
      "source": [
        "# importamos los módulos necesarios\n",
        "import nltk\n",
        "from nltk.stem import WordNetLemmatizer\n",
        "import inflect"
      ],
      "execution_count": 44,
      "outputs": []
    },
    {
      "cell_type": "code",
      "metadata": {
        "colab": {
          "base_uri": "https://localhost:8080/"
        },
        "id": "Gj8ZrgoyhU31",
        "outputId": "2c2fd877-7cea-47ce-9731-8f2fccc0b598"
      },
      "source": [
        "nltk.download('averaged_perceptron_tagger')"
      ],
      "execution_count": 45,
      "outputs": [
        {
          "output_type": "stream",
          "name": "stdout",
          "text": [
            "[nltk_data] Downloading package averaged_perceptron_tagger to\n",
            "[nltk_data]     /root/nltk_data...\n",
            "[nltk_data]   Unzipping taggers/averaged_perceptron_tagger.zip.\n"
          ]
        },
        {
          "output_type": "execute_result",
          "data": {
            "text/plain": [
              "True"
            ]
          },
          "metadata": {},
          "execution_count": 45
        }
      ]
    },
    {
      "cell_type": "code",
      "metadata": {
        "id": "pWasXWn3dfyB"
      },
      "source": [
        "# Cargamos el texto\n",
        "filename = \"coding.txt\"\n",
        "file = open(filename, \"r\", encoding=\"utf-8\")\n",
        "text = file.read()"
      ],
      "execution_count": 46,
      "outputs": []
    },
    {
      "cell_type": "code",
      "metadata": {
        "id": "6gJT3vj1dQi8"
      },
      "source": [
        "# Creamos las funciones:\n",
        "\n",
        "tokenizer = nltk.data.load(\"tokenizers/punkt/english.pickle\")\n",
        "\n",
        "def read_text_file(filename):\n",
        "    file = open(filename, \"r\", encoding=\"utf-8\") \n",
        "    return file.read()\n",
        "\n",
        "def preprocess_text(text):\n",
        "    text = text.replace(\"\\n\", \" \")\n",
        "    return text\n",
        "\n",
        "def divide_into_sentences_nltk(text):\n",
        "    sentences = tokenizer.tokenize(text)\n",
        "    return sentences\n",
        "\n",
        "def tokenize_nltk(text):\n",
        "    return nltk.tokenize.word_tokenize(text)\n",
        "\n",
        "def pos_tag_nltk(text):\n",
        "    words = tokenize_nltk(text)\n",
        "    words_with_pos = nltk.pos_tag(words)\n",
        "    return words_with_pos"
      ],
      "execution_count": 47,
      "outputs": []
    },
    {
      "cell_type": "code",
      "metadata": {
        "colab": {
          "base_uri": "https://localhost:8080/"
        },
        "id": "vbFFqwdked7j",
        "outputId": "9602270a-26e4-43cd-9f8f-9b0ad01ceec0"
      },
      "source": [
        "words_with_pos = pos_tag_nltk(text)\n",
        "print(words_with_pos)"
      ],
      "execution_count": 48,
      "outputs": [
        {
          "output_type": "stream",
          "name": "stdout",
          "text": [
            "[('Put', 'VB'), ('simply', 'RB'), (',', ','), ('Coding', 'NNP'), ('is', 'VBZ'), ('the', 'DT'), ('a', 'DT'), ('method', 'NN'), ('of', 'IN'), ('communicating', 'VBG'), ('with', 'IN'), ('a', 'DT'), ('computer', 'NN'), ('.', '.'), ('It', 'PRP'), ('is', 'VBZ'), ('using', 'VBG'), ('a', 'DT'), ('language', 'NN'), ('that', 'IN'), ('a', 'DT'), ('computer', 'NN'), ('understands', 'VBZ'), ('to', 'TO'), ('give', 'VB'), ('a', 'DT'), ('computer', 'NN'), ('instructions', 'NNS'), ('in', 'IN'), ('order', 'NN'), ('to', 'TO'), ('perform', 'VB'), ('specific', 'JJ'), ('functions', 'NNS'), ('.', '.'), ('Coding', 'VBG'), ('allows', 'VBZ'), ('us', 'PRP'), ('to', 'TO'), ('create', 'VB'), ('things', 'NNS'), ('such', 'JJ'), ('as', 'IN'), ('computer', 'NN'), ('software', 'NN'), (',', ','), ('websites', 'VBZ'), (',', ','), ('apps', 'NN'), ('and', 'CC'), ('video', 'NN'), ('games', 'NNS'), ('.', '.')]\n"
          ]
        }
      ]
    },
    {
      "cell_type": "code",
      "metadata": {
        "id": "eJcRuOIthjtT"
      },
      "source": [
        "# Filtramos los sustantivos con la siguiente función:\n",
        "def get_nouns(words_with_pos):\n",
        " noun_set = [\"NN\", \"NNS\"]\n",
        " nouns = [word for word in words_with_pos if \n",
        " word[1] in noun_set]\n",
        " return nouns"
      ],
      "execution_count": 49,
      "outputs": []
    },
    {
      "cell_type": "code",
      "metadata": {
        "colab": {
          "base_uri": "https://localhost:8080/"
        },
        "id": "BcWMvmjmiHJB",
        "outputId": "c9f7cd6d-01cf-4725-9d80-50d3f86c6308"
      },
      "source": [
        "# imprimimos el resultado\n",
        "nouns = get_nouns(words_with_pos)\n",
        "print(nouns)"
      ],
      "execution_count": 50,
      "outputs": [
        {
          "output_type": "stream",
          "name": "stdout",
          "text": [
            "[('method', 'NN'), ('computer', 'NN'), ('language', 'NN'), ('computer', 'NN'), ('computer', 'NN'), ('instructions', 'NNS'), ('order', 'NN'), ('functions', 'NNS'), ('things', 'NNS'), ('computer', 'NN'), ('software', 'NN'), ('apps', 'NN'), ('video', 'NN'), ('games', 'NNS')]\n"
          ]
        }
      ]
    },
    {
      "cell_type": "markdown",
      "metadata": {
        "id": "UHZWvpGNicGM"
      },
      "source": [
        "Determinamos cuáles son prulares y singulares\n"
      ]
    },
    {
      "cell_type": "code",
      "metadata": {
        "id": "P3TnKUKpigse"
      },
      "source": [
        "# Primera opción\n",
        "def is_plural_nltk(noun_info):\n",
        " pos = noun_info[1]\n",
        " if (pos == \"NNS\"):\n",
        "   return True\n",
        " else:\n",
        "   return False\n",
        "\n",
        "# Segunda opción\n",
        "def is_plural_wn(noun):\n",
        "  wnl = WordNetLemmatizer()\n",
        "  lemma = wnl.lemmatize(noun, 'n')\n",
        "  plural = True if noun is not lemma else False\n",
        "  return plural"
      ],
      "execution_count": 51,
      "outputs": []
    },
    {
      "cell_type": "code",
      "metadata": {
        "id": "N62pfY7Ii_nB"
      },
      "source": [
        "# Cambiamos de sustantivos singulares a plurales\n",
        "def get_plural(singular_noun):\n",
        "  p = inflect.engine()\n",
        "  return p.plural(singular_noun)\n",
        "# Cambiamos los sustantivos plurales a singualres\n",
        "def get_singular(plural_noun):\n",
        " p = inflect.engine()\n",
        " plural = p.singular_noun(plural_noun)\n",
        " if (plural):\n",
        "   return plural\n",
        " else:\n",
        "   return plural_noun"
      ],
      "execution_count": 52,
      "outputs": []
    },
    {
      "cell_type": "code",
      "metadata": {
        "id": "h8EaUF6WktBx"
      },
      "source": [
        "# determinar si el sustantivo es plural\n",
        "def plurals_wn(words_with_pos):\n",
        "  other_nouns = []\n",
        "  for noun_info in words_with_pos:\n",
        "    word = noun_info[0]\n",
        "    plural = is_plural_wn(word)\n",
        "    if (plural):\n",
        "      singular = get_singular(word)\n",
        "      other_nouns.append(singular)\n",
        "    else:\n",
        "      plural = get_plural(word)\n",
        "      other_nouns.append(plural)\n",
        "  return other_nouns"
      ],
      "execution_count": 53,
      "outputs": []
    },
    {
      "cell_type": "code",
      "metadata": {
        "colab": {
          "base_uri": "https://localhost:8080/"
        },
        "id": "T3GDEz19lo1b",
        "outputId": "4e1493aa-b4ae-430e-f997-f767f8e22901"
      },
      "source": [
        "# Cambiamos la lista\n",
        "other_nouns_wn = plurals_wn(nouns)\n",
        "print(nouns)\n",
        "print()\n",
        "print(other_nouns_wn)"
      ],
      "execution_count": 54,
      "outputs": [
        {
          "output_type": "stream",
          "name": "stdout",
          "text": [
            "[('method', 'NN'), ('computer', 'NN'), ('language', 'NN'), ('computer', 'NN'), ('computer', 'NN'), ('instructions', 'NNS'), ('order', 'NN'), ('functions', 'NNS'), ('things', 'NNS'), ('computer', 'NN'), ('software', 'NN'), ('apps', 'NN'), ('video', 'NN'), ('games', 'NNS')]\n",
            "\n",
            "['methods', 'computers', 'languages', 'computers', 'computers', 'instruction', 'orders', 'function', 'thing', 'computers', 'softwares', 'app', 'videos', 'game']\n"
          ]
        }
      ]
    },
    {
      "cell_type": "markdown",
      "metadata": {
        "id": "NIx_J6iimYOv"
      },
      "source": [
        "**Probemos con español**"
      ]
    },
    {
      "cell_type": "code",
      "metadata": {
        "id": "NEnc83hImXj7"
      },
      "source": [
        "# Importamos el paquete\n",
        "import spacy\n",
        "import es_core_news_sm\n",
        "# Cargamos el texto\n",
        "filename = \"codigo.txt\"\n",
        "file = open(filename, \"r\", encoding=\"utf-8\")\n",
        "text = file.read()\n",
        "# Preprocesamiento del texto\n",
        "text = text.replace(\"\\n\", \" \")\n",
        "# Iniciamos el motor Spacy\n",
        "nlp = es_core_news_sm.load()\n",
        "# Procesamos el texto\n",
        "doc = nlp(text)\n",
        "# Lista de tuplas con palabras y partes del etiquetado de voz\n",
        "words = [token.text for token in doc]\n",
        "pos = [token.pos_ for token in doc]\n",
        "word_pos_tuples = list(zip(words, pos))\n",
        "\n",
        "\n"
      ],
      "execution_count": 55,
      "outputs": []
    },
    {
      "cell_type": "code",
      "metadata": {
        "colab": {
          "base_uri": "https://localhost:8080/"
        },
        "id": "5ESYMXjXAoTG",
        "outputId": "6970a808-8eff-40b5-e98a-f2a313547f0a"
      },
      "source": [
        "# imprimimos el resultado\n",
        "nouns = get_nouns(word_pos_tuples)\n",
        "print(nouns)"
      ],
      "execution_count": 56,
      "outputs": [
        {
          "output_type": "stream",
          "name": "stdout",
          "text": [
            "[]\n"
          ]
        }
      ]
    },
    {
      "cell_type": "markdown",
      "metadata": {
        "id": "mPgvvPnKDWAB"
      },
      "source": [
        "## Obteniendo el análisis de dependencia"
      ]
    },
    {
      "cell_type": "code",
      "metadata": {
        "id": "3gZqoUB8ENLy"
      },
      "source": [
        "# Importamos spacy\n",
        "import spacy"
      ],
      "execution_count": 57,
      "outputs": []
    },
    {
      "cell_type": "code",
      "metadata": {
        "id": "IsuJaKqmEhxu",
        "colab": {
          "base_uri": "https://localhost:8080/",
          "height": 400
        },
        "outputId": "e6789880-4238-4602-d886-71a8d40163fc"
      },
      "source": [
        "# Definimos una oración\n",
        "sentence = 'I have seldom heard him mention her under any other name.'\n",
        "# cargamos el motor de spacy\n",
        "nlp = spacy.load('en_core_web_sm')\n",
        "# procesamos la oración\n",
        "doc = nlp(sentence)\n"
      ],
      "execution_count": 58,
      "outputs": [
        {
          "output_type": "error",
          "ename": "OSError",
          "evalue": "ignored",
          "traceback": [
            "\u001b[0;31m---------------------------------------------------------------------------\u001b[0m",
            "\u001b[0;31mOSError\u001b[0m                                   Traceback (most recent call last)",
            "\u001b[0;32m<ipython-input-58-991430801617>\u001b[0m in \u001b[0;36m<module>\u001b[0;34m()\u001b[0m\n\u001b[1;32m      2\u001b[0m \u001b[0msentence\u001b[0m \u001b[0;34m=\u001b[0m \u001b[0;34m'I have seldom heard him mention her under any other name.'\u001b[0m\u001b[0;34m\u001b[0m\u001b[0;34m\u001b[0m\u001b[0m\n\u001b[1;32m      3\u001b[0m \u001b[0;31m# cargamos el motor de spacy\u001b[0m\u001b[0;34m\u001b[0m\u001b[0;34m\u001b[0m\u001b[0;34m\u001b[0m\u001b[0m\n\u001b[0;32m----> 4\u001b[0;31m \u001b[0mnlp\u001b[0m \u001b[0;34m=\u001b[0m \u001b[0mspacy\u001b[0m\u001b[0;34m.\u001b[0m\u001b[0mload\u001b[0m\u001b[0;34m(\u001b[0m\u001b[0;34m'en_core_web_sm'\u001b[0m\u001b[0;34m)\u001b[0m\u001b[0;34m\u001b[0m\u001b[0;34m\u001b[0m\u001b[0m\n\u001b[0m\u001b[1;32m      5\u001b[0m \u001b[0;31m# procesamos la oración\u001b[0m\u001b[0;34m\u001b[0m\u001b[0;34m\u001b[0m\u001b[0;34m\u001b[0m\u001b[0m\n\u001b[1;32m      6\u001b[0m \u001b[0mdoc\u001b[0m \u001b[0;34m=\u001b[0m \u001b[0mnlp\u001b[0m\u001b[0;34m(\u001b[0m\u001b[0msentence\u001b[0m\u001b[0;34m)\u001b[0m\u001b[0;34m\u001b[0m\u001b[0;34m\u001b[0m\u001b[0m\n",
            "\u001b[0;32m/usr/local/lib/python3.7/dist-packages/spacy/__init__.py\u001b[0m in \u001b[0;36mload\u001b[0;34m(name, **overrides)\u001b[0m\n\u001b[1;32m     28\u001b[0m \u001b[0;34m\u001b[0m\u001b[0m\n\u001b[1;32m     29\u001b[0m \u001b[0;34m\u001b[0m\u001b[0m\n\u001b[0;32m---> 30\u001b[0;31m def load(\n\u001b[0m\u001b[1;32m     31\u001b[0m     \u001b[0mname\u001b[0m\u001b[0;34m:\u001b[0m \u001b[0mUnion\u001b[0m\u001b[0;34m[\u001b[0m\u001b[0mstr\u001b[0m\u001b[0;34m,\u001b[0m \u001b[0mPath\u001b[0m\u001b[0;34m]\u001b[0m\u001b[0;34m,\u001b[0m\u001b[0;34m\u001b[0m\u001b[0;34m\u001b[0m\u001b[0m\n\u001b[1;32m     32\u001b[0m     \u001b[0;34m*\u001b[0m\u001b[0;34m,\u001b[0m\u001b[0;34m\u001b[0m\u001b[0;34m\u001b[0m\u001b[0m\n",
            "\u001b[0;32m/usr/local/lib/python3.7/dist-packages/spacy/util.py\u001b[0m in \u001b[0;36mload_model\u001b[0;34m(name, **overrides)\u001b[0m\n\u001b[1;32m    157\u001b[0m         \u001b[0;32mtry\u001b[0m\u001b[0;34m:\u001b[0m\u001b[0;34m\u001b[0m\u001b[0;34m\u001b[0m\u001b[0m\n\u001b[1;32m    158\u001b[0m             \u001b[0mfunc_info\u001b[0m \u001b[0;34m=\u001b[0m \u001b[0mreg\u001b[0m\u001b[0;34m.\u001b[0m\u001b[0mfind\u001b[0m\u001b[0;34m(\u001b[0m\u001b[0mfunc_name\u001b[0m\u001b[0;34m)\u001b[0m\u001b[0;34m\u001b[0m\u001b[0;34m\u001b[0m\u001b[0m\n\u001b[0;32m--> 159\u001b[0;31m         \u001b[0;32mexcept\u001b[0m \u001b[0mRegistryError\u001b[0m\u001b[0;34m:\u001b[0m\u001b[0;34m\u001b[0m\u001b[0;34m\u001b[0m\u001b[0m\n\u001b[0m\u001b[1;32m    160\u001b[0m             \u001b[0;32mif\u001b[0m \u001b[0mfunc_name\u001b[0m\u001b[0;34m.\u001b[0m\u001b[0mstartswith\u001b[0m\u001b[0;34m(\u001b[0m\u001b[0;34m\"spacy.\"\u001b[0m\u001b[0;34m)\u001b[0m\u001b[0;34m:\u001b[0m\u001b[0;34m\u001b[0m\u001b[0;34m\u001b[0m\u001b[0m\n\u001b[1;32m    161\u001b[0m                 \u001b[0mlegacy_name\u001b[0m \u001b[0;34m=\u001b[0m \u001b[0mfunc_name\u001b[0m\u001b[0;34m.\u001b[0m\u001b[0mreplace\u001b[0m\u001b[0;34m(\u001b[0m\u001b[0;34m\"spacy.\"\u001b[0m\u001b[0;34m,\u001b[0m \u001b[0;34m\"spacy-legacy.\"\u001b[0m\u001b[0;34m)\u001b[0m\u001b[0;34m\u001b[0m\u001b[0;34m\u001b[0m\u001b[0m\n",
            "\u001b[0;31mOSError\u001b[0m: [E049] Can't find spaCy data directory: 'None'. Check your installation and permissions, or use spacy.util.set_data_path to customise the location if necessary."
          ]
        }
      ]
    },
    {
      "cell_type": "markdown",
      "metadata": {
        "id": "tFIFGkshE6TL"
      },
      "source": [
        "La información de dependencias estará contenida en el objeto doc. Podemos ver las etiquetas de dependencias haciendo un bucle a través de los tokens en doc:"
      ]
    },
    {
      "cell_type": "code",
      "metadata": {
        "id": "xSvl99AGE67J"
      },
      "source": [
        "for token in doc:\n",
        " print(token.text, \"\\t\", token.dep_, \"\\t\",\n",
        " spacy.explain(token.dep_))"
      ],
      "execution_count": null,
      "outputs": []
    },
    {
      "cell_type": "markdown",
      "metadata": {
        "id": "OwbI9Eu8FNFS"
      },
      "source": [
        "Para explorar la estructura de análisis de dependencias, podemos usar los atributos de la clase Token. Usando sus atributos ancestrales e hijos, podemos obtener los tokens de los que depende este token y los tokens que dependen de él, respectivamente. "
      ]
    },
    {
      "cell_type": "code",
      "metadata": {
        "id": "NSr26WiwFPP_"
      },
      "source": [
        "for token in doc:\n",
        " print(token.text)\n",
        " ancestors = [t.text for t in token.ancestors]\n",
        " print(ancestors)"
      ],
      "execution_count": null,
      "outputs": []
    },
    {
      "cell_type": "markdown",
      "metadata": {
        "id": "Ce8f5VqBFZgp"
      },
      "source": [
        "Para ver todos los tokens secundarios, use el siguiente código:"
      ]
    },
    {
      "cell_type": "code",
      "metadata": {
        "id": "T2bpS-lOFZ9V"
      },
      "source": [
        "for token in doc:\n",
        " print(token.text)\n",
        " children = [t.text for t in token.children]\n",
        " print(children)"
      ],
      "execution_count": null,
      "outputs": []
    },
    {
      "cell_type": "markdown",
      "metadata": {
        "id": "ZgATY8rqFmuI"
      },
      "source": [
        "También podemos ver el subárbol en el que está el token:"
      ]
    },
    {
      "cell_type": "code",
      "metadata": {
        "id": "NG9HfgGSFnK9"
      },
      "source": [
        "for token in doc:\n",
        " print(token.text)\n",
        " subtree = [t.text for t in token.subtree]\n",
        " print(subtree)"
      ],
      "execution_count": null,
      "outputs": []
    },
    {
      "cell_type": "markdown",
      "metadata": {
        "id": "8KWuxR8dFvg6"
      },
      "source": [
        "**Intentemos en español**"
      ]
    },
    {
      "cell_type": "code",
      "metadata": {
        "id": "zidfP6r6FzBO"
      },
      "source": [
        "import es_core_news_sm\n",
        "nlp = es_core_news_sm.load()\n",
        "# Definimos una oración\n",
        "sentence = \"Los ordenadores son inútiles. Sólo pueden darte respuestas\"\n",
        "# cargamos el motor de spacy\n",
        "nlp = spacy.load('es_core_news_sm')\n",
        "# procesamos la oración\n",
        "doc = nlp(sentence)"
      ],
      "execution_count": null,
      "outputs": []
    },
    {
      "cell_type": "code",
      "metadata": {
        "id": "1YhBftOQGopk"
      },
      "source": [
        "for token in doc:\n",
        " print(token.text, \"\\t\", token.dep_, \"\\t\", spacy.explain(token.dep_))"
      ],
      "execution_count": null,
      "outputs": []
    },
    {
      "cell_type": "code",
      "metadata": {
        "id": "ZcIyUawEHN3S"
      },
      "source": [
        "for token in doc:\n",
        " print(token.text)\n",
        " ancestors = [t.text for t in token.ancestors]\n",
        " print(ancestors)"
      ],
      "execution_count": null,
      "outputs": []
    },
    {
      "cell_type": "code",
      "metadata": {
        "id": "6NYxvEeEHZik"
      },
      "source": [
        "for token in doc:\n",
        " print(token.text)\n",
        " subtree = [t.text for t in token.subtree]\n",
        " print(subtree)"
      ],
      "execution_count": null,
      "outputs": []
    },
    {
      "cell_type": "markdown",
      "metadata": {
        "id": "1-kHUvhxI2s6"
      },
      "source": [
        "## Dividir frases en cláusulas"
      ]
    },
    {
      "cell_type": "markdown",
      "metadata": {
        "id": "JJ5is8KUK7Sa"
      },
      "source": [
        "Cuando trabajamos con texto, frecuentemente tratamos con oraciones compuestas (oraciones con dos partes que son igualmente importantes) y complejas (oraciones con una parte dependiendo de otra). A veces es útil dividir estas oraciones compuestas en sus cláusulas componentes para facilitar su procesamiento"
      ]
    },
    {
      "cell_type": "code",
      "metadata": {
        "id": "YxA5xkhvKAAV"
      },
      "source": [
        "# importamos el paquete\n",
        "import spacy\n",
        "# cargamos el motor\n",
        "nlp = spacy.load('en_core_web_sm')\n",
        "# definimos la oracion\n",
        "sentence = \"He eats cheese, but he won't eat ice cream.\"\n",
        "# Procesamos la oración\n",
        "doc = nlp(sentence)"
      ],
      "execution_count": null,
      "outputs": []
    },
    {
      "cell_type": "code",
      "metadata": {
        "id": "0ljwhqZXMIOL"
      },
      "source": [
        "# Imprimimos la estructura de la oración\n",
        "for token in doc:\n",
        " ancestors = [t.text for t in token.ancestors]\n",
        " children = [t.text for t in token.children]\n",
        " print(token.text, \"\\t\", token.i, \"\\t\",  token.pos_, \"\\t\", token.dep_, \"\\t\",  ancestors, \"\\t\", children)"
      ],
      "execution_count": null,
      "outputs": []
    },
    {
      "cell_type": "markdown",
      "metadata": {
        "id": "baXhwQ8ENA5E"
      },
      "source": [
        "Usaremos la siguiente función para encontrar el token raíz de la oración, que suele ser el verbo principal. En los casos en que hay una cláusula dependiente, es el verbo de la cláusula independiente:"
      ]
    },
    {
      "cell_type": "code",
      "metadata": {
        "id": "WachBO2lNDmW"
      },
      "source": [
        "def find_root_of_sentence(doc):\n",
        "  root_token = None\n",
        "  for token in doc:\n",
        "    if (token.dep_ == \"ROOT\"):\n",
        "      root_token = token\n",
        "  return root_token"
      ],
      "execution_count": null,
      "outputs": []
    },
    {
      "cell_type": "code",
      "metadata": {
        "id": "6a23LthqNdRT"
      },
      "source": [
        "# Símbolo raíz\n",
        "root_token = find_root_of_sentence(doc)"
      ],
      "execution_count": null,
      "outputs": []
    },
    {
      "cell_type": "code",
      "metadata": {
        "id": "Wb3ygWwzNkKJ"
      },
      "source": [
        "#  función para encontrar los otros verbos en la oración:\n",
        "def find_other_verbs(doc, root_token):\n",
        "  other_verbs = []\n",
        "  for token in doc:\n",
        "    ancestors = list(token.ancestors)\n",
        "    if (token.pos_ == \"VERB\" and len(ancestors) == 1 and ancestors[0] == root_token):\n",
        "      other_verbs.append(token)\n",
        "  return other_verbs"
      ],
      "execution_count": null,
      "outputs": []
    },
    {
      "cell_type": "code",
      "metadata": {
        "id": "cnoIhNmXN34e"
      },
      "source": [
        "# Encontramos los verbos restantes:\n",
        "other_verbs = find_other_verbs(doc, root_token)"
      ],
      "execution_count": null,
      "outputs": []
    },
    {
      "cell_type": "code",
      "metadata": {
        "id": "NNQofrR2OFO9"
      },
      "source": [
        "# función para encontrar los espacios de las fichas para cada verbo:\n",
        "def get_clause_token_span_for_verb(verb, doc, all_verbs):\n",
        "  first_token_index = len(doc)\n",
        "  last_token_index = 0\n",
        "  this_verb_children = list(verb.children)\n",
        "  for child in this_verb_children:\n",
        "    if (child not in all_verbs):\n",
        "      if (child.i < first_token_index):\n",
        "        first_token_index = child.i\n",
        "      if (child.i > last_token_index):\n",
        "        last_token_index = child.i\n",
        "  return(first_token_index, last_token_index)"
      ],
      "execution_count": null,
      "outputs": []
    },
    {
      "cell_type": "markdown",
      "metadata": {
        "id": "Yijjt4E9O4f9"
      },
      "source": [
        "Reuniremos todos los verbos en una matriz y procesaremos cada uno usando la función precedente. Esto devolverá una tupla de índices de inicio y fin para la cláusula de cada verbo:"
      ]
    },
    {
      "cell_type": "code",
      "metadata": {
        "id": "2u7_TV0eOgCA"
      },
      "source": [
        "# Organizamos una matriz con la información\n",
        "token_spans = [] \n",
        "all_verbs = [root_token] + other_verbs\n",
        "for other_verb in all_verbs:\n",
        "  (first_token_index, last_token_index) = get_clause_token_span_for_verb(other_verb, doc, all_verbs)\n",
        "  token_spans.append((first_token_index, last_token_index))"
      ],
      "execution_count": null,
      "outputs": []
    },
    {
      "cell_type": "markdown",
      "metadata": {
        "id": "MO_KKhl6OziU"
      },
      "source": [
        "Usando los índices de inicio y fin, ahora podemos armar los rangos de tokens para cada cláusula. Ordenamos la lista sentence_clauses al final para que las cláusulas estén en el orden en que aparecen en la oración:"
      ]
    },
    {
      "cell_type": "code",
      "metadata": {
        "id": "NOhpiKnEO50c"
      },
      "source": [
        "sentence_clauses = []\n",
        "for token_span in token_spans:\n",
        "  start = token_span[0]\n",
        "  end = token_span[1]\n",
        "  if (start < end):\n",
        "    clause = doc[start:end]\n",
        "    sentence_clauses.append(clause)\n",
        "sentence_clauses = sorted(sentence_clauses, key=lambda tup: tup[0])"
      ],
      "execution_count": null,
      "outputs": []
    },
    {
      "cell_type": "code",
      "metadata": {
        "id": "3yWdmXTqPLrl"
      },
      "source": [
        "# imprimimos el resultado final.\n",
        "clauses_text = [clause.text for clause in sentence_clauses]\n",
        "print(clauses_text)"
      ],
      "execution_count": null,
      "outputs": []
    },
    {
      "cell_type": "markdown",
      "metadata": {
        "id": "DTN4NVDUaEiE"
      },
      "source": [
        "## Extracción de trozos sustantivos"
      ]
    },
    {
      "cell_type": "markdown",
      "metadata": {
        "id": "1A7mqq-eadY9"
      },
      "source": [
        "Los fragmentos sustantivos son conocidos en la lingüística como frases sustantivos. Representan sustantivos y cualquier palabra que dependa y acompañe sustantivos."
      ]
    },
    {
      "cell_type": "code",
      "metadata": {
        "id": "2mb8fbqZaEMF"
      },
      "source": [
        "# Importamos paquete\n",
        "import spacy\n",
        "# cargamos el texto\n",
        "text = read_text_file(\"codigo.txt\")"
      ],
      "execution_count": null,
      "outputs": []
    },
    {
      "cell_type": "code",
      "metadata": {
        "id": "yEg_b67KawCV"
      },
      "source": [
        "# Iniciamos el motor de spacy\n",
        "nlp = es_core_news_sm.load()\n",
        "nlp = spacy.load('es_core_news_sm')\n",
        "doc = nlp(text)"
      ],
      "execution_count": null,
      "outputs": []
    },
    {
      "cell_type": "code",
      "metadata": {
        "id": "m8CKi5YFbDu5"
      },
      "source": [
        "# Los fragmentos sustantivos están contenidos en la variable de clase doc.noun_chunks.\n",
        "for noun_chunk in doc.noun_chunks:\n",
        " print(noun_chunk.text)"
      ],
      "execution_count": null,
      "outputs": []
    },
    {
      "cell_type": "markdown",
      "metadata": {
        "id": "nxHpPzXgb659"
      },
      "source": [
        "Algunas de las propiedades básicas de los fragmentos sustantivos son sus compensaciones de principio y fin."
      ]
    },
    {
      "cell_type": "code",
      "metadata": {
        "id": "cAebB8jDbm8d"
      },
      "source": [
        "for noun_chunk in doc.noun_chunks:\n",
        " print(noun_chunk.text, \"\\t\", noun_chunk.start, \"\\t\", \n",
        " noun_chunk.end)"
      ],
      "execution_count": null,
      "outputs": []
    },
    {
      "cell_type": "markdown",
      "metadata": {
        "id": "xlCk7hO7b8y2"
      },
      "source": [
        "También podemos imprimir la frase donde pertenece el sustantivo chunk:"
      ]
    },
    {
      "cell_type": "code",
      "metadata": {
        "id": "iw31iHtgbtrX"
      },
      "source": [
        "for noun_chunk in doc.noun_chunks:\n",
        " print(noun_chunk.text, \"\\t\", noun_chunk.sent)"
      ],
      "execution_count": null,
      "outputs": []
    },
    {
      "cell_type": "markdown",
      "metadata": {
        "id": "GRqUyw55cBch"
      },
      "source": [
        "Al igual que una oración, cualquier fragmento sustantivo incluye una raíz, que es el token del que dependen todos los demás tokens. En una frase sustantivo, ese es el sustantivo:"
      ]
    },
    {
      "cell_type": "code",
      "metadata": {
        "id": "9ekWYIg2cHsb"
      },
      "source": [
        "for noun_chunk in doc.noun_chunks:\n",
        " print(noun_chunk.text, \"\\t\", noun_chunk.root.text)"
      ],
      "execution_count": null,
      "outputs": []
    },
    {
      "cell_type": "markdown",
      "metadata": {
        "id": "zg1dIRUsctZV"
      },
      "source": [
        "## Entidades extractoras y relaciones"
      ]
    },
    {
      "cell_type": "markdown",
      "metadata": {
        "id": "NZW-AB-vd1kA"
      },
      "source": [
        "Tripleta: entidad - relación - objeto"
      ]
    },
    {
      "cell_type": "code",
      "metadata": {
        "id": "SNSCgv7Jdil1"
      },
      "source": [
        "# Importamos paquetes\n",
        "import spacy\n",
        "import textacy"
      ],
      "execution_count": null,
      "outputs": []
    },
    {
      "cell_type": "code",
      "metadata": {
        "id": "h0MD7qjUfaJL"
      },
      "source": [
        "def find_root_of_sentence(doc):\n",
        "    root_token = None\n",
        "    for token in doc:\n",
        "        if (token.dep_ == \"ROOT\"):\n",
        "            root_token = token\n",
        "    return root_token"
      ],
      "execution_count": null,
      "outputs": []
    },
    {
      "cell_type": "code",
      "metadata": {
        "id": "7CnjKISBfjLI"
      },
      "source": [
        "# cargamos el motor\n",
        "nlp = spacy.load('en_core_web_sm')"
      ],
      "execution_count": null,
      "outputs": []
    },
    {
      "cell_type": "code",
      "metadata": {
        "id": "tZXkwtMDfoPX"
      },
      "source": [
        "# definimos la oración\n",
        "sentences = [\"All living things are made of cells.\", \n",
        " \"Cells have organelles.\"]"
      ],
      "execution_count": null,
      "outputs": []
    },
    {
      "cell_type": "markdown",
      "metadata": {
        "id": "2Q_t5JUDgTfZ"
      },
      "source": [
        "Para encontrar frases verbales, necesitaremos compilar patrones similares a expresiones regulares para la parte de las combinaciones de voz de las palabras que componen la frase verbal. Si imprimimos partes del habla de frases verbales de las dos oraciones anteriores, veremos que la parte de las secuencias del habla son AUX, VERB, ADP, y AUX"
      ]
    },
    {
      "cell_type": "code",
      "metadata": {
        "id": "CPhz9m_3gX5e"
      },
      "source": [
        "verb_patterns = [[{\"POS\":\"AUX\"}, {\"POS\":\"VERB\"}, {\"POS\":\"ADP\"}], [{\"POS\":\"AUX\"}]]"
      ],
      "execution_count": null,
      "outputs": []
    },
    {
      "cell_type": "code",
      "metadata": {
        "id": "nUTKnl6Tgdn4"
      },
      "source": [
        "# La función contains_root comprueba si una frase verbal contiene la raíz de la frase:\n",
        "def contains_root(verb_phrase, root):\n",
        "  vp_start = verb_phrase.start\n",
        "  vp_end = verb_phrase.end\n",
        "  if (root.i >= vp_start and root.i <= vp_end):\n",
        "    return True\n",
        "  else:\n",
        "    return False"
      ],
      "execution_count": null,
      "outputs": []
    },
    {
      "cell_type": "code",
      "metadata": {
        "id": "nM79wUPFgH4-"
      },
      "source": [
        "# La función get_verb_phrases obtiene las frases verbales de un objeto spaCy Doc:\n",
        "def get_verb_phrases(doc):\n",
        "  root = find_root_of_sentence(doc)\n",
        "  verb_phrases = textacy.extract.matches.token_matches(doc, verb_patterns)\n",
        "  new_vps = []\n",
        "  for verb_phrase in verb_phrases:\n",
        "    if (contains_root(verb_phrase, root)):\n",
        "      new_vps.append(verb_phrase)\n",
        "  return new_vps                             "
      ],
      "execution_count": null,
      "outputs": []
    },
    {
      "cell_type": "code",
      "metadata": {
        "id": "9cIxcIKDg2ck"
      },
      "source": [
        "# La función longer_verb_phrase encuentra la frase verbal más larga:  \n",
        "def longer_verb_phrase(verb_phrases):\n",
        "  longest_length = 0\n",
        "  longest_verb_phrase = None\n",
        "  for verb_phrase in verb_phrases:\n",
        "    if len(verb_phrase) > longest_length:\n",
        "      longest_verb_phrase = verb_phrase\n",
        "  return longest_verb_phrase                                                              "
      ],
      "execution_count": null,
      "outputs": []
    },
    {
      "cell_type": "code",
      "metadata": {
        "id": "xnNLFLn7hO8w"
      },
      "source": [
        "# La función find_noun_phrase buscará frases de sustantivo en el lado izquierdo o derecho de la frase del verbo principal:\n",
        "def find_noun_phrase(verb_phrase, noun_phrases, side):\n",
        "  for noun_phrase in noun_phrases:\n",
        "    if (side == \"left\" and noun_phrase.start < verb_phrase.start):\n",
        "      return noun_phrase\n",
        "    elif (side == \"right\" and noun_phrase.start > verb_phrase.start):\n",
        "      return noun_phrase"
      ],
      "execution_count": null,
      "outputs": []
    },
    {
      "cell_type": "markdown",
      "metadata": {
        "id": "Rz-KcoSQhb5S"
      },
      "source": [
        "En esta función, utilizaremos las funciones anteriores para encontrar trillizos de objeto-relación en las oraciones:"
      ]
    },
    {
      "cell_type": "code",
      "metadata": {
        "id": "DwnqmLprheeW"
      },
      "source": [
        "def find_triplet(sentence):\n",
        "  doc = nlp(sentence)\n",
        "  verb_phrases = get_verb_phrases(doc)\n",
        "  noun_phrases = doc.noun_chunks\n",
        "  verb_phrase = None\n",
        "  if (len(verb_phrases) > 1):\n",
        "    verb_phrase = longer_verb_phrase(list(verb_phrases))\n",
        "  else:\n",
        "    verb_phrase = verb_phrases[0]\n",
        "  left_noun_phrase = find_noun_phrase(verb_phrase, noun_phrases, \"left\")\n",
        "  right_noun_phrase = find_noun_phrase(verb_phrase, noun_phrases, \"right\")\n",
        "  return (left_noun_phrase, verb_phrase, right_noun_phrase)"
      ],
      "execution_count": null,
      "outputs": []
    },
    {
      "cell_type": "code",
      "metadata": {
        "id": "9mHP5CfSiKXf"
      },
      "source": [
        "# imprimimos el resultado\n",
        "#for sentence in sentences:\n",
        "#  (left_np, vp, right_np) = find_triplet(sentence)\n",
        "#  print(left_np, \"\\t\", vp, \"\\t\", right_np)"
      ],
      "execution_count": null,
      "outputs": []
    },
    {
      "cell_type": "markdown",
      "source": [
        "## Búsqueda de referencias - resolución anáfora"
      ],
      "metadata": {
        "id": "GB68Du7ua1rS"
      }
    },
    {
      "cell_type": "markdown",
      "source": [
        "Cuando trabajamos en problemas de extracción de entidades y relaciones del texto, nos enfrentamos con el texto real, y muchas de nuestras entidades podrían terminar siendo extraídas como pronombres, como ella o él. Con el fin de abordar este tema, tenemos que realizar la resolución de anafora, o el proceso de sustitución de los pronombres con sus referentes."
      ],
      "metadata": {
        "id": "KuLJ2_mhbJNn"
      }
    },
    {
      "cell_type": "markdown",
      "source": [
        "Revisar el archivo **anafora.py**"
      ],
      "metadata": {
        "id": "vy1GEmyL5W4F"
      }
    },
    {
      "cell_type": "markdown",
      "source": [
        "# Representando texto - Capturando semántica"
      ],
      "metadata": {
        "id": "mxWQdRRt5aJ7"
      }
    },
    {
      "cell_type": "markdown",
      "source": [
        "Representar el significado de palabras, frases y oraciones en una forma que sea comprensible para las computadoras es uno de los pilares del procesamiento de la PNL. El aprendizaje automático, por ejemplo, representa cada punto de datos como un vector de tamaño fijo, y nos enfrentamos a la cuestión de cómo convertir palabras y oraciones en vectores. Casi cualquier tarea de PNL comienza representando el texto en alguna forma numérica."
      ],
      "metadata": {
        "id": "AhU5gIDI6oz8"
      }
    },
    {
      "cell_type": "code",
      "source": [
        "## Requerimientos técnicos\n",
        "!pip install sklearn\n",
        "!pip install gensim\n",
        "!pip install pickle\n",
        "!pip install langdetect\n",
        "!conda install pytorch torchvision cudatoolkit=10.2 -c pythorch\n",
        "!pip install transformers\n",
        "!pip install -U sentence-transformers\n",
        "!pip install whoosh"
      ],
      "metadata": {
        "colab": {
          "base_uri": "https://localhost:8080/"
        },
        "id": "0MRfZoel7AL_",
        "outputId": "42ff94f4-b6d0-455d-e2f4-03a344bf47ba"
      },
      "execution_count": 59,
      "outputs": [
        {
          "output_type": "stream",
          "name": "stdout",
          "text": [
            "Requirement already satisfied: sklearn in /usr/local/lib/python3.7/dist-packages (0.0)\n",
            "Requirement already satisfied: scikit-learn in /usr/local/lib/python3.7/dist-packages (from sklearn) (1.0.1)\n",
            "Requirement already satisfied: numpy>=1.14.6 in /usr/local/lib/python3.7/dist-packages (from scikit-learn->sklearn) (1.19.5)\n",
            "Requirement already satisfied: joblib>=0.11 in /usr/local/lib/python3.7/dist-packages (from scikit-learn->sklearn) (1.1.0)\n",
            "Requirement already satisfied: threadpoolctl>=2.0.0 in /usr/local/lib/python3.7/dist-packages (from scikit-learn->sklearn) (3.0.0)\n",
            "Requirement already satisfied: scipy>=1.1.0 in /usr/local/lib/python3.7/dist-packages (from scikit-learn->sklearn) (1.4.1)\n",
            "Requirement already satisfied: gensim in /usr/local/lib/python3.7/dist-packages (3.6.0)\n",
            "Requirement already satisfied: six>=1.5.0 in /usr/local/lib/python3.7/dist-packages (from gensim) (1.15.0)\n",
            "Requirement already satisfied: scipy>=0.18.1 in /usr/local/lib/python3.7/dist-packages (from gensim) (1.4.1)\n",
            "Requirement already satisfied: smart-open>=1.2.1 in /usr/local/lib/python3.7/dist-packages (from gensim) (5.2.1)\n",
            "Requirement already satisfied: numpy>=1.11.3 in /usr/local/lib/python3.7/dist-packages (from gensim) (1.19.5)\n",
            "\u001b[31mERROR: Could not find a version that satisfies the requirement pickle (from versions: none)\u001b[0m\n",
            "\u001b[31mERROR: No matching distribution found for pickle\u001b[0m\n",
            "Collecting langdetect\n",
            "  Downloading langdetect-1.0.9.tar.gz (981 kB)\n",
            "\u001b[K     |████████████████████████████████| 981 kB 28.1 MB/s \n",
            "\u001b[?25hRequirement already satisfied: six in /usr/local/lib/python3.7/dist-packages (from langdetect) (1.15.0)\n",
            "Building wheels for collected packages: langdetect\n",
            "  Building wheel for langdetect (setup.py) ... \u001b[?25l\u001b[?25hdone\n",
            "  Created wheel for langdetect: filename=langdetect-1.0.9-py3-none-any.whl size=993242 sha256=1bb75c533544a62936a51f6cec17dc1868a51abce4947b0d55dee9d93504fce1\n",
            "  Stored in directory: /root/.cache/pip/wheels/c5/96/8a/f90c59ed25d75e50a8c10a1b1c2d4c402e4dacfa87f3aff36a\n",
            "Successfully built langdetect\n",
            "Installing collected packages: langdetect\n",
            "Successfully installed langdetect-1.0.9\n",
            "/bin/bash: conda: command not found\n",
            "Collecting transformers\n",
            "  Downloading transformers-4.12.5-py3-none-any.whl (3.1 MB)\n",
            "\u001b[K     |████████████████████████████████| 3.1 MB 25.6 MB/s \n",
            "\u001b[?25hCollecting tokenizers<0.11,>=0.10.1\n",
            "  Downloading tokenizers-0.10.3-cp37-cp37m-manylinux_2_5_x86_64.manylinux1_x86_64.manylinux_2_12_x86_64.manylinux2010_x86_64.whl (3.3 MB)\n",
            "\u001b[K     |████████████████████████████████| 3.3 MB 52.4 MB/s \n",
            "\u001b[?25hRequirement already satisfied: tqdm>=4.27 in /usr/local/lib/python3.7/dist-packages (from transformers) (4.62.3)\n",
            "Collecting huggingface-hub<1.0,>=0.1.0\n",
            "  Downloading huggingface_hub-0.2.1-py3-none-any.whl (61 kB)\n",
            "\u001b[K     |████████████████████████████████| 61 kB 460 kB/s \n",
            "\u001b[?25hCollecting pyyaml>=5.1\n",
            "  Downloading PyYAML-6.0-cp37-cp37m-manylinux_2_5_x86_64.manylinux1_x86_64.manylinux_2_12_x86_64.manylinux2010_x86_64.whl (596 kB)\n",
            "\u001b[K     |████████████████████████████████| 596 kB 32.9 MB/s \n",
            "\u001b[?25hRequirement already satisfied: numpy>=1.17 in /usr/local/lib/python3.7/dist-packages (from transformers) (1.19.5)\n",
            "Requirement already satisfied: packaging>=20.0 in /usr/local/lib/python3.7/dist-packages (from transformers) (21.3)\n",
            "Requirement already satisfied: importlib-metadata in /usr/local/lib/python3.7/dist-packages (from transformers) (4.8.2)\n",
            "Requirement already satisfied: filelock in /usr/local/lib/python3.7/dist-packages (from transformers) (3.4.0)\n",
            "Collecting sacremoses\n",
            "  Downloading sacremoses-0.0.46-py3-none-any.whl (895 kB)\n",
            "\u001b[K     |████████████████████████████████| 895 kB 42.9 MB/s \n",
            "\u001b[?25hRequirement already satisfied: requests in /usr/local/lib/python3.7/dist-packages (from transformers) (2.23.0)\n",
            "Requirement already satisfied: regex!=2019.12.17 in /usr/local/lib/python3.7/dist-packages (from transformers) (2019.12.20)\n",
            "Requirement already satisfied: typing-extensions>=3.7.4.3 in /usr/local/lib/python3.7/dist-packages (from huggingface-hub<1.0,>=0.1.0->transformers) (3.10.0.2)\n",
            "Requirement already satisfied: pyparsing!=3.0.5,>=2.0.2 in /usr/local/lib/python3.7/dist-packages (from packaging>=20.0->transformers) (3.0.6)\n",
            "Requirement already satisfied: zipp>=0.5 in /usr/local/lib/python3.7/dist-packages (from importlib-metadata->transformers) (3.6.0)\n",
            "Requirement already satisfied: chardet<4,>=3.0.2 in /usr/local/lib/python3.7/dist-packages (from requests->transformers) (3.0.4)\n",
            "Requirement already satisfied: idna<3,>=2.5 in /usr/local/lib/python3.7/dist-packages (from requests->transformers) (2.10)\n",
            "Requirement already satisfied: urllib3!=1.25.0,!=1.25.1,<1.26,>=1.21.1 in /usr/local/lib/python3.7/dist-packages (from requests->transformers) (1.25.11)\n",
            "Requirement already satisfied: certifi>=2017.4.17 in /usr/local/lib/python3.7/dist-packages (from requests->transformers) (2021.10.8)\n",
            "Requirement already satisfied: six in /usr/local/lib/python3.7/dist-packages (from sacremoses->transformers) (1.15.0)\n",
            "Requirement already satisfied: click in /usr/local/lib/python3.7/dist-packages (from sacremoses->transformers) (7.1.2)\n",
            "Requirement already satisfied: joblib in /usr/local/lib/python3.7/dist-packages (from sacremoses->transformers) (1.1.0)\n",
            "Installing collected packages: pyyaml, tokenizers, sacremoses, huggingface-hub, transformers\n",
            "  Attempting uninstall: pyyaml\n",
            "    Found existing installation: PyYAML 3.13\n",
            "    Uninstalling PyYAML-3.13:\n",
            "      Successfully uninstalled PyYAML-3.13\n",
            "Successfully installed huggingface-hub-0.2.1 pyyaml-6.0 sacremoses-0.0.46 tokenizers-0.10.3 transformers-4.12.5\n",
            "Collecting sentence-transformers\n",
            "  Downloading sentence-transformers-2.1.0.tar.gz (78 kB)\n",
            "\u001b[K     |████████████████████████████████| 78 kB 6.2 MB/s \n",
            "\u001b[?25hRequirement already satisfied: transformers<5.0.0,>=4.6.0 in /usr/local/lib/python3.7/dist-packages (from sentence-transformers) (4.12.5)\n",
            "Requirement already satisfied: tokenizers>=0.10.3 in /usr/local/lib/python3.7/dist-packages (from sentence-transformers) (0.10.3)\n",
            "Requirement already satisfied: tqdm in /usr/local/lib/python3.7/dist-packages (from sentence-transformers) (4.62.3)\n",
            "Requirement already satisfied: torch>=1.6.0 in /usr/local/lib/python3.7/dist-packages (from sentence-transformers) (1.10.0+cu111)\n",
            "Requirement already satisfied: torchvision in /usr/local/lib/python3.7/dist-packages (from sentence-transformers) (0.11.1+cu111)\n",
            "Requirement already satisfied: numpy in /usr/local/lib/python3.7/dist-packages (from sentence-transformers) (1.19.5)\n",
            "Requirement already satisfied: scikit-learn in /usr/local/lib/python3.7/dist-packages (from sentence-transformers) (1.0.1)\n",
            "Requirement already satisfied: scipy in /usr/local/lib/python3.7/dist-packages (from sentence-transformers) (1.4.1)\n",
            "Requirement already satisfied: nltk in /usr/local/lib/python3.7/dist-packages (from sentence-transformers) (3.2.5)\n",
            "Collecting sentencepiece\n",
            "  Downloading sentencepiece-0.1.96-cp37-cp37m-manylinux_2_17_x86_64.manylinux2014_x86_64.whl (1.2 MB)\n",
            "\u001b[K     |████████████████████████████████| 1.2 MB 41.2 MB/s \n",
            "\u001b[?25hRequirement already satisfied: huggingface-hub in /usr/local/lib/python3.7/dist-packages (from sentence-transformers) (0.2.1)\n",
            "Requirement already satisfied: typing-extensions in /usr/local/lib/python3.7/dist-packages (from torch>=1.6.0->sentence-transformers) (3.10.0.2)\n",
            "Requirement already satisfied: regex!=2019.12.17 in /usr/local/lib/python3.7/dist-packages (from transformers<5.0.0,>=4.6.0->sentence-transformers) (2019.12.20)\n",
            "Requirement already satisfied: filelock in /usr/local/lib/python3.7/dist-packages (from transformers<5.0.0,>=4.6.0->sentence-transformers) (3.4.0)\n",
            "Requirement already satisfied: sacremoses in /usr/local/lib/python3.7/dist-packages (from transformers<5.0.0,>=4.6.0->sentence-transformers) (0.0.46)\n",
            "Requirement already satisfied: packaging>=20.0 in /usr/local/lib/python3.7/dist-packages (from transformers<5.0.0,>=4.6.0->sentence-transformers) (21.3)\n",
            "Requirement already satisfied: requests in /usr/local/lib/python3.7/dist-packages (from transformers<5.0.0,>=4.6.0->sentence-transformers) (2.23.0)\n",
            "Requirement already satisfied: importlib-metadata in /usr/local/lib/python3.7/dist-packages (from transformers<5.0.0,>=4.6.0->sentence-transformers) (4.8.2)\n",
            "Requirement already satisfied: pyyaml>=5.1 in /usr/local/lib/python3.7/dist-packages (from transformers<5.0.0,>=4.6.0->sentence-transformers) (6.0)\n",
            "Requirement already satisfied: pyparsing!=3.0.5,>=2.0.2 in /usr/local/lib/python3.7/dist-packages (from packaging>=20.0->transformers<5.0.0,>=4.6.0->sentence-transformers) (3.0.6)\n",
            "Requirement already satisfied: zipp>=0.5 in /usr/local/lib/python3.7/dist-packages (from importlib-metadata->transformers<5.0.0,>=4.6.0->sentence-transformers) (3.6.0)\n",
            "Requirement already satisfied: six in /usr/local/lib/python3.7/dist-packages (from nltk->sentence-transformers) (1.15.0)\n",
            "Requirement already satisfied: idna<3,>=2.5 in /usr/local/lib/python3.7/dist-packages (from requests->transformers<5.0.0,>=4.6.0->sentence-transformers) (2.10)\n",
            "Requirement already satisfied: chardet<4,>=3.0.2 in /usr/local/lib/python3.7/dist-packages (from requests->transformers<5.0.0,>=4.6.0->sentence-transformers) (3.0.4)\n",
            "Requirement already satisfied: urllib3!=1.25.0,!=1.25.1,<1.26,>=1.21.1 in /usr/local/lib/python3.7/dist-packages (from requests->transformers<5.0.0,>=4.6.0->sentence-transformers) (1.25.11)\n",
            "Requirement already satisfied: certifi>=2017.4.17 in /usr/local/lib/python3.7/dist-packages (from requests->transformers<5.0.0,>=4.6.0->sentence-transformers) (2021.10.8)\n",
            "Requirement already satisfied: joblib in /usr/local/lib/python3.7/dist-packages (from sacremoses->transformers<5.0.0,>=4.6.0->sentence-transformers) (1.1.0)\n",
            "Requirement already satisfied: click in /usr/local/lib/python3.7/dist-packages (from sacremoses->transformers<5.0.0,>=4.6.0->sentence-transformers) (7.1.2)\n",
            "Requirement already satisfied: threadpoolctl>=2.0.0 in /usr/local/lib/python3.7/dist-packages (from scikit-learn->sentence-transformers) (3.0.0)\n",
            "Requirement already satisfied: pillow!=8.3.0,>=5.3.0 in /usr/local/lib/python3.7/dist-packages (from torchvision->sentence-transformers) (7.1.2)\n",
            "Building wheels for collected packages: sentence-transformers\n",
            "  Building wheel for sentence-transformers (setup.py) ... \u001b[?25l\u001b[?25hdone\n",
            "  Created wheel for sentence-transformers: filename=sentence_transformers-2.1.0-py3-none-any.whl size=121000 sha256=a5c77edb026774591095b533e3d69930f845b1b4d4831496e71dc58b52480c45\n",
            "  Stored in directory: /root/.cache/pip/wheels/90/f0/bb/ed1add84da70092ea526466eadc2bfb197c4bcb8d4fa5f7bad\n",
            "Successfully built sentence-transformers\n",
            "Installing collected packages: sentencepiece, sentence-transformers\n",
            "Successfully installed sentence-transformers-2.1.0 sentencepiece-0.1.96\n",
            "Collecting whoosh\n",
            "  Downloading Whoosh-2.7.4-py2.py3-none-any.whl (468 kB)\n",
            "\u001b[K     |████████████████████████████████| 468 kB 25.7 MB/s \n",
            "\u001b[?25hInstalling collected packages: whoosh\n",
            "Successfully installed whoosh-2.7.4\n"
          ]
        }
      ]
    },
    {
      "cell_type": "markdown",
      "source": [
        "## Colocando documentos en una bolsa de palabras"
      ],
      "metadata": {
        "id": "wJ_Mj9d68XEQ"
      }
    },
    {
      "cell_type": "code",
      "source": [
        "# Importando los módulos necesarios\n",
        "from sklearn.feature_extraction.text import CountVectorizer"
      ],
      "metadata": {
        "id": "uNg43WlY8Shh"
      },
      "execution_count": 60,
      "outputs": []
    },
    {
      "cell_type": "code",
      "source": [
        "def read_text_file(filename):\n",
        "    file = open(filename, \"r\", encoding=\"utf-8\") \n",
        "    return file.read()\n",
        "\n",
        "def preprocess_text(text):\n",
        "    text = text.replace(\"\\n\", \" \")\n",
        "    return text\n",
        "\n",
        "def divide_into_sentences_nltk(text):\n",
        "    sentences = tokenizer.tokenize(text)\n",
        "    return sentences"
      ],
      "metadata": {
        "id": "r1NAw_Fm_x4y"
      },
      "execution_count": 61,
      "outputs": []
    },
    {
      "cell_type": "code",
      "source": [
        "# Definir la función get_sentences\n",
        "def get_sentences(filename):\n",
        " text = read_text_file(filename)\n",
        " text = preprocess_text(text)\n",
        " sentences = divide_into_sentences_nltk(text)\n",
        " return sentences"
      ],
      "metadata": {
        "id": "SUhKwI41Be0F"
      },
      "execution_count": 65,
      "outputs": []
    },
    {
      "cell_type": "code",
      "source": [
        "# Función para obtener el vector y la matriz final\n",
        "def create_vectorizer(sentences):\n",
        " vectorizer = CountVectorizer()\n",
        " X = vectorizer.fit_transform(sentences)\n",
        " return (vectorizer, X)"
      ],
      "metadata": {
        "id": "cuLgOqEnAh2Y"
      },
      "execution_count": 66,
      "outputs": []
    },
    {
      "cell_type": "code",
      "source": [
        "# Utilizamos las funciones en el texto\n",
        "sentences = get_sentences(\"coding.txt\")\n",
        "(vectorizer, X) = create_vectorizer(sentences)\n",
        "print(X)"
      ],
      "metadata": {
        "colab": {
          "base_uri": "https://localhost:8080/"
        },
        "id": "KvhjaibXBN1F",
        "outputId": "40b73ad1-28e6-46d7-cd36-35153fc620e9"
      },
      "execution_count": 68,
      "outputs": [
        {
          "output_type": "stream",
          "name": "stdout",
          "text": [
            "  (0, 20)\t1\n",
            "  (0, 21)\t1\n",
            "  (0, 4)\t1\n",
            "  (0, 13)\t1\n",
            "  (0, 26)\t1\n",
            "  (0, 16)\t1\n",
            "  (0, 17)\t1\n",
            "  (0, 5)\t1\n",
            "  (0, 34)\t1\n",
            "  (0, 6)\t1\n",
            "  (1, 13)\t1\n",
            "  (1, 6)\t2\n",
            "  (1, 14)\t1\n",
            "  (1, 31)\t1\n",
            "  (1, 15)\t1\n",
            "  (1, 25)\t1\n",
            "  (1, 29)\t1\n",
            "  (1, 28)\t2\n",
            "  (1, 10)\t1\n",
            "  (1, 12)\t1\n",
            "  (1, 11)\t1\n",
            "  (1, 18)\t1\n",
            "  (1, 19)\t1\n",
            "  (1, 23)\t1\n",
            "  (1, 8)\t1\n",
            "  (2, 4)\t1\n",
            "  (2, 6)\t1\n",
            "  (2, 28)\t1\n",
            "  (2, 0)\t1\n",
            "  (2, 30)\t1\n",
            "  (2, 7)\t1\n",
            "  (2, 27)\t1\n",
            "  (2, 24)\t1\n",
            "  (2, 3)\t1\n",
            "  (2, 22)\t1\n",
            "  (2, 33)\t1\n",
            "  (2, 2)\t1\n",
            "  (2, 1)\t1\n",
            "  (2, 32)\t1\n",
            "  (2, 9)\t1\n"
          ]
        }
      ]
    },
    {
      "cell_type": "code",
      "source": [
        "# Imprimimos la matriz\n",
        "denseX = X.todense()\n",
        "print(denseX)"
      ],
      "metadata": {
        "colab": {
          "base_uri": "https://localhost:8080/"
        },
        "id": "hMRHQvzQCKg9",
        "outputId": "f4b8eb86-d6de-4734-adff-6e1734758416"
      },
      "execution_count": 69,
      "outputs": [
        {
          "output_type": "stream",
          "name": "stdout",
          "text": [
            "[[0 0 0 0 1 1 1 0 0 0 0 0 0 1 0 0 1 1 0 0 1 1 0 0 0 0 1 0 0 0 0 0 0 0 1]\n",
            " [0 0 0 0 0 0 2 0 1 0 1 1 1 1 1 1 0 0 1 1 0 0 0 1 0 1 0 0 2 1 0 1 0 0 0]\n",
            " [1 1 1 1 1 0 1 1 0 1 0 0 0 0 0 0 0 0 0 0 0 0 1 0 1 0 0 1 1 0 1 0 1 1 0]]\n"
          ]
        }
      ]
    },
    {
      "cell_type": "code",
      "source": [
        "# Podemos ver todas las palabras en el conjunto de documentos\n",
        "print(vectorizer.get_feature_names())\n"
      ],
      "metadata": {
        "colab": {
          "base_uri": "https://localhost:8080/"
        },
        "id": "7aKUeie-CUmT",
        "outputId": "ddceb729-dfc5-4290-f1e6-5881484fb36c"
      },
      "execution_count": 72,
      "outputs": [
        {
          "output_type": "stream",
          "name": "stdout",
          "text": [
            "['allows', 'and', 'apps', 'as', 'coding', 'communicating', 'computer', 'create', 'functions', 'games', 'give', 'in', 'instructions', 'is', 'it', 'language', 'method', 'of', 'order', 'perform', 'put', 'simply', 'software', 'specific', 'such', 'that', 'the', 'things', 'to', 'understands', 'us', 'using', 'video', 'websites', 'with']\n"
          ]
        },
        {
          "output_type": "stream",
          "name": "stderr",
          "text": [
            "/usr/local/lib/python3.7/dist-packages/sklearn/utils/deprecation.py:87: FutureWarning: Function get_feature_names is deprecated; get_feature_names is deprecated in 1.0 and will be removed in 1.2. Please use get_feature_names_out instead.\n",
            "  warnings.warn(msg, category=FutureWarning)\n"
          ]
        }
      ]
    },
    {
      "cell_type": "code",
      "source": [
        "# Definimos una oración nueva\n",
        "new_sentence = \"I had seen little of Holmes lately.\"\n",
        "new_sentence_vector = vectorizer.transform([new_sentence])"
      ],
      "metadata": {
        "id": "EHlLkN1dLaxu"
      },
      "execution_count": 75,
      "outputs": []
    },
    {
      "cell_type": "code",
      "source": [
        "# Imprimimos los resultados\n",
        "print(new_sentence_vector)\n",
        "print(new_sentence_vector.todense())"
      ],
      "metadata": {
        "colab": {
          "base_uri": "https://localhost:8080/"
        },
        "id": "mCg4U5RVMP6U",
        "outputId": "332ad32d-7561-4207-b349-8e8b444f86ef"
      },
      "execution_count": 76,
      "outputs": [
        {
          "output_type": "stream",
          "name": "stdout",
          "text": [
            "  (0, 17)\t1\n",
            "[[0 0 0 0 0 0 0 0 0 0 0 0 0 0 0 0 0 1 0 0 0 0 0 0 0 0 0 0 0 0 0 0 0 0 0]]\n"
          ]
        }
      ]
    },
    {
      "cell_type": "markdown",
      "source": [
        "**Hay más**"
      ],
      "metadata": {
        "id": "Z21__0lNQf2j"
      }
    },
    {
      "cell_type": "code",
      "source": [
        "# Procesamos el texto\n",
        "filename=\"coding.txt\"\n",
        "text = read_text_file(filename)\n",
        "text = preprocess_text(text)\n",
        "sentences = divide_into_sentences_nltk(text)\n",
        "# Creamos la clase vectorizer.\n",
        "vectorizer = CountVectorizer(stop_words='english')\n",
        "# Usamos el objeto vectorizer para obtener la matriz\n",
        "X = vectorizer.fit_transform(sentences)\n",
        "# Imprimimos el vocabulario\n",
        "print(vectorizer.get_feature_names())"
      ],
      "metadata": {
        "colab": {
          "base_uri": "https://localhost:8080/"
        },
        "id": "j2QUCb31QY6w",
        "outputId": "b638eabc-d94b-458e-d8dc-c40b781ab03f"
      },
      "execution_count": 78,
      "outputs": [
        {
          "output_type": "stream",
          "name": "stdout",
          "text": [
            "['allows', 'apps', 'coding', 'communicating', 'computer', 'create', 'functions', 'games', 'instructions', 'language', 'method', 'order', 'perform', 'simply', 'software', 'specific', 'things', 'understands', 'using', 'video', 'websites']\n"
          ]
        },
        {
          "output_type": "stream",
          "name": "stderr",
          "text": [
            "/usr/local/lib/python3.7/dist-packages/sklearn/utils/deprecation.py:87: FutureWarning: Function get_feature_names is deprecated; get_feature_names is deprecated in 1.0 and will be removed in 1.2. Please use get_feature_names_out instead.\n",
            "  warnings.warn(msg, category=FutureWarning)\n"
          ]
        }
      ]
    },
    {
      "cell_type": "markdown",
      "source": [
        "Ahora podemos aplicar el nuevo vectorizador a una de las oraciones del conjunto original y usar la función build_analyzer para ver más claramente el análisis de la oración:"
      ],
      "metadata": {
        "id": "Da4IVLk8RYp6"
      }
    },
    {
      "cell_type": "code",
      "source": [
        "new_sentence = \"Coding is the a method of communicating with a computer. \"\n",
        "new_sentence_vector = vectorizer.transform([new_sentence])\n",
        "analyze = vectorizer.build_analyzer()\n",
        "print(analyze(new_sentence))"
      ],
      "metadata": {
        "colab": {
          "base_uri": "https://localhost:8080/"
        },
        "id": "5iersbtPRS1B",
        "outputId": "bc25f89f-6042-4bef-e913-3a57a72f3078"
      },
      "execution_count": 84,
      "outputs": [
        {
          "output_type": "stream",
          "name": "stdout",
          "text": [
            "['coding', 'method', 'communicating', 'computer']\n"
          ]
        }
      ]
    },
    {
      "cell_type": "code",
      "source": [
        "# imprimimos el vector de la frase:\n",
        "print(new_sentence_vector)"
      ],
      "metadata": {
        "colab": {
          "base_uri": "https://localhost:8080/"
        },
        "id": "28Ntzp7ERxeW",
        "outputId": "19bed0fd-b25e-4fd7-9ab4-101d7717385f"
      },
      "execution_count": 85,
      "outputs": [
        {
          "output_type": "stream",
          "name": "stdout",
          "text": [
            "  (0, 2)\t1\n",
            "  (0, 3)\t1\n",
            "  (0, 4)\t1\n",
            "  (0, 10)\t1\n"
          ]
        }
      ]
    }
  ]
}