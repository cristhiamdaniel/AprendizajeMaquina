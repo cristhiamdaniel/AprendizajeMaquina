{
  "nbformat": 4,
  "nbformat_minor": 0,
  "metadata": {
    "colab": {
      "name": "NLP.ipynb",
      "provenance": [],
      "toc_visible": true,
      "authorship_tag": "ABX9TyOnVO8mpaXaLiBW/vOx18yt",
      "include_colab_link": true
    },
    "kernelspec": {
      "name": "python3",
      "display_name": "Python 3"
    },
    "language_info": {
      "name": "python"
    }
  },
  "cells": [
    {
      "cell_type": "markdown",
      "metadata": {
        "id": "view-in-github",
        "colab_type": "text"
      },
      "source": [
        "<a href=\"https://colab.research.google.com/github/cristhiamdaniel/AprendizajeMaquina/blob/main/NLP.ipynb\" target=\"_parent\"><img src=\"https://colab.research.google.com/assets/colab-badge.svg\" alt=\"Open In Colab\"/></a>"
      ]
    },
    {
      "cell_type": "markdown",
      "metadata": {
        "id": "CBoHGrNQlaRa"
      },
      "source": [
        "#Bases del PLN"
      ]
    },
    {
      "cell_type": "code",
      "metadata": {
        "id": "rVWSGsKZl0G1",
        "colab": {
          "base_uri": "https://localhost:8080/"
        },
        "outputId": "6145edbe-f97a-41d8-c3c8-227ca25f679c"
      },
      "source": [
        "pip install nltk"
      ],
      "execution_count": 1,
      "outputs": [
        {
          "output_type": "stream",
          "name": "stdout",
          "text": [
            "Requirement already satisfied: nltk in /usr/local/lib/python3.7/dist-packages (3.2.5)\n",
            "Requirement already satisfied: six in /usr/local/lib/python3.7/dist-packages (from nltk) (1.15.0)\n"
          ]
        }
      ]
    },
    {
      "cell_type": "code",
      "metadata": {
        "id": "eXeGPTCXl5fK",
        "colab": {
          "base_uri": "https://localhost:8080/"
        },
        "outputId": "36965895-de05-4ebb-8836-9a239af29505"
      },
      "source": [
        "pip install spacy"
      ],
      "execution_count": 2,
      "outputs": [
        {
          "output_type": "stream",
          "name": "stdout",
          "text": [
            "Requirement already satisfied: spacy in /usr/local/lib/python3.7/dist-packages (3.2.0)\n",
            "Requirement already satisfied: pydantic!=1.8,!=1.8.1,<1.9.0,>=1.7.4 in /usr/local/lib/python3.7/dist-packages (from spacy) (1.8.2)\n",
            "Requirement already satisfied: pathy>=0.3.5 in /usr/local/lib/python3.7/dist-packages (from spacy) (0.6.1)\n",
            "Requirement already satisfied: typing-extensions<4.0.0.0,>=3.7.4 in /usr/local/lib/python3.7/dist-packages (from spacy) (3.10.0.2)\n",
            "Requirement already satisfied: spacy-legacy<3.1.0,>=3.0.8 in /usr/local/lib/python3.7/dist-packages (from spacy) (3.0.8)\n",
            "Requirement already satisfied: requests<3.0.0,>=2.13.0 in /usr/local/lib/python3.7/dist-packages (from spacy) (2.23.0)\n",
            "Requirement already satisfied: packaging>=20.0 in /usr/local/lib/python3.7/dist-packages (from spacy) (21.3)\n",
            "Requirement already satisfied: jinja2 in /usr/local/lib/python3.7/dist-packages (from spacy) (2.11.3)\n",
            "Requirement already satisfied: blis<0.8.0,>=0.4.0 in /usr/local/lib/python3.7/dist-packages (from spacy) (0.4.1)\n",
            "Requirement already satisfied: numpy>=1.15.0 in /usr/local/lib/python3.7/dist-packages (from spacy) (1.19.5)\n",
            "Requirement already satisfied: thinc<8.1.0,>=8.0.12 in /usr/local/lib/python3.7/dist-packages (from spacy) (8.0.13)\n",
            "Requirement already satisfied: typer<0.5.0,>=0.3.0 in /usr/local/lib/python3.7/dist-packages (from spacy) (0.4.0)\n",
            "Requirement already satisfied: langcodes<4.0.0,>=3.2.0 in /usr/local/lib/python3.7/dist-packages (from spacy) (3.3.0)\n",
            "Requirement already satisfied: setuptools in /usr/local/lib/python3.7/dist-packages (from spacy) (57.4.0)\n",
            "Requirement already satisfied: tqdm<5.0.0,>=4.38.0 in /usr/local/lib/python3.7/dist-packages (from spacy) (4.62.3)\n",
            "Requirement already satisfied: murmurhash<1.1.0,>=0.28.0 in /usr/local/lib/python3.7/dist-packages (from spacy) (1.0.6)\n",
            "Requirement already satisfied: srsly<3.0.0,>=2.4.1 in /usr/local/lib/python3.7/dist-packages (from spacy) (2.4.2)\n",
            "Requirement already satisfied: catalogue<2.1.0,>=2.0.6 in /usr/local/lib/python3.7/dist-packages (from spacy) (2.0.6)\n",
            "Requirement already satisfied: wasabi<1.1.0,>=0.8.1 in /usr/local/lib/python3.7/dist-packages (from spacy) (0.8.2)\n",
            "Requirement already satisfied: spacy-loggers<2.0.0,>=1.0.0 in /usr/local/lib/python3.7/dist-packages (from spacy) (1.0.1)\n",
            "Requirement already satisfied: preshed<3.1.0,>=3.0.2 in /usr/local/lib/python3.7/dist-packages (from spacy) (3.0.6)\n",
            "Requirement already satisfied: cymem<2.1.0,>=2.0.2 in /usr/local/lib/python3.7/dist-packages (from spacy) (2.0.6)\n",
            "Requirement already satisfied: zipp>=0.5 in /usr/local/lib/python3.7/dist-packages (from catalogue<2.1.0,>=2.0.6->spacy) (3.6.0)\n",
            "Requirement already satisfied: pyparsing!=3.0.5,>=2.0.2 in /usr/local/lib/python3.7/dist-packages (from packaging>=20.0->spacy) (3.0.6)\n",
            "Requirement already satisfied: smart-open<6.0.0,>=5.0.0 in /usr/local/lib/python3.7/dist-packages (from pathy>=0.3.5->spacy) (5.2.1)\n",
            "Requirement already satisfied: urllib3!=1.25.0,!=1.25.1,<1.26,>=1.21.1 in /usr/local/lib/python3.7/dist-packages (from requests<3.0.0,>=2.13.0->spacy) (1.25.11)\n",
            "Requirement already satisfied: idna<3,>=2.5 in /usr/local/lib/python3.7/dist-packages (from requests<3.0.0,>=2.13.0->spacy) (2.10)\n",
            "Requirement already satisfied: chardet<4,>=3.0.2 in /usr/local/lib/python3.7/dist-packages (from requests<3.0.0,>=2.13.0->spacy) (3.0.4)\n",
            "Requirement already satisfied: certifi>=2017.4.17 in /usr/local/lib/python3.7/dist-packages (from requests<3.0.0,>=2.13.0->spacy) (2021.10.8)\n",
            "Requirement already satisfied: click<9.0.0,>=7.1.1 in /usr/local/lib/python3.7/dist-packages (from typer<0.5.0,>=0.3.0->spacy) (7.1.2)\n",
            "Requirement already satisfied: MarkupSafe>=0.23 in /usr/local/lib/python3.7/dist-packages (from jinja2->spacy) (2.0.1)\n"
          ]
        }
      ]
    },
    {
      "cell_type": "code",
      "metadata": {
        "id": "YaAm8cCxl_z1",
        "colab": {
          "base_uri": "https://localhost:8080/"
        },
        "outputId": "b68ff59f-35e2-401a-c0ed-9e16fde513ca"
      },
      "source": [
        "!python -m spacy download en_core_web_sm"
      ],
      "execution_count": 3,
      "outputs": [
        {
          "output_type": "stream",
          "name": "stdout",
          "text": [
            "Collecting en-core-web-sm==3.2.0\n",
            "  Downloading https://github.com/explosion/spacy-models/releases/download/en_core_web_sm-3.2.0/en_core_web_sm-3.2.0-py3-none-any.whl (13.9 MB)\n",
            "\u001b[K     |████████████████████████████████| 13.9 MB 2.4 MB/s \n",
            "\u001b[?25hRequirement already satisfied: spacy<3.3.0,>=3.2.0 in /usr/local/lib/python3.7/dist-packages (from en-core-web-sm==3.2.0) (3.2.0)\n",
            "Requirement already satisfied: murmurhash<1.1.0,>=0.28.0 in /usr/local/lib/python3.7/dist-packages (from spacy<3.3.0,>=3.2.0->en-core-web-sm==3.2.0) (1.0.6)\n",
            "Requirement already satisfied: spacy-loggers<2.0.0,>=1.0.0 in /usr/local/lib/python3.7/dist-packages (from spacy<3.3.0,>=3.2.0->en-core-web-sm==3.2.0) (1.0.1)\n",
            "Requirement already satisfied: wasabi<1.1.0,>=0.8.1 in /usr/local/lib/python3.7/dist-packages (from spacy<3.3.0,>=3.2.0->en-core-web-sm==3.2.0) (0.8.2)\n",
            "Requirement already satisfied: srsly<3.0.0,>=2.4.1 in /usr/local/lib/python3.7/dist-packages (from spacy<3.3.0,>=3.2.0->en-core-web-sm==3.2.0) (2.4.2)\n",
            "Requirement already satisfied: pydantic!=1.8,!=1.8.1,<1.9.0,>=1.7.4 in /usr/local/lib/python3.7/dist-packages (from spacy<3.3.0,>=3.2.0->en-core-web-sm==3.2.0) (1.8.2)\n",
            "Requirement already satisfied: packaging>=20.0 in /usr/local/lib/python3.7/dist-packages (from spacy<3.3.0,>=3.2.0->en-core-web-sm==3.2.0) (21.3)\n",
            "Requirement already satisfied: tqdm<5.0.0,>=4.38.0 in /usr/local/lib/python3.7/dist-packages (from spacy<3.3.0,>=3.2.0->en-core-web-sm==3.2.0) (4.62.3)\n",
            "Requirement already satisfied: typer<0.5.0,>=0.3.0 in /usr/local/lib/python3.7/dist-packages (from spacy<3.3.0,>=3.2.0->en-core-web-sm==3.2.0) (0.4.0)\n",
            "Requirement already satisfied: pathy>=0.3.5 in /usr/local/lib/python3.7/dist-packages (from spacy<3.3.0,>=3.2.0->en-core-web-sm==3.2.0) (0.6.1)\n",
            "Requirement already satisfied: requests<3.0.0,>=2.13.0 in /usr/local/lib/python3.7/dist-packages (from spacy<3.3.0,>=3.2.0->en-core-web-sm==3.2.0) (2.23.0)\n",
            "Requirement already satisfied: thinc<8.1.0,>=8.0.12 in /usr/local/lib/python3.7/dist-packages (from spacy<3.3.0,>=3.2.0->en-core-web-sm==3.2.0) (8.0.13)\n",
            "Requirement already satisfied: spacy-legacy<3.1.0,>=3.0.8 in /usr/local/lib/python3.7/dist-packages (from spacy<3.3.0,>=3.2.0->en-core-web-sm==3.2.0) (3.0.8)\n",
            "Requirement already satisfied: numpy>=1.15.0 in /usr/local/lib/python3.7/dist-packages (from spacy<3.3.0,>=3.2.0->en-core-web-sm==3.2.0) (1.19.5)\n",
            "Requirement already satisfied: catalogue<2.1.0,>=2.0.6 in /usr/local/lib/python3.7/dist-packages (from spacy<3.3.0,>=3.2.0->en-core-web-sm==3.2.0) (2.0.6)\n",
            "Requirement already satisfied: cymem<2.1.0,>=2.0.2 in /usr/local/lib/python3.7/dist-packages (from spacy<3.3.0,>=3.2.0->en-core-web-sm==3.2.0) (2.0.6)\n",
            "Requirement already satisfied: jinja2 in /usr/local/lib/python3.7/dist-packages (from spacy<3.3.0,>=3.2.0->en-core-web-sm==3.2.0) (2.11.3)\n",
            "Requirement already satisfied: typing-extensions<4.0.0.0,>=3.7.4 in /usr/local/lib/python3.7/dist-packages (from spacy<3.3.0,>=3.2.0->en-core-web-sm==3.2.0) (3.10.0.2)\n",
            "Requirement already satisfied: blis<0.8.0,>=0.4.0 in /usr/local/lib/python3.7/dist-packages (from spacy<3.3.0,>=3.2.0->en-core-web-sm==3.2.0) (0.4.1)\n",
            "Requirement already satisfied: langcodes<4.0.0,>=3.2.0 in /usr/local/lib/python3.7/dist-packages (from spacy<3.3.0,>=3.2.0->en-core-web-sm==3.2.0) (3.3.0)\n",
            "Requirement already satisfied: preshed<3.1.0,>=3.0.2 in /usr/local/lib/python3.7/dist-packages (from spacy<3.3.0,>=3.2.0->en-core-web-sm==3.2.0) (3.0.6)\n",
            "Requirement already satisfied: setuptools in /usr/local/lib/python3.7/dist-packages (from spacy<3.3.0,>=3.2.0->en-core-web-sm==3.2.0) (57.4.0)\n",
            "Requirement already satisfied: zipp>=0.5 in /usr/local/lib/python3.7/dist-packages (from catalogue<2.1.0,>=2.0.6->spacy<3.3.0,>=3.2.0->en-core-web-sm==3.2.0) (3.6.0)\n",
            "Requirement already satisfied: pyparsing!=3.0.5,>=2.0.2 in /usr/local/lib/python3.7/dist-packages (from packaging>=20.0->spacy<3.3.0,>=3.2.0->en-core-web-sm==3.2.0) (3.0.6)\n",
            "Requirement already satisfied: smart-open<6.0.0,>=5.0.0 in /usr/local/lib/python3.7/dist-packages (from pathy>=0.3.5->spacy<3.3.0,>=3.2.0->en-core-web-sm==3.2.0) (5.2.1)\n",
            "Requirement already satisfied: idna<3,>=2.5 in /usr/local/lib/python3.7/dist-packages (from requests<3.0.0,>=2.13.0->spacy<3.3.0,>=3.2.0->en-core-web-sm==3.2.0) (2.10)\n",
            "Requirement already satisfied: urllib3!=1.25.0,!=1.25.1,<1.26,>=1.21.1 in /usr/local/lib/python3.7/dist-packages (from requests<3.0.0,>=2.13.0->spacy<3.3.0,>=3.2.0->en-core-web-sm==3.2.0) (1.25.11)\n",
            "Requirement already satisfied: certifi>=2017.4.17 in /usr/local/lib/python3.7/dist-packages (from requests<3.0.0,>=2.13.0->spacy<3.3.0,>=3.2.0->en-core-web-sm==3.2.0) (2021.10.8)\n",
            "Requirement already satisfied: chardet<4,>=3.0.2 in /usr/local/lib/python3.7/dist-packages (from requests<3.0.0,>=2.13.0->spacy<3.3.0,>=3.2.0->en-core-web-sm==3.2.0) (3.0.4)\n",
            "Requirement already satisfied: click<9.0.0,>=7.1.1 in /usr/local/lib/python3.7/dist-packages (from typer<0.5.0,>=0.3.0->spacy<3.3.0,>=3.2.0->en-core-web-sm==3.2.0) (7.1.2)\n",
            "Requirement already satisfied: MarkupSafe>=0.23 in /usr/local/lib/python3.7/dist-packages (from jinja2->spacy<3.3.0,>=3.2.0->en-core-web-sm==3.2.0) (2.0.1)\n",
            "Installing collected packages: en-core-web-sm\n",
            "  Attempting uninstall: en-core-web-sm\n",
            "    Found existing installation: en-core-web-sm 2.2.5\n",
            "    Uninstalling en-core-web-sm-2.2.5:\n",
            "      Successfully uninstalled en-core-web-sm-2.2.5\n",
            "Successfully installed en-core-web-sm-3.2.0\n",
            "\u001b[38;5;2m✔ Download and installation successful\u001b[0m\n",
            "You can now load the package via spacy.load('en_core_web_sm')\n"
          ]
        }
      ]
    },
    {
      "cell_type": "markdown",
      "metadata": {
        "id": "0tts8ge_lnsX"
      },
      "source": [
        "## Diviendo el texto en oraciones."
      ]
    },
    {
      "cell_type": "markdown",
      "metadata": {
        "id": "i2DsD-oamkhx"
      },
      "source": [
        "Cuando trabajamos con texto, podemos trabajar con unidades de texto en diferentes escalas: podemos trabajar a nivel del propio documento, como un artículo de periódico, el párrafo, la oración o la palabra. Las oraciones son la unidad principal de procesamiento en muchas tareas de la PNL"
      ]
    },
    {
      "cell_type": "code",
      "metadata": {
        "colab": {
          "base_uri": "https://localhost:8080/"
        },
        "id": "UDLCLC42nOHJ",
        "outputId": "06a5df7d-9f31-4359-b0b8-54e60274f188"
      },
      "source": [
        "import nltk\n",
        "nltk.download('punkt')"
      ],
      "execution_count": 4,
      "outputs": [
        {
          "output_type": "stream",
          "name": "stdout",
          "text": [
            "[nltk_data] Downloading package punkt to /root/nltk_data...\n",
            "[nltk_data]   Package punkt is already up-to-date!\n"
          ]
        },
        {
          "output_type": "execute_result",
          "data": {
            "text/plain": [
              "True"
            ]
          },
          "metadata": {},
          "execution_count": 4
        }
      ]
    },
    {
      "cell_type": "code",
      "metadata": {
        "id": "7In4dQKsm98C"
      },
      "source": [
        "# Lectura del texto\n",
        "filename = \"coding.txt\"\n",
        "file = open(filename, \"r\", encoding=\"utf-8\")\n",
        "text = file.read()"
      ],
      "execution_count": 5,
      "outputs": []
    },
    {
      "cell_type": "code",
      "metadata": {
        "id": "EMUmnOk0oIBX"
      },
      "source": [
        "# Cambio de salto de línea por espacios:\n",
        "text = text.replace(\"\\n\", \" \")"
      ],
      "execution_count": 6,
      "outputs": []
    },
    {
      "cell_type": "code",
      "metadata": {
        "id": "TS0xbdc-nZrO"
      },
      "source": [
        "# Inicializamos el tokenizador:\n",
        "tokenizer = nltk.data.load(\"tokenizers/punkt/english.pickle\")"
      ],
      "execution_count": 7,
      "outputs": []
    },
    {
      "cell_type": "code",
      "metadata": {
        "colab": {
          "base_uri": "https://localhost:8080/"
        },
        "id": "18QxXGcwoX9r",
        "outputId": "2f338c41-7def-4b4a-a70d-3c600565b771"
      },
      "source": [
        "# División del texto en oraciones:\n",
        "sentences = tokenizer.tokenize(text)\n",
        "sentences"
      ],
      "execution_count": 8,
      "outputs": [
        {
          "output_type": "execute_result",
          "data": {
            "text/plain": [
              "['Put simply, Coding is the a method of communicating with  a computer.',\n",
              " 'It is using a language that a computer  understands to give a computer instructions in order  to perform specific functions.',\n",
              " 'Coding allows us to create  things such as computer software, websites, apps and video games.']"
            ]
          },
          "metadata": {},
          "execution_count": 8
        }
      ]
    },
    {
      "cell_type": "markdown",
      "metadata": {
        "id": "F1E3xQ3qpV57"
      },
      "source": [
        "**También podemos usar una estrategia diferente para analizar el texto en oraciones, empleando otro paquete de PNL muy popular, spaCy.**"
      ]
    },
    {
      "cell_type": "code",
      "metadata": {
        "colab": {
          "base_uri": "https://localhost:8080/"
        },
        "id": "mIAZqunhpgTI",
        "outputId": "b15ade65-2c66-4b11-d0ec-3af11afab9f1"
      },
      "source": [
        "# importamos el paquete\n",
        "import spacy\n",
        "# inicializamos el motor de spaCy:\n",
        "nlp = spacy.load(\"en_core_web_sm\")\n",
        "# dividimos el texto en oraciones:\n",
        "doc = nlp(text)\n",
        "sentences = [sentence.text for sentence in doc.sents]\n",
        "sentences"
      ],
      "execution_count": 9,
      "outputs": [
        {
          "output_type": "execute_result",
          "data": {
            "text/plain": [
              "['Put simply, Coding is the a method of communicating with  a computer.',\n",
              " 'It is using a language that a computer  understands to give a computer instructions in order  to perform specific functions.',\n",
              " 'Coding allows us to create  things such as computer software, websites, apps and video games.',\n",
              " ' ']"
            ]
          },
          "metadata": {},
          "execution_count": 9
        }
      ]
    },
    {
      "cell_type": "markdown",
      "metadata": {
        "id": "7Q6d4GBQp_Ey"
      },
      "source": [
        "**Ahora en español**"
      ]
    },
    {
      "cell_type": "code",
      "metadata": {
        "id": "tF9ctIowrcaJ"
      },
      "source": [
        "tokenizer = nltk.data.load(\"tokenizers/punkt/spanish.pickle\")"
      ],
      "execution_count": 10,
      "outputs": []
    },
    {
      "cell_type": "code",
      "metadata": {
        "id": "qeeHEDh0skFL"
      },
      "source": [
        "def read_text_file(filename):\n",
        "    file = open(filename, \"r\", encoding=\"utf-8\") \n",
        "    return file.read()\n",
        "\n",
        "def preprocess_text(text):\n",
        "    text = text.replace(\"\\n\", \" \")\n",
        "    return text\n",
        "\n",
        "def divide_into_sentences_nltk(text):\n",
        "    sentences = tokenizer.tokenize(text)\n",
        "    return sentences"
      ],
      "execution_count": 11,
      "outputs": []
    },
    {
      "cell_type": "code",
      "metadata": {
        "colab": {
          "base_uri": "https://localhost:8080/"
        },
        "id": "RW6x3nIas_j2",
        "outputId": "b0e0c0cc-4ebb-4bda-ea93-7a5c16ff5f7f"
      },
      "source": [
        "code_text = read_text_file(\"codigo.txt\")\n",
        "code_text = preprocess_text(code_text)\n",
        "sentences = divide_into_sentences_nltk(code_text)\n",
        "sentences"
      ],
      "execution_count": 12,
      "outputs": [
        {
          "output_type": "execute_result",
          "data": {
            "text/plain": [
              "['Las ventajas de la programación van más allá del  entorno laboral.',\n",
              " 'La enseñanza de esta disciplina  fomenta el pensamiento computacional.',\n",
              " 'Este proceso  de razonamiento estructura la mente y ordena las ideas.',\n",
              " '“Te permite dividir un problema grande en problemas  más pequeños”, explica García.']"
            ]
          },
          "metadata": {},
          "execution_count": 12
        }
      ]
    },
    {
      "cell_type": "markdown",
      "metadata": {
        "id": "BSbHbAIZvpz9"
      },
      "source": [
        "## Dividiendo las oraciones en palabras - tokenización"
      ]
    },
    {
      "cell_type": "code",
      "metadata": {
        "colab": {
          "base_uri": "https://localhost:8080/"
        },
        "id": "0Uv7JREyvuaF",
        "outputId": "972eeb3e-f1b1-4b63-c6e2-e8ed6dcc1884"
      },
      "source": [
        "# dividir el texto en palabras.\n",
        "words = nltk.tokenize.word_tokenize(code_text)\n",
        "print(\"El texto tiene \", len(words), \"palabras\")\n",
        "print()\n",
        "print(\"Las palabras son: \")\n",
        "print(words)"
      ],
      "execution_count": 13,
      "outputs": [
        {
          "output_type": "stream",
          "name": "stdout",
          "text": [
            "El texto tiene  50 palabras\n",
            "\n",
            "Las palabras son: \n",
            "['Las', 'ventajas', 'de', 'la', 'programación', 'van', 'más', 'allá', 'del', 'entorno', 'laboral', '.', 'La', 'enseñanza', 'de', 'esta', 'disciplina', 'fomenta', 'el', 'pensamiento', 'computacional', '.', 'Este', 'proceso', 'de', 'razonamiento', 'estructura', 'la', 'mente', 'y', 'ordena', 'las', 'ideas', '.', '“', 'Te', 'permite', 'dividir', 'un', 'problema', 'grande', 'en', 'problemas', 'más', 'pequeños', '”', ',', 'explica', 'García', '.']\n"
          ]
        }
      ]
    },
    {
      "cell_type": "markdown",
      "metadata": {
        "id": "gFKM1X4CwmLd"
      },
      "source": [
        "**Tweet**"
      ]
    },
    {
      "cell_type": "code",
      "metadata": {
        "id": "Ce5u0dl9wpYo"
      },
      "source": [
        "tweet = \"@Docker Docker facilita mucho el trabajo como desarrollador siiiiii\""
      ],
      "execution_count": 14,
      "outputs": []
    },
    {
      "cell_type": "markdown",
      "metadata": {
        "id": "zl5DDX2JxCMK"
      },
      "source": [
        "Divida el texto en palabras. Establezca los parámetros para preservar el caso, reducir la longitud y quitar las @:"
      ]
    },
    {
      "cell_type": "code",
      "metadata": {
        "id": "b-roRIkTxBUo"
      },
      "source": [
        "words = nltk.tokenize.casual.casual_tokenize(tweet,\\\n",
        "                                             preserve_case=True,\\\n",
        "                                             reduce_len=True, \\\n",
        "                                             strip_handles=True)"
      ],
      "execution_count": 15,
      "outputs": []
    },
    {
      "cell_type": "code",
      "metadata": {
        "colab": {
          "base_uri": "https://localhost:8080/"
        },
        "id": "z5RSLkkixUdb",
        "outputId": "ac88fec0-50fc-49a6-f6e8-b046a9b06377"
      },
      "source": [
        "print(words)"
      ],
      "execution_count": 16,
      "outputs": [
        {
          "output_type": "stream",
          "name": "stdout",
          "text": [
            "['Docker', 'facilita', 'mucho', 'el', 'trabajo', 'como', 'desarrollador', 'siii']\n"
          ]
        }
      ]
    },
    {
      "cell_type": "markdown",
      "metadata": {
        "id": "xjT6fWKByKZU"
      },
      "source": [
        "**Importante a tener en cuenta**"
      ]
    },
    {
      "cell_type": "markdown",
      "metadata": {
        "id": "scdYVlrpyPZG"
      },
      "source": [
        "El paquete NLTK solo tiene tokenización de palabras para inglés.\n",
        "spaCy tiene modelos para varios otros idiomas:\n",
        "\n"
      ]
    },
    {
      "cell_type": "code",
      "metadata": {
        "colab": {
          "base_uri": "https://localhost:8080/"
        },
        "id": "hKkAVsNdiExB",
        "outputId": "5579cc10-fb98-4185-bbca-cd2692877c1c"
      },
      "source": [
        "!!python -m spacy download es_core_news_sm"
      ],
      "execution_count": 17,
      "outputs": [
        {
          "output_type": "execute_result",
          "data": {
            "text/plain": [
              "['Collecting es-core-news-sm==3.2.0',\n",
              " '  Downloading https://github.com/explosion/spacy-models/releases/download/es_core_news_sm-3.2.0/es_core_news_sm-3.2.0-py3-none-any.whl (14.0 MB)',\n",
              " '\\x1b[?25l',\n",
              " '\\x1b[K     |                                | 10 kB 789 kB/s eta 0:00:18',\n",
              " '\\x1b[K     |                                | 20 kB 1.4 MB/s eta 0:00:10',\n",
              " '\\x1b[K     |                                | 30 kB 1.9 MB/s eta 0:00:08',\n",
              " '\\x1b[K     |                                | 40 kB 1.5 MB/s eta 0:00:10',\n",
              " '\\x1b[K     |▏                               | 51 kB 1.8 MB/s eta 0:00:08',\n",
              " '\\x1b[K     |▏                               | 61 kB 2.0 MB/s eta 0:00:07',\n",
              " '\\x1b[K     |▏                               | 71 kB 2.2 MB/s eta 0:00:07',\n",
              " '\\x1b[K     |▏                               | 81 kB 2.4 MB/s eta 0:00:06',\n",
              " '\\x1b[K     |▏                               | 92 kB 2.0 MB/s eta 0:00:08',\n",
              " '\\x1b[K     |▎                               | 102 kB 2.1 MB/s eta 0:00:07',\n",
              " '\\x1b[K     |▎                               | 112 kB 2.1 MB/s eta 0:00:07',\n",
              " '\\x1b[K     |▎                               | 122 kB 2.1 MB/s eta 0:00:07',\n",
              " '\\x1b[K     |▎                               | 133 kB 2.1 MB/s eta 0:00:07',\n",
              " '\\x1b[K     |▎                               | 143 kB 2.1 MB/s eta 0:00:07',\n",
              " '\\x1b[K     |▍                               | 153 kB 2.1 MB/s eta 0:00:07',\n",
              " '\\x1b[K     |▍                               | 163 kB 2.1 MB/s eta 0:00:07',\n",
              " '\\x1b[K     |▍                               | 174 kB 2.1 MB/s eta 0:00:07',\n",
              " '\\x1b[K     |▍                               | 184 kB 2.1 MB/s eta 0:00:07',\n",
              " '\\x1b[K     |▌                               | 194 kB 2.1 MB/s eta 0:00:07',\n",
              " '\\x1b[K     |▌                               | 204 kB 2.1 MB/s eta 0:00:07',\n",
              " '\\x1b[K     |▌                               | 215 kB 2.1 MB/s eta 0:00:07',\n",
              " '\\x1b[K     |▌                               | 225 kB 2.1 MB/s eta 0:00:07',\n",
              " '\\x1b[K     |▌                               | 235 kB 2.1 MB/s eta 0:00:07',\n",
              " '\\x1b[K     |▋                               | 245 kB 2.1 MB/s eta 0:00:07',\n",
              " '\\x1b[K     |▋                               | 256 kB 2.1 MB/s eta 0:00:07',\n",
              " '\\x1b[K     |▋                               | 266 kB 2.1 MB/s eta 0:00:07',\n",
              " '\\x1b[K     |▋                               | 276 kB 2.1 MB/s eta 0:00:07',\n",
              " '\\x1b[K     |▋                               | 286 kB 2.1 MB/s eta 0:00:07',\n",
              " '\\x1b[K     |▊                               | 296 kB 2.1 MB/s eta 0:00:07',\n",
              " '\\x1b[K     |▊                               | 307 kB 2.1 MB/s eta 0:00:07',\n",
              " '\\x1b[K     |▊                               | 317 kB 2.1 MB/s eta 0:00:07',\n",
              " '\\x1b[K     |▊                               | 327 kB 2.1 MB/s eta 0:00:07',\n",
              " '\\x1b[K     |▊                               | 337 kB 2.1 MB/s eta 0:00:07',\n",
              " '\\x1b[K     |▉                               | 348 kB 2.1 MB/s eta 0:00:07',\n",
              " '\\x1b[K     |▉                               | 358 kB 2.1 MB/s eta 0:00:07',\n",
              " '\\x1b[K     |▉                               | 368 kB 2.1 MB/s eta 0:00:07',\n",
              " '\\x1b[K     |▉                               | 378 kB 2.1 MB/s eta 0:00:07',\n",
              " '\\x1b[K     |█                               | 389 kB 2.1 MB/s eta 0:00:07',\n",
              " '\\x1b[K     |█                               | 399 kB 2.1 MB/s eta 0:00:07',\n",
              " '\\x1b[K     |█                               | 409 kB 2.1 MB/s eta 0:00:07',\n",
              " '\\x1b[K     |█                               | 419 kB 2.1 MB/s eta 0:00:07',\n",
              " '\\x1b[K     |█                               | 430 kB 2.1 MB/s eta 0:00:07',\n",
              " '\\x1b[K     |█                               | 440 kB 2.1 MB/s eta 0:00:07',\n",
              " '\\x1b[K     |█                               | 450 kB 2.1 MB/s eta 0:00:07',\n",
              " '\\x1b[K     |█                               | 460 kB 2.1 MB/s eta 0:00:07',\n",
              " '\\x1b[K     |█                               | 471 kB 2.1 MB/s eta 0:00:07',\n",
              " '\\x1b[K     |█                               | 481 kB 2.1 MB/s eta 0:00:07',\n",
              " '\\x1b[K     |█▏                              | 491 kB 2.1 MB/s eta 0:00:07',\n",
              " '\\x1b[K     |█▏                              | 501 kB 2.1 MB/s eta 0:00:07',\n",
              " '\\x1b[K     |█▏                              | 512 kB 2.1 MB/s eta 0:00:07',\n",
              " '\\x1b[K     |█▏                              | 522 kB 2.1 MB/s eta 0:00:07',\n",
              " '\\x1b[K     |█▏                              | 532 kB 2.1 MB/s eta 0:00:07',\n",
              " '\\x1b[K     |█▎                              | 542 kB 2.1 MB/s eta 0:00:07',\n",
              " '\\x1b[K     |█▎                              | 552 kB 2.1 MB/s eta 0:00:07',\n",
              " '\\x1b[K     |█▎                              | 563 kB 2.1 MB/s eta 0:00:07',\n",
              " '\\x1b[K     |█▎                              | 573 kB 2.1 MB/s eta 0:00:07',\n",
              " '\\x1b[K     |█▍                              | 583 kB 2.1 MB/s eta 0:00:07',\n",
              " '\\x1b[K     |█▍                              | 593 kB 2.1 MB/s eta 0:00:07',\n",
              " '\\x1b[K     |█▍                              | 604 kB 2.1 MB/s eta 0:00:07',\n",
              " '\\x1b[K     |█▍                              | 614 kB 2.1 MB/s eta 0:00:07',\n",
              " '\\x1b[K     |█▍                              | 624 kB 2.1 MB/s eta 0:00:07',\n",
              " '\\x1b[K     |█▌                              | 634 kB 2.1 MB/s eta 0:00:07',\n",
              " '\\x1b[K     |█▌                              | 645 kB 2.1 MB/s eta 0:00:07',\n",
              " '\\x1b[K     |█▌                              | 655 kB 2.1 MB/s eta 0:00:07',\n",
              " '\\x1b[K     |█▌                              | 665 kB 2.1 MB/s eta 0:00:07',\n",
              " '\\x1b[K     |█▌                              | 675 kB 2.1 MB/s eta 0:00:07',\n",
              " '\\x1b[K     |█▋                              | 686 kB 2.1 MB/s eta 0:00:07',\n",
              " '\\x1b[K     |█▋                              | 696 kB 2.1 MB/s eta 0:00:07',\n",
              " '\\x1b[K     |█▋                              | 706 kB 2.1 MB/s eta 0:00:07',\n",
              " '\\x1b[K     |█▋                              | 716 kB 2.1 MB/s eta 0:00:07',\n",
              " '\\x1b[K     |█▋                              | 727 kB 2.1 MB/s eta 0:00:07',\n",
              " '\\x1b[K     |█▊                              | 737 kB 2.1 MB/s eta 0:00:07',\n",
              " '\\x1b[K     |█▊                              | 747 kB 2.1 MB/s eta 0:00:07',\n",
              " '\\x1b[K     |█▊                              | 757 kB 2.1 MB/s eta 0:00:07',\n",
              " '\\x1b[K     |█▊                              | 768 kB 2.1 MB/s eta 0:00:07',\n",
              " '\\x1b[K     |█▉                              | 778 kB 2.1 MB/s eta 0:00:07',\n",
              " '\\x1b[K     |█▉                              | 788 kB 2.1 MB/s eta 0:00:07',\n",
              " '\\x1b[K     |█▉                              | 798 kB 2.1 MB/s eta 0:00:07',\n",
              " '\\x1b[K     |█▉                              | 808 kB 2.1 MB/s eta 0:00:07',\n",
              " '\\x1b[K     |█▉                              | 819 kB 2.1 MB/s eta 0:00:07',\n",
              " '\\x1b[K     |██                              | 829 kB 2.1 MB/s eta 0:00:07',\n",
              " '\\x1b[K     |██                              | 839 kB 2.1 MB/s eta 0:00:07',\n",
              " '\\x1b[K     |██                              | 849 kB 2.1 MB/s eta 0:00:07',\n",
              " '\\x1b[K     |██                              | 860 kB 2.1 MB/s eta 0:00:07',\n",
              " '\\x1b[K     |██                              | 870 kB 2.1 MB/s eta 0:00:07',\n",
              " '\\x1b[K     |██                              | 880 kB 2.1 MB/s eta 0:00:07',\n",
              " '\\x1b[K     |██                              | 890 kB 2.1 MB/s eta 0:00:07',\n",
              " '\\x1b[K     |██                              | 901 kB 2.1 MB/s eta 0:00:07',\n",
              " '\\x1b[K     |██                              | 911 kB 2.1 MB/s eta 0:00:07',\n",
              " '\\x1b[K     |██                              | 921 kB 2.1 MB/s eta 0:00:07',\n",
              " '\\x1b[K     |██▏                             | 931 kB 2.1 MB/s eta 0:00:07',\n",
              " '\\x1b[K     |██▏                             | 942 kB 2.1 MB/s eta 0:00:07',\n",
              " '\\x1b[K     |██▏                             | 952 kB 2.1 MB/s eta 0:00:07',\n",
              " '\\x1b[K     |██▏                             | 962 kB 2.1 MB/s eta 0:00:07',\n",
              " '\\x1b[K     |██▎                             | 972 kB 2.1 MB/s eta 0:00:07',\n",
              " '\\x1b[K     |██▎                             | 983 kB 2.1 MB/s eta 0:00:07',\n",
              " '\\x1b[K     |██▎                             | 993 kB 2.1 MB/s eta 0:00:07',\n",
              " '\\x1b[K     |██▎                             | 1.0 MB 2.1 MB/s eta 0:00:07',\n",
              " '\\x1b[K     |██▎                             | 1.0 MB 2.1 MB/s eta 0:00:07',\n",
              " '\\x1b[K     |██▍                             | 1.0 MB 2.1 MB/s eta 0:00:07',\n",
              " '\\x1b[K     |██▍                             | 1.0 MB 2.1 MB/s eta 0:00:07',\n",
              " '\\x1b[K     |██▍                             | 1.0 MB 2.1 MB/s eta 0:00:07',\n",
              " '\\x1b[K     |██▍                             | 1.1 MB 2.1 MB/s eta 0:00:07',\n",
              " '\\x1b[K     |██▍                             | 1.1 MB 2.1 MB/s eta 0:00:07',\n",
              " '\\x1b[K     |██▌                             | 1.1 MB 2.1 MB/s eta 0:00:07',\n",
              " '\\x1b[K     |██▌                             | 1.1 MB 2.1 MB/s eta 0:00:07',\n",
              " '\\x1b[K     |██▌                             | 1.1 MB 2.1 MB/s eta 0:00:07',\n",
              " '\\x1b[K     |██▌                             | 1.1 MB 2.1 MB/s eta 0:00:07',\n",
              " '\\x1b[K     |██▌                             | 1.1 MB 2.1 MB/s eta 0:00:07',\n",
              " '\\x1b[K     |██▋                             | 1.1 MB 2.1 MB/s eta 0:00:07',\n",
              " '\\x1b[K     |██▋                             | 1.1 MB 2.1 MB/s eta 0:00:07',\n",
              " '\\x1b[K     |██▋                             | 1.1 MB 2.1 MB/s eta 0:00:07',\n",
              " '\\x1b[K     |██▋                             | 1.2 MB 2.1 MB/s eta 0:00:07',\n",
              " '\\x1b[K     |██▊                             | 1.2 MB 2.1 MB/s eta 0:00:07',\n",
              " '\\x1b[K     |██▊                             | 1.2 MB 2.1 MB/s eta 0:00:07',\n",
              " '\\x1b[K     |██▊                             | 1.2 MB 2.1 MB/s eta 0:00:07',\n",
              " '\\x1b[K     |██▊                             | 1.2 MB 2.1 MB/s eta 0:00:07',\n",
              " '\\x1b[K     |██▊                             | 1.2 MB 2.1 MB/s eta 0:00:07',\n",
              " '\\x1b[K     |██▉                             | 1.2 MB 2.1 MB/s eta 0:00:06',\n",
              " '\\x1b[K     |██▉                             | 1.2 MB 2.1 MB/s eta 0:00:06',\n",
              " '\\x1b[K     |██▉                             | 1.2 MB 2.1 MB/s eta 0:00:06',\n",
              " '\\x1b[K     |██▉                             | 1.2 MB 2.1 MB/s eta 0:00:06',\n",
              " '\\x1b[K     |██▉                             | 1.3 MB 2.1 MB/s eta 0:00:06',\n",
              " '\\x1b[K     |███                             | 1.3 MB 2.1 MB/s eta 0:00:06',\n",
              " '\\x1b[K     |███                             | 1.3 MB 2.1 MB/s eta 0:00:06',\n",
              " '\\x1b[K     |███                             | 1.3 MB 2.1 MB/s eta 0:00:06',\n",
              " '\\x1b[K     |███                             | 1.3 MB 2.1 MB/s eta 0:00:06',\n",
              " '\\x1b[K     |███                             | 1.3 MB 2.1 MB/s eta 0:00:06',\n",
              " '\\x1b[K     |███                             | 1.3 MB 2.1 MB/s eta 0:00:06',\n",
              " '\\x1b[K     |███                             | 1.3 MB 2.1 MB/s eta 0:00:06',\n",
              " '\\x1b[K     |███                             | 1.3 MB 2.1 MB/s eta 0:00:06',\n",
              " '\\x1b[K     |███                             | 1.4 MB 2.1 MB/s eta 0:00:06',\n",
              " '\\x1b[K     |███▏                            | 1.4 MB 2.1 MB/s eta 0:00:06',\n",
              " '\\x1b[K     |███▏                            | 1.4 MB 2.1 MB/s eta 0:00:06',\n",
              " '\\x1b[K     |███▏                            | 1.4 MB 2.1 MB/s eta 0:00:06',\n",
              " '\\x1b[K     |███▏                            | 1.4 MB 2.1 MB/s eta 0:00:06',\n",
              " '\\x1b[K     |███▏                            | 1.4 MB 2.1 MB/s eta 0:00:06',\n",
              " '\\x1b[K     |███▎                            | 1.4 MB 2.1 MB/s eta 0:00:06',\n",
              " '\\x1b[K     |███▎                            | 1.4 MB 2.1 MB/s eta 0:00:06',\n",
              " '\\x1b[K     |███▎                            | 1.4 MB 2.1 MB/s eta 0:00:06',\n",
              " '\\x1b[K     |███▎                            | 1.4 MB 2.1 MB/s eta 0:00:06',\n",
              " '\\x1b[K     |███▎                            | 1.5 MB 2.1 MB/s eta 0:00:06',\n",
              " '\\x1b[K     |███▍                            | 1.5 MB 2.1 MB/s eta 0:00:06',\n",
              " '\\x1b[K     |███▍                            | 1.5 MB 2.1 MB/s eta 0:00:06',\n",
              " '\\x1b[K     |███▍                            | 1.5 MB 2.1 MB/s eta 0:00:06',\n",
              " '\\x1b[K     |███▍                            | 1.5 MB 2.1 MB/s eta 0:00:06',\n",
              " '\\x1b[K     |███▌                            | 1.5 MB 2.1 MB/s eta 0:00:06',\n",
              " '\\x1b[K     |███▌                            | 1.5 MB 2.1 MB/s eta 0:00:06',\n",
              " '\\x1b[K     |███▌                            | 1.5 MB 2.1 MB/s eta 0:00:06',\n",
              " '\\x1b[K     |███▌                            | 1.5 MB 2.1 MB/s eta 0:00:06',\n",
              " '\\x1b[K     |███▌                            | 1.5 MB 2.1 MB/s eta 0:00:06',\n",
              " '\\x1b[K     |███▋                            | 1.6 MB 2.1 MB/s eta 0:00:06',\n",
              " '\\x1b[K     |███▋                            | 1.6 MB 2.1 MB/s eta 0:00:06',\n",
              " '\\x1b[K     |███▋                            | 1.6 MB 2.1 MB/s eta 0:00:06',\n",
              " '\\x1b[K     |███▋                            | 1.6 MB 2.1 MB/s eta 0:00:06',\n",
              " '\\x1b[K     |███▋                            | 1.6 MB 2.1 MB/s eta 0:00:06',\n",
              " '\\x1b[K     |███▊                            | 1.6 MB 2.1 MB/s eta 0:00:06',\n",
              " '\\x1b[K     |███▊                            | 1.6 MB 2.1 MB/s eta 0:00:06',\n",
              " '\\x1b[K     |███▊                            | 1.6 MB 2.1 MB/s eta 0:00:06',\n",
              " '\\x1b[K     |███▊                            | 1.6 MB 2.1 MB/s eta 0:00:06',\n",
              " '\\x1b[K     |███▊                            | 1.6 MB 2.1 MB/s eta 0:00:06',\n",
              " '\\x1b[K     |███▉                            | 1.7 MB 2.1 MB/s eta 0:00:06',\n",
              " '\\x1b[K     |███▉                            | 1.7 MB 2.1 MB/s eta 0:00:06',\n",
              " '\\x1b[K     |███▉                            | 1.7 MB 2.1 MB/s eta 0:00:06',\n",
              " '\\x1b[K     |███▉                            | 1.7 MB 2.1 MB/s eta 0:00:06',\n",
              " '\\x1b[K     |████                            | 1.7 MB 2.1 MB/s eta 0:00:06',\n",
              " '\\x1b[K     |████                            | 1.7 MB 2.1 MB/s eta 0:00:06',\n",
              " '\\x1b[K     |████                            | 1.7 MB 2.1 MB/s eta 0:00:06',\n",
              " '\\x1b[K     |████                            | 1.7 MB 2.1 MB/s eta 0:00:06',\n",
              " '\\x1b[K     |████                            | 1.7 MB 2.1 MB/s eta 0:00:06',\n",
              " '\\x1b[K     |████                            | 1.8 MB 2.1 MB/s eta 0:00:06',\n",
              " '\\x1b[K     |████                            | 1.8 MB 2.1 MB/s eta 0:00:06',\n",
              " '\\x1b[K     |████                            | 1.8 MB 2.1 MB/s eta 0:00:06',\n",
              " '\\x1b[K     |████                            | 1.8 MB 2.1 MB/s eta 0:00:06',\n",
              " '\\x1b[K     |████                            | 1.8 MB 2.1 MB/s eta 0:00:06',\n",
              " '\\x1b[K     |████▏                           | 1.8 MB 2.1 MB/s eta 0:00:06',\n",
              " '\\x1b[K     |████▏                           | 1.8 MB 2.1 MB/s eta 0:00:06',\n",
              " '\\x1b[K     |████▏                           | 1.8 MB 2.1 MB/s eta 0:00:06',\n",
              " '\\x1b[K     |████▏                           | 1.8 MB 2.1 MB/s eta 0:00:06',\n",
              " '\\x1b[K     |████▏                           | 1.8 MB 2.1 MB/s eta 0:00:06',\n",
              " '\\x1b[K     |████▎                           | 1.9 MB 2.1 MB/s eta 0:00:06',\n",
              " '\\x1b[K     |████▎                           | 1.9 MB 2.1 MB/s eta 0:00:06',\n",
              " '\\x1b[K     |████▎                           | 1.9 MB 2.1 MB/s eta 0:00:06',\n",
              " '\\x1b[K     |████▎                           | 1.9 MB 2.1 MB/s eta 0:00:06',\n",
              " '\\x1b[K     |████▍                           | 1.9 MB 2.1 MB/s eta 0:00:06',\n",
              " '\\x1b[K     |████▍                           | 1.9 MB 2.1 MB/s eta 0:00:06',\n",
              " '\\x1b[K     |████▍                           | 1.9 MB 2.1 MB/s eta 0:00:06',\n",
              " '\\x1b[K     |████▍                           | 1.9 MB 2.1 MB/s eta 0:00:06',\n",
              " '\\x1b[K     |████▍                           | 1.9 MB 2.1 MB/s eta 0:00:06',\n",
              " '\\x1b[K     |████▌                           | 1.9 MB 2.1 MB/s eta 0:00:06',\n",
              " '\\x1b[K     |████▌                           | 2.0 MB 2.1 MB/s eta 0:00:06',\n",
              " '\\x1b[K     |████▌                           | 2.0 MB 2.1 MB/s eta 0:00:06',\n",
              " '\\x1b[K     |████▌                           | 2.0 MB 2.1 MB/s eta 0:00:06',\n",
              " '\\x1b[K     |████▌                           | 2.0 MB 2.1 MB/s eta 0:00:06',\n",
              " '\\x1b[K     |████▋                           | 2.0 MB 2.1 MB/s eta 0:00:06',\n",
              " '\\x1b[K     |████▋                           | 2.0 MB 2.1 MB/s eta 0:00:06',\n",
              " '\\x1b[K     |████▋                           | 2.0 MB 2.1 MB/s eta 0:00:06',\n",
              " '\\x1b[K     |████▋                           | 2.0 MB 2.1 MB/s eta 0:00:06',\n",
              " '\\x1b[K     |████▋                           | 2.0 MB 2.1 MB/s eta 0:00:06',\n",
              " '\\x1b[K     |████▊                           | 2.0 MB 2.1 MB/s eta 0:00:06',\n",
              " '\\x1b[K     |████▊                           | 2.1 MB 2.1 MB/s eta 0:00:06',\n",
              " '\\x1b[K     |████▊                           | 2.1 MB 2.1 MB/s eta 0:00:06',\n",
              " '\\x1b[K     |████▊                           | 2.1 MB 2.1 MB/s eta 0:00:06',\n",
              " '\\x1b[K     |████▉                           | 2.1 MB 2.1 MB/s eta 0:00:06',\n",
              " '\\x1b[K     |████▉                           | 2.1 MB 2.1 MB/s eta 0:00:06',\n",
              " '\\x1b[K     |████▉                           | 2.1 MB 2.1 MB/s eta 0:00:06',\n",
              " '\\x1b[K     |████▉                           | 2.1 MB 2.1 MB/s eta 0:00:06',\n",
              " '\\x1b[K     |████▉                           | 2.1 MB 2.1 MB/s eta 0:00:06',\n",
              " '\\x1b[K     |█████                           | 2.1 MB 2.1 MB/s eta 0:00:06',\n",
              " '\\x1b[K     |█████                           | 2.2 MB 2.1 MB/s eta 0:00:06',\n",
              " '\\x1b[K     |█████                           | 2.2 MB 2.1 MB/s eta 0:00:06',\n",
              " '\\x1b[K     |█████                           | 2.2 MB 2.1 MB/s eta 0:00:06',\n",
              " '\\x1b[K     |█████                           | 2.2 MB 2.1 MB/s eta 0:00:06',\n",
              " '\\x1b[K     |█████                           | 2.2 MB 2.1 MB/s eta 0:00:06',\n",
              " '\\x1b[K     |█████                           | 2.2 MB 2.1 MB/s eta 0:00:06',\n",
              " '\\x1b[K     |█████                           | 2.2 MB 2.1 MB/s eta 0:00:06',\n",
              " '\\x1b[K     |█████                           | 2.2 MB 2.1 MB/s eta 0:00:06',\n",
              " '\\x1b[K     |█████                           | 2.2 MB 2.1 MB/s eta 0:00:06',\n",
              " '\\x1b[K     |█████▏                          | 2.2 MB 2.1 MB/s eta 0:00:06',\n",
              " '\\x1b[K     |█████▏                          | 2.3 MB 2.1 MB/s eta 0:00:06',\n",
              " '\\x1b[K     |█████▏                          | 2.3 MB 2.1 MB/s eta 0:00:06',\n",
              " '\\x1b[K     |█████▏                          | 2.3 MB 2.1 MB/s eta 0:00:06',\n",
              " '\\x1b[K     |█████▎                          | 2.3 MB 2.1 MB/s eta 0:00:06',\n",
              " '\\x1b[K     |█████▎                          | 2.3 MB 2.1 MB/s eta 0:00:06',\n",
              " '\\x1b[K     |█████▎                          | 2.3 MB 2.1 MB/s eta 0:00:06',\n",
              " '\\x1b[K     |█████▎                          | 2.3 MB 2.1 MB/s eta 0:00:06',\n",
              " '\\x1b[K     |█████▎                          | 2.3 MB 2.1 MB/s eta 0:00:06',\n",
              " '\\x1b[K     |█████▍                          | 2.3 MB 2.1 MB/s eta 0:00:06',\n",
              " '\\x1b[K     |█████▍                          | 2.3 MB 2.1 MB/s eta 0:00:06',\n",
              " '\\x1b[K     |█████▍                          | 2.4 MB 2.1 MB/s eta 0:00:06',\n",
              " '\\x1b[K     |█████▍                          | 2.4 MB 2.1 MB/s eta 0:00:06',\n",
              " '\\x1b[K     |█████▍                          | 2.4 MB 2.1 MB/s eta 0:00:06',\n",
              " '\\x1b[K     |█████▌                          | 2.4 MB 2.1 MB/s eta 0:00:06',\n",
              " '\\x1b[K     |█████▌                          | 2.4 MB 2.1 MB/s eta 0:00:06',\n",
              " '\\x1b[K     |█████▌                          | 2.4 MB 2.1 MB/s eta 0:00:06',\n",
              " '\\x1b[K     |█████▌                          | 2.4 MB 2.1 MB/s eta 0:00:06',\n",
              " '\\x1b[K     |█████▌                          | 2.4 MB 2.1 MB/s eta 0:00:06',\n",
              " '\\x1b[K     |█████▋                          | 2.4 MB 2.1 MB/s eta 0:00:06',\n",
              " '\\x1b[K     |█████▋                          | 2.4 MB 2.1 MB/s eta 0:00:06',\n",
              " '\\x1b[K     |█████▋                          | 2.5 MB 2.1 MB/s eta 0:00:06',\n",
              " '\\x1b[K     |█████▋                          | 2.5 MB 2.1 MB/s eta 0:00:06',\n",
              " '\\x1b[K     |█████▊                          | 2.5 MB 2.1 MB/s eta 0:00:06',\n",
              " '\\x1b[K     |█████▊                          | 2.5 MB 2.1 MB/s eta 0:00:06',\n",
              " '\\x1b[K     |█████▊                          | 2.5 MB 2.1 MB/s eta 0:00:06',\n",
              " '\\x1b[K     |█████▊                          | 2.5 MB 2.1 MB/s eta 0:00:06',\n",
              " '\\x1b[K     |█████▊                          | 2.5 MB 2.1 MB/s eta 0:00:06',\n",
              " '\\x1b[K     |█████▉                          | 2.5 MB 2.1 MB/s eta 0:00:06',\n",
              " '\\x1b[K     |█████▉                          | 2.5 MB 2.1 MB/s eta 0:00:06',\n",
              " '\\x1b[K     |█████▉                          | 2.5 MB 2.1 MB/s eta 0:00:06',\n",
              " '\\x1b[K     |█████▉                          | 2.6 MB 2.1 MB/s eta 0:00:06',\n",
              " '\\x1b[K     |█████▉                          | 2.6 MB 2.1 MB/s eta 0:00:06',\n",
              " '\\x1b[K     |██████                          | 2.6 MB 2.1 MB/s eta 0:00:06',\n",
              " '\\x1b[K     |██████                          | 2.6 MB 2.1 MB/s eta 0:00:06',\n",
              " '\\x1b[K     |██████                          | 2.6 MB 2.1 MB/s eta 0:00:06',\n",
              " '\\x1b[K     |██████                          | 2.6 MB 2.1 MB/s eta 0:00:06',\n",
              " '\\x1b[K     |██████                          | 2.6 MB 2.1 MB/s eta 0:00:06',\n",
              " '\\x1b[K     |██████                          | 2.6 MB 2.1 MB/s eta 0:00:06',\n",
              " '\\x1b[K     |██████                          | 2.6 MB 2.1 MB/s eta 0:00:06',\n",
              " '\\x1b[K     |██████                          | 2.7 MB 2.1 MB/s eta 0:00:06',\n",
              " '\\x1b[K     |██████                          | 2.7 MB 2.1 MB/s eta 0:00:06',\n",
              " '\\x1b[K     |██████▏                         | 2.7 MB 2.1 MB/s eta 0:00:06',\n",
              " '\\x1b[K     |██████▏                         | 2.7 MB 2.1 MB/s eta 0:00:06',\n",
              " '\\x1b[K     |██████▏                         | 2.7 MB 2.1 MB/s eta 0:00:06',\n",
              " '\\x1b[K     |██████▏                         | 2.7 MB 2.1 MB/s eta 0:00:06',\n",
              " '\\x1b[K     |██████▏                         | 2.7 MB 2.1 MB/s eta 0:00:06',\n",
              " '\\x1b[K     |██████▎                         | 2.7 MB 2.1 MB/s eta 0:00:06',\n",
              " '\\x1b[K     |██████▎                         | 2.7 MB 2.1 MB/s eta 0:00:06',\n",
              " '\\x1b[K     |██████▎                         | 2.7 MB 2.1 MB/s eta 0:00:06',\n",
              " '\\x1b[K     |██████▎                         | 2.8 MB 2.1 MB/s eta 0:00:06',\n",
              " '\\x1b[K     |██████▎                         | 2.8 MB 2.1 MB/s eta 0:00:06',\n",
              " '\\x1b[K     |██████▍                         | 2.8 MB 2.1 MB/s eta 0:00:06',\n",
              " '\\x1b[K     |██████▍                         | 2.8 MB 2.1 MB/s eta 0:00:06',\n",
              " '\\x1b[K     |██████▍                         | 2.8 MB 2.1 MB/s eta 0:00:06',\n",
              " '\\x1b[K     |██████▍                         | 2.8 MB 2.1 MB/s eta 0:00:06',\n",
              " '\\x1b[K     |██████▌                         | 2.8 MB 2.1 MB/s eta 0:00:06',\n",
              " '\\x1b[K     |██████▌                         | 2.8 MB 2.1 MB/s eta 0:00:06',\n",
              " '\\x1b[K     |██████▌                         | 2.8 MB 2.1 MB/s eta 0:00:06',\n",
              " '\\x1b[K     |██████▌                         | 2.8 MB 2.1 MB/s eta 0:00:06',\n",
              " '\\x1b[K     |██████▌                         | 2.9 MB 2.1 MB/s eta 0:00:06',\n",
              " '\\x1b[K     |██████▋                         | 2.9 MB 2.1 MB/s eta 0:00:06',\n",
              " '\\x1b[K     |██████▋                         | 2.9 MB 2.1 MB/s eta 0:00:06',\n",
              " '\\x1b[K     |██████▋                         | 2.9 MB 2.1 MB/s eta 0:00:06',\n",
              " '\\x1b[K     |██████▋                         | 2.9 MB 2.1 MB/s eta 0:00:06',\n",
              " '\\x1b[K     |██████▋                         | 2.9 MB 2.1 MB/s eta 0:00:06',\n",
              " '\\x1b[K     |██████▊                         | 2.9 MB 2.1 MB/s eta 0:00:06',\n",
              " '\\x1b[K     |██████▊                         | 2.9 MB 2.1 MB/s eta 0:00:06',\n",
              " '\\x1b[K     |██████▊                         | 2.9 MB 2.1 MB/s eta 0:00:06',\n",
              " '\\x1b[K     |██████▊                         | 2.9 MB 2.1 MB/s eta 0:00:06',\n",
              " '\\x1b[K     |██████▊                         | 3.0 MB 2.1 MB/s eta 0:00:06',\n",
              " '\\x1b[K     |██████▉                         | 3.0 MB 2.1 MB/s eta 0:00:06',\n",
              " '\\x1b[K     |██████▉                         | 3.0 MB 2.1 MB/s eta 0:00:06',\n",
              " '\\x1b[K     |██████▉                         | 3.0 MB 2.1 MB/s eta 0:00:06',\n",
              " '\\x1b[K     |██████▉                         | 3.0 MB 2.1 MB/s eta 0:00:06',\n",
              " '\\x1b[K     |███████                         | 3.0 MB 2.1 MB/s eta 0:00:06',\n",
              " '\\x1b[K     |███████                         | 3.0 MB 2.1 MB/s eta 0:00:06',\n",
              " '\\x1b[K     |███████                         | 3.0 MB 2.1 MB/s eta 0:00:06',\n",
              " '\\x1b[K     |███████                         | 3.0 MB 2.1 MB/s eta 0:00:06',\n",
              " '\\x1b[K     |███████                         | 3.1 MB 2.1 MB/s eta 0:00:06',\n",
              " '\\x1b[K     |███████                         | 3.1 MB 2.1 MB/s eta 0:00:06',\n",
              " '\\x1b[K     |███████                         | 3.1 MB 2.1 MB/s eta 0:00:06',\n",
              " '\\x1b[K     |███████                         | 3.1 MB 2.1 MB/s eta 0:00:06',\n",
              " '\\x1b[K     |███████                         | 3.1 MB 2.1 MB/s eta 0:00:06',\n",
              " '\\x1b[K     |███████                         | 3.1 MB 2.1 MB/s eta 0:00:06',\n",
              " '\\x1b[K     |███████▏                        | 3.1 MB 2.1 MB/s eta 0:00:06',\n",
              " '\\x1b[K     |███████▏                        | 3.1 MB 2.1 MB/s eta 0:00:06',\n",
              " '\\x1b[K     |███████▏                        | 3.1 MB 2.1 MB/s eta 0:00:06',\n",
              " '\\x1b[K     |███████▏                        | 3.1 MB 2.1 MB/s eta 0:00:06',\n",
              " '\\x1b[K     |███████▏                        | 3.2 MB 2.1 MB/s eta 0:00:06',\n",
              " '\\x1b[K     |███████▎                        | 3.2 MB 2.1 MB/s eta 0:00:06',\n",
              " '\\x1b[K     |███████▎                        | 3.2 MB 2.1 MB/s eta 0:00:06',\n",
              " '\\x1b[K     |███████▎                        | 3.2 MB 2.1 MB/s eta 0:00:06',\n",
              " '\\x1b[K     |███████▎                        | 3.2 MB 2.1 MB/s eta 0:00:06',\n",
              " '\\x1b[K     |███████▍                        | 3.2 MB 2.1 MB/s eta 0:00:06',\n",
              " '\\x1b[K     |███████▍                        | 3.2 MB 2.1 MB/s eta 0:00:06',\n",
              " '\\x1b[K     |███████▍                        | 3.2 MB 2.1 MB/s eta 0:00:06',\n",
              " '\\x1b[K     |███████▍                        | 3.2 MB 2.1 MB/s eta 0:00:06',\n",
              " '\\x1b[K     |███████▍                        | 3.2 MB 2.1 MB/s eta 0:00:06',\n",
              " '\\x1b[K     |███████▌                        | 3.3 MB 2.1 MB/s eta 0:00:06',\n",
              " '\\x1b[K     |███████▌                        | 3.3 MB 2.1 MB/s eta 0:00:06',\n",
              " '\\x1b[K     |███████▌                        | 3.3 MB 2.1 MB/s eta 0:00:06',\n",
              " '\\x1b[K     |███████▌                        | 3.3 MB 2.1 MB/s eta 0:00:06',\n",
              " '\\x1b[K     |███████▌                        | 3.3 MB 2.1 MB/s eta 0:00:06',\n",
              " '\\x1b[K     |███████▋                        | 3.3 MB 2.1 MB/s eta 0:00:06',\n",
              " '\\x1b[K     |███████▋                        | 3.3 MB 2.1 MB/s eta 0:00:06',\n",
              " '\\x1b[K     |███████▋                        | 3.3 MB 2.1 MB/s eta 0:00:06',\n",
              " '\\x1b[K     |███████▋                        | 3.3 MB 2.1 MB/s eta 0:00:06',\n",
              " '\\x1b[K     |███████▋                        | 3.3 MB 2.1 MB/s eta 0:00:05',\n",
              " '\\x1b[K     |███████▊                        | 3.4 MB 2.1 MB/s eta 0:00:05',\n",
              " '\\x1b[K     |███████▊                        | 3.4 MB 2.1 MB/s eta 0:00:05',\n",
              " '\\x1b[K     |███████▊                        | 3.4 MB 2.1 MB/s eta 0:00:05',\n",
              " '\\x1b[K     |███████▊                        | 3.4 MB 2.1 MB/s eta 0:00:05',\n",
              " '\\x1b[K     |███████▉                        | 3.4 MB 2.1 MB/s eta 0:00:05',\n",
              " '\\x1b[K     |███████▉                        | 3.4 MB 2.1 MB/s eta 0:00:05',\n",
              " '\\x1b[K     |███████▉                        | 3.4 MB 2.1 MB/s eta 0:00:05',\n",
              " '\\x1b[K     |███████▉                        | 3.4 MB 2.1 MB/s eta 0:00:05',\n",
              " '\\x1b[K     |███████▉                        | 3.4 MB 2.1 MB/s eta 0:00:05',\n",
              " '\\x1b[K     |████████                        | 3.5 MB 2.1 MB/s eta 0:00:05',\n",
              " '\\x1b[K     |████████                        | 3.5 MB 2.1 MB/s eta 0:00:05',\n",
              " '\\x1b[K     |████████                        | 3.5 MB 2.1 MB/s eta 0:00:05',\n",
              " '\\x1b[K     |████████                        | 3.5 MB 2.1 MB/s eta 0:00:05',\n",
              " '\\x1b[K     |████████                        | 3.5 MB 2.1 MB/s eta 0:00:05',\n",
              " '\\x1b[K     |████████                        | 3.5 MB 2.1 MB/s eta 0:00:05',\n",
              " '\\x1b[K     |████████                        | 3.5 MB 2.1 MB/s eta 0:00:05',\n",
              " '\\x1b[K     |████████                        | 3.5 MB 2.1 MB/s eta 0:00:05',\n",
              " '\\x1b[K     |████████                        | 3.5 MB 2.1 MB/s eta 0:00:05',\n",
              " '\\x1b[K     |████████                        | 3.5 MB 2.1 MB/s eta 0:00:05',\n",
              " '\\x1b[K     |████████▏                       | 3.6 MB 2.1 MB/s eta 0:00:05',\n",
              " '\\x1b[K     |████████▏                       | 3.6 MB 2.1 MB/s eta 0:00:05',\n",
              " '\\x1b[K     |████████▏                       | 3.6 MB 2.1 MB/s eta 0:00:05',\n",
              " '\\x1b[K     |████████▏                       | 3.6 MB 2.1 MB/s eta 0:00:05',\n",
              " '\\x1b[K     |████████▎                       | 3.6 MB 2.1 MB/s eta 0:00:05',\n",
              " '\\x1b[K     |████████▎                       | 3.6 MB 2.1 MB/s eta 0:00:05',\n",
              " '\\x1b[K     |████████▎                       | 3.6 MB 2.1 MB/s eta 0:00:05',\n",
              " '\\x1b[K     |████████▎                       | 3.6 MB 2.1 MB/s eta 0:00:05',\n",
              " '\\x1b[K     |████████▎                       | 3.6 MB 2.1 MB/s eta 0:00:05',\n",
              " '\\x1b[K     |████████▍                       | 3.6 MB 2.1 MB/s eta 0:00:05',\n",
              " '\\x1b[K     |████████▍                       | 3.7 MB 2.1 MB/s eta 0:00:05',\n",
              " '\\x1b[K     |████████▍                       | 3.7 MB 2.1 MB/s eta 0:00:05',\n",
              " '\\x1b[K     |████████▍                       | 3.7 MB 2.1 MB/s eta 0:00:05',\n",
              " '\\x1b[K     |████████▍                       | 3.7 MB 2.1 MB/s eta 0:00:05',\n",
              " '\\x1b[K     |████████▌                       | 3.7 MB 2.1 MB/s eta 0:00:05',\n",
              " '\\x1b[K     |████████▌                       | 3.7 MB 2.1 MB/s eta 0:00:05',\n",
              " '\\x1b[K     |████████▌                       | 3.7 MB 2.1 MB/s eta 0:00:05',\n",
              " '\\x1b[K     |████████▌                       | 3.7 MB 2.1 MB/s eta 0:00:05',\n",
              " '\\x1b[K     |████████▌                       | 3.7 MB 2.1 MB/s eta 0:00:05',\n",
              " '\\x1b[K     |████████▋                       | 3.7 MB 2.1 MB/s eta 0:00:05',\n",
              " '\\x1b[K     |████████▋                       | 3.8 MB 2.1 MB/s eta 0:00:05',\n",
              " '\\x1b[K     |████████▋                       | 3.8 MB 2.1 MB/s eta 0:00:05',\n",
              " '\\x1b[K     |████████▋                       | 3.8 MB 2.1 MB/s eta 0:00:05',\n",
              " '\\x1b[K     |████████▊                       | 3.8 MB 2.1 MB/s eta 0:00:05',\n",
              " '\\x1b[K     |████████▊                       | 3.8 MB 2.1 MB/s eta 0:00:05',\n",
              " '\\x1b[K     |████████▊                       | 3.8 MB 2.1 MB/s eta 0:00:05',\n",
              " '\\x1b[K     |████████▊                       | 3.8 MB 2.1 MB/s eta 0:00:05',\n",
              " '\\x1b[K     |████████▊                       | 3.8 MB 2.1 MB/s eta 0:00:05',\n",
              " '\\x1b[K     |████████▉                       | 3.8 MB 2.1 MB/s eta 0:00:05',\n",
              " '\\x1b[K     |████████▉                       | 3.9 MB 2.1 MB/s eta 0:00:05',\n",
              " '\\x1b[K     |████████▉                       | 3.9 MB 2.1 MB/s eta 0:00:05',\n",
              " '\\x1b[K     |████████▉                       | 3.9 MB 2.1 MB/s eta 0:00:05',\n",
              " '\\x1b[K     |████████▉                       | 3.9 MB 2.1 MB/s eta 0:00:05',\n",
              " '\\x1b[K     |█████████                       | 3.9 MB 2.1 MB/s eta 0:00:05',\n",
              " '\\x1b[K     |█████████                       | 3.9 MB 2.1 MB/s eta 0:00:05',\n",
              " '\\x1b[K     |█████████                       | 3.9 MB 2.1 MB/s eta 0:00:05',\n",
              " '\\x1b[K     |█████████                       | 3.9 MB 2.1 MB/s eta 0:00:05',\n",
              " '\\x1b[K     |█████████                       | 3.9 MB 2.1 MB/s eta 0:00:05',\n",
              " '\\x1b[K     |█████████                       | 3.9 MB 2.1 MB/s eta 0:00:05',\n",
              " '\\x1b[K     |█████████                       | 4.0 MB 2.1 MB/s eta 0:00:05',\n",
              " '\\x1b[K     |█████████                       | 4.0 MB 2.1 MB/s eta 0:00:05',\n",
              " '\\x1b[K     |█████████                       | 4.0 MB 2.1 MB/s eta 0:00:05',\n",
              " '\\x1b[K     |█████████▏                      | 4.0 MB 2.1 MB/s eta 0:00:05',\n",
              " '\\x1b[K     |█████████▏                      | 4.0 MB 2.1 MB/s eta 0:00:05',\n",
              " '\\x1b[K     |█████████▏                      | 4.0 MB 2.1 MB/s eta 0:00:05',\n",
              " '\\x1b[K     |█████████▏                      | 4.0 MB 2.1 MB/s eta 0:00:05',\n",
              " '\\x1b[K     |█████████▏                      | 4.0 MB 2.1 MB/s eta 0:00:05',\n",
              " '\\x1b[K     |█████████▎                      | 4.0 MB 2.1 MB/s eta 0:00:05',\n",
              " '\\x1b[K     |█████████▎                      | 4.0 MB 2.1 MB/s eta 0:00:05',\n",
              " '\\x1b[K     |█████████▎                      | 4.1 MB 2.1 MB/s eta 0:00:05',\n",
              " '\\x1b[K     |█████████▎                      | 4.1 MB 2.1 MB/s eta 0:00:05',\n",
              " '\\x1b[K     |█████████▎                      | 4.1 MB 2.1 MB/s eta 0:00:05',\n",
              " '\\x1b[K     |█████████▍                      | 4.1 MB 2.1 MB/s eta 0:00:05',\n",
              " '\\x1b[K     |█████████▍                      | 4.1 MB 2.1 MB/s eta 0:00:05',\n",
              " '\\x1b[K     |█████████▍                      | 4.1 MB 2.1 MB/s eta 0:00:05',\n",
              " '\\x1b[K     |█████████▍                      | 4.1 MB 2.1 MB/s eta 0:00:05',\n",
              " '\\x1b[K     |█████████▍                      | 4.1 MB 2.1 MB/s eta 0:00:05',\n",
              " '\\x1b[K     |█████████▌                      | 4.1 MB 2.1 MB/s eta 0:00:05',\n",
              " '\\x1b[K     |█████████▌                      | 4.1 MB 2.1 MB/s eta 0:00:05',\n",
              " '\\x1b[K     |█████████▌                      | 4.2 MB 2.1 MB/s eta 0:00:05',\n",
              " '\\x1b[K     |█████████▌                      | 4.2 MB 2.1 MB/s eta 0:00:05',\n",
              " '\\x1b[K     |█████████▋                      | 4.2 MB 2.1 MB/s eta 0:00:05',\n",
              " '\\x1b[K     |█████████▋                      | 4.2 MB 2.1 MB/s eta 0:00:05',\n",
              " '\\x1b[K     |█████████▋                      | 4.2 MB 2.1 MB/s eta 0:00:05',\n",
              " '\\x1b[K     |█████████▋                      | 4.2 MB 2.1 MB/s eta 0:00:05',\n",
              " '\\x1b[K     |█████████▋                      | 4.2 MB 2.1 MB/s eta 0:00:05',\n",
              " '\\x1b[K     |█████████▊                      | 4.2 MB 2.1 MB/s eta 0:00:05',\n",
              " '\\x1b[K     |█████████▊                      | 4.2 MB 2.1 MB/s eta 0:00:05',\n",
              " '\\x1b[K     |█████████▊                      | 4.2 MB 2.1 MB/s eta 0:00:05',\n",
              " '\\x1b[K     |█████████▊                      | 4.3 MB 2.1 MB/s eta 0:00:05',\n",
              " '\\x1b[K     |█████████▊                      | 4.3 MB 2.1 MB/s eta 0:00:05',\n",
              " '\\x1b[K     |█████████▉                      | 4.3 MB 2.1 MB/s eta 0:00:05',\n",
              " '\\x1b[K     |█████████▉                      | 4.3 MB 2.1 MB/s eta 0:00:05',\n",
              " '\\x1b[K     |█████████▉                      | 4.3 MB 2.1 MB/s eta 0:00:05',\n",
              " '\\x1b[K     |█████████▉                      | 4.3 MB 2.1 MB/s eta 0:00:05',\n",
              " '\\x1b[K     |██████████                      | 4.3 MB 2.1 MB/s eta 0:00:05',\n",
              " '\\x1b[K     |██████████                      | 4.3 MB 2.1 MB/s eta 0:00:05',\n",
              " '\\x1b[K     |██████████                      | 4.3 MB 2.1 MB/s eta 0:00:05',\n",
              " '\\x1b[K     |██████████                      | 4.4 MB 2.1 MB/s eta 0:00:05',\n",
              " '\\x1b[K     |██████████                      | 4.4 MB 2.1 MB/s eta 0:00:05',\n",
              " '\\x1b[K     |██████████                      | 4.4 MB 2.1 MB/s eta 0:00:05',\n",
              " '\\x1b[K     |██████████                      | 4.4 MB 2.1 MB/s eta 0:00:05',\n",
              " '\\x1b[K     |██████████                      | 4.4 MB 2.1 MB/s eta 0:00:05',\n",
              " '\\x1b[K     |██████████                      | 4.4 MB 2.1 MB/s eta 0:00:05',\n",
              " '\\x1b[K     |██████████                      | 4.4 MB 2.1 MB/s eta 0:00:05',\n",
              " '\\x1b[K     |██████████▏                     | 4.4 MB 2.1 MB/s eta 0:00:05',\n",
              " '\\x1b[K     |██████████▏                     | 4.4 MB 2.1 MB/s eta 0:00:05',\n",
              " '\\x1b[K     |██████████▏                     | 4.4 MB 2.1 MB/s eta 0:00:05',\n",
              " '\\x1b[K     |██████████▏                     | 4.5 MB 2.1 MB/s eta 0:00:05',\n",
              " '\\x1b[K     |██████████▏                     | 4.5 MB 2.1 MB/s eta 0:00:05',\n",
              " '\\x1b[K     |██████████▎                     | 4.5 MB 2.1 MB/s eta 0:00:05',\n",
              " '\\x1b[K     |██████████▎                     | 4.5 MB 2.1 MB/s eta 0:00:05',\n",
              " '\\x1b[K     |██████████▎                     | 4.5 MB 2.1 MB/s eta 0:00:05',\n",
              " '\\x1b[K     |██████████▎                     | 4.5 MB 2.1 MB/s eta 0:00:05',\n",
              " '\\x1b[K     |██████████▍                     | 4.5 MB 2.1 MB/s eta 0:00:05',\n",
              " '\\x1b[K     |██████████▍                     | 4.5 MB 2.1 MB/s eta 0:00:05',\n",
              " '\\x1b[K     |██████████▍                     | 4.5 MB 2.1 MB/s eta 0:00:05',\n",
              " '\\x1b[K     |██████████▍                     | 4.5 MB 2.1 MB/s eta 0:00:05',\n",
              " '\\x1b[K     |██████████▍                     | 4.6 MB 2.1 MB/s eta 0:00:05',\n",
              " '\\x1b[K     |██████████▌                     | 4.6 MB 2.1 MB/s eta 0:00:05',\n",
              " '\\x1b[K     |██████████▌                     | 4.6 MB 2.1 MB/s eta 0:00:05',\n",
              " '\\x1b[K     |██████████▌                     | 4.6 MB 2.1 MB/s eta 0:00:05',\n",
              " '\\x1b[K     |██████████▌                     | 4.6 MB 2.1 MB/s eta 0:00:05',\n",
              " '\\x1b[K     |██████████▌                     | 4.6 MB 2.1 MB/s eta 0:00:05',\n",
              " '\\x1b[K     |██████████▋                     | 4.6 MB 2.1 MB/s eta 0:00:05',\n",
              " '\\x1b[K     |██████████▋                     | 4.6 MB 2.1 MB/s eta 0:00:05',\n",
              " '\\x1b[K     |██████████▋                     | 4.6 MB 2.1 MB/s eta 0:00:05',\n",
              " '\\x1b[K     |██████████▋                     | 4.6 MB 2.1 MB/s eta 0:00:05',\n",
              " '\\x1b[K     |██████████▋                     | 4.7 MB 2.1 MB/s eta 0:00:05',\n",
              " '\\x1b[K     |██████████▊                     | 4.7 MB 2.1 MB/s eta 0:00:05',\n",
              " '\\x1b[K     |██████████▊                     | 4.7 MB 2.1 MB/s eta 0:00:05',\n",
              " '\\x1b[K     |██████████▊                     | 4.7 MB 2.1 MB/s eta 0:00:05',\n",
              " '\\x1b[K     |██████████▊                     | 4.7 MB 2.1 MB/s eta 0:00:05',\n",
              " '\\x1b[K     |██████████▉                     | 4.7 MB 2.1 MB/s eta 0:00:05',\n",
              " '\\x1b[K     |██████████▉                     | 4.7 MB 2.1 MB/s eta 0:00:05',\n",
              " '\\x1b[K     |██████████▉                     | 4.7 MB 2.1 MB/s eta 0:00:05',\n",
              " '\\x1b[K     |██████████▉                     | 4.7 MB 2.1 MB/s eta 0:00:05',\n",
              " '\\x1b[K     |██████████▉                     | 4.8 MB 2.1 MB/s eta 0:00:05',\n",
              " '\\x1b[K     |███████████                     | 4.8 MB 2.1 MB/s eta 0:00:05',\n",
              " '\\x1b[K     |███████████                     | 4.8 MB 2.1 MB/s eta 0:00:05',\n",
              " '\\x1b[K     |███████████                     | 4.8 MB 2.1 MB/s eta 0:00:05',\n",
              " '\\x1b[K     |███████████                     | 4.8 MB 2.1 MB/s eta 0:00:05',\n",
              " '\\x1b[K     |███████████                     | 4.8 MB 2.1 MB/s eta 0:00:05',\n",
              " '\\x1b[K     |███████████                     | 4.8 MB 2.1 MB/s eta 0:00:05',\n",
              " '\\x1b[K     |███████████                     | 4.8 MB 2.1 MB/s eta 0:00:05',\n",
              " '\\x1b[K     |███████████                     | 4.8 MB 2.1 MB/s eta 0:00:05',\n",
              " '\\x1b[K     |███████████                     | 4.8 MB 2.1 MB/s eta 0:00:05',\n",
              " '\\x1b[K     |███████████                     | 4.9 MB 2.1 MB/s eta 0:00:05',\n",
              " '\\x1b[K     |███████████▏                    | 4.9 MB 2.1 MB/s eta 0:00:05',\n",
              " '\\x1b[K     |███████████▏                    | 4.9 MB 2.1 MB/s eta 0:00:05',\n",
              " '\\x1b[K     |███████████▏                    | 4.9 MB 2.1 MB/s eta 0:00:05',\n",
              " '\\x1b[K     |███████████▏                    | 4.9 MB 2.1 MB/s eta 0:00:05',\n",
              " '\\x1b[K     |███████████▎                    | 4.9 MB 2.1 MB/s eta 0:00:05',\n",
              " '\\x1b[K     |███████████▎                    | 4.9 MB 2.1 MB/s eta 0:00:05',\n",
              " '\\x1b[K     |███████████▎                    | 4.9 MB 2.1 MB/s eta 0:00:05',\n",
              " '\\x1b[K     |███████████▎                    | 4.9 MB 2.1 MB/s eta 0:00:05',\n",
              " '\\x1b[K     |███████████▎                    | 4.9 MB 2.1 MB/s eta 0:00:05',\n",
              " '\\x1b[K     |███████████▍                    | 5.0 MB 2.1 MB/s eta 0:00:05',\n",
              " '\\x1b[K     |███████████▍                    | 5.0 MB 2.1 MB/s eta 0:00:05',\n",
              " '\\x1b[K     |███████████▍                    | 5.0 MB 2.1 MB/s eta 0:00:05',\n",
              " '\\x1b[K     |███████████▍                    | 5.0 MB 2.1 MB/s eta 0:00:05',\n",
              " '\\x1b[K     |███████████▍                    | 5.0 MB 2.1 MB/s eta 0:00:05',\n",
              " '\\x1b[K     |███████████▌                    | 5.0 MB 2.1 MB/s eta 0:00:05',\n",
              " '\\x1b[K     |███████████▌                    | 5.0 MB 2.1 MB/s eta 0:00:05',\n",
              " '\\x1b[K     |███████████▌                    | 5.0 MB 2.1 MB/s eta 0:00:05',\n",
              " '\\x1b[K     |███████████▌                    | 5.0 MB 2.1 MB/s eta 0:00:05',\n",
              " '\\x1b[K     |███████████▌                    | 5.0 MB 2.1 MB/s eta 0:00:05',\n",
              " '\\x1b[K     |███████████▋                    | 5.1 MB 2.1 MB/s eta 0:00:05',\n",
              " '\\x1b[K     |███████████▋                    | 5.1 MB 2.1 MB/s eta 0:00:05',\n",
              " '\\x1b[K     |███████████▋                    | 5.1 MB 2.1 MB/s eta 0:00:05',\n",
              " '\\x1b[K     |███████████▋                    | 5.1 MB 2.1 MB/s eta 0:00:05',\n",
              " '\\x1b[K     |███████████▊                    | 5.1 MB 2.1 MB/s eta 0:00:05',\n",
              " '\\x1b[K     |███████████▊                    | 5.1 MB 2.1 MB/s eta 0:00:05',\n",
              " '\\x1b[K     |███████████▊                    | 5.1 MB 2.1 MB/s eta 0:00:05',\n",
              " '\\x1b[K     |███████████▊                    | 5.1 MB 2.1 MB/s eta 0:00:05',\n",
              " '\\x1b[K     |███████████▊                    | 5.1 MB 2.1 MB/s eta 0:00:05',\n",
              " '\\x1b[K     |███████████▉                    | 5.2 MB 2.1 MB/s eta 0:00:05',\n",
              " '\\x1b[K     |███████████▉                    | 5.2 MB 2.1 MB/s eta 0:00:05',\n",
              " '\\x1b[K     |███████████▉                    | 5.2 MB 2.1 MB/s eta 0:00:05',\n",
              " '\\x1b[K     |███████████▉                    | 5.2 MB 2.1 MB/s eta 0:00:05',\n",
              " '\\x1b[K     |███████████▉                    | 5.2 MB 2.1 MB/s eta 0:00:05',\n",
              " '\\x1b[K     |████████████                    | 5.2 MB 2.1 MB/s eta 0:00:05',\n",
              " '\\x1b[K     |████████████                    | 5.2 MB 2.1 MB/s eta 0:00:05',\n",
              " '\\x1b[K     |████████████                    | 5.2 MB 2.1 MB/s eta 0:00:05',\n",
              " '\\x1b[K     |████████████                    | 5.2 MB 2.1 MB/s eta 0:00:05',\n",
              " '\\x1b[K     |████████████                    | 5.2 MB 2.1 MB/s eta 0:00:05',\n",
              " '\\x1b[K     |████████████                    | 5.3 MB 2.1 MB/s eta 0:00:05',\n",
              " '\\x1b[K     |████████████                    | 5.3 MB 2.1 MB/s eta 0:00:05',\n",
              " '\\x1b[K     |████████████                    | 5.3 MB 2.1 MB/s eta 0:00:05',\n",
              " '\\x1b[K     |████████████                    | 5.3 MB 2.1 MB/s eta 0:00:05',\n",
              " '\\x1b[K     |████████████▏                   | 5.3 MB 2.1 MB/s eta 0:00:05',\n",
              " '\\x1b[K     |████████████▏                   | 5.3 MB 2.1 MB/s eta 0:00:05',\n",
              " '\\x1b[K     |████████████▏                   | 5.3 MB 2.1 MB/s eta 0:00:05',\n",
              " '\\x1b[K     |████████████▏                   | 5.3 MB 2.1 MB/s eta 0:00:05',\n",
              " '\\x1b[K     |████████████▏                   | 5.3 MB 2.1 MB/s eta 0:00:05',\n",
              " '\\x1b[K     |████████████▎                   | 5.3 MB 2.1 MB/s eta 0:00:05',\n",
              " '\\x1b[K     |████████████▎                   | 5.4 MB 2.1 MB/s eta 0:00:05',\n",
              " '\\x1b[K     |████████████▎                   | 5.4 MB 2.1 MB/s eta 0:00:05',\n",
              " '\\x1b[K     |████████████▎                   | 5.4 MB 2.1 MB/s eta 0:00:05',\n",
              " '\\x1b[K     |████████████▎                   | 5.4 MB 2.1 MB/s eta 0:00:05',\n",
              " '\\x1b[K     |████████████▍                   | 5.4 MB 2.1 MB/s eta 0:00:05',\n",
              " '\\x1b[K     |████████████▍                   | 5.4 MB 2.1 MB/s eta 0:00:05',\n",
              " '\\x1b[K     |████████████▍                   | 5.4 MB 2.1 MB/s eta 0:00:05',\n",
              " '\\x1b[K     |████████████▍                   | 5.4 MB 2.1 MB/s eta 0:00:05',\n",
              " '\\x1b[K     |████████████▍                   | 5.4 MB 2.1 MB/s eta 0:00:05',\n",
              " '\\x1b[K     |████████████▌                   | 5.4 MB 2.1 MB/s eta 0:00:05',\n",
              " '\\x1b[K     |████████████▌                   | 5.5 MB 2.1 MB/s eta 0:00:05',\n",
              " '\\x1b[K     |████████████▌                   | 5.5 MB 2.1 MB/s eta 0:00:04',\n",
              " '\\x1b[K     |████████████▌                   | 5.5 MB 2.1 MB/s eta 0:00:04',\n",
              " '\\x1b[K     |████████████▋                   | 5.5 MB 2.1 MB/s eta 0:00:04',\n",
              " '\\x1b[K     |████████████▋                   | 5.5 MB 2.1 MB/s eta 0:00:04',\n",
              " '\\x1b[K     |████████████▋                   | 5.5 MB 2.1 MB/s eta 0:00:04',\n",
              " '\\x1b[K     |████████████▋                   | 5.5 MB 2.1 MB/s eta 0:00:04',\n",
              " '\\x1b[K     |████████████▋                   | 5.5 MB 2.1 MB/s eta 0:00:04',\n",
              " '\\x1b[K     |████████████▊                   | 5.5 MB 2.1 MB/s eta 0:00:04',\n",
              " '\\x1b[K     |████████████▊                   | 5.6 MB 2.1 MB/s eta 0:00:04',\n",
              " '\\x1b[K     |████████████▊                   | 5.6 MB 2.1 MB/s eta 0:00:04',\n",
              " '\\x1b[K     |████████████▊                   | 5.6 MB 2.1 MB/s eta 0:00:04',\n",
              " '\\x1b[K     |████████████▊                   | 5.6 MB 2.1 MB/s eta 0:00:04',\n",
              " '\\x1b[K     |████████████▉                   | 5.6 MB 2.1 MB/s eta 0:00:04',\n",
              " '\\x1b[K     |████████████▉                   | 5.6 MB 2.1 MB/s eta 0:00:04',\n",
              " '\\x1b[K     |████████████▉                   | 5.6 MB 2.1 MB/s eta 0:00:04',\n",
              " '\\x1b[K     |████████████▉                   | 5.6 MB 2.1 MB/s eta 0:00:04',\n",
              " '\\x1b[K     |█████████████                   | 5.6 MB 2.1 MB/s eta 0:00:04',\n",
              " '\\x1b[K     |█████████████                   | 5.6 MB 2.1 MB/s eta 0:00:04',\n",
              " '\\x1b[K     |█████████████                   | 5.7 MB 2.1 MB/s eta 0:00:04',\n",
              " '\\x1b[K     |█████████████                   | 5.7 MB 2.1 MB/s eta 0:00:04',\n",
              " '\\x1b[K     |█████████████                   | 5.7 MB 2.1 MB/s eta 0:00:04',\n",
              " '\\x1b[K     |█████████████                   | 5.7 MB 2.1 MB/s eta 0:00:04',\n",
              " '\\x1b[K     |█████████████                   | 5.7 MB 2.1 MB/s eta 0:00:04',\n",
              " '\\x1b[K     |█████████████                   | 5.7 MB 2.1 MB/s eta 0:00:04',\n",
              " '\\x1b[K     |█████████████                   | 5.7 MB 2.1 MB/s eta 0:00:04',\n",
              " '\\x1b[K     |█████████████                   | 5.7 MB 2.1 MB/s eta 0:00:04',\n",
              " '\\x1b[K     |█████████████▏                  | 5.7 MB 2.1 MB/s eta 0:00:04',\n",
              " '\\x1b[K     |█████████████▏                  | 5.7 MB 2.1 MB/s eta 0:00:04',\n",
              " '\\x1b[K     |█████████████▏                  | 5.8 MB 2.1 MB/s eta 0:00:04',\n",
              " '\\x1b[K     |█████████████▏                  | 5.8 MB 2.1 MB/s eta 0:00:04',\n",
              " '\\x1b[K     |█████████████▏                  | 5.8 MB 2.1 MB/s eta 0:00:04',\n",
              " '\\x1b[K     |█████████████▎                  | 5.8 MB 2.1 MB/s eta 0:00:04',\n",
              " '\\x1b[K     |█████████████▎                  | 5.8 MB 2.1 MB/s eta 0:00:04',\n",
              " '\\x1b[K     |█████████████▎                  | 5.8 MB 2.1 MB/s eta 0:00:04',\n",
              " '\\x1b[K     |█████████████▎                  | 5.8 MB 2.1 MB/s eta 0:00:04',\n",
              " '\\x1b[K     |█████████████▍                  | 5.8 MB 2.1 MB/s eta 0:00:04',\n",
              " '\\x1b[K     |█████████████▍                  | 5.8 MB 2.1 MB/s eta 0:00:04',\n",
              " '\\x1b[K     |█████████████▍                  | 5.8 MB 2.1 MB/s eta 0:00:04',\n",
              " '\\x1b[K     |█████████████▍                  | 5.9 MB 2.1 MB/s eta 0:00:04',\n",
              " '\\x1b[K     |█████████████▍                  | 5.9 MB 2.1 MB/s eta 0:00:04',\n",
              " '\\x1b[K     |█████████████▌                  | 5.9 MB 2.1 MB/s eta 0:00:04',\n",
              " '\\x1b[K     |█████████████▌                  | 5.9 MB 2.1 MB/s eta 0:00:04',\n",
              " '\\x1b[K     |█████████████▌                  | 5.9 MB 2.1 MB/s eta 0:00:04',\n",
              " '\\x1b[K     |█████████████▌                  | 5.9 MB 2.1 MB/s eta 0:00:04',\n",
              " '\\x1b[K     |█████████████▌                  | 5.9 MB 2.1 MB/s eta 0:00:04',\n",
              " '\\x1b[K     |█████████████▋                  | 5.9 MB 2.1 MB/s eta 0:00:04',\n",
              " '\\x1b[K     |█████████████▋                  | 5.9 MB 2.1 MB/s eta 0:00:04',\n",
              " '\\x1b[K     |█████████████▋                  | 5.9 MB 2.1 MB/s eta 0:00:04',\n",
              " '\\x1b[K     |█████████████▋                  | 6.0 MB 2.1 MB/s eta 0:00:04',\n",
              " '\\x1b[K     |█████████████▋                  | 6.0 MB 2.1 MB/s eta 0:00:04',\n",
              " '\\x1b[K     |█████████████▊                  | 6.0 MB 2.1 MB/s eta 0:00:04',\n",
              " '\\x1b[K     |█████████████▊                  | 6.0 MB 2.1 MB/s eta 0:00:04',\n",
              " '\\x1b[K     |█████████████▊                  | 6.0 MB 2.1 MB/s eta 0:00:04',\n",
              " '\\x1b[K     |█████████████▊                  | 6.0 MB 2.1 MB/s eta 0:00:04',\n",
              " '\\x1b[K     |█████████████▉                  | 6.0 MB 2.1 MB/s eta 0:00:04',\n",
              " '\\x1b[K     |█████████████▉                  | 6.0 MB 2.1 MB/s eta 0:00:04',\n",
              " '\\x1b[K     |█████████████▉                  | 6.0 MB 2.1 MB/s eta 0:00:04',\n",
              " '\\x1b[K     |█████████████▉                  | 6.1 MB 2.1 MB/s eta 0:00:04',\n",
              " '\\x1b[K     |█████████████▉                  | 6.1 MB 2.1 MB/s eta 0:00:04',\n",
              " '\\x1b[K     |██████████████                  | 6.1 MB 2.1 MB/s eta 0:00:04',\n",
              " '\\x1b[K     |██████████████                  | 6.1 MB 2.1 MB/s eta 0:00:04',\n",
              " '\\x1b[K     |██████████████                  | 6.1 MB 2.1 MB/s eta 0:00:04',\n",
              " '\\x1b[K     |██████████████                  | 6.1 MB 2.1 MB/s eta 0:00:04',\n",
              " '\\x1b[K     |██████████████                  | 6.1 MB 2.1 MB/s eta 0:00:04',\n",
              " '\\x1b[K     |██████████████                  | 6.1 MB 2.1 MB/s eta 0:00:04',\n",
              " '\\x1b[K     |██████████████                  | 6.1 MB 2.1 MB/s eta 0:00:04',\n",
              " '\\x1b[K     |██████████████                  | 6.1 MB 2.1 MB/s eta 0:00:04',\n",
              " '\\x1b[K     |██████████████                  | 6.2 MB 2.1 MB/s eta 0:00:04',\n",
              " '\\x1b[K     |██████████████                  | 6.2 MB 2.1 MB/s eta 0:00:04',\n",
              " '\\x1b[K     |██████████████▏                 | 6.2 MB 2.1 MB/s eta 0:00:04',\n",
              " '\\x1b[K     |██████████████▏                 | 6.2 MB 2.1 MB/s eta 0:00:04',\n",
              " '\\x1b[K     |██████████████▏                 | 6.2 MB 2.1 MB/s eta 0:00:04',\n",
              " '\\x1b[K     |██████████████▏                 | 6.2 MB 2.1 MB/s eta 0:00:04',\n",
              " '\\x1b[K     |██████████████▎                 | 6.2 MB 2.1 MB/s eta 0:00:04',\n",
              " '\\x1b[K     |██████████████▎                 | 6.2 MB 2.1 MB/s eta 0:00:04',\n",
              " '\\x1b[K     |██████████████▎                 | 6.2 MB 2.1 MB/s eta 0:00:04',\n",
              " '\\x1b[K     |██████████████▎                 | 6.2 MB 2.1 MB/s eta 0:00:04',\n",
              " '\\x1b[K     |██████████████▎                 | 6.3 MB 2.1 MB/s eta 0:00:04',\n",
              " '\\x1b[K     |██████████████▍                 | 6.3 MB 2.1 MB/s eta 0:00:04',\n",
              " '\\x1b[K     |██████████████▍                 | 6.3 MB 2.1 MB/s eta 0:00:04',\n",
              " '\\x1b[K     |██████████████▍                 | 6.3 MB 2.1 MB/s eta 0:00:04',\n",
              " '\\x1b[K     |██████████████▍                 | 6.3 MB 2.1 MB/s eta 0:00:04',\n",
              " '\\x1b[K     |██████████████▍                 | 6.3 MB 2.1 MB/s eta 0:00:04',\n",
              " '\\x1b[K     |██████████████▌                 | 6.3 MB 2.1 MB/s eta 0:00:04',\n",
              " '\\x1b[K     |██████████████▌                 | 6.3 MB 2.1 MB/s eta 0:00:04',\n",
              " '\\x1b[K     |██████████████▌                 | 6.3 MB 2.1 MB/s eta 0:00:04',\n",
              " '\\x1b[K     |██████████████▌                 | 6.3 MB 2.1 MB/s eta 0:00:04',\n",
              " '\\x1b[K     |██████████████▌                 | 6.4 MB 2.1 MB/s eta 0:00:04',\n",
              " '\\x1b[K     |██████████████▋                 | 6.4 MB 2.1 MB/s eta 0:00:04',\n",
              " '\\x1b[K     |██████████████▋                 | 6.4 MB 2.1 MB/s eta 0:00:04',\n",
              " '\\x1b[K     |██████████████▋                 | 6.4 MB 2.1 MB/s eta 0:00:04',\n",
              " '\\x1b[K     |██████████████▋                 | 6.4 MB 2.1 MB/s eta 0:00:04',\n",
              " '\\x1b[K     |██████████████▊                 | 6.4 MB 2.1 MB/s eta 0:00:04',\n",
              " '\\x1b[K     |██████████████▊                 | 6.4 MB 2.1 MB/s eta 0:00:04',\n",
              " '\\x1b[K     |██████████████▊                 | 6.4 MB 2.1 MB/s eta 0:00:04',\n",
              " '\\x1b[K     |██████████████▊                 | 6.4 MB 2.1 MB/s eta 0:00:04',\n",
              " '\\x1b[K     |██████████████▊                 | 6.5 MB 2.1 MB/s eta 0:00:04',\n",
              " '\\x1b[K     |██████████████▉                 | 6.5 MB 2.1 MB/s eta 0:00:04',\n",
              " '\\x1b[K     |██████████████▉                 | 6.5 MB 2.1 MB/s eta 0:00:04',\n",
              " '\\x1b[K     |██████████████▉                 | 6.5 MB 2.1 MB/s eta 0:00:04',\n",
              " '\\x1b[K     |██████████████▉                 | 6.5 MB 2.1 MB/s eta 0:00:04',\n",
              " '\\x1b[K     |██████████████▉                 | 6.5 MB 2.1 MB/s eta 0:00:04',\n",
              " '\\x1b[K     |███████████████                 | 6.5 MB 2.1 MB/s eta 0:00:04',\n",
              " '\\x1b[K     |███████████████                 | 6.5 MB 2.1 MB/s eta 0:00:04',\n",
              " '\\x1b[K     |███████████████                 | 6.5 MB 2.1 MB/s eta 0:00:04',\n",
              " '\\x1b[K     |███████████████                 | 6.5 MB 2.1 MB/s eta 0:00:04',\n",
              " '\\x1b[K     |███████████████                 | 6.6 MB 2.1 MB/s eta 0:00:04',\n",
              " '\\x1b[K     |███████████████                 | 6.6 MB 2.1 MB/s eta 0:00:04',\n",
              " '\\x1b[K     |███████████████                 | 6.6 MB 2.1 MB/s eta 0:00:04',\n",
              " '\\x1b[K     |███████████████                 | 6.6 MB 2.1 MB/s eta 0:00:04',\n",
              " '\\x1b[K     |███████████████                 | 6.6 MB 2.1 MB/s eta 0:00:04',\n",
              " '\\x1b[K     |███████████████▏                | 6.6 MB 2.1 MB/s eta 0:00:04',\n",
              " '\\x1b[K     |███████████████▏                | 6.6 MB 2.1 MB/s eta 0:00:04',\n",
              " '\\x1b[K     |███████████████▏                | 6.6 MB 2.1 MB/s eta 0:00:04',\n",
              " '\\x1b[K     |███████████████▏                | 6.6 MB 2.1 MB/s eta 0:00:04',\n",
              " '\\x1b[K     |███████████████▏                | 6.6 MB 2.1 MB/s eta 0:00:04',\n",
              " '\\x1b[K     |███████████████▎                | 6.7 MB 2.1 MB/s eta 0:00:04',\n",
              " '\\x1b[K     |███████████████▎                | 6.7 MB 2.1 MB/s eta 0:00:04',\n",
              " '\\x1b[K     |███████████████▎                | 6.7 MB 2.1 MB/s eta 0:00:04',\n",
              " '\\x1b[K     |███████████████▎                | 6.7 MB 2.1 MB/s eta 0:00:04',\n",
              " '\\x1b[K     |███████████████▎                | 6.7 MB 2.1 MB/s eta 0:00:04',\n",
              " '\\x1b[K     |███████████████▍                | 6.7 MB 2.1 MB/s eta 0:00:04',\n",
              " '\\x1b[K     |███████████████▍                | 6.7 MB 2.1 MB/s eta 0:00:04',\n",
              " '\\x1b[K     |███████████████▍                | 6.7 MB 2.1 MB/s eta 0:00:04',\n",
              " '\\x1b[K     |███████████████▍                | 6.7 MB 2.1 MB/s eta 0:00:04',\n",
              " '\\x1b[K     |███████████████▍                | 6.7 MB 2.1 MB/s eta 0:00:04',\n",
              " '\\x1b[K     |███████████████▌                | 6.8 MB 2.1 MB/s eta 0:00:04',\n",
              " '\\x1b[K     |███████████████▌                | 6.8 MB 2.1 MB/s eta 0:00:04',\n",
              " '\\x1b[K     |███████████████▌                | 6.8 MB 2.1 MB/s eta 0:00:04',\n",
              " '\\x1b[K     |███████████████▌                | 6.8 MB 2.1 MB/s eta 0:00:04',\n",
              " '\\x1b[K     |███████████████▋                | 6.8 MB 2.1 MB/s eta 0:00:04',\n",
              " '\\x1b[K     |███████████████▋                | 6.8 MB 2.1 MB/s eta 0:00:04',\n",
              " '\\x1b[K     |███████████████▋                | 6.8 MB 2.1 MB/s eta 0:00:04',\n",
              " '\\x1b[K     |███████████████▋                | 6.8 MB 2.1 MB/s eta 0:00:04',\n",
              " '\\x1b[K     |███████████████▋                | 6.8 MB 2.1 MB/s eta 0:00:04',\n",
              " '\\x1b[K     |███████████████▊                | 6.9 MB 2.1 MB/s eta 0:00:04',\n",
              " '\\x1b[K     |███████████████▊                | 6.9 MB 2.1 MB/s eta 0:00:04',\n",
              " '\\x1b[K     |███████████████▊                | 6.9 MB 2.1 MB/s eta 0:00:04',\n",
              " '\\x1b[K     |███████████████▊                | 6.9 MB 2.1 MB/s eta 0:00:04',\n",
              " '\\x1b[K     |███████████████▊                | 6.9 MB 2.1 MB/s eta 0:00:04',\n",
              " '\\x1b[K     |███████████████▉                | 6.9 MB 2.1 MB/s eta 0:00:04',\n",
              " '\\x1b[K     |███████████████▉                | 6.9 MB 2.1 MB/s eta 0:00:04',\n",
              " '\\x1b[K     |███████████████▉                | 6.9 MB 2.1 MB/s eta 0:00:04',\n",
              " '\\x1b[K     |███████████████▉                | 6.9 MB 2.1 MB/s eta 0:00:04',\n",
              " '\\x1b[K     |███████████████▉                | 6.9 MB 2.1 MB/s eta 0:00:04',\n",
              " '\\x1b[K     |████████████████                | 7.0 MB 2.1 MB/s eta 0:00:04',\n",
              " '\\x1b[K     |████████████████                | 7.0 MB 2.1 MB/s eta 0:00:04',\n",
              " '\\x1b[K     |████████████████                | 7.0 MB 2.1 MB/s eta 0:00:04',\n",
              " '\\x1b[K     |████████████████                | 7.0 MB 2.1 MB/s eta 0:00:04',\n",
              " '\\x1b[K     |████████████████                | 7.0 MB 2.1 MB/s eta 0:00:04',\n",
              " '\\x1b[K     |████████████████                | 7.0 MB 2.1 MB/s eta 0:00:04',\n",
              " '\\x1b[K     |████████████████                | 7.0 MB 2.1 MB/s eta 0:00:04',\n",
              " '\\x1b[K     |████████████████                | 7.0 MB 2.1 MB/s eta 0:00:04',\n",
              " '\\x1b[K     |████████████████                | 7.0 MB 2.1 MB/s eta 0:00:04',\n",
              " '\\x1b[K     |████████████████▏               | 7.0 MB 2.1 MB/s eta 0:00:04',\n",
              " '\\x1b[K     |████████████████▏               | 7.1 MB 2.1 MB/s eta 0:00:04',\n",
              " '\\x1b[K     |████████████████▏               | 7.1 MB 2.1 MB/s eta 0:00:04',\n",
              " '\\x1b[K     |████████████████▏               | 7.1 MB 2.1 MB/s eta 0:00:04',\n",
              " '\\x1b[K     |████████████████▏               | 7.1 MB 2.1 MB/s eta 0:00:04',\n",
              " '\\x1b[K     |████████████████▎               | 7.1 MB 2.1 MB/s eta 0:00:04',\n",
              " '\\x1b[K     |████████████████▎               | 7.1 MB 2.1 MB/s eta 0:00:04',\n",
              " '\\x1b[K     |████████████████▎               | 7.1 MB 2.1 MB/s eta 0:00:04',\n",
              " '\\x1b[K     |████████████████▎               | 7.1 MB 2.1 MB/s eta 0:00:04',\n",
              " '\\x1b[K     |████████████████▍               | 7.1 MB 2.1 MB/s eta 0:00:04',\n",
              " '\\x1b[K     |████████████████▍               | 7.1 MB 2.1 MB/s eta 0:00:04',\n",
              " '\\x1b[K     |████████████████▍               | 7.2 MB 2.1 MB/s eta 0:00:04',\n",
              " '\\x1b[K     |████████████████▍               | 7.2 MB 2.1 MB/s eta 0:00:04',\n",
              " '\\x1b[K     |████████████████▍               | 7.2 MB 2.1 MB/s eta 0:00:04',\n",
              " '\\x1b[K     |████████████████▌               | 7.2 MB 2.1 MB/s eta 0:00:04',\n",
              " '\\x1b[K     |████████████████▌               | 7.2 MB 2.1 MB/s eta 0:00:04',\n",
              " '\\x1b[K     |████████████████▌               | 7.2 MB 2.1 MB/s eta 0:00:04',\n",
              " '\\x1b[K     |████████████████▌               | 7.2 MB 2.1 MB/s eta 0:00:04',\n",
              " '\\x1b[K     |████████████████▌               | 7.2 MB 2.1 MB/s eta 0:00:04',\n",
              " '\\x1b[K     |████████████████▋               | 7.2 MB 2.1 MB/s eta 0:00:04',\n",
              " '\\x1b[K     |████████████████▋               | 7.2 MB 2.1 MB/s eta 0:00:04',\n",
              " '\\x1b[K     |████████████████▋               | 7.3 MB 2.1 MB/s eta 0:00:04',\n",
              " '\\x1b[K     |████████████████▋               | 7.3 MB 2.1 MB/s eta 0:00:04',\n",
              " '\\x1b[K     |████████████████▋               | 7.3 MB 2.1 MB/s eta 0:00:04',\n",
              " '\\x1b[K     |████████████████▊               | 7.3 MB 2.1 MB/s eta 0:00:04',\n",
              " '\\x1b[K     |████████████████▊               | 7.3 MB 2.1 MB/s eta 0:00:04',\n",
              " '\\x1b[K     |████████████████▊               | 7.3 MB 2.1 MB/s eta 0:00:04',\n",
              " '\\x1b[K     |████████████████▊               | 7.3 MB 2.1 MB/s eta 0:00:04',\n",
              " '\\x1b[K     |████████████████▉               | 7.3 MB 2.1 MB/s eta 0:00:04',\n",
              " '\\x1b[K     |████████████████▉               | 7.3 MB 2.1 MB/s eta 0:00:04',\n",
              " '\\x1b[K     |████████████████▉               | 7.4 MB 2.1 MB/s eta 0:00:04',\n",
              " '\\x1b[K     |████████████████▉               | 7.4 MB 2.1 MB/s eta 0:00:04',\n",
              " '\\x1b[K     |████████████████▉               | 7.4 MB 2.1 MB/s eta 0:00:04',\n",
              " '\\x1b[K     |█████████████████               | 7.4 MB 2.1 MB/s eta 0:00:04',\n",
              " '\\x1b[K     |█████████████████               | 7.4 MB 2.1 MB/s eta 0:00:04',\n",
              " '\\x1b[K     |█████████████████               | 7.4 MB 2.1 MB/s eta 0:00:04',\n",
              " '\\x1b[K     |█████████████████               | 7.4 MB 2.1 MB/s eta 0:00:04',\n",
              " '\\x1b[K     |█████████████████               | 7.4 MB 2.1 MB/s eta 0:00:04',\n",
              " '\\x1b[K     |█████████████████               | 7.4 MB 2.1 MB/s eta 0:00:04',\n",
              " '\\x1b[K     |█████████████████               | 7.4 MB 2.1 MB/s eta 0:00:04',\n",
              " '\\x1b[K     |█████████████████               | 7.5 MB 2.1 MB/s eta 0:00:04',\n",
              " '\\x1b[K     |█████████████████               | 7.5 MB 2.1 MB/s eta 0:00:04',\n",
              " '\\x1b[K     |█████████████████               | 7.5 MB 2.1 MB/s eta 0:00:04',\n",
              " '\\x1b[K     |█████████████████▏              | 7.5 MB 2.1 MB/s eta 0:00:04',\n",
              " '\\x1b[K     |█████████████████▏              | 7.5 MB 2.1 MB/s eta 0:00:04',\n",
              " '\\x1b[K     |█████████████████▏              | 7.5 MB 2.1 MB/s eta 0:00:04',\n",
              " '\\x1b[K     |█████████████████▏              | 7.5 MB 2.1 MB/s eta 0:00:04',\n",
              " '\\x1b[K     |█████████████████▎              | 7.5 MB 2.1 MB/s eta 0:00:04',\n",
              " '\\x1b[K     |█████████████████▎              | 7.5 MB 2.1 MB/s eta 0:00:04',\n",
              " '\\x1b[K     |█████████████████▎              | 7.5 MB 2.1 MB/s eta 0:00:04',\n",
              " '\\x1b[K     |█████████████████▎              | 7.6 MB 2.1 MB/s eta 0:00:04',\n",
              " '\\x1b[K     |█████████████████▎              | 7.6 MB 2.1 MB/s eta 0:00:04',\n",
              " '\\x1b[K     |█████████████████▍              | 7.6 MB 2.1 MB/s eta 0:00:04',\n",
              " '\\x1b[K     |█████████████████▍              | 7.6 MB 2.1 MB/s eta 0:00:04',\n",
              " '\\x1b[K     |█████████████████▍              | 7.6 MB 2.1 MB/s eta 0:00:03',\n",
              " '\\x1b[K     |█████████████████▍              | 7.6 MB 2.1 MB/s eta 0:00:03',\n",
              " '\\x1b[K     |█████████████████▍              | 7.6 MB 2.1 MB/s eta 0:00:03',\n",
              " '\\x1b[K     |█████████████████▌              | 7.6 MB 2.1 MB/s eta 0:00:03',\n",
              " '\\x1b[K     |█████████████████▌              | 7.6 MB 2.1 MB/s eta 0:00:03',\n",
              " '\\x1b[K     |█████████████████▌              | 7.6 MB 2.1 MB/s eta 0:00:03',\n",
              " '\\x1b[K     |█████████████████▌              | 7.7 MB 2.1 MB/s eta 0:00:03',\n",
              " '\\x1b[K     |█████████████████▌              | 7.7 MB 2.1 MB/s eta 0:00:03',\n",
              " '\\x1b[K     |█████████████████▋              | 7.7 MB 2.1 MB/s eta 0:00:03',\n",
              " '\\x1b[K     |█████████████████▋              | 7.7 MB 2.1 MB/s eta 0:00:03',\n",
              " '\\x1b[K     |█████████████████▋              | 7.7 MB 2.1 MB/s eta 0:00:03',\n",
              " '\\x1b[K     |█████████████████▋              | 7.7 MB 2.1 MB/s eta 0:00:03',\n",
              " '\\x1b[K     |█████████████████▊              | 7.7 MB 2.1 MB/s eta 0:00:03',\n",
              " '\\x1b[K     |█████████████████▊              | 7.7 MB 2.1 MB/s eta 0:00:03',\n",
              " '\\x1b[K     |█████████████████▊              | 7.7 MB 2.1 MB/s eta 0:00:03',\n",
              " '\\x1b[K     |█████████████████▊              | 7.8 MB 2.1 MB/s eta 0:00:03',\n",
              " '\\x1b[K     |█████████████████▊              | 7.8 MB 2.1 MB/s eta 0:00:03',\n",
              " '\\x1b[K     |█████████████████▉              | 7.8 MB 2.1 MB/s eta 0:00:03',\n",
              " '\\x1b[K     |█████████████████▉              | 7.8 MB 2.1 MB/s eta 0:00:03',\n",
              " '\\x1b[K     |█████████████████▉              | 7.8 MB 2.1 MB/s eta 0:00:03',\n",
              " '\\x1b[K     |█████████████████▉              | 7.8 MB 2.1 MB/s eta 0:00:03',\n",
              " '\\x1b[K     |█████████████████▉              | 7.8 MB 2.1 MB/s eta 0:00:03',\n",
              " '\\x1b[K     |██████████████████              | 7.8 MB 2.1 MB/s eta 0:00:03',\n",
              " '\\x1b[K     |██████████████████              | 7.8 MB 2.1 MB/s eta 0:00:03',\n",
              " '\\x1b[K     |██████████████████              | 7.8 MB 2.1 MB/s eta 0:00:03',\n",
              " '\\x1b[K     |██████████████████              | 7.9 MB 2.1 MB/s eta 0:00:03',\n",
              " '\\x1b[K     |██████████████████              | 7.9 MB 2.1 MB/s eta 0:00:03',\n",
              " '\\x1b[K     |██████████████████              | 7.9 MB 2.1 MB/s eta 0:00:03',\n",
              " '\\x1b[K     |██████████████████              | 7.9 MB 2.1 MB/s eta 0:00:03',\n",
              " '\\x1b[K     |██████████████████              | 7.9 MB 2.1 MB/s eta 0:00:03',\n",
              " '\\x1b[K     |██████████████████              | 7.9 MB 2.1 MB/s eta 0:00:03',\n",
              " '\\x1b[K     |██████████████████▏             | 7.9 MB 2.1 MB/s eta 0:00:03',\n",
              " '\\x1b[K     |██████████████████▏             | 7.9 MB 2.1 MB/s eta 0:00:03',\n",
              " '\\x1b[K     |██████████████████▏             | 7.9 MB 2.1 MB/s eta 0:00:03',\n",
              " '\\x1b[K     |██████████████████▏             | 7.9 MB 2.1 MB/s eta 0:00:03',\n",
              " '\\x1b[K     |██████████████████▏             | 8.0 MB 2.1 MB/s eta 0:00:03',\n",
              " '\\x1b[K     |██████████████████▎             | 8.0 MB 2.1 MB/s eta 0:00:03',\n",
              " '\\x1b[K     |██████████████████▎             | 8.0 MB 2.1 MB/s eta 0:00:03',\n",
              " '\\x1b[K     |██████████████████▎             | 8.0 MB 2.1 MB/s eta 0:00:03',\n",
              " '\\x1b[K     |██████████████████▎             | 8.0 MB 2.1 MB/s eta 0:00:03',\n",
              " '\\x1b[K     |██████████████████▎             | 8.0 MB 2.1 MB/s eta 0:00:03',\n",
              " '\\x1b[K     |██████████████████▍             | 8.0 MB 2.1 MB/s eta 0:00:03',\n",
              " '\\x1b[K     |██████████████████▍             | 8.0 MB 2.1 MB/s eta 0:00:03',\n",
              " '\\x1b[K     |██████████████████▍             | 8.0 MB 2.1 MB/s eta 0:00:03',\n",
              " '\\x1b[K     |██████████████████▍             | 8.0 MB 2.1 MB/s eta 0:00:03',\n",
              " '\\x1b[K     |██████████████████▍             | 8.1 MB 2.1 MB/s eta 0:00:03',\n",
              " '\\x1b[K     |██████████████████▌             | 8.1 MB 2.1 MB/s eta 0:00:03',\n",
              " '\\x1b[K     |██████████████████▌             | 8.1 MB 2.1 MB/s eta 0:00:03',\n",
              " '\\x1b[K     |██████████████████▌             | 8.1 MB 2.1 MB/s eta 0:00:03',\n",
              " '\\x1b[K     |██████████████████▌             | 8.1 MB 2.1 MB/s eta 0:00:03',\n",
              " '\\x1b[K     |██████████████████▋             | 8.1 MB 2.1 MB/s eta 0:00:03',\n",
              " '\\x1b[K     |██████████████████▋             | 8.1 MB 2.1 MB/s eta 0:00:03',\n",
              " '\\x1b[K     |██████████████████▋             | 8.1 MB 2.1 MB/s eta 0:00:03',\n",
              " '\\x1b[K     |██████████████████▋             | 8.1 MB 2.1 MB/s eta 0:00:03',\n",
              " '\\x1b[K     |██████████████████▋             | 8.2 MB 2.1 MB/s eta 0:00:03',\n",
              " '\\x1b[K     |██████████████████▊             | 8.2 MB 2.1 MB/s eta 0:00:03',\n",
              " '\\x1b[K     |██████████████████▊             | 8.2 MB 2.1 MB/s eta 0:00:03',\n",
              " '\\x1b[K     |██████████████████▊             | 8.2 MB 2.1 MB/s eta 0:00:03',\n",
              " '\\x1b[K     |██████████████████▊             | 8.2 MB 2.1 MB/s eta 0:00:03',\n",
              " '\\x1b[K     |██████████████████▊             | 8.2 MB 2.1 MB/s eta 0:00:03',\n",
              " '\\x1b[K     |██████████████████▉             | 8.2 MB 2.1 MB/s eta 0:00:03',\n",
              " '\\x1b[K     |██████████████████▉             | 8.2 MB 2.1 MB/s eta 0:00:03',\n",
              " '\\x1b[K     |██████████████████▉             | 8.2 MB 2.1 MB/s eta 0:00:03',\n",
              " '\\x1b[K     |██████████████████▉             | 8.2 MB 2.1 MB/s eta 0:00:03',\n",
              " '\\x1b[K     |██████████████████▉             | 8.3 MB 2.1 MB/s eta 0:00:03',\n",
              " '\\x1b[K     |███████████████████             | 8.3 MB 2.1 MB/s eta 0:00:03',\n",
              " '\\x1b[K     |███████████████████             | 8.3 MB 2.1 MB/s eta 0:00:03',\n",
              " '\\x1b[K     |███████████████████             | 8.3 MB 2.1 MB/s eta 0:00:03',\n",
              " '\\x1b[K     |███████████████████             | 8.3 MB 2.1 MB/s eta 0:00:03',\n",
              " '\\x1b[K     |███████████████████             | 8.3 MB 2.1 MB/s eta 0:00:03',\n",
              " '\\x1b[K     |███████████████████             | 8.3 MB 2.1 MB/s eta 0:00:03',\n",
              " '\\x1b[K     |███████████████████             | 8.3 MB 2.1 MB/s eta 0:00:03',\n",
              " '\\x1b[K     |███████████████████             | 8.3 MB 2.1 MB/s eta 0:00:03',\n",
              " '\\x1b[K     |███████████████████             | 8.3 MB 2.1 MB/s eta 0:00:03',\n",
              " '\\x1b[K     |███████████████████▏            | 8.4 MB 2.1 MB/s eta 0:00:03',\n",
              " '\\x1b[K     |███████████████████▏            | 8.4 MB 2.1 MB/s eta 0:00:03',\n",
              " '\\x1b[K     |███████████████████▏            | 8.4 MB 2.1 MB/s eta 0:00:03',\n",
              " '\\x1b[K     |███████████████████▏            | 8.4 MB 2.1 MB/s eta 0:00:03',\n",
              " '\\x1b[K     |███████████████████▏            | 8.4 MB 2.1 MB/s eta 0:00:03',\n",
              " '\\x1b[K     |███████████████████▎            | 8.4 MB 2.1 MB/s eta 0:00:03',\n",
              " '\\x1b[K     |███████████████████▎            | 8.4 MB 2.1 MB/s eta 0:00:03',\n",
              " '\\x1b[K     |███████████████████▎            | 8.4 MB 2.1 MB/s eta 0:00:03',\n",
              " '\\x1b[K     |███████████████████▎            | 8.4 MB 2.1 MB/s eta 0:00:03',\n",
              " '\\x1b[K     |███████████████████▍            | 8.4 MB 2.1 MB/s eta 0:00:03',\n",
              " '\\x1b[K     |███████████████████▍            | 8.5 MB 2.1 MB/s eta 0:00:03',\n",
              " '\\x1b[K     |███████████████████▍            | 8.5 MB 2.1 MB/s eta 0:00:03',\n",
              " '\\x1b[K     |███████████████████▍            | 8.5 MB 2.1 MB/s eta 0:00:03',\n",
              " '\\x1b[K     |███████████████████▍            | 8.5 MB 2.1 MB/s eta 0:00:03',\n",
              " '\\x1b[K     |███████████████████▌            | 8.5 MB 2.1 MB/s eta 0:00:03',\n",
              " '\\x1b[K     |███████████████████▌            | 8.5 MB 2.1 MB/s eta 0:00:03',\n",
              " '\\x1b[K     |███████████████████▌            | 8.5 MB 2.1 MB/s eta 0:00:03',\n",
              " '\\x1b[K     |███████████████████▌            | 8.5 MB 2.1 MB/s eta 0:00:03',\n",
              " '\\x1b[K     |███████████████████▌            | 8.5 MB 2.1 MB/s eta 0:00:03',\n",
              " '\\x1b[K     |███████████████████▋            | 8.6 MB 2.1 MB/s eta 0:00:03',\n",
              " '\\x1b[K     |███████████████████▋            | 8.6 MB 2.1 MB/s eta 0:00:03',\n",
              " '\\x1b[K     |███████████████████▋            | 8.6 MB 2.1 MB/s eta 0:00:03',\n",
              " '\\x1b[K     |███████████████████▋            | 8.6 MB 2.1 MB/s eta 0:00:03',\n",
              " '\\x1b[K     |███████████████████▋            | 8.6 MB 2.1 MB/s eta 0:00:03',\n",
              " '\\x1b[K     |███████████████████▊            | 8.6 MB 2.1 MB/s eta 0:00:03',\n",
              " '\\x1b[K     |███████████████████▊            | 8.6 MB 2.1 MB/s eta 0:00:03',\n",
              " '\\x1b[K     |███████████████████▊            | 8.6 MB 2.1 MB/s eta 0:00:03',\n",
              " '\\x1b[K     |███████████████████▊            | 8.6 MB 2.1 MB/s eta 0:00:03',\n",
              " '\\x1b[K     |███████████████████▉            | 8.6 MB 2.1 MB/s eta 0:00:03',\n",
              " '\\x1b[K     |███████████████████▉            | 8.7 MB 2.1 MB/s eta 0:00:03',\n",
              " '\\x1b[K     |███████████████████▉            | 8.7 MB 2.1 MB/s eta 0:00:03',\n",
              " '\\x1b[K     |███████████████████▉            | 8.7 MB 2.1 MB/s eta 0:00:03',\n",
              " '\\x1b[K     |███████████████████▉            | 8.7 MB 2.1 MB/s eta 0:00:03',\n",
              " '\\x1b[K     |████████████████████            | 8.7 MB 2.1 MB/s eta 0:00:03',\n",
              " '\\x1b[K     |████████████████████            | 8.7 MB 2.1 MB/s eta 0:00:03',\n",
              " '\\x1b[K     |████████████████████            | 8.7 MB 2.1 MB/s eta 0:00:03',\n",
              " '\\x1b[K     |████████████████████            | 8.7 MB 2.1 MB/s eta 0:00:03',\n",
              " '\\x1b[K     |████████████████████            | 8.7 MB 2.1 MB/s eta 0:00:03',\n",
              " '\\x1b[K     |████████████████████            | 8.7 MB 2.1 MB/s eta 0:00:03',\n",
              " '\\x1b[K     |████████████████████            | 8.8 MB 2.1 MB/s eta 0:00:03',\n",
              " '\\x1b[K     |████████████████████            | 8.8 MB 2.1 MB/s eta 0:00:03',\n",
              " '\\x1b[K     |████████████████████            | 8.8 MB 2.1 MB/s eta 0:00:03',\n",
              " '\\x1b[K     |████████████████████            | 8.8 MB 2.1 MB/s eta 0:00:03',\n",
              " '\\x1b[K     |████████████████████▏           | 8.8 MB 2.1 MB/s eta 0:00:03',\n",
              " '\\x1b[K     |████████████████████▏           | 8.8 MB 2.1 MB/s eta 0:00:03',\n",
              " '\\x1b[K     |████████████████████▏           | 8.8 MB 2.1 MB/s eta 0:00:03',\n",
              " '\\x1b[K     |████████████████████▏           | 8.8 MB 2.1 MB/s eta 0:00:03',\n",
              " '\\x1b[K     |████████████████████▎           | 8.8 MB 2.1 MB/s eta 0:00:03',\n",
              " '\\x1b[K     |████████████████████▎           | 8.8 MB 2.1 MB/s eta 0:00:03',\n",
              " '\\x1b[K     |████████████████████▎           | 8.9 MB 2.1 MB/s eta 0:00:03',\n",
              " '\\x1b[K     |████████████████████▎           | 8.9 MB 2.1 MB/s eta 0:00:03',\n",
              " '\\x1b[K     |████████████████████▎           | 8.9 MB 2.1 MB/s eta 0:00:03',\n",
              " '\\x1b[K     |████████████████████▍           | 8.9 MB 2.1 MB/s eta 0:00:03',\n",
              " '\\x1b[K     |████████████████████▍           | 8.9 MB 2.1 MB/s eta 0:00:03',\n",
              " '\\x1b[K     |████████████████████▍           | 8.9 MB 2.1 MB/s eta 0:00:03',\n",
              " '\\x1b[K     |████████████████████▍           | 8.9 MB 2.1 MB/s eta 0:00:03',\n",
              " '\\x1b[K     |████████████████████▍           | 8.9 MB 2.1 MB/s eta 0:00:03',\n",
              " '\\x1b[K     |████████████████████▌           | 8.9 MB 2.1 MB/s eta 0:00:03',\n",
              " '\\x1b[K     |████████████████████▌           | 8.9 MB 2.1 MB/s eta 0:00:03',\n",
              " '\\x1b[K     |████████████████████▌           | 9.0 MB 2.1 MB/s eta 0:00:03',\n",
              " '\\x1b[K     |████████████████████▌           | 9.0 MB 2.1 MB/s eta 0:00:03',\n",
              " '\\x1b[K     |████████████████████▌           | 9.0 MB 2.1 MB/s eta 0:00:03',\n",
              " '\\x1b[K     |████████████████████▋           | 9.0 MB 2.1 MB/s eta 0:00:03',\n",
              " '\\x1b[K     |████████████████████▋           | 9.0 MB 2.1 MB/s eta 0:00:03',\n",
              " '\\x1b[K     |████████████████████▋           | 9.0 MB 2.1 MB/s eta 0:00:03',\n",
              " '\\x1b[K     |████████████████████▋           | 9.0 MB 2.1 MB/s eta 0:00:03',\n",
              " '\\x1b[K     |████████████████████▊           | 9.0 MB 2.1 MB/s eta 0:00:03',\n",
              " '\\x1b[K     |████████████████████▊           | 9.0 MB 2.1 MB/s eta 0:00:03',\n",
              " '\\x1b[K     |████████████████████▊           | 9.1 MB 2.1 MB/s eta 0:00:03',\n",
              " '\\x1b[K     |████████████████████▊           | 9.1 MB 2.1 MB/s eta 0:00:03',\n",
              " '\\x1b[K     |████████████████████▊           | 9.1 MB 2.1 MB/s eta 0:00:03',\n",
              " '\\x1b[K     |████████████████████▉           | 9.1 MB 2.1 MB/s eta 0:00:03',\n",
              " '\\x1b[K     |████████████████████▉           | 9.1 MB 2.1 MB/s eta 0:00:03',\n",
              " '\\x1b[K     |████████████████████▉           | 9.1 MB 2.1 MB/s eta 0:00:03',\n",
              " '\\x1b[K     |████████████████████▉           | 9.1 MB 2.1 MB/s eta 0:00:03',\n",
              " '\\x1b[K     |████████████████████▉           | 9.1 MB 2.1 MB/s eta 0:00:03',\n",
              " '\\x1b[K     |█████████████████████           | 9.1 MB 2.1 MB/s eta 0:00:03',\n",
              " '\\x1b[K     |█████████████████████           | 9.1 MB 2.1 MB/s eta 0:00:03',\n",
              " '\\x1b[K     |█████████████████████           | 9.2 MB 2.1 MB/s eta 0:00:03',\n",
              " '\\x1b[K     |█████████████████████           | 9.2 MB 2.1 MB/s eta 0:00:03',\n",
              " '\\x1b[K     |█████████████████████           | 9.2 MB 2.1 MB/s eta 0:00:03',\n",
              " '\\x1b[K     |█████████████████████           | 9.2 MB 2.1 MB/s eta 0:00:03',\n",
              " '\\x1b[K     |█████████████████████           | 9.2 MB 2.1 MB/s eta 0:00:03',\n",
              " '\\x1b[K     |█████████████████████           | 9.2 MB 2.1 MB/s eta 0:00:03',\n",
              " '\\x1b[K     |█████████████████████           | 9.2 MB 2.1 MB/s eta 0:00:03',\n",
              " '\\x1b[K     |█████████████████████▏          | 9.2 MB 2.1 MB/s eta 0:00:03',\n",
              " '\\x1b[K     |█████████████████████▏          | 9.2 MB 2.1 MB/s eta 0:00:03',\n",
              " '\\x1b[K     |█████████████████████▏          | 9.2 MB 2.1 MB/s eta 0:00:03',\n",
              " '\\x1b[K     |█████████████████████▏          | 9.3 MB 2.1 MB/s eta 0:00:03',\n",
              " '\\x1b[K     |█████████████████████▏          | 9.3 MB 2.1 MB/s eta 0:00:03',\n",
              " '\\x1b[K     |█████████████████████▎          | 9.3 MB 2.1 MB/s eta 0:00:03',\n",
              " '\\x1b[K     |█████████████████████▎          | 9.3 MB 2.1 MB/s eta 0:00:03',\n",
              " '\\x1b[K     |█████████████████████▎          | 9.3 MB 2.1 MB/s eta 0:00:03',\n",
              " '\\x1b[K     |█████████████████████▎          | 9.3 MB 2.1 MB/s eta 0:00:03',\n",
              " '\\x1b[K     |█████████████████████▎          | 9.3 MB 2.1 MB/s eta 0:00:03',\n",
              " '\\x1b[K     |█████████████████████▍          | 9.3 MB 2.1 MB/s eta 0:00:03',\n",
              " '\\x1b[K     |█████████████████████▍          | 9.3 MB 2.1 MB/s eta 0:00:03',\n",
              " '\\x1b[K     |█████████████████████▍          | 9.3 MB 2.1 MB/s eta 0:00:03',\n",
              " '\\x1b[K     |█████████████████████▍          | 9.4 MB 2.1 MB/s eta 0:00:03',\n",
              " '\\x1b[K     |█████████████████████▍          | 9.4 MB 2.1 MB/s eta 0:00:03',\n",
              " '\\x1b[K     |█████████████████████▌          | 9.4 MB 2.1 MB/s eta 0:00:03',\n",
              " '\\x1b[K     |█████████████████████▌          | 9.4 MB 2.1 MB/s eta 0:00:03',\n",
              " '\\x1b[K     |█████████████████████▌          | 9.4 MB 2.1 MB/s eta 0:00:03',\n",
              " '\\x1b[K     |█████████████████████▌          | 9.4 MB 2.1 MB/s eta 0:00:03',\n",
              " '\\x1b[K     |█████████████████████▋          | 9.4 MB 2.1 MB/s eta 0:00:03',\n",
              " '\\x1b[K     |█████████████████████▋          | 9.4 MB 2.1 MB/s eta 0:00:03',\n",
              " '\\x1b[K     |█████████████████████▋          | 9.4 MB 2.1 MB/s eta 0:00:03',\n",
              " '\\x1b[K     |█████████████████████▋          | 9.5 MB 2.1 MB/s eta 0:00:03',\n",
              " '\\x1b[K     |█████████████████████▋          | 9.5 MB 2.1 MB/s eta 0:00:03',\n",
              " '\\x1b[K     |█████████████████████▊          | 9.5 MB 2.1 MB/s eta 0:00:03',\n",
              " '\\x1b[K     |█████████████████████▊          | 9.5 MB 2.1 MB/s eta 0:00:03',\n",
              " '\\x1b[K     |█████████████████████▊          | 9.5 MB 2.1 MB/s eta 0:00:03',\n",
              " '\\x1b[K     |█████████████████████▊          | 9.5 MB 2.1 MB/s eta 0:00:03',\n",
              " '\\x1b[K     |█████████████████████▊          | 9.5 MB 2.1 MB/s eta 0:00:03',\n",
              " '\\x1b[K     |█████████████████████▉          | 9.5 MB 2.1 MB/s eta 0:00:03',\n",
              " '\\x1b[K     |█████████████████████▉          | 9.5 MB 2.1 MB/s eta 0:00:03',\n",
              " '\\x1b[K     |█████████████████████▉          | 9.5 MB 2.1 MB/s eta 0:00:03',\n",
              " '\\x1b[K     |█████████████████████▉          | 9.6 MB 2.1 MB/s eta 0:00:03',\n",
              " '\\x1b[K     |█████████████████████▉          | 9.6 MB 2.1 MB/s eta 0:00:03',\n",
              " '\\x1b[K     |██████████████████████          | 9.6 MB 2.1 MB/s eta 0:00:03',\n",
              " '\\x1b[K     |██████████████████████          | 9.6 MB 2.1 MB/s eta 0:00:03',\n",
              " '\\x1b[K     |██████████████████████          | 9.6 MB 2.1 MB/s eta 0:00:03',\n",
              " '\\x1b[K     |██████████████████████          | 9.6 MB 2.1 MB/s eta 0:00:03',\n",
              " '\\x1b[K     |██████████████████████          | 9.6 MB 2.1 MB/s eta 0:00:03',\n",
              " '\\x1b[K     |██████████████████████          | 9.6 MB 2.1 MB/s eta 0:00:03',\n",
              " '\\x1b[K     |██████████████████████          | 9.6 MB 2.1 MB/s eta 0:00:03',\n",
              " '\\x1b[K     |██████████████████████          | 9.6 MB 2.1 MB/s eta 0:00:03',\n",
              " '\\x1b[K     |██████████████████████          | 9.7 MB 2.1 MB/s eta 0:00:03',\n",
              " '\\x1b[K     |██████████████████████▏         | 9.7 MB 2.1 MB/s eta 0:00:03',\n",
              " '\\x1b[K     |██████████████████████▏         | 9.7 MB 2.1 MB/s eta 0:00:03',\n",
              " '\\x1b[K     |██████████████████████▏         | 9.7 MB 2.1 MB/s eta 0:00:03',\n",
              " '\\x1b[K     |██████████████████████▏         | 9.7 MB 2.1 MB/s eta 0:00:03',\n",
              " '\\x1b[K     |██████████████████████▏         | 9.7 MB 2.1 MB/s eta 0:00:03',\n",
              " '\\x1b[K     |██████████████████████▎         | 9.7 MB 2.1 MB/s eta 0:00:03',\n",
              " '\\x1b[K     |██████████████████████▎         | 9.7 MB 2.1 MB/s eta 0:00:02',\n",
              " '\\x1b[K     |██████████████████████▎         | 9.7 MB 2.1 MB/s eta 0:00:02',\n",
              " '\\x1b[K     |██████████████████████▎         | 9.7 MB 2.1 MB/s eta 0:00:02',\n",
              " '\\x1b[K     |██████████████████████▍         | 9.8 MB 2.1 MB/s eta 0:00:02',\n",
              " '\\x1b[K     |██████████████████████▍         | 9.8 MB 2.1 MB/s eta 0:00:02',\n",
              " '\\x1b[K     |██████████████████████▍         | 9.8 MB 2.1 MB/s eta 0:00:02',\n",
              " '\\x1b[K     |██████████████████████▍         | 9.8 MB 2.1 MB/s eta 0:00:02',\n",
              " '\\x1b[K     |██████████████████████▍         | 9.8 MB 2.1 MB/s eta 0:00:02',\n",
              " '\\x1b[K     |██████████████████████▌         | 9.8 MB 2.1 MB/s eta 0:00:02',\n",
              " '\\x1b[K     |██████████████████████▌         | 9.8 MB 2.1 MB/s eta 0:00:02',\n",
              " '\\x1b[K     |██████████████████████▌         | 9.8 MB 2.1 MB/s eta 0:00:02',\n",
              " '\\x1b[K     |██████████████████████▌         | 9.8 MB 2.1 MB/s eta 0:00:02',\n",
              " '\\x1b[K     |██████████████████████▌         | 9.9 MB 2.1 MB/s eta 0:00:02',\n",
              " '\\x1b[K     |██████████████████████▋         | 9.9 MB 2.1 MB/s eta 0:00:02',\n",
              " '\\x1b[K     |██████████████████████▋         | 9.9 MB 2.1 MB/s eta 0:00:02',\n",
              " '\\x1b[K     |██████████████████████▋         | 9.9 MB 2.1 MB/s eta 0:00:02',\n",
              " '\\x1b[K     |██████████████████████▋         | 9.9 MB 2.1 MB/s eta 0:00:02',\n",
              " '\\x1b[K     |██████████████████████▋         | 9.9 MB 2.1 MB/s eta 0:00:02',\n",
              " '\\x1b[K     |██████████████████████▊         | 9.9 MB 2.1 MB/s eta 0:00:02',\n",
              " '\\x1b[K     |██████████████████████▊         | 9.9 MB 2.1 MB/s eta 0:00:02',\n",
              " '\\x1b[K     |██████████████████████▊         | 9.9 MB 2.1 MB/s eta 0:00:02',\n",
              " '\\x1b[K     |██████████████████████▊         | 9.9 MB 2.1 MB/s eta 0:00:02',\n",
              " '\\x1b[K     |██████████████████████▉         | 10.0 MB 2.1 MB/s eta 0:00:02',\n",
              " '\\x1b[K     |██████████████████████▉         | 10.0 MB 2.1 MB/s eta 0:00:02',\n",
              " '\\x1b[K     |██████████████████████▉         | 10.0 MB 2.1 MB/s eta 0:00:02',\n",
              " '\\x1b[K     |██████████████████████▉         | 10.0 MB 2.1 MB/s eta 0:00:02',\n",
              " '\\x1b[K     |██████████████████████▉         | 10.0 MB 2.1 MB/s eta 0:00:02',\n",
              " '\\x1b[K     |███████████████████████         | 10.0 MB 2.1 MB/s eta 0:00:02',\n",
              " '\\x1b[K     |███████████████████████         | 10.0 MB 2.1 MB/s eta 0:00:02',\n",
              " '\\x1b[K     |███████████████████████         | 10.0 MB 2.1 MB/s eta 0:00:02',\n",
              " '\\x1b[K     |███████████████████████         | 10.0 MB 2.1 MB/s eta 0:00:02',\n",
              " '\\x1b[K     |███████████████████████         | 10.0 MB 2.1 MB/s eta 0:00:02',\n",
              " '\\x1b[K     |███████████████████████         | 10.1 MB 2.1 MB/s eta 0:00:02',\n",
              " '\\x1b[K     |███████████████████████         | 10.1 MB 2.1 MB/s eta 0:00:02',\n",
              " '\\x1b[K     |███████████████████████         | 10.1 MB 2.1 MB/s eta 0:00:02',\n",
              " '\\x1b[K     |███████████████████████         | 10.1 MB 2.1 MB/s eta 0:00:02',\n",
              " '\\x1b[K     |███████████████████████         | 10.1 MB 2.1 MB/s eta 0:00:02',\n",
              " '\\x1b[K     |███████████████████████▏        | 10.1 MB 2.1 MB/s eta 0:00:02',\n",
              " '\\x1b[K     |███████████████████████▏        | 10.1 MB 2.1 MB/s eta 0:00:02',\n",
              " '\\x1b[K     |███████████████████████▏        | 10.1 MB 2.1 MB/s eta 0:00:02',\n",
              " '\\x1b[K     |███████████████████████▏        | 10.1 MB 2.1 MB/s eta 0:00:02',\n",
              " '\\x1b[K     |███████████████████████▎        | 10.1 MB 2.1 MB/s eta 0:00:02',\n",
              " '\\x1b[K     |███████████████████████▎        | 10.2 MB 2.1 MB/s eta 0:00:02',\n",
              " '\\x1b[K     |███████████████████████▎        | 10.2 MB 2.1 MB/s eta 0:00:02',\n",
              " '\\x1b[K     |███████████████████████▎        | 10.2 MB 2.1 MB/s eta 0:00:02',\n",
              " '\\x1b[K     |███████████████████████▎        | 10.2 MB 2.1 MB/s eta 0:00:02',\n",
              " '\\x1b[K     |███████████████████████▍        | 10.2 MB 2.1 MB/s eta 0:00:02',\n",
              " '\\x1b[K     |███████████████████████▍        | 10.2 MB 2.1 MB/s eta 0:00:02',\n",
              " ...]"
            ]
          },
          "metadata": {},
          "execution_count": 17
        }
      ]
    },
    {
      "cell_type": "code",
      "metadata": {
        "colab": {
          "base_uri": "https://localhost:8080/"
        },
        "id": "RRAlVmjjyQQz",
        "outputId": "aeb30f14-0087-4e2a-e41a-090b8b99962a"
      },
      "source": [
        "import es_core_news_sm\n",
        "nlp = es_core_news_sm.load()\n",
        "doc = nlp(\"Yo amo Python.\")\n",
        "words = [token.text for token in doc]\n",
        "words"
      ],
      "execution_count": 18,
      "outputs": [
        {
          "output_type": "execute_result",
          "data": {
            "text/plain": [
              "['Yo', 'amo', 'Python', '.']"
            ]
          },
          "metadata": {},
          "execution_count": 18
        }
      ]
    },
    {
      "cell_type": "markdown",
      "metadata": {
        "id": "JcAKiAJ92Ol_"
      },
      "source": [
        "## Partes de etiquetado del discurso"
      ]
    },
    {
      "cell_type": "markdown",
      "metadata": {
        "id": "NculID9O2eHA"
      },
      "source": [
        "En muchos casos, el procesamiento de PNL depende de determinar las partes del habla de las palabras en el texto. Por ejemplo, en la clasificación de oraciones, a veces usamos las partes del habla de las palabras como una característica que se introduce en el clasificador. "
      ]
    },
    {
      "cell_type": "code",
      "metadata": {
        "colab": {
          "base_uri": "https://localhost:8080/"
        },
        "id": "HBTL2FTE2Uf4",
        "outputId": "e83e4c9c-ff6a-46be-db57-366c35e6e647"
      },
      "source": [
        "# Importamos el paquete\n",
        "import spacy\n",
        "import es_core_news_sm\n",
        "# Cargamos el texto\n",
        "filename = \"codigo.txt\"\n",
        "file = open(filename, \"r\", encoding=\"utf-8\")\n",
        "text = file.read()\n",
        "# Preprocesamiento del texto\n",
        "text = text.replace(\"\\n\", \" \")\n",
        "# Iniciamos el motor Spacy\n",
        "nlp = es_core_news_sm.load()\n",
        "# Procesamos el texto\n",
        "doc = nlp(text)\n",
        "# Lista de tuplas con palabras y partes del etiquetado de voz\n",
        "words = [token.text for token in doc]\n",
        "pos = [token.pos_ for token in doc]\n",
        "word_pos_tuples = list(zip(words, pos))\n",
        "word_pos_tuples\n"
      ],
      "execution_count": 19,
      "outputs": [
        {
          "output_type": "execute_result",
          "data": {
            "text/plain": [
              "[('Las', 'DET'),\n",
              " ('ventajas', 'NOUN'),\n",
              " ('de', 'ADP'),\n",
              " ('la', 'DET'),\n",
              " ('programación', 'NOUN'),\n",
              " ('van', 'VERB'),\n",
              " ('más', 'ADV'),\n",
              " ('allá', 'ADV'),\n",
              " ('del', 'ADP'),\n",
              " (' ', 'SPACE'),\n",
              " ('entorno', 'NOUN'),\n",
              " ('laboral', 'ADJ'),\n",
              " ('.', 'PUNCT'),\n",
              " ('La', 'DET'),\n",
              " ('enseñanza', 'NOUN'),\n",
              " ('de', 'ADP'),\n",
              " ('esta', 'DET'),\n",
              " ('disciplina', 'NOUN'),\n",
              " (' ', 'SPACE'),\n",
              " ('fomenta', 'VERB'),\n",
              " ('el', 'DET'),\n",
              " ('pensamiento', 'NOUN'),\n",
              " ('computacional', 'ADJ'),\n",
              " ('.', 'PUNCT'),\n",
              " ('Este', 'DET'),\n",
              " ('proceso', 'NOUN'),\n",
              " (' ', 'SPACE'),\n",
              " ('de', 'ADP'),\n",
              " ('razonamiento', 'NOUN'),\n",
              " ('estructura', 'NOUN'),\n",
              " ('la', 'DET'),\n",
              " ('mente', 'NOUN'),\n",
              " ('y', 'CCONJ'),\n",
              " ('ordena', 'VERB'),\n",
              " ('las', 'DET'),\n",
              " ('ideas', 'NOUN'),\n",
              " ('.', 'PUNCT'),\n",
              " (' ', 'SPACE'),\n",
              " ('“', 'NOUN'),\n",
              " ('Te', 'PRON'),\n",
              " ('permite', 'VERB'),\n",
              " ('dividir', 'VERB'),\n",
              " ('un', 'DET'),\n",
              " ('problema', 'NOUN'),\n",
              " ('grande', 'ADJ'),\n",
              " ('en', 'ADP'),\n",
              " ('problemas', 'NOUN'),\n",
              " (' ', 'SPACE'),\n",
              " ('más', 'ADV'),\n",
              " ('pequeños', 'ADJ'),\n",
              " ('”', 'PUNCT'),\n",
              " (',', 'PUNCT'),\n",
              " ('explica', 'VERB'),\n",
              " ('García', 'PROPN'),\n",
              " ('.', 'PUNCT')]"
            ]
          },
          "metadata": {},
          "execution_count": 19
        }
      ]
    },
    {
      "cell_type": "markdown",
      "metadata": {
        "id": "zvQNzvK8kShM"
      },
      "source": [
        "## Stemming de palabras"
      ]
    },
    {
      "cell_type": "code",
      "metadata": {
        "id": "6_rrGk59kO6J"
      },
      "source": [
        "# Importamos Snowball Stemmer\n",
        "from nltk.stem.snowball import SnowballStemmer"
      ],
      "execution_count": 20,
      "outputs": []
    },
    {
      "cell_type": "code",
      "metadata": {
        "id": "87MucaZ1kp3p"
      },
      "source": [
        "# Inicializamos el \"stemmer\" con inglés.\n",
        "stemmer = SnowballStemmer('english')"
      ],
      "execution_count": 21,
      "outputs": []
    },
    {
      "cell_type": "code",
      "metadata": {
        "id": "rHw8UEVokxah"
      },
      "source": [
        "# Creamos una lista con palabras para stem:\n",
        "words = ['leaf', 'leaves', 'booking', 'writing',\n",
        " 'completed', 'stemming', 'skies']"
      ],
      "execution_count": 22,
      "outputs": []
    },
    {
      "cell_type": "code",
      "metadata": {
        "colab": {
          "base_uri": "https://localhost:8080/"
        },
        "id": "e1wJpnJBkxjB",
        "outputId": "144f5ac1-8a56-4303-94d5-e6fdcd3c0630"
      },
      "source": [
        "# Stem las palabas\n",
        "stemmed_words = [stemmer.stem(word) for word in words]\n",
        "stemmed_words"
      ],
      "execution_count": 23,
      "outputs": [
        {
          "output_type": "execute_result",
          "data": {
            "text/plain": [
              "['leaf', 'leav', 'book', 'write', 'complet', 'stem', 'sky']"
            ]
          },
          "metadata": {},
          "execution_count": 23
        }
      ]
    },
    {
      "cell_type": "markdown",
      "metadata": {
        "id": "KkFvpB9llF-7"
      },
      "source": [
        "Probamos con español"
      ]
    },
    {
      "cell_type": "code",
      "metadata": {
        "colab": {
          "base_uri": "https://localhost:8080/"
        },
        "id": "cF3YS7D1lEjc",
        "outputId": "c26ea503-60f9-49ea-d654-b3cf0acc18fe"
      },
      "source": [
        "stemmer = SnowballStemmer('spanish')\n",
        "spanish_words = ['caminando', 'amigo', 'bueno']\n",
        "stemmed_words = [stemmer.stem(word) for word in spanish_words]\n",
        "stemmed_words"
      ],
      "execution_count": 24,
      "outputs": [
        {
          "output_type": "execute_result",
          "data": {
            "text/plain": [
              "['camin', 'amig', 'buen']"
            ]
          },
          "metadata": {},
          "execution_count": 24
        }
      ]
    },
    {
      "cell_type": "markdown",
      "metadata": {
        "id": "-zj3OANMm10-"
      },
      "source": [
        "## Combinación de palabras similares - lemmatización"
      ]
    },
    {
      "cell_type": "code",
      "metadata": {
        "colab": {
          "base_uri": "https://localhost:8080/"
        },
        "id": "QGQk44GlnkBO",
        "outputId": "7464a5a8-48ee-46f9-df89-c06fb5225384"
      },
      "source": [
        " nltk.download('wordnet')"
      ],
      "execution_count": 25,
      "outputs": [
        {
          "output_type": "stream",
          "name": "stdout",
          "text": [
            "[nltk_data] Downloading package wordnet to /root/nltk_data...\n",
            "[nltk_data]   Package wordnet is already up-to-date!\n"
          ]
        },
        {
          "output_type": "execute_result",
          "data": {
            "text/plain": [
              "True"
            ]
          },
          "metadata": {},
          "execution_count": 25
        }
      ]
    },
    {
      "cell_type": "code",
      "metadata": {
        "id": "YG5TKwD-m9t5"
      },
      "source": [
        "# Importamos NLTK WordNet lemmatizer:\n",
        "from nltk.stem import WordNetLemmatizer"
      ],
      "execution_count": 26,
      "outputs": []
    },
    {
      "cell_type": "code",
      "metadata": {
        "id": "VFZ7Lgr-nOvr"
      },
      "source": [
        "# Iniciamos el lemmatizer:\n",
        "lemmatizer = WordNetLemmatizer()"
      ],
      "execution_count": 27,
      "outputs": []
    },
    {
      "cell_type": "code",
      "metadata": {
        "id": "cp1T_R9bnUTv"
      },
      "source": [
        "# Creamos una lista de palabras para lemmatizar\n",
        "words = ['duck', 'geese', 'cats', 'books']"
      ],
      "execution_count": 28,
      "outputs": []
    },
    {
      "cell_type": "code",
      "metadata": {
        "colab": {
          "base_uri": "https://localhost:8080/"
        },
        "id": "1uZXAurwnaGB",
        "outputId": "dc021f45-58bf-4ad2-9f55-a31d03370285"
      },
      "source": [
        "# Lemmatizamos las palabras\n",
        "lemmatized_words = [lemmatizer.lemmatize(word) for word in words]\n",
        "lemmatized_words"
      ],
      "execution_count": 29,
      "outputs": [
        {
          "output_type": "execute_result",
          "data": {
            "text/plain": [
              "['duck', 'goose', 'cat', 'book']"
            ]
          },
          "metadata": {},
          "execution_count": 29
        }
      ]
    },
    {
      "cell_type": "markdown",
      "metadata": {
        "id": "OPhRAQYDn8yp"
      },
      "source": [
        "La función lemmatize tiene un parámetro, pos (para partes del habla), que se establece como sustantivo por defecto. Si desea lemmatizar un verbo o un adjetivo, debe especificarlo explícitamente:"
      ]
    },
    {
      "cell_type": "code",
      "metadata": {
        "colab": {
          "base_uri": "https://localhost:8080/",
          "height": 35
        },
        "id": "OPhlpbgSoESz",
        "outputId": "fd62bea9-66ec-48be-ff3b-226cdd821f7e"
      },
      "source": [
        "lemmatizer.lemmatize('loved', 'v')"
      ],
      "execution_count": 30,
      "outputs": [
        {
          "output_type": "execute_result",
          "data": {
            "application/vnd.google.colaboratory.intrinsic+json": {
              "type": "string"
            },
            "text/plain": [
              "'love'"
            ]
          },
          "metadata": {},
          "execution_count": 30
        }
      ]
    },
    {
      "cell_type": "code",
      "metadata": {
        "id": "NODDIFfUoMvD",
        "colab": {
          "base_uri": "https://localhost:8080/",
          "height": 35
        },
        "outputId": "bec0d303-4b39-4a5a-8f57-a2191247f5a1"
      },
      "source": [
        " lemmatizer.lemmatize('worse', 'a')"
      ],
      "execution_count": 31,
      "outputs": [
        {
          "output_type": "execute_result",
          "data": {
            "application/vnd.google.colaboratory.intrinsic+json": {
              "type": "string"
            },
            "text/plain": [
              "'bad'"
            ]
          },
          "metadata": {},
          "execution_count": 31
        }
      ]
    },
    {
      "cell_type": "markdown",
      "metadata": {
        "id": "XNP12wsDJuec"
      },
      "source": [
        "## Eliminar stopwords"
      ]
    },
    {
      "cell_type": "code",
      "metadata": {
        "id": "Do_Kcb7kJ24q"
      },
      "source": [
        "# Importamos paquetes\n",
        "import csv\n",
        "import nltk"
      ],
      "execution_count": 32,
      "outputs": []
    },
    {
      "cell_type": "code",
      "metadata": {
        "colab": {
          "base_uri": "https://localhost:8080/"
        },
        "id": "Az_sCBcFL-tr",
        "outputId": "e0eb15c7-13a3-42b8-8dca-65c0cdd28a10"
      },
      "source": [
        "nltk.download('stopwords')"
      ],
      "execution_count": 33,
      "outputs": [
        {
          "output_type": "stream",
          "name": "stdout",
          "text": [
            "[nltk_data] Downloading package stopwords to /root/nltk_data...\n",
            "[nltk_data]   Package stopwords is already up-to-date!\n"
          ]
        },
        {
          "output_type": "execute_result",
          "data": {
            "text/plain": [
              "True"
            ]
          },
          "metadata": {},
          "execution_count": 33
        }
      ]
    },
    {
      "cell_type": "code",
      "metadata": {
        "id": "Z2P5XMCgKGFS"
      },
      "source": [
        "# Lista predeterminada de NLTK:\n",
        "stopwords = nltk.corpus.stopwords.words('english')"
      ],
      "execution_count": 34,
      "outputs": []
    },
    {
      "cell_type": "code",
      "metadata": {
        "colab": {
          "base_uri": "https://localhost:8080/"
        },
        "id": "tU4I25BZMD7d",
        "outputId": "8ffb1968-45bf-466e-9a84-b70f7a713e9d"
      },
      "source": [
        "# Lectura del texto\n",
        "filename = \"coding.txt\"\n",
        "file = open(filename, \"r\", encoding=\"utf-8\")\n",
        "text = file.read()\n",
        "text = text.replace(\"\\n\", \" \")\n",
        "# Tokenizar el texto\n",
        "words = nltk.tokenize.word_tokenize(text)\n",
        "# Eliminamos los stopwords\n",
        "words_2 = [word for word in words if word.lower() not in stopwords]\n",
        "print(\"Texto completo: \")\n",
        "print(words)\n",
        "print()\n",
        "print(\"Texto sin stopwords: \")\n",
        "print(words_2)"
      ],
      "execution_count": 35,
      "outputs": [
        {
          "output_type": "stream",
          "name": "stdout",
          "text": [
            "Texto completo: \n",
            "['Put', 'simply', ',', 'Coding', 'is', 'the', 'a', 'method', 'of', 'communicating', 'with', 'a', 'computer', '.', 'It', 'is', 'using', 'a', 'language', 'that', 'a', 'computer', 'understands', 'to', 'give', 'a', 'computer', 'instructions', 'in', 'order', 'to', 'perform', 'specific', 'functions', '.', 'Coding', 'allows', 'us', 'to', 'create', 'things', 'such', 'as', 'computer', 'software', ',', 'websites', ',', 'apps', 'and', 'video', 'games', '.']\n",
            "\n",
            "Texto sin stopwords: \n",
            "['Put', 'simply', ',', 'Coding', 'method', 'communicating', 'computer', '.', 'using', 'language', 'computer', 'understands', 'give', 'computer', 'instructions', 'order', 'perform', 'specific', 'functions', '.', 'Coding', 'allows', 'us', 'create', 'things', 'computer', 'software', ',', 'websites', ',', 'apps', 'video', 'games', '.']\n"
          ]
        }
      ]
    },
    {
      "cell_type": "markdown",
      "metadata": {
        "id": "f4FtC0BlNWfR"
      },
      "source": [
        "**Y en español**"
      ]
    },
    {
      "cell_type": "code",
      "metadata": {
        "colab": {
          "base_uri": "https://localhost:8080/"
        },
        "id": "_79gjxTcNbom",
        "outputId": "60f34ce7-0d48-40bb-c1ab-8815c989e243"
      },
      "source": [
        "# Lista predeterminada de NLTK:\n",
        "stopwords = nltk.corpus.stopwords.words('spanish')\n",
        "# Lectura del texto\n",
        "filename = \"codigo.txt\"\n",
        "file = open(filename, \"r\", encoding=\"utf-8\")\n",
        "text = file.read()\n",
        "text = text.replace(\"\\n\", \" \")\n",
        "# Tokenizar el texto\n",
        "words = nltk.tokenize.word_tokenize(text)\n",
        "# Eliminamos los stopwords\n",
        "words_2 = [word for word in words if word.lower() not in stopwords]\n",
        "print(\"Texto completo: \")\n",
        "print(words)\n",
        "print()\n",
        "print(\"Texto sin stopwords: \")\n",
        "print(words_2)\n"
      ],
      "execution_count": 36,
      "outputs": [
        {
          "output_type": "stream",
          "name": "stdout",
          "text": [
            "Texto completo: \n",
            "['Las', 'ventajas', 'de', 'la', 'programación', 'van', 'más', 'allá', 'del', 'entorno', 'laboral', '.', 'La', 'enseñanza', 'de', 'esta', 'disciplina', 'fomenta', 'el', 'pensamiento', 'computacional', '.', 'Este', 'proceso', 'de', 'razonamiento', 'estructura', 'la', 'mente', 'y', 'ordena', 'las', 'ideas', '.', '“', 'Te', 'permite', 'dividir', 'un', 'problema', 'grande', 'en', 'problemas', 'más', 'pequeños', '”', ',', 'explica', 'García', '.']\n",
            "\n",
            "Texto sin stopwords: \n",
            "['ventajas', 'programación', 'van', 'allá', 'entorno', 'laboral', '.', 'enseñanza', 'disciplina', 'fomenta', 'pensamiento', 'computacional', '.', 'proceso', 'razonamiento', 'estructura', 'mente', 'ordena', 'ideas', '.', '“', 'permite', 'dividir', 'problema', 'grande', 'problemas', 'pequeños', '”', ',', 'explica', 'García', '.']\n"
          ]
        }
      ]
    },
    {
      "cell_type": "markdown",
      "metadata": {
        "id": "0aHLp4_aPTPX"
      },
      "source": [
        "**Bonus**\n",
        "\n",
        "También podemos compilar una lista de palabras clave usando el texto con el que estamos trabajando y calculando las frecuencias de las palabras en él."
      ]
    },
    {
      "cell_type": "code",
      "metadata": {
        "id": "vofT9yjKPV4c"
      },
      "source": [
        "# Importamos el módulo ntlk y la clase FreqDist\n",
        "import nltk\n",
        "from nltk.probability import FreqDist"
      ],
      "execution_count": 37,
      "outputs": []
    },
    {
      "cell_type": "markdown",
      "metadata": {
        "id": "7l4qmMvgUBnX"
      },
      "source": [
        "Cree el objeto de distribución de frecuencia y utilícelo para crear una lista de tuplas donde el primer elemento es la palabra y el segundo es el conteo de frecuencia:"
      ]
    },
    {
      "cell_type": "code",
      "metadata": {
        "id": "f1BcbooaUBDm"
      },
      "source": [
        "freq_dist = FreqDist(word.lower() for word in words)\n",
        "words_with_frequencies = [(word, freq_dist[word]) for word in freq_dist.keys()]"
      ],
      "execution_count": 38,
      "outputs": []
    },
    {
      "cell_type": "code",
      "metadata": {
        "colab": {
          "base_uri": "https://localhost:8080/"
        },
        "id": "4Ol8vKclUH94",
        "outputId": "6a378185-643c-40fe-b5bc-06f72987e928"
      },
      "source": [
        "# organizar la lista de tuplas por frecuencia\n",
        "sorted_words = sorted(words_with_frequencies, key=lambda tup: tup[1])\n",
        "sorted_words"
      ],
      "execution_count": 39,
      "outputs": [
        {
          "output_type": "execute_result",
          "data": {
            "text/plain": [
              "[('ventajas', 1),\n",
              " ('programación', 1),\n",
              " ('van', 1),\n",
              " ('allá', 1),\n",
              " ('del', 1),\n",
              " ('entorno', 1),\n",
              " ('laboral', 1),\n",
              " ('enseñanza', 1),\n",
              " ('esta', 1),\n",
              " ('disciplina', 1),\n",
              " ('fomenta', 1),\n",
              " ('el', 1),\n",
              " ('pensamiento', 1),\n",
              " ('computacional', 1),\n",
              " ('este', 1),\n",
              " ('proceso', 1),\n",
              " ('razonamiento', 1),\n",
              " ('estructura', 1),\n",
              " ('mente', 1),\n",
              " ('y', 1),\n",
              " ('ordena', 1),\n",
              " ('ideas', 1),\n",
              " ('“', 1),\n",
              " ('te', 1),\n",
              " ('permite', 1),\n",
              " ('dividir', 1),\n",
              " ('un', 1),\n",
              " ('problema', 1),\n",
              " ('grande', 1),\n",
              " ('en', 1),\n",
              " ('problemas', 1),\n",
              " ('pequeños', 1),\n",
              " ('”', 1),\n",
              " (',', 1),\n",
              " ('explica', 1),\n",
              " ('garcía', 1),\n",
              " ('las', 2),\n",
              " ('más', 2),\n",
              " ('de', 3),\n",
              " ('la', 3),\n",
              " ('.', 4)]"
            ]
          },
          "metadata": {},
          "execution_count": 39
        }
      ]
    },
    {
      "cell_type": "code",
      "metadata": {
        "colab": {
          "base_uri": "https://localhost:8080/"
        },
        "id": "osoeCqq4UWls",
        "outputId": "545791c3-094a-4d0e-950f-8c9012c03852"
      },
      "source": [
        "# Utilizamos un corte de frecuencia para las stopwords.\n",
        "# usamos 1 como frecuencia de corte:\n",
        "stopwords = [tuple[0] for tuple in sorted_words if tuple[1] > 1]\n",
        "stopwords"
      ],
      "execution_count": 40,
      "outputs": [
        {
          "output_type": "execute_result",
          "data": {
            "text/plain": [
              "['las', 'más', 'de', 'la', '.']"
            ]
          },
          "metadata": {},
          "execution_count": 40
        }
      ]
    },
    {
      "cell_type": "code",
      "metadata": {
        "colab": {
          "base_uri": "https://localhost:8080/"
        },
        "id": "Xn06AtNOVAXM",
        "outputId": "a8a7d3ce-2754-4b73-9a84-1a155504c119"
      },
      "source": [
        "# Otra opción: usar n% de palabras más frecuentes\n",
        "length_cutoff = int(0.1*len(sorted_words))\n",
        "stopwords = [tuple[0] for tuple in sorted_words[-length_cutoff:]]\n",
        "stopwords"
      ],
      "execution_count": 41,
      "outputs": [
        {
          "output_type": "execute_result",
          "data": {
            "text/plain": [
              "['más', 'de', 'la', '.']"
            ]
          },
          "metadata": {},
          "execution_count": 41
        }
      ]
    },
    {
      "cell_type": "markdown",
      "metadata": {
        "id": "lSP6f20jVYPE"
      },
      "source": [
        "# Jugando con la gramática"
      ]
    },
    {
      "cell_type": "markdown",
      "metadata": {
        "id": "GSLs1YzNWxDq"
      },
      "source": [
        "Vamos a usar diferentes paquetes para revelar la estructura gramatical de las palabras y oraciones, así como extraer ciertas partes de las oraciones."
      ]
    },
    {
      "cell_type": "code",
      "metadata": {
        "colab": {
          "base_uri": "https://localhost:8080/"
        },
        "id": "z1qrAAOQVbRv",
        "outputId": "cbcb7694-613a-4479-af40-584ce3e8913f"
      },
      "source": [
        "# Requerimientos\n",
        "!pip install inflect\n",
        "!python -m spacy download en_core_web_md\n",
        "!pip install textacy"
      ],
      "execution_count": 42,
      "outputs": [
        {
          "output_type": "stream",
          "name": "stdout",
          "text": [
            "Requirement already satisfied: inflect in /usr/local/lib/python3.7/dist-packages (2.1.0)\n",
            "Collecting en-core-web-md==3.2.0\n",
            "  Downloading https://github.com/explosion/spacy-models/releases/download/en_core_web_md-3.2.0/en_core_web_md-3.2.0-py3-none-any.whl (45.7 MB)\n",
            "\u001b[K     |████████████████████████████████| 45.7 MB 61 kB/s \n",
            "\u001b[?25hRequirement already satisfied: spacy<3.3.0,>=3.2.0 in /usr/local/lib/python3.7/dist-packages (from en-core-web-md==3.2.0) (3.2.0)\n",
            "Requirement already satisfied: spacy-legacy<3.1.0,>=3.0.8 in /usr/local/lib/python3.7/dist-packages (from spacy<3.3.0,>=3.2.0->en-core-web-md==3.2.0) (3.0.8)\n",
            "Requirement already satisfied: pydantic!=1.8,!=1.8.1,<1.9.0,>=1.7.4 in /usr/local/lib/python3.7/dist-packages (from spacy<3.3.0,>=3.2.0->en-core-web-md==3.2.0) (1.8.2)\n",
            "Requirement already satisfied: catalogue<2.1.0,>=2.0.6 in /usr/local/lib/python3.7/dist-packages (from spacy<3.3.0,>=3.2.0->en-core-web-md==3.2.0) (2.0.6)\n",
            "Requirement already satisfied: preshed<3.1.0,>=3.0.2 in /usr/local/lib/python3.7/dist-packages (from spacy<3.3.0,>=3.2.0->en-core-web-md==3.2.0) (3.0.6)\n",
            "Requirement already satisfied: murmurhash<1.1.0,>=0.28.0 in /usr/local/lib/python3.7/dist-packages (from spacy<3.3.0,>=3.2.0->en-core-web-md==3.2.0) (1.0.6)\n",
            "Requirement already satisfied: setuptools in /usr/local/lib/python3.7/dist-packages (from spacy<3.3.0,>=3.2.0->en-core-web-md==3.2.0) (57.4.0)\n",
            "Requirement already satisfied: blis<0.8.0,>=0.4.0 in /usr/local/lib/python3.7/dist-packages (from spacy<3.3.0,>=3.2.0->en-core-web-md==3.2.0) (0.4.1)\n",
            "Requirement already satisfied: tqdm<5.0.0,>=4.38.0 in /usr/local/lib/python3.7/dist-packages (from spacy<3.3.0,>=3.2.0->en-core-web-md==3.2.0) (4.62.3)\n",
            "Requirement already satisfied: thinc<8.1.0,>=8.0.12 in /usr/local/lib/python3.7/dist-packages (from spacy<3.3.0,>=3.2.0->en-core-web-md==3.2.0) (8.0.13)\n",
            "Requirement already satisfied: typing-extensions<4.0.0.0,>=3.7.4 in /usr/local/lib/python3.7/dist-packages (from spacy<3.3.0,>=3.2.0->en-core-web-md==3.2.0) (3.10.0.2)\n",
            "Requirement already satisfied: requests<3.0.0,>=2.13.0 in /usr/local/lib/python3.7/dist-packages (from spacy<3.3.0,>=3.2.0->en-core-web-md==3.2.0) (2.23.0)\n",
            "Requirement already satisfied: langcodes<4.0.0,>=3.2.0 in /usr/local/lib/python3.7/dist-packages (from spacy<3.3.0,>=3.2.0->en-core-web-md==3.2.0) (3.3.0)\n",
            "Requirement already satisfied: jinja2 in /usr/local/lib/python3.7/dist-packages (from spacy<3.3.0,>=3.2.0->en-core-web-md==3.2.0) (2.11.3)\n",
            "Requirement already satisfied: srsly<3.0.0,>=2.4.1 in /usr/local/lib/python3.7/dist-packages (from spacy<3.3.0,>=3.2.0->en-core-web-md==3.2.0) (2.4.2)\n",
            "Requirement already satisfied: numpy>=1.15.0 in /usr/local/lib/python3.7/dist-packages (from spacy<3.3.0,>=3.2.0->en-core-web-md==3.2.0) (1.19.5)\n",
            "Requirement already satisfied: typer<0.5.0,>=0.3.0 in /usr/local/lib/python3.7/dist-packages (from spacy<3.3.0,>=3.2.0->en-core-web-md==3.2.0) (0.4.0)\n",
            "Requirement already satisfied: cymem<2.1.0,>=2.0.2 in /usr/local/lib/python3.7/dist-packages (from spacy<3.3.0,>=3.2.0->en-core-web-md==3.2.0) (2.0.6)\n",
            "Requirement already satisfied: packaging>=20.0 in /usr/local/lib/python3.7/dist-packages (from spacy<3.3.0,>=3.2.0->en-core-web-md==3.2.0) (21.3)\n",
            "Requirement already satisfied: spacy-loggers<2.0.0,>=1.0.0 in /usr/local/lib/python3.7/dist-packages (from spacy<3.3.0,>=3.2.0->en-core-web-md==3.2.0) (1.0.1)\n",
            "Requirement already satisfied: pathy>=0.3.5 in /usr/local/lib/python3.7/dist-packages (from spacy<3.3.0,>=3.2.0->en-core-web-md==3.2.0) (0.6.1)\n",
            "Requirement already satisfied: wasabi<1.1.0,>=0.8.1 in /usr/local/lib/python3.7/dist-packages (from spacy<3.3.0,>=3.2.0->en-core-web-md==3.2.0) (0.8.2)\n",
            "Requirement already satisfied: zipp>=0.5 in /usr/local/lib/python3.7/dist-packages (from catalogue<2.1.0,>=2.0.6->spacy<3.3.0,>=3.2.0->en-core-web-md==3.2.0) (3.6.0)\n",
            "Requirement already satisfied: pyparsing!=3.0.5,>=2.0.2 in /usr/local/lib/python3.7/dist-packages (from packaging>=20.0->spacy<3.3.0,>=3.2.0->en-core-web-md==3.2.0) (3.0.6)\n",
            "Requirement already satisfied: smart-open<6.0.0,>=5.0.0 in /usr/local/lib/python3.7/dist-packages (from pathy>=0.3.5->spacy<3.3.0,>=3.2.0->en-core-web-md==3.2.0) (5.2.1)\n",
            "Requirement already satisfied: idna<3,>=2.5 in /usr/local/lib/python3.7/dist-packages (from requests<3.0.0,>=2.13.0->spacy<3.3.0,>=3.2.0->en-core-web-md==3.2.0) (2.10)\n",
            "Requirement already satisfied: certifi>=2017.4.17 in /usr/local/lib/python3.7/dist-packages (from requests<3.0.0,>=2.13.0->spacy<3.3.0,>=3.2.0->en-core-web-md==3.2.0) (2021.10.8)\n",
            "Requirement already satisfied: urllib3!=1.25.0,!=1.25.1,<1.26,>=1.21.1 in /usr/local/lib/python3.7/dist-packages (from requests<3.0.0,>=2.13.0->spacy<3.3.0,>=3.2.0->en-core-web-md==3.2.0) (1.25.11)\n",
            "Requirement already satisfied: chardet<4,>=3.0.2 in /usr/local/lib/python3.7/dist-packages (from requests<3.0.0,>=2.13.0->spacy<3.3.0,>=3.2.0->en-core-web-md==3.2.0) (3.0.4)\n",
            "Requirement already satisfied: click<9.0.0,>=7.1.1 in /usr/local/lib/python3.7/dist-packages (from typer<0.5.0,>=0.3.0->spacy<3.3.0,>=3.2.0->en-core-web-md==3.2.0) (7.1.2)\n",
            "Requirement already satisfied: MarkupSafe>=0.23 in /usr/local/lib/python3.7/dist-packages (from jinja2->spacy<3.3.0,>=3.2.0->en-core-web-md==3.2.0) (2.0.1)\n",
            "Installing collected packages: en-core-web-md\n",
            "  Attempting uninstall: en-core-web-md\n",
            "    Found existing installation: en-core-web-md 2.2.5\n",
            "    Uninstalling en-core-web-md-2.2.5:\n",
            "      Successfully uninstalled en-core-web-md-2.2.5\n",
            "Successfully installed en-core-web-md-3.2.0\n",
            "\u001b[38;5;2m✔ Download and installation successful\u001b[0m\n",
            "You can now load the package via spacy.load('en_core_web_md')\n",
            "Requirement already satisfied: textacy in /usr/local/lib/python3.7/dist-packages (0.11.0)\n",
            "Requirement already satisfied: pyphen>=0.10.0 in /usr/local/lib/python3.7/dist-packages (from textacy) (0.11.0)\n",
            "Requirement already satisfied: numpy>=1.17.0 in /usr/local/lib/python3.7/dist-packages (from textacy) (1.19.5)\n",
            "Requirement already satisfied: scipy>=0.17.0 in /usr/local/lib/python3.7/dist-packages (from textacy) (1.4.1)\n",
            "Requirement already satisfied: spacy>=3.0.0 in /usr/local/lib/python3.7/dist-packages (from textacy) (3.2.0)\n",
            "Requirement already satisfied: joblib>=0.13.0 in /usr/local/lib/python3.7/dist-packages (from textacy) (1.1.0)\n",
            "Requirement already satisfied: cachetools>=4.0.0 in /usr/local/lib/python3.7/dist-packages (from textacy) (4.2.4)\n",
            "Requirement already satisfied: requests>=2.10.0 in /usr/local/lib/python3.7/dist-packages (from textacy) (2.23.0)\n",
            "Requirement already satisfied: networkx>=2.0 in /usr/local/lib/python3.7/dist-packages (from textacy) (2.6.3)\n",
            "Requirement already satisfied: jellyfish>=0.8.0 in /usr/local/lib/python3.7/dist-packages (from textacy) (0.8.9)\n",
            "Requirement already satisfied: cytoolz>=0.10.1 in /usr/local/lib/python3.7/dist-packages (from textacy) (0.11.2)\n",
            "Requirement already satisfied: scikit-learn>=0.19.0 in /usr/local/lib/python3.7/dist-packages (from textacy) (1.0.1)\n",
            "Requirement already satisfied: tqdm>=4.19.6 in /usr/local/lib/python3.7/dist-packages (from textacy) (4.62.3)\n",
            "Requirement already satisfied: toolz>=0.8.0 in /usr/local/lib/python3.7/dist-packages (from cytoolz>=0.10.1->textacy) (0.11.2)\n",
            "Requirement already satisfied: idna<3,>=2.5 in /usr/local/lib/python3.7/dist-packages (from requests>=2.10.0->textacy) (2.10)\n",
            "Requirement already satisfied: certifi>=2017.4.17 in /usr/local/lib/python3.7/dist-packages (from requests>=2.10.0->textacy) (2021.10.8)\n",
            "Requirement already satisfied: chardet<4,>=3.0.2 in /usr/local/lib/python3.7/dist-packages (from requests>=2.10.0->textacy) (3.0.4)\n",
            "Requirement already satisfied: urllib3!=1.25.0,!=1.25.1,<1.26,>=1.21.1 in /usr/local/lib/python3.7/dist-packages (from requests>=2.10.0->textacy) (1.25.11)\n",
            "Requirement already satisfied: threadpoolctl>=2.0.0 in /usr/local/lib/python3.7/dist-packages (from scikit-learn>=0.19.0->textacy) (3.0.0)\n",
            "Requirement already satisfied: jinja2 in /usr/local/lib/python3.7/dist-packages (from spacy>=3.0.0->textacy) (2.11.3)\n",
            "Requirement already satisfied: pydantic!=1.8,!=1.8.1,<1.9.0,>=1.7.4 in /usr/local/lib/python3.7/dist-packages (from spacy>=3.0.0->textacy) (1.8.2)\n",
            "Requirement already satisfied: spacy-legacy<3.1.0,>=3.0.8 in /usr/local/lib/python3.7/dist-packages (from spacy>=3.0.0->textacy) (3.0.8)\n",
            "Requirement already satisfied: blis<0.8.0,>=0.4.0 in /usr/local/lib/python3.7/dist-packages (from spacy>=3.0.0->textacy) (0.4.1)\n",
            "Requirement already satisfied: cymem<2.1.0,>=2.0.2 in /usr/local/lib/python3.7/dist-packages (from spacy>=3.0.0->textacy) (2.0.6)\n",
            "Requirement already satisfied: preshed<3.1.0,>=3.0.2 in /usr/local/lib/python3.7/dist-packages (from spacy>=3.0.0->textacy) (3.0.6)\n",
            "Requirement already satisfied: murmurhash<1.1.0,>=0.28.0 in /usr/local/lib/python3.7/dist-packages (from spacy>=3.0.0->textacy) (1.0.6)\n",
            "Requirement already satisfied: thinc<8.1.0,>=8.0.12 in /usr/local/lib/python3.7/dist-packages (from spacy>=3.0.0->textacy) (8.0.13)\n",
            "Requirement already satisfied: typing-extensions<4.0.0.0,>=3.7.4 in /usr/local/lib/python3.7/dist-packages (from spacy>=3.0.0->textacy) (3.10.0.2)\n",
            "Requirement already satisfied: typer<0.5.0,>=0.3.0 in /usr/local/lib/python3.7/dist-packages (from spacy>=3.0.0->textacy) (0.4.0)\n",
            "Requirement already satisfied: packaging>=20.0 in /usr/local/lib/python3.7/dist-packages (from spacy>=3.0.0->textacy) (21.3)\n",
            "Requirement already satisfied: catalogue<2.1.0,>=2.0.6 in /usr/local/lib/python3.7/dist-packages (from spacy>=3.0.0->textacy) (2.0.6)\n",
            "Requirement already satisfied: spacy-loggers<2.0.0,>=1.0.0 in /usr/local/lib/python3.7/dist-packages (from spacy>=3.0.0->textacy) (1.0.1)\n",
            "Requirement already satisfied: setuptools in /usr/local/lib/python3.7/dist-packages (from spacy>=3.0.0->textacy) (57.4.0)\n",
            "Requirement already satisfied: langcodes<4.0.0,>=3.2.0 in /usr/local/lib/python3.7/dist-packages (from spacy>=3.0.0->textacy) (3.3.0)\n",
            "Requirement already satisfied: pathy>=0.3.5 in /usr/local/lib/python3.7/dist-packages (from spacy>=3.0.0->textacy) (0.6.1)\n",
            "Requirement already satisfied: wasabi<1.1.0,>=0.8.1 in /usr/local/lib/python3.7/dist-packages (from spacy>=3.0.0->textacy) (0.8.2)\n",
            "Requirement already satisfied: srsly<3.0.0,>=2.4.1 in /usr/local/lib/python3.7/dist-packages (from spacy>=3.0.0->textacy) (2.4.2)\n",
            "Requirement already satisfied: zipp>=0.5 in /usr/local/lib/python3.7/dist-packages (from catalogue<2.1.0,>=2.0.6->spacy>=3.0.0->textacy) (3.6.0)\n",
            "Requirement already satisfied: pyparsing!=3.0.5,>=2.0.2 in /usr/local/lib/python3.7/dist-packages (from packaging>=20.0->spacy>=3.0.0->textacy) (3.0.6)\n",
            "Requirement already satisfied: smart-open<6.0.0,>=5.0.0 in /usr/local/lib/python3.7/dist-packages (from pathy>=0.3.5->spacy>=3.0.0->textacy) (5.2.1)\n",
            "Requirement already satisfied: click<9.0.0,>=7.1.1 in /usr/local/lib/python3.7/dist-packages (from typer<0.5.0,>=0.3.0->spacy>=3.0.0->textacy) (7.1.2)\n",
            "Requirement already satisfied: MarkupSafe>=0.23 in /usr/local/lib/python3.7/dist-packages (from jinja2->spacy>=3.0.0->textacy) (2.0.1)\n"
          ]
        }
      ]
    },
    {
      "cell_type": "code",
      "metadata": {
        "colab": {
          "base_uri": "https://localhost:8080/"
        },
        "id": "tfFigwfBYPgu",
        "outputId": "f7b3207b-acbe-4200-f336-43f2485c7f73"
      },
      "source": [
        "# Para referencias de búsqueda\n",
        "!pip install neuralcoref"
      ],
      "execution_count": 43,
      "outputs": [
        {
          "output_type": "stream",
          "name": "stdout",
          "text": [
            "Requirement already satisfied: neuralcoref in /usr/local/lib/python3.7/dist-packages (4.0)\n",
            "Requirement already satisfied: requests<3.0.0,>=2.13.0 in /usr/local/lib/python3.7/dist-packages (from neuralcoref) (2.23.0)\n",
            "Requirement already satisfied: spacy>=2.1.0 in /usr/local/lib/python3.7/dist-packages (from neuralcoref) (3.2.0)\n",
            "Requirement already satisfied: numpy>=1.15.0 in /usr/local/lib/python3.7/dist-packages (from neuralcoref) (1.19.5)\n",
            "Requirement already satisfied: boto3 in /usr/local/lib/python3.7/dist-packages (from neuralcoref) (1.20.21)\n",
            "Requirement already satisfied: chardet<4,>=3.0.2 in /usr/local/lib/python3.7/dist-packages (from requests<3.0.0,>=2.13.0->neuralcoref) (3.0.4)\n",
            "Requirement already satisfied: certifi>=2017.4.17 in /usr/local/lib/python3.7/dist-packages (from requests<3.0.0,>=2.13.0->neuralcoref) (2021.10.8)\n",
            "Requirement already satisfied: idna<3,>=2.5 in /usr/local/lib/python3.7/dist-packages (from requests<3.0.0,>=2.13.0->neuralcoref) (2.10)\n",
            "Requirement already satisfied: urllib3!=1.25.0,!=1.25.1,<1.26,>=1.21.1 in /usr/local/lib/python3.7/dist-packages (from requests<3.0.0,>=2.13.0->neuralcoref) (1.25.11)\n",
            "Requirement already satisfied: langcodes<4.0.0,>=3.2.0 in /usr/local/lib/python3.7/dist-packages (from spacy>=2.1.0->neuralcoref) (3.3.0)\n",
            "Requirement already satisfied: setuptools in /usr/local/lib/python3.7/dist-packages (from spacy>=2.1.0->neuralcoref) (57.4.0)\n",
            "Requirement already satisfied: blis<0.8.0,>=0.4.0 in /usr/local/lib/python3.7/dist-packages (from spacy>=2.1.0->neuralcoref) (0.4.1)\n",
            "Requirement already satisfied: packaging>=20.0 in /usr/local/lib/python3.7/dist-packages (from spacy>=2.1.0->neuralcoref) (21.3)\n",
            "Requirement already satisfied: tqdm<5.0.0,>=4.38.0 in /usr/local/lib/python3.7/dist-packages (from spacy>=2.1.0->neuralcoref) (4.62.3)\n",
            "Requirement already satisfied: typing-extensions<4.0.0.0,>=3.7.4 in /usr/local/lib/python3.7/dist-packages (from spacy>=2.1.0->neuralcoref) (3.10.0.2)\n",
            "Requirement already satisfied: catalogue<2.1.0,>=2.0.6 in /usr/local/lib/python3.7/dist-packages (from spacy>=2.1.0->neuralcoref) (2.0.6)\n",
            "Requirement already satisfied: pydantic!=1.8,!=1.8.1,<1.9.0,>=1.7.4 in /usr/local/lib/python3.7/dist-packages (from spacy>=2.1.0->neuralcoref) (1.8.2)\n",
            "Requirement already satisfied: spacy-legacy<3.1.0,>=3.0.8 in /usr/local/lib/python3.7/dist-packages (from spacy>=2.1.0->neuralcoref) (3.0.8)\n",
            "Requirement already satisfied: cymem<2.1.0,>=2.0.2 in /usr/local/lib/python3.7/dist-packages (from spacy>=2.1.0->neuralcoref) (2.0.6)\n",
            "Requirement already satisfied: wasabi<1.1.0,>=0.8.1 in /usr/local/lib/python3.7/dist-packages (from spacy>=2.1.0->neuralcoref) (0.8.2)\n",
            "Requirement already satisfied: jinja2 in /usr/local/lib/python3.7/dist-packages (from spacy>=2.1.0->neuralcoref) (2.11.3)\n",
            "Requirement already satisfied: srsly<3.0.0,>=2.4.1 in /usr/local/lib/python3.7/dist-packages (from spacy>=2.1.0->neuralcoref) (2.4.2)\n",
            "Requirement already satisfied: typer<0.5.0,>=0.3.0 in /usr/local/lib/python3.7/dist-packages (from spacy>=2.1.0->neuralcoref) (0.4.0)\n",
            "Requirement already satisfied: spacy-loggers<2.0.0,>=1.0.0 in /usr/local/lib/python3.7/dist-packages (from spacy>=2.1.0->neuralcoref) (1.0.1)\n",
            "Requirement already satisfied: pathy>=0.3.5 in /usr/local/lib/python3.7/dist-packages (from spacy>=2.1.0->neuralcoref) (0.6.1)\n",
            "Requirement already satisfied: murmurhash<1.1.0,>=0.28.0 in /usr/local/lib/python3.7/dist-packages (from spacy>=2.1.0->neuralcoref) (1.0.6)\n",
            "Requirement already satisfied: thinc<8.1.0,>=8.0.12 in /usr/local/lib/python3.7/dist-packages (from spacy>=2.1.0->neuralcoref) (8.0.13)\n",
            "Requirement already satisfied: preshed<3.1.0,>=3.0.2 in /usr/local/lib/python3.7/dist-packages (from spacy>=2.1.0->neuralcoref) (3.0.6)\n",
            "Requirement already satisfied: zipp>=0.5 in /usr/local/lib/python3.7/dist-packages (from catalogue<2.1.0,>=2.0.6->spacy>=2.1.0->neuralcoref) (3.6.0)\n",
            "Requirement already satisfied: pyparsing!=3.0.5,>=2.0.2 in /usr/local/lib/python3.7/dist-packages (from packaging>=20.0->spacy>=2.1.0->neuralcoref) (3.0.6)\n",
            "Requirement already satisfied: smart-open<6.0.0,>=5.0.0 in /usr/local/lib/python3.7/dist-packages (from pathy>=0.3.5->spacy>=2.1.0->neuralcoref) (5.2.1)\n",
            "Requirement already satisfied: click<9.0.0,>=7.1.1 in /usr/local/lib/python3.7/dist-packages (from typer<0.5.0,>=0.3.0->spacy>=2.1.0->neuralcoref) (7.1.2)\n",
            "Requirement already satisfied: jmespath<1.0.0,>=0.7.1 in /usr/local/lib/python3.7/dist-packages (from boto3->neuralcoref) (0.10.0)\n",
            "Requirement already satisfied: s3transfer<0.6.0,>=0.5.0 in /usr/local/lib/python3.7/dist-packages (from boto3->neuralcoref) (0.5.0)\n",
            "Requirement already satisfied: botocore<1.24.0,>=1.23.21 in /usr/local/lib/python3.7/dist-packages (from boto3->neuralcoref) (1.23.21)\n",
            "Requirement already satisfied: python-dateutil<3.0.0,>=2.1 in /usr/local/lib/python3.7/dist-packages (from botocore<1.24.0,>=1.23.21->boto3->neuralcoref) (2.8.2)\n",
            "Requirement already satisfied: six>=1.5 in /usr/local/lib/python3.7/dist-packages (from python-dateutil<3.0.0,>=2.1->botocore<1.24.0,>=1.23.21->boto3->neuralcoref) (1.15.0)\n",
            "Requirement already satisfied: MarkupSafe>=0.23 in /usr/local/lib/python3.7/dist-packages (from jinja2->spacy>=2.1.0->neuralcoref) (2.0.1)\n"
          ]
        }
      ]
    },
    {
      "cell_type": "markdown",
      "metadata": {
        "id": "3-Fv9gfgY5DZ"
      },
      "source": [
        "## Contando sustantivos (plurales y singulares)"
      ]
    },
    {
      "cell_type": "code",
      "metadata": {
        "id": "y5JkXHdRY0jz"
      },
      "source": [
        "# importamos los módulos necesarios\n",
        "import nltk\n",
        "from nltk.stem import WordNetLemmatizer\n",
        "import inflect"
      ],
      "execution_count": 45,
      "outputs": []
    },
    {
      "cell_type": "code",
      "metadata": {
        "colab": {
          "base_uri": "https://localhost:8080/"
        },
        "id": "Gj8ZrgoyhU31",
        "outputId": "4be22156-96ab-45fa-91a2-b88f234ef8b6"
      },
      "source": [
        "nltk.download('averaged_perceptron_tagger')"
      ],
      "execution_count": 58,
      "outputs": [
        {
          "output_type": "stream",
          "name": "stdout",
          "text": [
            "[nltk_data] Downloading package averaged_perceptron_tagger to\n",
            "[nltk_data]     /root/nltk_data...\n",
            "[nltk_data]   Unzipping taggers/averaged_perceptron_tagger.zip.\n"
          ]
        },
        {
          "output_type": "execute_result",
          "data": {
            "text/plain": [
              "True"
            ]
          },
          "metadata": {},
          "execution_count": 58
        }
      ]
    },
    {
      "cell_type": "code",
      "metadata": {
        "id": "pWasXWn3dfyB"
      },
      "source": [
        "# Cargamos el texto\n",
        "filename = \"coding.txt\"\n",
        "file = open(filename, \"r\", encoding=\"utf-8\")\n",
        "text = file.read()"
      ],
      "execution_count": 53,
      "outputs": []
    },
    {
      "cell_type": "code",
      "metadata": {
        "id": "6gJT3vj1dQi8"
      },
      "source": [
        "# Creamos las funciones:\n",
        "\n",
        "tokenizer = nltk.data.load(\"tokenizers/punkt/english.pickle\")\n",
        "\n",
        "def read_text_file(filename):\n",
        "    file = open(filename, \"r\", encoding=\"utf-8\") \n",
        "    return file.read()\n",
        "\n",
        "def preprocess_text(text):\n",
        "    text = text.replace(\"\\n\", \" \")\n",
        "    return text\n",
        "\n",
        "def divide_into_sentences_nltk(text):\n",
        "    sentences = tokenizer.tokenize(text)\n",
        "    return sentences\n",
        "\n",
        "def tokenize_nltk(text):\n",
        "    return nltk.tokenize.word_tokenize(text)\n",
        "\n",
        "def pos_tag_nltk(text):\n",
        "    words = tokenize_nltk(text)\n",
        "    words_with_pos = nltk.pos_tag(words)\n",
        "    return words_with_pos"
      ],
      "execution_count": 56,
      "outputs": []
    },
    {
      "cell_type": "code",
      "metadata": {
        "colab": {
          "base_uri": "https://localhost:8080/"
        },
        "id": "vbFFqwdked7j",
        "outputId": "00aea857-431b-4818-b66c-26893f149a5b"
      },
      "source": [
        "words_with_pos = pos_tag_nltk(text)\n",
        "print(words_with_pos)"
      ],
      "execution_count": 63,
      "outputs": [
        {
          "output_type": "stream",
          "name": "stdout",
          "text": [
            "[('Put', 'VB'), ('simply', 'RB'), (',', ','), ('Coding', 'NNP'), ('is', 'VBZ'), ('the', 'DT'), ('a', 'DT'), ('method', 'NN'), ('of', 'IN'), ('communicating', 'VBG'), ('with', 'IN'), ('a', 'DT'), ('computer', 'NN'), ('.', '.'), ('It', 'PRP'), ('is', 'VBZ'), ('using', 'VBG'), ('a', 'DT'), ('language', 'NN'), ('that', 'IN'), ('a', 'DT'), ('computer', 'NN'), ('understands', 'VBZ'), ('to', 'TO'), ('give', 'VB'), ('a', 'DT'), ('computer', 'NN'), ('instructions', 'NNS'), ('in', 'IN'), ('order', 'NN'), ('to', 'TO'), ('perform', 'VB'), ('specific', 'JJ'), ('functions', 'NNS'), ('.', '.'), ('Coding', 'VBG'), ('allows', 'VBZ'), ('us', 'PRP'), ('to', 'TO'), ('create', 'VB'), ('things', 'NNS'), ('such', 'JJ'), ('as', 'IN'), ('computer', 'NN'), ('software', 'NN'), (',', ','), ('websites', 'VBZ'), (',', ','), ('apps', 'NN'), ('and', 'CC'), ('video', 'NN'), ('games', 'NNS'), ('.', '.')]\n"
          ]
        }
      ]
    },
    {
      "cell_type": "code",
      "metadata": {
        "id": "eJcRuOIthjtT"
      },
      "source": [
        "# Filtramos los sustantivos con la siguiente función:\n",
        "def get_nouns(words_with_pos):\n",
        " noun_set = [\"NN\", \"NNS\"]\n",
        " nouns = [word for word in words_with_pos if \n",
        " word[1] in noun_set]\n",
        " return nouns"
      ],
      "execution_count": 64,
      "outputs": []
    },
    {
      "cell_type": "code",
      "metadata": {
        "colab": {
          "base_uri": "https://localhost:8080/"
        },
        "id": "BcWMvmjmiHJB",
        "outputId": "bf00c179-36cb-4d22-f386-0baf825e5bed"
      },
      "source": [
        "# imprimimos el resultado\n",
        "nouns = get_nouns(words_with_pos)\n",
        "print(nouns)"
      ],
      "execution_count": 65,
      "outputs": [
        {
          "output_type": "stream",
          "name": "stdout",
          "text": [
            "[('method', 'NN'), ('computer', 'NN'), ('language', 'NN'), ('computer', 'NN'), ('computer', 'NN'), ('instructions', 'NNS'), ('order', 'NN'), ('functions', 'NNS'), ('things', 'NNS'), ('computer', 'NN'), ('software', 'NN'), ('apps', 'NN'), ('video', 'NN'), ('games', 'NNS')]\n"
          ]
        }
      ]
    },
    {
      "cell_type": "markdown",
      "metadata": {
        "id": "UHZWvpGNicGM"
      },
      "source": [
        "Determinamos cuáles son prulares y singulares\n"
      ]
    },
    {
      "cell_type": "code",
      "metadata": {
        "id": "P3TnKUKpigse"
      },
      "source": [
        "# Primera opción\n",
        "def is_plural_nltk(noun_info):\n",
        " pos = noun_info[1]\n",
        " if (pos == \"NNS\"):\n",
        "   return True\n",
        " else:\n",
        "   return False\n",
        "\n",
        "# Segunda opción\n",
        "def is_plural_wn(noun):\n",
        "  wnl = WordNetLemmatizer()\n",
        "  lemma = wnl.lemmatize(noun, 'n')\n",
        "  plural = True if noun is not lemma else False\n",
        "  return plural"
      ],
      "execution_count": 68,
      "outputs": []
    },
    {
      "cell_type": "code",
      "metadata": {
        "id": "N62pfY7Ii_nB"
      },
      "source": [
        "# Cambiamos de sustantivos singulares a plurales\n",
        "def get_plural(singular_noun):\n",
        "  p = inflect.engine()\n",
        "  return p.plural(singular_noun)\n",
        "# Cambiamos los sustantivos plurales a singualres\n",
        "def get_singular(plural_noun):\n",
        " p = inflect.engine()\n",
        " plural = p.singular_noun(plural_noun)\n",
        " if (plural):\n",
        "   return plural\n",
        " else:\n",
        "   return plural_noun"
      ],
      "execution_count": 69,
      "outputs": []
    },
    {
      "cell_type": "code",
      "metadata": {
        "id": "h8EaUF6WktBx"
      },
      "source": [
        "# determinar si el sustantivo es plural\n",
        "def plurals_wn(words_with_pos):\n",
        "  other_nouns = []\n",
        "  for noun_info in words_with_pos:\n",
        "    word = noun_info[0]\n",
        "    plural = is_plural_wn(word)\n",
        "    if (plural):\n",
        "      singular = get_singular(word)\n",
        "      other_nouns.append(singular)\n",
        "    else:\n",
        "      plural = get_plural(word)\n",
        "      other_nouns.append(plural)\n",
        "  return other_nouns"
      ],
      "execution_count": 72,
      "outputs": []
    },
    {
      "cell_type": "code",
      "metadata": {
        "colab": {
          "base_uri": "https://localhost:8080/"
        },
        "id": "T3GDEz19lo1b",
        "outputId": "4eec3ed6-6621-4fc4-f8d8-4878c8e38bfe"
      },
      "source": [
        "# Cambiamos la lista\n",
        "other_nouns_wn = plurals_wn(nouns)\n",
        "print(nouns)\n",
        "print()\n",
        "print(other_nouns_wn)"
      ],
      "execution_count": 74,
      "outputs": [
        {
          "output_type": "stream",
          "name": "stdout",
          "text": [
            "[('method', 'NN'), ('computer', 'NN'), ('language', 'NN'), ('computer', 'NN'), ('computer', 'NN'), ('instructions', 'NNS'), ('order', 'NN'), ('functions', 'NNS'), ('things', 'NNS'), ('computer', 'NN'), ('software', 'NN'), ('apps', 'NN'), ('video', 'NN'), ('games', 'NNS')]\n",
            "\n",
            "['methods', 'computers', 'languages', 'computers', 'computers', 'instruction', 'orders', 'function', 'thing', 'computers', 'softwares', 'app', 'videos', 'game']\n"
          ]
        }
      ]
    },
    {
      "cell_type": "markdown",
      "metadata": {
        "id": "NIx_J6iimYOv"
      },
      "source": [
        "**Probemos con español**"
      ]
    },
    {
      "cell_type": "code",
      "metadata": {
        "id": "NEnc83hImXj7"
      },
      "source": [
        "# Importamos el paquete\n",
        "import spacy\n",
        "import es_core_news_sm\n",
        "# Cargamos el texto\n",
        "filename = \"codigo.txt\"\n",
        "file = open(filename, \"r\", encoding=\"utf-8\")\n",
        "text = file.read()\n",
        "# Preprocesamiento del texto\n",
        "text = text.replace(\"\\n\", \" \")\n",
        "# Iniciamos el motor Spacy\n",
        "nlp = es_core_news_sm.load()\n",
        "# Procesamos el texto\n",
        "doc = nlp(text)\n",
        "# Lista de tuplas con palabras y partes del etiquetado de voz\n",
        "words = [token.text for token in doc]\n",
        "pos = [token.pos_ for token in doc]\n",
        "word_pos_tuples = list(zip(words, pos))\n",
        "\n",
        "\n"
      ],
      "execution_count": 85,
      "outputs": []
    },
    {
      "cell_type": "code",
      "metadata": {
        "colab": {
          "base_uri": "https://localhost:8080/"
        },
        "id": "5ESYMXjXAoTG",
        "outputId": "a1531615-48f0-495c-a94e-05c80ecd5f38"
      },
      "source": [
        "# imprimimos el resultado\n",
        "nouns = get_nouns(word_pos_tuples)\n",
        "print(nouns)"
      ],
      "execution_count": 87,
      "outputs": [
        {
          "output_type": "stream",
          "name": "stdout",
          "text": [
            "[('ventajas', 'NOUN'), ('programación', 'NOUN'), ('entorno', 'NOUN'), ('enseñanza', 'NOUN'), ('disciplina', 'NOUN'), ('pensamiento', 'NOUN'), ('proceso', 'NOUN'), ('razonamiento', 'NOUN'), ('estructura', 'NOUN'), ('mente', 'NOUN'), ('ideas', 'NOUN'), ('“', 'NOUN'), ('problema', 'NOUN'), ('problemas', 'NOUN')]\n"
          ]
        }
      ]
    },
    {
      "cell_type": "markdown",
      "metadata": {
        "id": "mPgvvPnKDWAB"
      },
      "source": [
        "## Obteniendo el análisis de dependencia"
      ]
    },
    {
      "cell_type": "code",
      "metadata": {
        "id": "3gZqoUB8ENLy"
      },
      "source": [
        "# Importamos spacy\n",
        "import spacy"
      ],
      "execution_count": 88,
      "outputs": []
    },
    {
      "cell_type": "code",
      "metadata": {
        "id": "IsuJaKqmEhxu"
      },
      "source": [
        "# Definimos una oración\n",
        "sentence = 'I have seldom heard him mention her under any other name.'\n",
        "# cargamos el motor de spacy\n",
        "nlp = spacy.load('en_core_web_sm')\n",
        "# procesamos la oración\n",
        "doc = nlp(sentence)\n"
      ],
      "execution_count": 90,
      "outputs": []
    },
    {
      "cell_type": "markdown",
      "metadata": {
        "id": "tFIFGkshE6TL"
      },
      "source": [
        "La información de dependencias estará contenida en el objeto doc. Podemos ver las etiquetas de dependencias haciendo un bucle a través de los tokens en doc:"
      ]
    },
    {
      "cell_type": "code",
      "metadata": {
        "colab": {
          "base_uri": "https://localhost:8080/"
        },
        "id": "xSvl99AGE67J",
        "outputId": "6b51d12f-e0cc-4ac5-bdc9-addc2c948c8f"
      },
      "source": [
        "for token in doc:\n",
        " print(token.text, \"\\t\", token.dep_, \"\\t\",\n",
        " spacy.explain(token.dep_))"
      ],
      "execution_count": 91,
      "outputs": [
        {
          "output_type": "stream",
          "name": "stdout",
          "text": [
            "I \t nsubj \t nominal subject\n",
            "have \t aux \t auxiliary\n",
            "seldom \t advmod \t adverbial modifier\n",
            "heard \t ROOT \t None\n",
            "him \t nsubj \t nominal subject\n",
            "mention \t ccomp \t clausal complement\n",
            "her \t dobj \t direct object\n",
            "under \t prep \t prepositional modifier\n",
            "any \t det \t determiner\n",
            "other \t amod \t adjectival modifier\n",
            "name \t pobj \t object of preposition\n",
            ". \t punct \t punctuation\n"
          ]
        }
      ]
    },
    {
      "cell_type": "markdown",
      "metadata": {
        "id": "OwbI9Eu8FNFS"
      },
      "source": [
        "Para explorar la estructura de análisis de dependencias, podemos usar los atributos de la clase Token. Usando sus atributos ancestrales e hijos, podemos obtener los tokens de los que depende este token y los tokens que dependen de él, respectivamente. "
      ]
    },
    {
      "cell_type": "code",
      "metadata": {
        "colab": {
          "base_uri": "https://localhost:8080/"
        },
        "id": "NSr26WiwFPP_",
        "outputId": "ac2bea14-d0e1-44a7-b7ba-6b7bf472adf8"
      },
      "source": [
        "for token in doc:\n",
        " print(token.text)\n",
        " ancestors = [t.text for t in token.ancestors]\n",
        " print(ancestors)"
      ],
      "execution_count": 92,
      "outputs": [
        {
          "output_type": "stream",
          "name": "stdout",
          "text": [
            "I\n",
            "['heard']\n",
            "have\n",
            "['heard']\n",
            "seldom\n",
            "['heard']\n",
            "heard\n",
            "[]\n",
            "him\n",
            "['mention', 'heard']\n",
            "mention\n",
            "['heard']\n",
            "her\n",
            "['mention', 'heard']\n",
            "under\n",
            "['mention', 'heard']\n",
            "any\n",
            "['name', 'under', 'mention', 'heard']\n",
            "other\n",
            "['name', 'under', 'mention', 'heard']\n",
            "name\n",
            "['under', 'mention', 'heard']\n",
            ".\n",
            "['heard']\n"
          ]
        }
      ]
    },
    {
      "cell_type": "markdown",
      "metadata": {
        "id": "Ce8f5VqBFZgp"
      },
      "source": [
        "Para ver todos los tokens secundarios, use el siguiente código:"
      ]
    },
    {
      "cell_type": "code",
      "metadata": {
        "colab": {
          "base_uri": "https://localhost:8080/"
        },
        "id": "T2bpS-lOFZ9V",
        "outputId": "0af2ad67-613a-495a-a90f-778d617fb3ff"
      },
      "source": [
        "for token in doc:\n",
        " print(token.text)\n",
        " children = [t.text for t in token.children]\n",
        " print(children)"
      ],
      "execution_count": 93,
      "outputs": [
        {
          "output_type": "stream",
          "name": "stdout",
          "text": [
            "I\n",
            "[]\n",
            "have\n",
            "[]\n",
            "seldom\n",
            "[]\n",
            "heard\n",
            "['I', 'have', 'seldom', 'mention', '.']\n",
            "him\n",
            "[]\n",
            "mention\n",
            "['him', 'her', 'under']\n",
            "her\n",
            "[]\n",
            "under\n",
            "['name']\n",
            "any\n",
            "[]\n",
            "other\n",
            "[]\n",
            "name\n",
            "['any', 'other']\n",
            ".\n",
            "[]\n"
          ]
        }
      ]
    },
    {
      "cell_type": "markdown",
      "metadata": {
        "id": "ZgATY8rqFmuI"
      },
      "source": [
        "También podemos ver el subárbol en el que está el token:"
      ]
    },
    {
      "cell_type": "code",
      "metadata": {
        "colab": {
          "base_uri": "https://localhost:8080/"
        },
        "id": "NG9HfgGSFnK9",
        "outputId": "df6692fd-90bf-4bd8-db47-c7519a0afc53"
      },
      "source": [
        "for token in doc:\n",
        " print(token.text)\n",
        " subtree = [t.text for t in token.subtree]\n",
        " print(subtree)"
      ],
      "execution_count": 94,
      "outputs": [
        {
          "output_type": "stream",
          "name": "stdout",
          "text": [
            "I\n",
            "['I']\n",
            "have\n",
            "['have']\n",
            "seldom\n",
            "['seldom']\n",
            "heard\n",
            "['I', 'have', 'seldom', 'heard', 'him', 'mention', 'her', 'under', 'any', 'other', 'name', '.']\n",
            "him\n",
            "['him']\n",
            "mention\n",
            "['him', 'mention', 'her', 'under', 'any', 'other', 'name']\n",
            "her\n",
            "['her']\n",
            "under\n",
            "['under', 'any', 'other', 'name']\n",
            "any\n",
            "['any']\n",
            "other\n",
            "['other']\n",
            "name\n",
            "['any', 'other', 'name']\n",
            ".\n",
            "['.']\n"
          ]
        }
      ]
    },
    {
      "cell_type": "markdown",
      "metadata": {
        "id": "8KWuxR8dFvg6"
      },
      "source": [
        "**Intentemos en español**"
      ]
    },
    {
      "cell_type": "code",
      "metadata": {
        "colab": {
          "base_uri": "https://localhost:8080/"
        },
        "id": "zidfP6r6FzBO",
        "outputId": "7e4112c1-e907-4c67-88cf-5233ceebf1d8"
      },
      "source": [
        "import es_core_news_sm\n",
        "nlp = es_core_news_sm.load()\n",
        "# Definimos una oración\n",
        "sentence = \"Los ordenadores son inútiles. Sólo pueden darte respuestas\"\n",
        "# cargamos el motor de spacy\n",
        "nlp = spacy.load('es_core_news_sm')\n",
        "# procesamos la oración\n",
        "doc = nlp(sentence)"
      ],
      "execution_count": 98,
      "outputs": [
        {
          "output_type": "stream",
          "name": "stdout",
          "text": [
            "Los ordenadores son inútiles. Sólo pueden darte respuestas\n"
          ]
        }
      ]
    },
    {
      "cell_type": "code",
      "metadata": {
        "colab": {
          "base_uri": "https://localhost:8080/"
        },
        "id": "1YhBftOQGopk",
        "outputId": "5824585a-b11d-40cb-97b4-6263c943098b"
      },
      "source": [
        "for token in doc:\n",
        " print(token.text, \"\\t\", token.dep_, \"\\t\", spacy.explain(token.dep_))"
      ],
      "execution_count": 99,
      "outputs": [
        {
          "output_type": "stream",
          "name": "stdout",
          "text": [
            "Los \t det \t determiner\n",
            "ordenadores \t nsubj \t nominal subject\n",
            "son \t cop \t copula\n",
            "inútiles \t ROOT \t None\n",
            ". \t punct \t punctuation\n",
            "Sólo \t advmod \t adverbial modifier\n",
            "pueden \t aux \t auxiliary\n",
            "darte \t ROOT \t None\n",
            "respuestas \t nsubj \t nominal subject\n"
          ]
        }
      ]
    },
    {
      "cell_type": "code",
      "metadata": {
        "colab": {
          "base_uri": "https://localhost:8080/"
        },
        "id": "ZcIyUawEHN3S",
        "outputId": "4613eb41-2f7a-4630-9f89-5615691ac2db"
      },
      "source": [
        "for token in doc:\n",
        " print(token.text)\n",
        " ancestors = [t.text for t in token.ancestors]\n",
        " print(ancestors)"
      ],
      "execution_count": 100,
      "outputs": [
        {
          "output_type": "stream",
          "name": "stdout",
          "text": [
            "Los\n",
            "['ordenadores', 'inútiles']\n",
            "ordenadores\n",
            "['inútiles']\n",
            "son\n",
            "['inútiles']\n",
            "inútiles\n",
            "[]\n",
            ".\n",
            "['inútiles']\n",
            "Sólo\n",
            "['darte']\n",
            "pueden\n",
            "['darte']\n",
            "darte\n",
            "[]\n",
            "respuestas\n",
            "['darte']\n"
          ]
        }
      ]
    },
    {
      "cell_type": "code",
      "metadata": {
        "colab": {
          "base_uri": "https://localhost:8080/"
        },
        "id": "6NYxvEeEHZik",
        "outputId": "98970a88-d565-487b-ba5d-2d3b78fc55c0"
      },
      "source": [
        "for token in doc:\n",
        " print(token.text)\n",
        " subtree = [t.text for t in token.subtree]\n",
        " print(subtree)"
      ],
      "execution_count": 101,
      "outputs": [
        {
          "output_type": "stream",
          "name": "stdout",
          "text": [
            "Los\n",
            "['Los']\n",
            "ordenadores\n",
            "['Los', 'ordenadores']\n",
            "son\n",
            "['son']\n",
            "inútiles\n",
            "['Los', 'ordenadores', 'son', 'inútiles', '.']\n",
            ".\n",
            "['.']\n",
            "Sólo\n",
            "['Sólo']\n",
            "pueden\n",
            "['pueden']\n",
            "darte\n",
            "['Sólo', 'pueden', 'darte', 'respuestas']\n",
            "respuestas\n",
            "['respuestas']\n"
          ]
        }
      ]
    }
  ]
}