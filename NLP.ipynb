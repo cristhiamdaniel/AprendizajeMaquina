{
  "nbformat": 4,
  "nbformat_minor": 0,
  "metadata": {
    "colab": {
      "name": "NLP.ipynb",
      "provenance": [],
      "authorship_tag": "ABX9TyPyg5NurJkAsNOw88MnI7rh",
      "include_colab_link": true
    },
    "kernelspec": {
      "name": "python3",
      "display_name": "Python 3"
    },
    "language_info": {
      "name": "python"
    }
  },
  "cells": [
    {
      "cell_type": "markdown",
      "metadata": {
        "id": "view-in-github",
        "colab_type": "text"
      },
      "source": [
        "<a href=\"https://colab.research.google.com/github/cristhiamdaniel/AprendizajeMaquina/blob/main/NLP.ipynb\" target=\"_parent\"><img src=\"https://colab.research.google.com/assets/colab-badge.svg\" alt=\"Open In Colab\"/></a>"
      ]
    },
    {
      "cell_type": "markdown",
      "metadata": {
        "id": "CBoHGrNQlaRa"
      },
      "source": [
        "#Bases del PLN"
      ]
    },
    {
      "cell_type": "code",
      "metadata": {
        "id": "rVWSGsKZl0G1",
        "colab": {
          "base_uri": "https://localhost:8080/"
        },
        "outputId": "f086176d-c54e-4d5b-8b17-defa47879660"
      },
      "source": [
        "pip install nltk"
      ],
      "execution_count": 1,
      "outputs": [
        {
          "output_type": "stream",
          "name": "stdout",
          "text": [
            "Requirement already satisfied: nltk in /usr/local/lib/python3.7/dist-packages (3.2.5)\n",
            "Requirement already satisfied: six in /usr/local/lib/python3.7/dist-packages (from nltk) (1.15.0)\n"
          ]
        }
      ]
    },
    {
      "cell_type": "code",
      "metadata": {
        "id": "eXeGPTCXl5fK",
        "colab": {
          "base_uri": "https://localhost:8080/"
        },
        "outputId": "5d2d038f-c41f-44fd-9fbf-ff1a0890b27c"
      },
      "source": [
        "pip install spacy"
      ],
      "execution_count": 2,
      "outputs": [
        {
          "output_type": "stream",
          "name": "stdout",
          "text": [
            "Requirement already satisfied: spacy in /usr/local/lib/python3.7/dist-packages (2.2.4)\n",
            "Requirement already satisfied: numpy>=1.15.0 in /usr/local/lib/python3.7/dist-packages (from spacy) (1.19.5)\n",
            "Requirement already satisfied: plac<1.2.0,>=0.9.6 in /usr/local/lib/python3.7/dist-packages (from spacy) (1.1.3)\n",
            "Requirement already satisfied: blis<0.5.0,>=0.4.0 in /usr/local/lib/python3.7/dist-packages (from spacy) (0.4.1)\n",
            "Requirement already satisfied: wasabi<1.1.0,>=0.4.0 in /usr/local/lib/python3.7/dist-packages (from spacy) (0.8.2)\n",
            "Requirement already satisfied: setuptools in /usr/local/lib/python3.7/dist-packages (from spacy) (57.4.0)\n",
            "Requirement already satisfied: requests<3.0.0,>=2.13.0 in /usr/local/lib/python3.7/dist-packages (from spacy) (2.23.0)\n",
            "Requirement already satisfied: srsly<1.1.0,>=1.0.2 in /usr/local/lib/python3.7/dist-packages (from spacy) (1.0.5)\n",
            "Requirement already satisfied: murmurhash<1.1.0,>=0.28.0 in /usr/local/lib/python3.7/dist-packages (from spacy) (1.0.6)\n",
            "Requirement already satisfied: cymem<2.1.0,>=2.0.2 in /usr/local/lib/python3.7/dist-packages (from spacy) (2.0.6)\n",
            "Requirement already satisfied: thinc==7.4.0 in /usr/local/lib/python3.7/dist-packages (from spacy) (7.4.0)\n",
            "Requirement already satisfied: preshed<3.1.0,>=3.0.2 in /usr/local/lib/python3.7/dist-packages (from spacy) (3.0.6)\n",
            "Requirement already satisfied: catalogue<1.1.0,>=0.0.7 in /usr/local/lib/python3.7/dist-packages (from spacy) (1.0.0)\n",
            "Requirement already satisfied: tqdm<5.0.0,>=4.38.0 in /usr/local/lib/python3.7/dist-packages (from spacy) (4.62.3)\n",
            "Requirement already satisfied: importlib-metadata>=0.20 in /usr/local/lib/python3.7/dist-packages (from catalogue<1.1.0,>=0.0.7->spacy) (4.8.2)\n",
            "Requirement already satisfied: typing-extensions>=3.6.4 in /usr/local/lib/python3.7/dist-packages (from importlib-metadata>=0.20->catalogue<1.1.0,>=0.0.7->spacy) (3.10.0.2)\n",
            "Requirement already satisfied: zipp>=0.5 in /usr/local/lib/python3.7/dist-packages (from importlib-metadata>=0.20->catalogue<1.1.0,>=0.0.7->spacy) (3.6.0)\n",
            "Requirement already satisfied: idna<3,>=2.5 in /usr/local/lib/python3.7/dist-packages (from requests<3.0.0,>=2.13.0->spacy) (2.10)\n",
            "Requirement already satisfied: certifi>=2017.4.17 in /usr/local/lib/python3.7/dist-packages (from requests<3.0.0,>=2.13.0->spacy) (2021.10.8)\n",
            "Requirement already satisfied: urllib3!=1.25.0,!=1.25.1,<1.26,>=1.21.1 in /usr/local/lib/python3.7/dist-packages (from requests<3.0.0,>=2.13.0->spacy) (1.24.3)\n",
            "Requirement already satisfied: chardet<4,>=3.0.2 in /usr/local/lib/python3.7/dist-packages (from requests<3.0.0,>=2.13.0->spacy) (3.0.4)\n"
          ]
        }
      ]
    },
    {
      "cell_type": "code",
      "metadata": {
        "id": "YaAm8cCxl_z1",
        "colab": {
          "base_uri": "https://localhost:8080/"
        },
        "outputId": "f2d74426-d62a-4df6-b504-36e22044a03c"
      },
      "source": [
        "!python -m spacy download en_core_web_sm"
      ],
      "execution_count": 3,
      "outputs": [
        {
          "output_type": "stream",
          "name": "stdout",
          "text": [
            "Collecting en_core_web_sm==2.2.5\n",
            "  Downloading https://github.com/explosion/spacy-models/releases/download/en_core_web_sm-2.2.5/en_core_web_sm-2.2.5.tar.gz (12.0 MB)\n",
            "\u001b[K     |████████████████████████████████| 12.0 MB 14.2 MB/s \n",
            "\u001b[?25hRequirement already satisfied: spacy>=2.2.2 in /usr/local/lib/python3.7/dist-packages (from en_core_web_sm==2.2.5) (2.2.4)\n",
            "Requirement already satisfied: thinc==7.4.0 in /usr/local/lib/python3.7/dist-packages (from spacy>=2.2.2->en_core_web_sm==2.2.5) (7.4.0)\n",
            "Requirement already satisfied: murmurhash<1.1.0,>=0.28.0 in /usr/local/lib/python3.7/dist-packages (from spacy>=2.2.2->en_core_web_sm==2.2.5) (1.0.6)\n",
            "Requirement already satisfied: setuptools in /usr/local/lib/python3.7/dist-packages (from spacy>=2.2.2->en_core_web_sm==2.2.5) (57.4.0)\n",
            "Requirement already satisfied: srsly<1.1.0,>=1.0.2 in /usr/local/lib/python3.7/dist-packages (from spacy>=2.2.2->en_core_web_sm==2.2.5) (1.0.5)\n",
            "Requirement already satisfied: preshed<3.1.0,>=3.0.2 in /usr/local/lib/python3.7/dist-packages (from spacy>=2.2.2->en_core_web_sm==2.2.5) (3.0.6)\n",
            "Requirement already satisfied: catalogue<1.1.0,>=0.0.7 in /usr/local/lib/python3.7/dist-packages (from spacy>=2.2.2->en_core_web_sm==2.2.5) (1.0.0)\n",
            "Requirement already satisfied: plac<1.2.0,>=0.9.6 in /usr/local/lib/python3.7/dist-packages (from spacy>=2.2.2->en_core_web_sm==2.2.5) (1.1.3)\n",
            "Requirement already satisfied: blis<0.5.0,>=0.4.0 in /usr/local/lib/python3.7/dist-packages (from spacy>=2.2.2->en_core_web_sm==2.2.5) (0.4.1)\n",
            "Requirement already satisfied: wasabi<1.1.0,>=0.4.0 in /usr/local/lib/python3.7/dist-packages (from spacy>=2.2.2->en_core_web_sm==2.2.5) (0.8.2)\n",
            "Requirement already satisfied: tqdm<5.0.0,>=4.38.0 in /usr/local/lib/python3.7/dist-packages (from spacy>=2.2.2->en_core_web_sm==2.2.5) (4.62.3)\n",
            "Requirement already satisfied: numpy>=1.15.0 in /usr/local/lib/python3.7/dist-packages (from spacy>=2.2.2->en_core_web_sm==2.2.5) (1.19.5)\n",
            "Requirement already satisfied: requests<3.0.0,>=2.13.0 in /usr/local/lib/python3.7/dist-packages (from spacy>=2.2.2->en_core_web_sm==2.2.5) (2.23.0)\n",
            "Requirement already satisfied: cymem<2.1.0,>=2.0.2 in /usr/local/lib/python3.7/dist-packages (from spacy>=2.2.2->en_core_web_sm==2.2.5) (2.0.6)\n",
            "Requirement already satisfied: importlib-metadata>=0.20 in /usr/local/lib/python3.7/dist-packages (from catalogue<1.1.0,>=0.0.7->spacy>=2.2.2->en_core_web_sm==2.2.5) (4.8.2)\n",
            "Requirement already satisfied: typing-extensions>=3.6.4 in /usr/local/lib/python3.7/dist-packages (from importlib-metadata>=0.20->catalogue<1.1.0,>=0.0.7->spacy>=2.2.2->en_core_web_sm==2.2.5) (3.10.0.2)\n",
            "Requirement already satisfied: zipp>=0.5 in /usr/local/lib/python3.7/dist-packages (from importlib-metadata>=0.20->catalogue<1.1.0,>=0.0.7->spacy>=2.2.2->en_core_web_sm==2.2.5) (3.6.0)\n",
            "Requirement already satisfied: certifi>=2017.4.17 in /usr/local/lib/python3.7/dist-packages (from requests<3.0.0,>=2.13.0->spacy>=2.2.2->en_core_web_sm==2.2.5) (2021.10.8)\n",
            "Requirement already satisfied: chardet<4,>=3.0.2 in /usr/local/lib/python3.7/dist-packages (from requests<3.0.0,>=2.13.0->spacy>=2.2.2->en_core_web_sm==2.2.5) (3.0.4)\n",
            "Requirement already satisfied: urllib3!=1.25.0,!=1.25.1,<1.26,>=1.21.1 in /usr/local/lib/python3.7/dist-packages (from requests<3.0.0,>=2.13.0->spacy>=2.2.2->en_core_web_sm==2.2.5) (1.24.3)\n",
            "Requirement already satisfied: idna<3,>=2.5 in /usr/local/lib/python3.7/dist-packages (from requests<3.0.0,>=2.13.0->spacy>=2.2.2->en_core_web_sm==2.2.5) (2.10)\n",
            "\u001b[38;5;2m✔ Download and installation successful\u001b[0m\n",
            "You can now load the model via spacy.load('en_core_web_sm')\n"
          ]
        }
      ]
    },
    {
      "cell_type": "markdown",
      "metadata": {
        "id": "0tts8ge_lnsX"
      },
      "source": [
        "## Diviendo el texto en oraciones."
      ]
    },
    {
      "cell_type": "markdown",
      "metadata": {
        "id": "i2DsD-oamkhx"
      },
      "source": [
        "Cuando trabajamos con texto, podemos trabajar con unidades de texto en diferentes escalas: podemos trabajar a nivel del propio documento, como un artículo de periódico, el párrafo, la oración o la palabra. Las oraciones son la unidad principal de procesamiento en muchas tareas de la PNL"
      ]
    },
    {
      "cell_type": "code",
      "metadata": {
        "colab": {
          "base_uri": "https://localhost:8080/"
        },
        "id": "UDLCLC42nOHJ",
        "outputId": "96c82e76-7c16-4b5b-8f16-cac1f6e8ed41"
      },
      "source": [
        "import nltk\n",
        "nltk.download('punkt')"
      ],
      "execution_count": 4,
      "outputs": [
        {
          "output_type": "stream",
          "name": "stdout",
          "text": [
            "[nltk_data] Downloading package punkt to /root/nltk_data...\n",
            "[nltk_data]   Unzipping tokenizers/punkt.zip.\n"
          ]
        },
        {
          "output_type": "execute_result",
          "data": {
            "text/plain": [
              "True"
            ]
          },
          "metadata": {},
          "execution_count": 4
        }
      ]
    },
    {
      "cell_type": "code",
      "metadata": {
        "id": "7In4dQKsm98C"
      },
      "source": [
        "# Lectura del texto\n",
        "filename = \"coding.txt\"\n",
        "file = open(filename, \"r\", encoding=\"utf-8\")\n",
        "text = file.read()"
      ],
      "execution_count": 14,
      "outputs": []
    },
    {
      "cell_type": "code",
      "metadata": {
        "id": "EMUmnOk0oIBX"
      },
      "source": [
        "# Cambio de salto de línea por espacios:\n",
        "text = text.replace(\"\\n\", \" \")"
      ],
      "execution_count": 15,
      "outputs": []
    },
    {
      "cell_type": "code",
      "metadata": {
        "id": "TS0xbdc-nZrO"
      },
      "source": [
        "# Inicializamos el tokenizador:\n",
        "tokenizer = nltk.data.load(\"tokenizers/punkt/english.pickle\")"
      ],
      "execution_count": 16,
      "outputs": []
    },
    {
      "cell_type": "code",
      "metadata": {
        "colab": {
          "base_uri": "https://localhost:8080/"
        },
        "id": "18QxXGcwoX9r",
        "outputId": "faf6197e-3232-48cc-9506-aaac1ca801af"
      },
      "source": [
        "# División del texto en oraciones:\n",
        "sentences = tokenizer.tokenize(text)\n",
        "sentences"
      ],
      "execution_count": 17,
      "outputs": [
        {
          "output_type": "execute_result",
          "data": {
            "text/plain": [
              "['Put simply, Coding is the a method of communicating with  a computer.',\n",
              " 'It is using a language that a computer  understands to give a computer instructions in order  to perform specific functions.',\n",
              " 'Coding allows us to create  things such as computer software, websites, apps and video games.']"
            ]
          },
          "metadata": {},
          "execution_count": 17
        }
      ]
    },
    {
      "cell_type": "markdown",
      "metadata": {
        "id": "F1E3xQ3qpV57"
      },
      "source": [
        "**También podemos usar una estrategia diferente para analizar el texto en oraciones, empleando otro paquete de PNL muy popular, spaCy.**"
      ]
    },
    {
      "cell_type": "code",
      "metadata": {
        "colab": {
          "base_uri": "https://localhost:8080/"
        },
        "id": "mIAZqunhpgTI",
        "outputId": "35d57552-7da9-46d1-ad2b-da873cc0dc2a"
      },
      "source": [
        "# importamos el paquete\n",
        "import spacy\n",
        "# inicializamos el motor de spaCy:\n",
        "nlp = spacy.load(\"en_core_web_sm\")\n",
        "# dividimos el texto en oraciones:\n",
        "doc = nlp(text)\n",
        "sentences = [sentence.text for sentence in doc.sents]\n",
        "sentences"
      ],
      "execution_count": 18,
      "outputs": [
        {
          "output_type": "execute_result",
          "data": {
            "text/plain": [
              "['Put simply, Coding is the a method of communicating with  a computer.',\n",
              " 'It is using a language that a computer  understands to give a computer instructions in order  to perform specific functions.',\n",
              " 'Coding allows us to create  things such as computer software, websites, apps and video games.  ']"
            ]
          },
          "metadata": {},
          "execution_count": 18
        }
      ]
    },
    {
      "cell_type": "markdown",
      "metadata": {
        "id": "7Q6d4GBQp_Ey"
      },
      "source": [
        "**Ahora en español**"
      ]
    },
    {
      "cell_type": "code",
      "metadata": {
        "id": "tF9ctIowrcaJ"
      },
      "source": [
        "tokenizer = nltk.data.load(\"tokenizers/punkt/spanish.pickle\")"
      ],
      "execution_count": 30,
      "outputs": []
    },
    {
      "cell_type": "code",
      "metadata": {
        "id": "qeeHEDh0skFL"
      },
      "source": [
        "def read_text_file(filename):\n",
        "    file = open(filename, \"r\", encoding=\"utf-8\") \n",
        "    return file.read()\n",
        "\n",
        "def preprocess_text(text):\n",
        "    text = text.replace(\"\\n\", \" \")\n",
        "    return text\n",
        "\n",
        "def divide_into_sentences_nltk(text):\n",
        "    sentences = tokenizer.tokenize(text)\n",
        "    return sentences"
      ],
      "execution_count": 33,
      "outputs": []
    },
    {
      "cell_type": "code",
      "metadata": {
        "colab": {
          "base_uri": "https://localhost:8080/"
        },
        "id": "RW6x3nIas_j2",
        "outputId": "08571e20-4cb3-464a-88fe-5ea2ae834f53"
      },
      "source": [
        "code_text = read_text_file(\"codigo.txt\")\n",
        "code_text = preprocess_text(code_text)\n",
        "sentences = divide_into_sentences_nltk(code_text)\n",
        "sentences"
      ],
      "execution_count": 36,
      "outputs": [
        {
          "output_type": "execute_result",
          "data": {
            "text/plain": [
              "['Las ventajas de la programación van más allá del  entorno laboral.',\n",
              " 'La enseñanza de esta disciplina  fomenta el pensamiento computacional.',\n",
              " 'Este proceso  de razonamiento estructura la mente y ordena las ideas.',\n",
              " '“Te permite dividir un problema grande en problemas  más pequeños”, explica García.']"
            ]
          },
          "metadata": {},
          "execution_count": 36
        }
      ]
    },
    {
      "cell_type": "markdown",
      "metadata": {
        "id": "BSbHbAIZvpz9"
      },
      "source": [
        "## Dividiendo las oraciones en palabras - tokenización"
      ]
    },
    {
      "cell_type": "code",
      "metadata": {
        "colab": {
          "base_uri": "https://localhost:8080/"
        },
        "id": "0Uv7JREyvuaF",
        "outputId": "695a5347-1bfb-4ad6-b5ea-97200d089bf6"
      },
      "source": [
        "# dividir el texto en palabras.\n",
        "words = nltk.tokenize.word_tokenize(code_text)\n",
        "print(\"El texto tiene \", len(words), \"palabras\")\n",
        "print()\n",
        "print(\"Las palabras son: \")\n",
        "print(words)"
      ],
      "execution_count": 45,
      "outputs": [
        {
          "output_type": "stream",
          "name": "stdout",
          "text": [
            "El texto tiene  50 palabras\n",
            "\n",
            "Las palabras son: \n",
            "['Las', 'ventajas', 'de', 'la', 'programación', 'van', 'más', 'allá', 'del', 'entorno', 'laboral', '.', 'La', 'enseñanza', 'de', 'esta', 'disciplina', 'fomenta', 'el', 'pensamiento', 'computacional', '.', 'Este', 'proceso', 'de', 'razonamiento', 'estructura', 'la', 'mente', 'y', 'ordena', 'las', 'ideas', '.', '“', 'Te', 'permite', 'dividir', 'un', 'problema', 'grande', 'en', 'problemas', 'más', 'pequeños', '”', ',', 'explica', 'García', '.']\n"
          ]
        }
      ]
    },
    {
      "cell_type": "markdown",
      "metadata": {
        "id": "gFKM1X4CwmLd"
      },
      "source": [
        "**Tweet**"
      ]
    },
    {
      "cell_type": "code",
      "metadata": {
        "id": "Ce5u0dl9wpYo"
      },
      "source": [
        "tweet = \"@Docker Docker facilita mucho el trabajo como desarrollador siiiiii\""
      ],
      "execution_count": 51,
      "outputs": []
    },
    {
      "cell_type": "markdown",
      "metadata": {
        "id": "zl5DDX2JxCMK"
      },
      "source": [
        "Divida el texto en palabras. Establezca los parámetros para preservar el caso, reducir la longitud y quitar las @:"
      ]
    },
    {
      "cell_type": "code",
      "metadata": {
        "id": "b-roRIkTxBUo"
      },
      "source": [
        "words = nltk.tokenize.casual.casual_tokenize(tweet,\\\n",
        "                                             preserve_case=True,\\\n",
        "                                             reduce_len=True, \\\n",
        "                                             strip_handles=True)"
      ],
      "execution_count": 52,
      "outputs": []
    },
    {
      "cell_type": "code",
      "metadata": {
        "colab": {
          "base_uri": "https://localhost:8080/"
        },
        "id": "z5RSLkkixUdb",
        "outputId": "dcd7d1ab-c430-4a08-91da-2f0ae2938a53"
      },
      "source": [
        "print(words)"
      ],
      "execution_count": 53,
      "outputs": [
        {
          "output_type": "stream",
          "name": "stdout",
          "text": [
            "['Docker', 'facilita', 'mucho', 'el', 'trabajo', 'como', 'desarrollador', 'siii']\n"
          ]
        }
      ]
    },
    {
      "cell_type": "markdown",
      "metadata": {
        "id": "xjT6fWKByKZU"
      },
      "source": [
        "**Importante a tener en cuenta**"
      ]
    },
    {
      "cell_type": "markdown",
      "metadata": {
        "id": "scdYVlrpyPZG"
      },
      "source": [
        "El paquete NLTK solo tiene tokenización de palabras para inglés.\n",
        "spaCy tiene modelos para varios otros idiomas:\n",
        "\n",
        "!python -m spacy download es_core_news_sm"
      ]
    },
    {
      "cell_type": "code",
      "metadata": {
        "colab": {
          "base_uri": "https://localhost:8080/"
        },
        "id": "RRAlVmjjyQQz",
        "outputId": "dd512326-e900-4871-c450-8e3088f552f7"
      },
      "source": [
        "import es_core_news_sm\n",
        "nlp = es_core_news_sm.load()\n",
        "doc = nlp(\"Yo amo Python.\")\n",
        "words = [token.text for token in doc]\n",
        "words"
      ],
      "execution_count": 56,
      "outputs": [
        {
          "output_type": "execute_result",
          "data": {
            "text/plain": [
              "['Yo', 'amo', 'Python', '.']"
            ]
          },
          "metadata": {},
          "execution_count": 56
        }
      ]
    }
  ]
}